{
  "cells": [
    {
      "cell_type": "markdown",
      "metadata": {
        "id": "view-in-github",
        "colab_type": "text"
      },
      "source": [
        "<a href=\"https://colab.research.google.com/github/dimitrod/ehu_atai_strawberry/blob/main/dqn_double_q_dueling.ipynb\" target=\"_parent\"><img src=\"https://colab.research.google.com/assets/colab-badge.svg\" alt=\"Open In Colab\"/></a>"
      ]
    },
    {
      "cell_type": "markdown",
      "metadata": {
        "id": "7p-FkdaHOISM"
      },
      "source": [
        "# **Initialization**"
      ]
    },
    {
      "cell_type": "markdown",
      "metadata": {
        "id": "VzfboO1QP_Uw"
      },
      "source": [
        "## Install dependencies"
      ]
    },
    {
      "cell_type": "code",
      "execution_count": 1,
      "metadata": {
        "colab": {
          "base_uri": "https://localhost:8080/"
        },
        "id": "mt4fLrG2Puzd",
        "outputId": "043d9c92-822e-411d-9a5a-ec63b193d9dc"
      },
      "outputs": [
        {
          "output_type": "stream",
          "name": "stdout",
          "text": [
            "\r0% [Working]\r            \rGet:1 https://cloud.r-project.org/bin/linux/ubuntu jammy-cran40/ InRelease [3,626 B]\n",
            "\r0% [Connecting to archive.ubuntu.com (185.125.190.83)] [Waiting for headers] [1 InRelease 0 B/3,626 \r0% [Connecting to archive.ubuntu.com (185.125.190.83)] [Waiting for headers] [Waiting for headers] [\r                                                                                                    \rGet:2 http://security.ubuntu.com/ubuntu jammy-security InRelease [129 kB]\n",
            "Get:3 https://developer.download.nvidia.com/compute/cuda/repos/ubuntu2204/x86_64  InRelease [1,581 B]\n",
            "Get:4 https://r2u.stat.illinois.edu/ubuntu jammy InRelease [6,555 B]\n",
            "Hit:5 http://archive.ubuntu.com/ubuntu jammy InRelease\n",
            "Get:6 http://archive.ubuntu.com/ubuntu jammy-updates InRelease [128 kB]\n",
            "Hit:7 https://ppa.launchpadcontent.net/deadsnakes/ppa/ubuntu jammy InRelease\n",
            "Hit:8 https://ppa.launchpadcontent.net/graphics-drivers/ppa/ubuntu jammy InRelease\n",
            "Hit:9 https://ppa.launchpadcontent.net/ubuntugis/ppa/ubuntu jammy InRelease\n",
            "Get:10 http://archive.ubuntu.com/ubuntu jammy-backports InRelease [127 kB]\n",
            "Get:11 https://developer.download.nvidia.com/compute/cuda/repos/ubuntu2204/x86_64  Packages [1,192 kB]\n",
            "Get:12 https://r2u.stat.illinois.edu/ubuntu jammy/main all Packages [8,525 kB]\n",
            "Get:13 https://r2u.stat.illinois.edu/ubuntu jammy/main amd64 Packages [2,624 kB]\n",
            "Get:14 http://security.ubuntu.com/ubuntu jammy-security/main amd64 Packages [2,454 kB]\n",
            "Get:15 http://security.ubuntu.com/ubuntu jammy-security/universe amd64 Packages [1,225 kB]\n",
            "Get:16 http://archive.ubuntu.com/ubuntu jammy-updates/universe amd64 Packages [1,514 kB]\n",
            "Get:17 http://archive.ubuntu.com/ubuntu jammy-updates/multiverse amd64 Packages [53.3 kB]\n",
            "Get:18 http://archive.ubuntu.com/ubuntu jammy-updates/main amd64 Packages [2,738 kB]\n",
            "Get:19 http://archive.ubuntu.com/ubuntu jammy-updates/restricted amd64 Packages [3,446 kB]\n",
            "Fetched 24.2 MB in 10s (2,355 kB/s)\n",
            "Reading package lists... Done\n",
            "W: Skipping acquire of configured file 'main/source/Sources' as repository 'https://r2u.stat.illinois.edu/ubuntu jammy InRelease' does not seem to provide it (sources.list entry misspelt?)\n",
            "Reading package lists... Done\n",
            "Building dependency tree... Done\n",
            "Reading state information... Done\n",
            "\u001b[1;31mE: \u001b[0mUnable to locate package python-opengl\u001b[0m\n",
            "Reading package lists... Done\n",
            "Building dependency tree... Done\n",
            "Reading state information... Done\n",
            "ffmpeg is already the newest version (7:4.4.2-0ubuntu0.22.04.1).\n",
            "0 upgraded, 0 newly installed, 0 to remove and 50 not upgraded.\n",
            "Reading package lists... Done\n",
            "Building dependency tree... Done\n",
            "Reading state information... Done\n",
            "The following additional packages will be installed:\n",
            "  libfontenc1 libxfont2 libxkbfile1 x11-xkb-utils xfonts-base xfonts-encodings xfonts-utils\n",
            "  xserver-common\n",
            "The following NEW packages will be installed:\n",
            "  libfontenc1 libxfont2 libxkbfile1 x11-xkb-utils xfonts-base xfonts-encodings xfonts-utils\n",
            "  xserver-common xvfb\n",
            "0 upgraded, 9 newly installed, 0 to remove and 50 not upgraded.\n",
            "Need to get 7,815 kB of archives.\n",
            "After this operation, 11.9 MB of additional disk space will be used.\n",
            "Get:1 http://archive.ubuntu.com/ubuntu jammy/main amd64 libfontenc1 amd64 1:1.1.4-1build3 [14.7 kB]\n",
            "Get:2 http://archive.ubuntu.com/ubuntu jammy/main amd64 libxfont2 amd64 1:2.0.5-1build1 [94.5 kB]\n",
            "Get:3 http://archive.ubuntu.com/ubuntu jammy/main amd64 libxkbfile1 amd64 1:1.1.0-1build3 [71.8 kB]\n",
            "Get:4 http://archive.ubuntu.com/ubuntu jammy/main amd64 x11-xkb-utils amd64 7.7+5build4 [172 kB]\n",
            "Get:5 http://archive.ubuntu.com/ubuntu jammy/main amd64 xfonts-encodings all 1:1.0.5-0ubuntu2 [578 kB]\n",
            "Get:6 http://archive.ubuntu.com/ubuntu jammy/main amd64 xfonts-utils amd64 1:7.7+6build2 [94.6 kB]\n",
            "Get:7 http://archive.ubuntu.com/ubuntu jammy/main amd64 xfonts-base all 1:1.0.5 [5,896 kB]\n",
            "Get:8 http://archive.ubuntu.com/ubuntu jammy-updates/main amd64 xserver-common all 2:21.1.4-2ubuntu1.7~22.04.12 [28.7 kB]\n",
            "Get:9 http://archive.ubuntu.com/ubuntu jammy-updates/universe amd64 xvfb amd64 2:21.1.4-2ubuntu1.7~22.04.12 [864 kB]\n",
            "Fetched 7,815 kB in 2s (5,039 kB/s)\n",
            "Selecting previously unselected package libfontenc1:amd64.\n",
            "(Reading database ... 123632 files and directories currently installed.)\n",
            "Preparing to unpack .../0-libfontenc1_1%3a1.1.4-1build3_amd64.deb ...\n",
            "Unpacking libfontenc1:amd64 (1:1.1.4-1build3) ...\n",
            "Selecting previously unselected package libxfont2:amd64.\n",
            "Preparing to unpack .../1-libxfont2_1%3a2.0.5-1build1_amd64.deb ...\n",
            "Unpacking libxfont2:amd64 (1:2.0.5-1build1) ...\n",
            "Selecting previously unselected package libxkbfile1:amd64.\n",
            "Preparing to unpack .../2-libxkbfile1_1%3a1.1.0-1build3_amd64.deb ...\n",
            "Unpacking libxkbfile1:amd64 (1:1.1.0-1build3) ...\n",
            "Selecting previously unselected package x11-xkb-utils.\n",
            "Preparing to unpack .../3-x11-xkb-utils_7.7+5build4_amd64.deb ...\n",
            "Unpacking x11-xkb-utils (7.7+5build4) ...\n",
            "Selecting previously unselected package xfonts-encodings.\n",
            "Preparing to unpack .../4-xfonts-encodings_1%3a1.0.5-0ubuntu2_all.deb ...\n",
            "Unpacking xfonts-encodings (1:1.0.5-0ubuntu2) ...\n",
            "Selecting previously unselected package xfonts-utils.\n",
            "Preparing to unpack .../5-xfonts-utils_1%3a7.7+6build2_amd64.deb ...\n",
            "Unpacking xfonts-utils (1:7.7+6build2) ...\n",
            "Selecting previously unselected package xfonts-base.\n",
            "Preparing to unpack .../6-xfonts-base_1%3a1.0.5_all.deb ...\n",
            "Unpacking xfonts-base (1:1.0.5) ...\n",
            "Selecting previously unselected package xserver-common.\n",
            "Preparing to unpack .../7-xserver-common_2%3a21.1.4-2ubuntu1.7~22.04.12_all.deb ...\n",
            "Unpacking xserver-common (2:21.1.4-2ubuntu1.7~22.04.12) ...\n",
            "Selecting previously unselected package xvfb.\n",
            "Preparing to unpack .../8-xvfb_2%3a21.1.4-2ubuntu1.7~22.04.12_amd64.deb ...\n",
            "Unpacking xvfb (2:21.1.4-2ubuntu1.7~22.04.12) ...\n",
            "Setting up libfontenc1:amd64 (1:1.1.4-1build3) ...\n",
            "Setting up xfonts-encodings (1:1.0.5-0ubuntu2) ...\n",
            "Setting up libxkbfile1:amd64 (1:1.1.0-1build3) ...\n",
            "Setting up libxfont2:amd64 (1:2.0.5-1build1) ...\n",
            "Setting up x11-xkb-utils (7.7+5build4) ...\n",
            "Setting up xfonts-utils (1:7.7+6build2) ...\n",
            "Setting up xfonts-base (1:1.0.5) ...\n",
            "Setting up xserver-common (2:21.1.4-2ubuntu1.7~22.04.12) ...\n",
            "Setting up xvfb (2:21.1.4-2ubuntu1.7~22.04.12) ...\n",
            "Processing triggers for man-db (2.10.2-1) ...\n",
            "Processing triggers for fontconfig (2.13.1-4.2ubuntu5) ...\n",
            "Processing triggers for libc-bin (2.35-0ubuntu3.4) ...\n",
            "/sbin/ldconfig.real: /usr/local/lib/libtbbmalloc.so.2 is not a symbolic link\n",
            "\n",
            "/sbin/ldconfig.real: /usr/local/lib/libtbbbind.so.3 is not a symbolic link\n",
            "\n",
            "/sbin/ldconfig.real: /usr/local/lib/libtcm.so.1 is not a symbolic link\n",
            "\n",
            "/sbin/ldconfig.real: /usr/local/lib/libur_adapter_opencl.so.0 is not a symbolic link\n",
            "\n",
            "/sbin/ldconfig.real: /usr/local/lib/libur_adapter_level_zero.so.0 is not a symbolic link\n",
            "\n",
            "/sbin/ldconfig.real: /usr/local/lib/libtbbmalloc_proxy.so.2 is not a symbolic link\n",
            "\n",
            "/sbin/ldconfig.real: /usr/local/lib/libtbbbind_2_0.so.3 is not a symbolic link\n",
            "\n",
            "/sbin/ldconfig.real: /usr/local/lib/libtbb.so.12 is not a symbolic link\n",
            "\n",
            "/sbin/ldconfig.real: /usr/local/lib/libhwloc.so.15 is not a symbolic link\n",
            "\n",
            "/sbin/ldconfig.real: /usr/local/lib/libtcm_debug.so.1 is not a symbolic link\n",
            "\n",
            "/sbin/ldconfig.real: /usr/local/lib/libtbbbind_2_5.so.3 is not a symbolic link\n",
            "\n",
            "/sbin/ldconfig.real: /usr/local/lib/libur_loader.so.0 is not a symbolic link\n",
            "\n",
            "/sbin/ldconfig.real: /usr/local/lib/libumf.so.0 is not a symbolic link\n",
            "\n",
            "Collecting PyVirtualDisplay==3.0\n",
            "  Downloading PyVirtualDisplay-3.0-py3-none-any.whl.metadata (943 bytes)\n",
            "Downloading PyVirtualDisplay-3.0-py3-none-any.whl (15 kB)\n",
            "Installing collected packages: PyVirtualDisplay\n",
            "Successfully installed PyVirtualDisplay-3.0\n",
            "Collecting gymnasium[classic_control]\n",
            "  Downloading gymnasium-1.0.0-py3-none-any.whl.metadata (9.5 kB)\n",
            "Requirement already satisfied: numpy>=1.21.0 in /usr/local/lib/python3.10/dist-packages (from gymnasium[classic_control]) (1.26.4)\n",
            "Requirement already satisfied: cloudpickle>=1.2.0 in /usr/local/lib/python3.10/dist-packages (from gymnasium[classic_control]) (3.1.0)\n",
            "Requirement already satisfied: typing-extensions>=4.3.0 in /usr/local/lib/python3.10/dist-packages (from gymnasium[classic_control]) (4.12.2)\n",
            "Collecting farama-notifications>=0.0.1 (from gymnasium[classic_control])\n",
            "  Downloading Farama_Notifications-0.0.4-py3-none-any.whl.metadata (558 bytes)\n",
            "Requirement already satisfied: pygame>=2.1.3 in /usr/local/lib/python3.10/dist-packages (from gymnasium[classic_control]) (2.6.1)\n",
            "Downloading Farama_Notifications-0.0.4-py3-none-any.whl (2.5 kB)\n",
            "Downloading gymnasium-1.0.0-py3-none-any.whl (958 kB)\n",
            "\u001b[2K   \u001b[90m━━━━━━━━━━━━━━━━━━━━━━━━━━━━━━━━━━━━━━━━\u001b[0m \u001b[32m958.1/958.1 kB\u001b[0m \u001b[31m13.8 MB/s\u001b[0m eta \u001b[36m0:00:00\u001b[0m\n",
            "\u001b[?25hInstalling collected packages: farama-notifications, gymnasium\n",
            "Successfully installed farama-notifications-0.0.4 gymnasium-1.0.0\n"
          ]
        }
      ],
      "source": [
        "import sys\n",
        "IN_COLAB = \"google.colab\" in sys.modules\n",
        "\n",
        "if IN_COLAB:\n",
        "    !apt-get update\n",
        "    !apt install python-opengl\n",
        "    !apt install ffmpeg\n",
        "    !apt install xvfb\n",
        "    !pip install PyVirtualDisplay==3.0\n",
        "    !pip install gymnasium[classic_control]\n",
        "    from pyvirtualdisplay import Display\n",
        "\n",
        "    # Start virtual display\n",
        "    dis = Display(visible=0, size=(400, 400))\n",
        "    dis.start()"
      ]
    },
    {
      "cell_type": "markdown",
      "metadata": {
        "id": "sHmjyfGJOTsV"
      },
      "source": [
        "## Import Dependencies"
      ]
    },
    {
      "cell_type": "code",
      "execution_count": 2,
      "metadata": {
        "id": "GJ7ASlptVUES"
      },
      "outputs": [],
      "source": [
        "import os\n",
        "from typing import Dict, List, Tuple\n",
        "import math, random\n",
        "\n",
        "import gym\n",
        "import gymnasium as gymnasium\n",
        "import numpy as np\n",
        "import matplotlib.pyplot as plt\n",
        "%matplotlib inline\n",
        "\n",
        "\n",
        "import base64\n",
        "import glob\n",
        "import io\n",
        "import os\n",
        "\n",
        "\n",
        "import torch\n",
        "import torch.nn as nn\n",
        "import torch.optim as optim\n",
        "import torch.autograd as autograd\n",
        "import torch.nn.functional as F\n",
        "\n",
        "\n",
        "from IPython.display import HTML, display, clear_output\n",
        "\n"
      ]
    },
    {
      "cell_type": "markdown",
      "metadata": {
        "id": "Eqs9Zs6rOZhy"
      },
      "source": [
        "#**Implementation**"
      ]
    },
    {
      "cell_type": "markdown",
      "metadata": {
        "id": "GaC0tjzZS6hG"
      },
      "source": [
        "## **Show recorded video**\n",
        "The following functions are used in order to show in a video the obtained results"
      ]
    },
    {
      "cell_type": "code",
      "execution_count": 3,
      "metadata": {
        "id": "4qPbPwvooax1",
        "outputId": "e67fb8ba-b4b7-4b5d-edc4-d78bc2256fec",
        "colab": {
          "base_uri": "https://localhost:8080/"
        }
      },
      "outputs": [
        {
          "output_type": "stream",
          "name": "stderr",
          "text": [
            "/usr/local/lib/python3.10/dist-packages/ipykernel/ipkernel.py:283: DeprecationWarning: `should_run_async` will not call `transform_cell` automatically in the future. Please pass the result to `transformed_cell` argument and any exception that happen during thetransform in `preprocessing_exc_tuple` in IPython 7.17 and above.\n",
            "  and should_run_async(code)\n"
          ]
        }
      ],
      "source": [
        "def ipython_show_video(path: str) -> None:\n",
        "    \"\"\"Show a video at `path` within IPython Notebook.\"\"\"\n",
        "    if not os.path.isfile(path):\n",
        "        raise NameError(\"Cannot access: {}\".format(path))\n",
        "\n",
        "    video = io.open(path, \"r+b\").read()\n",
        "    encoded = base64.b64encode(video)\n",
        "\n",
        "    display(HTML(\n",
        "        data=\"\"\"\n",
        "        <video width=\"320\" height=\"240\" alt=\"test\" controls>\n",
        "        <source src=\"data:video/mp4;base64,{0}\" type=\"video/mp4\"/>\n",
        "        </video>\n",
        "        \"\"\".format(encoded.decode(\"ascii\"))\n",
        "    ))\n",
        "\n",
        "def remove_videos (video_folder: str):\n",
        "    list_of_files = glob.glob(os.path.join(video_folder, \"*.mp4\"))\n",
        "    for video in list_of_files:\n",
        "      try:\n",
        "          os.remove(video)\n",
        "      except:\n",
        "          print(\"Error while deleting file : \", video)\n",
        "\n",
        "def show_latest_video(video_folder: str) -> str:\n",
        "    \"\"\"Show the most recently recorded video from video folder.\"\"\"\n",
        "    list_of_files = glob.glob(os.path.join(video_folder, \"*.mp4\"))\n",
        "    print(\"files: \", list_of_files )\n",
        "    latest_file = max(list_of_files, key=os.path.getctime)\n",
        "    ipython_show_video(latest_file)\n",
        "    return latest_file\n",
        "\n",
        "def show_all_videos(video_folder: str) -> str:\n",
        "    \"\"\"Show all the videos recorded.\"\"\"\n",
        "    list_of_files = glob.glob(os.path.join(video_folder, \"*.mp4\"))\n",
        "    print(\"files: \", list_of_files )\n",
        "    for video in list_of_files:\n",
        "      ipython_show_video(video)\n",
        "    print(\"Played:\", video)\n"
      ]
    },
    {
      "cell_type": "markdown",
      "metadata": {
        "id": "PZzMzzVmIbKz"
      },
      "source": [
        "## Autograd Variable"
      ]
    },
    {
      "cell_type": "code",
      "execution_count": 4,
      "metadata": {
        "id": "HYyjk9ihIbK0"
      },
      "outputs": [],
      "source": [
        "Variable = lambda *args, **kwargs: autograd.Variable(*args, **kwargs)"
      ]
    },
    {
      "cell_type": "markdown",
      "metadata": {
        "id": "TnjlYrW5IbK0"
      },
      "source": [
        "## Replay Buffer"
      ]
    },
    {
      "cell_type": "code",
      "execution_count": 5,
      "metadata": {
        "id": "45GG4TiEIbK1"
      },
      "outputs": [],
      "source": [
        "from collections import deque\n",
        "\n",
        "class ReplayBuffer(object):\n",
        "    def __init__(self, capacity):\n",
        "        self.buffer = deque(maxlen=capacity)\n",
        "\n",
        "    def push(self, state, action, reward, next_state, done):\n",
        "        state      = np.expand_dims(state, 0)\n",
        "        next_state = np.expand_dims(next_state, 0)\n",
        "\n",
        "        self.buffer.append((state, action, reward, next_state, done))\n",
        "\n",
        "    def sample(self, batch_size):\n",
        "        state, action, reward, next_state, done = zip(*random.sample(self.buffer, batch_size))\n",
        "        return np.concatenate(state), action, reward, np.concatenate(next_state), done\n",
        "\n",
        "    def __len__(self):\n",
        "        return len(self.buffer)"
      ]
    },
    {
      "cell_type": "markdown",
      "metadata": {
        "id": "IyAYT95VwIvl"
      },
      "source": [
        "*###* Testing Replay Buffer"
      ]
    },
    {
      "cell_type": "code",
      "execution_count": 6,
      "metadata": {
        "colab": {
          "base_uri": "https://localhost:8080/"
        },
        "id": "B47-W5kjrEeA",
        "outputId": "f2193582-093d-43ca-f0e9-0a8e281c1403"
      },
      "outputs": [
        {
          "output_type": "stream",
          "name": "stdout",
          "text": [
            "We add 8 elements but there are only  5 \n",
            "rB:  deque([(array([3]), 3, 3, array([3]), 3), (array([4]), 4, 4, array([4]), 4), (array([5]), 5, 5, array([5]), 5), (array([6]), 6, 6, array([6]), 6), (array([7]), 7, 7, array([7]), 7)], maxlen=5)\n",
            "\n",
            "After we add a new element the buffer is:  deque([(array([4]), 4, 4, array([4]), 4), (array([5]), 5, 5, array([5]), 5), (array([6]), 6, 6, array([6]), 6), (array([7]), 7, 7, array([7]), 7), (array([10]), 10, 10, array([10]), 10)], maxlen=5)\n",
            "\n",
            " The sampled elemenst:  (array([4, 5]), (4, 5), (4, 5), array([4, 5]), (4, 5))\n",
            "\n",
            " The sampled elemenst:  (array([ 5,  7, 10]), (5, 7, 10), (5, 7, 10), array([ 5,  7, 10]), (5, 7, 10))\n"
          ]
        }
      ],
      "source": [
        "# We build a Replay buffer for 5 elements\n",
        "rB = ReplayBuffer(5)\n",
        "\n",
        "# We are going to add 8 elements\n",
        "for i in range(8):\n",
        "  rB.push(i,i,i,i,i)\n",
        "print(\"We add 8 elements but there are only \", len(rB), \"\\nrB: \", rB.buffer)\n",
        "\n",
        "# We are going to add another value\n",
        "rB.push(10,10,10,10,10)\n",
        "print(\"\\nAfter we add a new element the buffer is: \", rB.buffer)\n",
        "\n",
        "# No we are going to see are sampled some experiences\n",
        "mini_batch = rB.sample(2)\n",
        "print(\"\\n The sampled elemenst: \", mini_batch )\n",
        "\n",
        "mini_batch = rB.sample(3)\n",
        "print(\"\\n The sampled elemenst: \", mini_batch )\n"
      ]
    },
    {
      "cell_type": "markdown",
      "metadata": {
        "id": "voxkftv1IbK2"
      },
      "source": [
        "## Cart Pole Environment"
      ]
    },
    {
      "cell_type": "code",
      "execution_count": 7,
      "metadata": {
        "colab": {
          "base_uri": "https://localhost:8080/"
        },
        "id": "9EHbFDp6IbK4",
        "outputId": "865ce793-9ce8-4d8d-c312-36de4fa64f25"
      },
      "outputs": [
        {
          "output_type": "stream",
          "name": "stderr",
          "text": [
            "/usr/local/lib/python3.10/dist-packages/gymnasium/envs/registration.py:517: DeprecationWarning: \u001b[33mWARN: The environment CartPole-v0 is out of date. You should consider upgrading to version `v1`.\u001b[0m\n",
            "  logger.deprecation(\n"
          ]
        }
      ],
      "source": [
        "env_id = \"CartPole-v0\"\n",
        "env = gymnasium.make(env_id, render_mode=\"rgb_array\")"
      ]
    },
    {
      "cell_type": "code",
      "execution_count": 8,
      "metadata": {
        "id": "pZySBOH5IbLA"
      },
      "outputs": [],
      "source": [
        "def plot(frame_idx, rewards):\n",
        "    clear_output(True)\n",
        "    plt.figure(figsize=(20,5))\n",
        "    plt.subplot(131)\n",
        "    plt.title('frame %s. reward: %s' % (frame_idx, np.mean(rewards[-10:])))\n",
        "    plt.plot(rewards)\n",
        "    plt.show()"
      ]
    },
    {
      "cell_type": "markdown",
      "metadata": {
        "id": "h7aZ3bYgIbK4"
      },
      "source": [
        "## Epsilon greedy exploration\n",
        "Epsilon value is dynamic. It starts with 1.0 value (exploration) and little by little it is going to decay until 0.01 (exploitation)"
      ]
    },
    {
      "cell_type": "code",
      "execution_count": 9,
      "metadata": {
        "id": "hZCk-i69IbK5"
      },
      "outputs": [],
      "source": [
        "epsilon_start = 1.0\n",
        "epsilon_final = 0.01\n",
        "epsilon_decay = 500\n",
        "\n",
        "epsilon_by_frame = lambda frame_idx: epsilon_final + (epsilon_start - epsilon_final) * math.exp(-1. * frame_idx / epsilon_decay)"
      ]
    },
    {
      "cell_type": "code",
      "execution_count": 10,
      "metadata": {
        "colab": {
          "base_uri": "https://localhost:8080/",
          "height": 448
        },
        "id": "DKVzXtD0IbK6",
        "outputId": "e3ff4eda-204f-44bd-f113-c76899de250c"
      },
      "outputs": [
        {
          "output_type": "execute_result",
          "data": {
            "text/plain": [
              "[<matplotlib.lines.Line2D at 0x7e45b26912d0>]"
            ]
          },
          "metadata": {},
          "execution_count": 10
        },
        {
          "output_type": "display_data",
          "data": {
            "text/plain": [
              "<Figure size 640x480 with 1 Axes>"
            ],
            "image/png": "[encoded data removed]"
          },
          "metadata": {}
        }
      ],
      "source": [
        "plt.plot([epsilon_by_frame(i) for i in range(10000)])"
      ]
    },
    {
      "cell_type": "markdown",
      "metadata": {
        "id": "c6A-SD0_IbK7"
      },
      "source": [
        "## Dueling Double Deep Q Network"
      ]
    },
    {
      "cell_type": "code",
      "source": [
        "from collections import OrderedDict"
      ],
      "metadata": {
        "id": "XDZjbrONoMSn"
      },
      "execution_count": 11,
      "outputs": []
    },
    {
      "cell_type": "code",
      "source": [
        "env.observation_space.shape[0]"
      ],
      "metadata": {
        "id": "QAqgLXngNQhu",
        "outputId": "e38f8acf-b6b3-4431-e166-2ba5f7abc5be",
        "colab": {
          "base_uri": "https://localhost:8080/"
        }
      },
      "execution_count": 49,
      "outputs": [
        {
          "output_type": "execute_result",
          "data": {
            "text/plain": [
              "4"
            ]
          },
          "metadata": {},
          "execution_count": 49
        }
      ]
    },
    {
      "cell_type": "code",
      "execution_count": 45,
      "metadata": {
        "id": "p4vsG_e3IbK7"
      },
      "outputs": [],
      "source": [
        "class DQN(nn.Module):\n",
        "    def __init__(self, num_inputs, num_actions):\n",
        "        super(DQN, self).__init__()\n",
        "\n",
        "        self.layers = nn.Sequential(OrderedDict([\n",
        "            ('conv1', nn.Linear(env.observation_space.shape[0], 128)),\n",
        "            ('relu1', nn.ReLU()),\n",
        "        ]))\n",
        "\n",
        "        self.v_values = nn.Sequential(OrderedDict([\n",
        "            ('v_value1', nn.Linear(128, 128)),\n",
        "            ('relu2', nn.ReLU()),\n",
        "            ('v_value2', nn.Linear(128, 1))\n",
        "        ]))\n",
        "\n",
        "        self.adv_values = nn.Sequential(OrderedDict([\n",
        "            ('adv_value1', nn.Linear(128, 128)),\n",
        "            ('relu3', nn.ReLU()),\n",
        "            ('adv_value2', nn.Linear(128, env.action_space.n))\n",
        "        ]))\n",
        "\n",
        "        self.optimizer = optim.Adam(self.parameters())\n",
        "        self.replay_buffer = ReplayBuffer(1000)\n",
        "        self.batch_size = 32\n",
        "        self.gamma = 0.99\n",
        "\n",
        "    # This method defines the epsilon value. It started with 1.0 and it decays until 0.01 value\n",
        "    def get_epsilon_value(self, frame_idx):\n",
        "      epsilon_start = 1.0\n",
        "      epsilon_final = 0.01\n",
        "      epsilon_decay = 500\n",
        "\n",
        "      epsilon = lambda frame_idx: epsilon_final + (epsilon_start - epsilon_final) * math.exp(-1. * frame_idx / epsilon_decay)\n",
        "      return epsilon(frame_idx)\n",
        "\n",
        "    # This method computes output Tensors from input Tensors. That is, given an state it returns an array with q(s,a) values for all actions\n",
        "    def forward(self, x):\n",
        "      x = self.layers(x)\n",
        "      v_value = self.v_values(x)\n",
        "      adv_value = self.adv_values(x)\n",
        "      mean_adv_value = torch.mean(adv_value)\n",
        "      q_value = v_value + adv_value - mean_adv_value\n",
        "      return q_value\n",
        "\n",
        "    # Given a state and epsilon value, this method returns an action following epsilon-greedy\n",
        "    def act(self, state, epsilon):\n",
        "        if random.random() > epsilon:\n",
        "            state   = Variable(torch.FloatTensor(state).unsqueeze(0), requires_grad=False)\n",
        "            q_value = self.forward(state)\n",
        "            action  = q_value.max(1)[1].item()\n",
        "        else:\n",
        "            action = random.randrange(env.action_space.n)\n",
        "        return action\n",
        "\n",
        "    # Given a model, it copyes the current model on it.\n",
        "    def update_target(self, target_model):\n",
        "      target_model.load_state_dict(self.state_dict())\n",
        "\n",
        "    # This method updates the weights\n",
        "    # It is solved using tensors\n",
        "    def compute_td_loss(self, target_model):\n",
        "      state, action, reward, next_state, done = self.replay_buffer.sample(self.batch_size)\n",
        "\n",
        "      state      = Variable(torch.FloatTensor(np.float32(state)))\n",
        "      next_state = Variable(torch.FloatTensor(np.float32(next_state)))\n",
        "      action     = Variable(torch.LongTensor(action))\n",
        "      reward     = Variable(torch.FloatTensor(reward))\n",
        "      done       = Variable(torch.FloatTensor(done))\n",
        "\n",
        "      q_values      = self.forward(state)\n",
        "      next_q_values = self.forward(next_state)\n",
        "      next_q_state_values = target_model(next_state)\n",
        "\n",
        "      q_value       = q_values.gather(1, action.unsqueeze(1)).squeeze(1)\n",
        "      next_q_value = next_q_state_values.gather(1, torch.max(next_q_values, 1)[1].unsqueeze(1)).squeeze(1)\n",
        "      #next_q_value = next_q_state_values.max(1)[0]\n",
        "      expected_q_value = reward + self.gamma * next_q_value * (1 - done)\n",
        "\n",
        "      loss = (q_value - Variable(expected_q_value.data)).pow(2).mean()\n",
        "\n",
        "      self.optimizer.zero_grad()\n",
        "      loss.backward()\n",
        "      self.optimizer.step()\n",
        "\n",
        "      return loss\n",
        "\n",
        "    # TODO\n",
        "    # This method updates the weights\n",
        "    def compute_td_loss_our(self, target_model):\n",
        "      # Obtain a mini_batch to train the weights.\n",
        "      # state, action, reward, next_state and done are numpy arrays, each position corresponds to one experience\n",
        "      state, action, reward, next_state, done = self.replay_buffer.sample(self.batch_size)\n",
        "\n",
        "      # Convert those numpy arrays to tensors. It is neccesary to work with Pytorch\n",
        "      states_tensor      = Variable(torch.FloatTensor(np.float32(state)))       # current_state S\n",
        "      actions_tensor     = Variable(torch.LongTensor(action))                   # action A\n",
        "      next_states_tensor = Variable(torch.FloatTensor(np.float32(next_state)))  # next_state S'\n",
        "\n",
        "      # The approximated q_values of each current state\n",
        "      q_values_tensor      = self.forward(states_tensor) # Q(S, A, W)\n",
        "\n",
        "      # The approximated q_values of each next state calculated with the current_model and the target_model\n",
        "      next_q_values_current_model_tensor = self.forward(next_states_tensor) # Q(S', A', W)\n",
        "      next_q_values_target_model_tensor = target_model.forward(next_states_tensor) # Q(S', A', W')\n",
        "\n",
        "      # Convert the approximated next_states' q_values to numpy array. We are going to work with these arrays\n",
        "      next_q_values_current_model = next_q_values_current_model_tensor.detach().numpy();\n",
        "      next_q_values_target_model = next_q_values_target_model_tensor.detach().numpy();\n",
        "      expected_q_value = np.zeros(self.batch_size)\n",
        "\n",
        "      # TODO\n",
        "      # input: next_q_values_current_model is a numpy array. In each element are stored all the approximated q values for the next state calculated with the current_model\n",
        "      # input: next_q_values_target_model is a numpy array. In each element are stored all the approximated q values for the next state calculated with the target_model\n",
        "      # input: reward is a numpy array with the rewards obtained in each experience of the mini_batch (batch_size)\n",
        "      # output: expected_q_value is a numpy array. You have to store in each position the target value of each experience using next_q_values_target_model and reward elements\n",
        "      # note: all these numpy arrays has the same length: the length of the mini_batch (batch_size)\n",
        "      #\n",
        "      # for all the elements on the batch size\n",
        "      #  calculate the target expected value and store in expected_q_value\n",
        "\n",
        "      for i in range(self.batch_size):\n",
        "        next_q_value = 0\n",
        "        if not(done[i]):\n",
        "          next_q_value = max(next_q_values_target_model[i])\n",
        "\n",
        "          # with current model\n",
        "          #next_q_value = max(next_q_values_current_model[i])\n",
        "\n",
        "          # with current model action and target model approximation\n",
        "          #next_action = np.argmax(next_q_values_current_model[i])\n",
        "          #next_q_value = next_q_values_target_model[i][next_action]\n",
        "\n",
        "        expected_q_value[i] = reward[i] + self.gamma*next_q_value\n",
        "\n",
        "      # END TODO\n",
        "\n",
        "      # Prepare data for the loss function\n",
        "      q_value = q_values_tensor.gather(1, actions_tensor.unsqueeze(1)).squeeze(1)\n",
        "      expected_q_values = torch.tensor(expected_q_value)\n",
        "\n",
        "      # Loss function: to know how good the weights are\n",
        "      lossMSE = nn.MSELoss()\n",
        "      loss = lossMSE(q_value.float(), expected_q_values.float())\n",
        "\n",
        "      # Based on the results of the loss function, the weights are updated with gradient descent\n",
        "      self.optimizer.zero_grad()\n",
        "      loss.backward()\n",
        "      self.optimizer.step()\n",
        "\n",
        "      return loss\n",
        "\n",
        "    # TODO\n",
        "    # Method to train the agent\n",
        "    def train(self, env):\n",
        "      num_frames = 25000\n",
        "      losses = []\n",
        "      all_rewards = []\n",
        "      episode_reward = 0\n",
        "      target_model  = DQN(env.observation_space.shape[0], env.action_space.n)\n",
        "      state, info = env.reset()\n",
        "\n",
        "      # TODO\n",
        "      # replay buffer attribute is empty\n",
        "      # for each frame\n",
        "      #   get current epsilon\n",
        "      #   get action following epsilon greedy\n",
        "      #   get next_state and reward\n",
        "      #   add new experience to the replay buffer\n",
        "      #   update state\n",
        "      #   update episode total reward\n",
        "      #   if done\n",
        "      #     reset environment\n",
        "      #     append the episode total reward to all_rewards array\n",
        "      #     set episode total reward to 0\n",
        "      #   if experience replay has more elements than batch_size\n",
        "      #     update the weights\n",
        "      #   every 100 frames update the target model\n",
        "\n",
        "      for frame_idx in range(1, num_frames + 1):\n",
        "          epsilon = self.get_epsilon_value(frame_idx)\n",
        "          action = self.act(state, epsilon)\n",
        "\n",
        "          next_state, reward, done, truncated, info = env.step(action)\n",
        "          self.replay_buffer.push(state, action, reward, next_state, done)\n",
        "\n",
        "          state = next_state\n",
        "          episode_reward += reward\n",
        "\n",
        "          if done or truncated:\n",
        "              state, info = env.reset()\n",
        "              all_rewards.append(episode_reward)\n",
        "              episode_reward = 0\n",
        "\n",
        "          if len(current_model.replay_buffer) > self.batch_size:\n",
        "              loss = self.compute_td_loss_our(target_model)\n",
        "              losses.append(loss.data)\n",
        "\n",
        "          # to visualize how the agent is learning\n",
        "          if frame_idx % 200 == 0:\n",
        "              plot(frame_idx, all_rewards)\n",
        "\n",
        "          if frame_idx % 100 == 0:\n",
        "              self.update_target(target_model)\n",
        "\n",
        "    # This method runs one episode and generates a video to observe the result\n",
        "    def test(self,env):\n",
        "        video_folder=\"videos\"\n",
        "\n",
        "        remove_videos(video_folder=video_folder)\n",
        "\n",
        "        # we are going to work over envVideo.\n",
        "        envVideo = gymnasium.wrappers.RecordVideo(env, video_folder=video_folder)\n",
        "\n",
        "        done = False #It is used to control if the episode is finished, if it is finished the environment must be reset\n",
        "        state, info = envVideo.reset()\n",
        "\n",
        "        total_reward = 0\n",
        "        while not(done):\n",
        "            action = self.act(state, 0)\n",
        "            next_state, reward, done, truncated, info = envVideo.step(action)\n",
        "            state = next_state\n",
        "            total_reward +=reward\n",
        "            if done or truncated:\n",
        "              break\n",
        "        envVideo.close()\n",
        "        print(\"rew: \", total_reward)\n",
        "        show_all_videos(video_folder=video_folder)\n",
        "\n"
      ]
    },
    {
      "cell_type": "markdown",
      "metadata": {
        "id": "ynxAQEvLmC6R"
      },
      "source": [
        "### Train the agent"
      ]
    },
    {
      "cell_type": "code",
      "execution_count": 46,
      "metadata": {
        "colab": {
          "base_uri": "https://localhost:8080/",
          "height": 468
        },
        "id": "uQO4hDUn2vUa",
        "outputId": "39d78a58-5330-4fa0-b70c-52e9187fbf63"
      },
      "outputs": [
        {
          "output_type": "display_data",
          "data": {
            "text/plain": [
              "<Figure size 2000x500 with 1 Axes>"
            ],
            "image/png": "[encoded data removed]"
          },
          "metadata": {}
        }
      ],
      "source": [
        "current_model = DQN(env.observation_space.shape[0], env.action_space.n)\n",
        "current_model.train(env)"
      ]
    },
    {
      "cell_type": "markdown",
      "metadata": {
        "id": "WoZsHTkFl7Jq"
      },
      "source": [
        "### Test the agent"
      ]
    },
    {
      "cell_type": "code",
      "execution_count": 44,
      "metadata": {
        "id": "YIVpEbfR4pVO",
        "colab": {
          "base_uri": "https://localhost:8080/",
          "height": 571
        },
        "outputId": "745a556f-965f-4c4d-a283-ad628b50371f"
      },
      "outputs": [
        {
          "output_type": "stream",
          "name": "stderr",
          "text": [
            "/usr/local/lib/python3.10/dist-packages/moviepy/config_defaults.py:1: DeprecationWarning: invalid escape sequence '\\P'\n",
            "  \"\"\"\n",
            "/usr/local/lib/python3.10/dist-packages/pygame/pkgdata.py:25: DeprecationWarning: pkg_resources is deprecated as an API. See https://setuptools.pypa.io/en/latest/pkg_resources.html\n",
            "  from pkg_resources import resource_stream, resource_exists\n",
            "/usr/local/lib/python3.10/dist-packages/pkg_resources/__init__.py:3154: DeprecationWarning: Deprecated call to `pkg_resources.declare_namespace('google')`.\n",
            "Implementing implicit namespace packages (as specified in PEP 420) is preferred to `pkg_resources.declare_namespace`. See https://setuptools.pypa.io/en/latest/references/keywords.html#keyword-namespace-packages\n",
            "  declare_namespace(pkg)\n",
            "/usr/local/lib/python3.10/dist-packages/pkg_resources/__init__.py:3154: DeprecationWarning: Deprecated call to `pkg_resources.declare_namespace('google.cloud')`.\n",
            "Implementing implicit namespace packages (as specified in PEP 420) is preferred to `pkg_resources.declare_namespace`. See https://setuptools.pypa.io/en/latest/references/keywords.html#keyword-namespace-packages\n",
            "  declare_namespace(pkg)\n",
            "/usr/local/lib/python3.10/dist-packages/pkg_resources/__init__.py:3154: DeprecationWarning: Deprecated call to `pkg_resources.declare_namespace('sphinxcontrib')`.\n",
            "Implementing implicit namespace packages (as specified in PEP 420) is preferred to `pkg_resources.declare_namespace`. See https://setuptools.pypa.io/en/latest/references/keywords.html#keyword-namespace-packages\n",
            "  declare_namespace(pkg)\n"
          ]
        },
        {
          "output_type": "stream",
          "name": "stdout",
          "text": [
            "rew:  200.0\n",
            "files:  ['videos/rl-video-episode-0.mp4']\n"
          ]
        },
        {
          "output_type": "display_data",
          "data": {
            "text/plain": [
              "<IPython.core.display.HTML object>"
            ],
            "text/html": [
              "\n",
              "        <video width=\"320\" height=\"240\" alt=\"test\" controls>\n",
              "        <source src=\"data:video/mp4;base64,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\" type=\"video/mp4\"/>\n",
              "        </video>\n",
              "        "
            ]
          },
          "metadata": {}
        },
        {
          "output_type": "stream",
          "name": "stdout",
          "text": [
            "Played: videos/rl-video-episode-0.mp4\n"
          ]
        }
      ],
      "source": [
        "current_model.test(env)"
      ]
    }
  ],
  "metadata": {
    "colab": {
      "provenance": [],
      "include_colab_link": true
    },
    "gpuClass": "standard",
    "kernelspec": {
      "display_name": "Python 3",
      "language": "python",
      "name": "python3"
    },
    "language_info": {
      "codemirror_mode": {
        "name": "ipython",
        "version": 3
      },
      "file_extension": ".py",
      "mimetype": "text/x-python",
      "name": "python",
      "nbconvert_exporter": "python",
      "pygments_lexer": "ipython3",
      "version": "3.6.8"
    }
  },
  "nbformat": 4,
  "nbformat_minor": 0
}