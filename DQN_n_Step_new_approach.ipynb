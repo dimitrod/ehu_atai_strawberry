{
  "cells": [
    {
      "cell_type": "markdown",
      "metadata": {
        "id": "view-in-github",
        "colab_type": "text"
      },
      "source": [
        "<a href=\"https://colab.research.google.com/github/dimitrod/ehu_atai_strawberry/blob/main/DQN_n_Step_new_approach.ipynb\" target=\"_parent\"><img src=\"https://colab.research.google.com/assets/colab-badge.svg\" alt=\"Open In Colab\"/></a>"
      ]
    },
    {
      "cell_type": "markdown",
      "metadata": {
        "id": "7p-FkdaHOISM"
      },
      "source": [
        "# **Initialization**"
      ]
    },
    {
      "cell_type": "markdown",
      "metadata": {
        "id": "VzfboO1QP_Uw"
      },
      "source": [
        "## Install dependencies"
      ]
    },
    {
      "cell_type": "code",
      "execution_count": 1,
      "metadata": {
        "colab": {
          "base_uri": "https://localhost:8080/"
        },
        "id": "mt4fLrG2Puzd",
        "outputId": "116b5e60-5f3e-4f10-ddab-8eb948c0a3b5"
      },
      "outputs": [
        {
          "output_type": "stream",
          "name": "stdout",
          "text": [
            "\r0% [Working]\r            \rGet:1 https://cloud.r-project.org/bin/linux/ubuntu jammy-cran40/ InRelease [3,626 B]\n",
            "Hit:2 https://developer.download.nvidia.com/compute/cuda/repos/ubuntu2204/x86_64  InRelease\n",
            "Get:3 http://security.ubuntu.com/ubuntu jammy-security InRelease [129 kB]\n",
            "Hit:4 http://archive.ubuntu.com/ubuntu jammy InRelease\n",
            "Get:5 http://archive.ubuntu.com/ubuntu jammy-updates InRelease [128 kB]\n",
            "Get:6 https://r2u.stat.illinois.edu/ubuntu jammy InRelease [6,555 B]\n",
            "Get:7 https://r2u.stat.illinois.edu/ubuntu jammy/main all Packages [8,549 kB]\n",
            "Hit:8 https://ppa.launchpadcontent.net/deadsnakes/ppa/ubuntu jammy InRelease\n",
            "Get:9 http://security.ubuntu.com/ubuntu jammy-security/main amd64 Packages [2,469 kB]\n",
            "Hit:10 https://ppa.launchpadcontent.net/graphics-drivers/ppa/ubuntu jammy InRelease\n",
            "Hit:11 https://ppa.launchpadcontent.net/ubuntugis/ppa/ubuntu jammy InRelease\n",
            "Get:12 http://archive.ubuntu.com/ubuntu jammy-backports InRelease [127 kB]\n",
            "Get:13 http://archive.ubuntu.com/ubuntu jammy-updates/universe amd64 Packages [1,516 kB]\n",
            "Get:14 http://security.ubuntu.com/ubuntu jammy-security/universe amd64 Packages [1,226 kB]\n",
            "Get:15 http://security.ubuntu.com/ubuntu jammy-security/restricted amd64 Packages [3,364 kB]\n",
            "Get:16 http://archive.ubuntu.com/ubuntu jammy-updates/main amd64 Packages [2,755 kB]\n",
            "Get:17 https://r2u.stat.illinois.edu/ubuntu jammy/main amd64 Packages [2,629 kB]\n",
            "Fetched 22.9 MB in 4s (5,639 kB/s)\n",
            "Reading package lists... Done\n",
            "W: Skipping acquire of configured file 'main/source/Sources' as repository 'https://r2u.stat.illinois.edu/ubuntu jammy InRelease' does not seem to provide it (sources.list entry misspelt?)\n",
            "Reading package lists... Done\n",
            "Building dependency tree... Done\n",
            "Reading state information... Done\n",
            "\u001b[1;31mE: \u001b[0mUnable to locate package python-opengl\u001b[0m\n",
            "Reading package lists... Done\n",
            "Building dependency tree... Done\n",
            "Reading state information... Done\n",
            "ffmpeg is already the newest version (7:4.4.2-0ubuntu0.22.04.1).\n",
            "0 upgraded, 0 newly installed, 0 to remove and 51 not upgraded.\n",
            "Reading package lists... Done\n",
            "Building dependency tree... Done\n",
            "Reading state information... Done\n",
            "The following additional packages will be installed:\n",
            "  libfontenc1 libxfont2 libxkbfile1 x11-xkb-utils xfonts-base xfonts-encodings xfonts-utils\n",
            "  xserver-common\n",
            "The following NEW packages will be installed:\n",
            "  libfontenc1 libxfont2 libxkbfile1 x11-xkb-utils xfonts-base xfonts-encodings xfonts-utils\n",
            "  xserver-common xvfb\n",
            "0 upgraded, 9 newly installed, 0 to remove and 51 not upgraded.\n",
            "Need to get 7,815 kB of archives.\n",
            "After this operation, 11.9 MB of additional disk space will be used.\n",
            "Get:1 http://archive.ubuntu.com/ubuntu jammy/main amd64 libfontenc1 amd64 1:1.1.4-1build3 [14.7 kB]\n",
            "Get:2 http://archive.ubuntu.com/ubuntu jammy/main amd64 libxfont2 amd64 1:2.0.5-1build1 [94.5 kB]\n",
            "Get:3 http://archive.ubuntu.com/ubuntu jammy/main amd64 libxkbfile1 amd64 1:1.1.0-1build3 [71.8 kB]\n",
            "Get:4 http://archive.ubuntu.com/ubuntu jammy/main amd64 x11-xkb-utils amd64 7.7+5build4 [172 kB]\n",
            "Get:5 http://archive.ubuntu.com/ubuntu jammy/main amd64 xfonts-encodings all 1:1.0.5-0ubuntu2 [578 kB]\n",
            "Get:6 http://archive.ubuntu.com/ubuntu jammy/main amd64 xfonts-utils amd64 1:7.7+6build2 [94.6 kB]\n",
            "Get:7 http://archive.ubuntu.com/ubuntu jammy/main amd64 xfonts-base all 1:1.0.5 [5,896 kB]\n",
            "Get:8 http://archive.ubuntu.com/ubuntu jammy-updates/main amd64 xserver-common all 2:21.1.4-2ubuntu1.7~22.04.12 [28.7 kB]\n",
            "Get:9 http://archive.ubuntu.com/ubuntu jammy-updates/universe amd64 xvfb amd64 2:21.1.4-2ubuntu1.7~22.04.12 [864 kB]\n",
            "Fetched 7,815 kB in 3s (2,678 kB/s)\n",
            "Selecting previously unselected package libfontenc1:amd64.\n",
            "(Reading database ... 123633 files and directories currently installed.)\n",
            "Preparing to unpack .../0-libfontenc1_1%3a1.1.4-1build3_amd64.deb ...\n",
            "Unpacking libfontenc1:amd64 (1:1.1.4-1build3) ...\n",
            "Selecting previously unselected package libxfont2:amd64.\n",
            "Preparing to unpack .../1-libxfont2_1%3a2.0.5-1build1_amd64.deb ...\n",
            "Unpacking libxfont2:amd64 (1:2.0.5-1build1) ...\n",
            "Selecting previously unselected package libxkbfile1:amd64.\n",
            "Preparing to unpack .../2-libxkbfile1_1%3a1.1.0-1build3_amd64.deb ...\n",
            "Unpacking libxkbfile1:amd64 (1:1.1.0-1build3) ...\n",
            "Selecting previously unselected package x11-xkb-utils.\n",
            "Preparing to unpack .../3-x11-xkb-utils_7.7+5build4_amd64.deb ...\n",
            "Unpacking x11-xkb-utils (7.7+5build4) ...\n",
            "Selecting previously unselected package xfonts-encodings.\n",
            "Preparing to unpack .../4-xfonts-encodings_1%3a1.0.5-0ubuntu2_all.deb ...\n",
            "Unpacking xfonts-encodings (1:1.0.5-0ubuntu2) ...\n",
            "Selecting previously unselected package xfonts-utils.\n",
            "Preparing to unpack .../5-xfonts-utils_1%3a7.7+6build2_amd64.deb ...\n",
            "Unpacking xfonts-utils (1:7.7+6build2) ...\n",
            "Selecting previously unselected package xfonts-base.\n",
            "Preparing to unpack .../6-xfonts-base_1%3a1.0.5_all.deb ...\n",
            "Unpacking xfonts-base (1:1.0.5) ...\n",
            "Selecting previously unselected package xserver-common.\n",
            "Preparing to unpack .../7-xserver-common_2%3a21.1.4-2ubuntu1.7~22.04.12_all.deb ...\n",
            "Unpacking xserver-common (2:21.1.4-2ubuntu1.7~22.04.12) ...\n",
            "Selecting previously unselected package xvfb.\n",
            "Preparing to unpack .../8-xvfb_2%3a21.1.4-2ubuntu1.7~22.04.12_amd64.deb ...\n",
            "Unpacking xvfb (2:21.1.4-2ubuntu1.7~22.04.12) ...\n",
            "Setting up libfontenc1:amd64 (1:1.1.4-1build3) ...\n",
            "Setting up xfonts-encodings (1:1.0.5-0ubuntu2) ...\n",
            "Setting up libxkbfile1:amd64 (1:1.1.0-1build3) ...\n",
            "Setting up libxfont2:amd64 (1:2.0.5-1build1) ...\n",
            "Setting up x11-xkb-utils (7.7+5build4) ...\n",
            "Setting up xfonts-utils (1:7.7+6build2) ...\n",
            "Setting up xfonts-base (1:1.0.5) ...\n",
            "Setting up xserver-common (2:21.1.4-2ubuntu1.7~22.04.12) ...\n",
            "Setting up xvfb (2:21.1.4-2ubuntu1.7~22.04.12) ...\n",
            "Processing triggers for man-db (2.10.2-1) ...\n",
            "Processing triggers for fontconfig (2.13.1-4.2ubuntu5) ...\n",
            "Processing triggers for libc-bin (2.35-0ubuntu3.4) ...\n",
            "/sbin/ldconfig.real: /usr/local/lib/libumf.so.0 is not a symbolic link\n",
            "\n",
            "/sbin/ldconfig.real: /usr/local/lib/libtcm_debug.so.1 is not a symbolic link\n",
            "\n",
            "/sbin/ldconfig.real: /usr/local/lib/libhwloc.so.15 is not a symbolic link\n",
            "\n",
            "/sbin/ldconfig.real: /usr/local/lib/libtbbbind.so.3 is not a symbolic link\n",
            "\n",
            "/sbin/ldconfig.real: /usr/local/lib/libtbbmalloc.so.2 is not a symbolic link\n",
            "\n",
            "/sbin/ldconfig.real: /usr/local/lib/libtbbbind_2_0.so.3 is not a symbolic link\n",
            "\n",
            "/sbin/ldconfig.real: /usr/local/lib/libtbb.so.12 is not a symbolic link\n",
            "\n",
            "/sbin/ldconfig.real: /usr/local/lib/libtbbbind_2_5.so.3 is not a symbolic link\n",
            "\n",
            "/sbin/ldconfig.real: /usr/local/lib/libtbbmalloc_proxy.so.2 is not a symbolic link\n",
            "\n",
            "/sbin/ldconfig.real: /usr/local/lib/libtcm.so.1 is not a symbolic link\n",
            "\n",
            "/sbin/ldconfig.real: /usr/local/lib/libur_adapter_level_zero.so.0 is not a symbolic link\n",
            "\n",
            "/sbin/ldconfig.real: /usr/local/lib/libur_adapter_opencl.so.0 is not a symbolic link\n",
            "\n",
            "/sbin/ldconfig.real: /usr/local/lib/libur_loader.so.0 is not a symbolic link\n",
            "\n",
            "Collecting PyVirtualDisplay==3.0\n",
            "  Downloading PyVirtualDisplay-3.0-py3-none-any.whl.metadata (943 bytes)\n",
            "Downloading PyVirtualDisplay-3.0-py3-none-any.whl (15 kB)\n",
            "Installing collected packages: PyVirtualDisplay\n",
            "Successfully installed PyVirtualDisplay-3.0\n",
            "Collecting gymnasium[classic_control]\n",
            "  Downloading gymnasium-1.0.0-py3-none-any.whl.metadata (9.5 kB)\n",
            "Requirement already satisfied: numpy>=1.21.0 in /usr/local/lib/python3.10/dist-packages (from gymnasium[classic_control]) (1.26.4)\n",
            "Requirement already satisfied: cloudpickle>=1.2.0 in /usr/local/lib/python3.10/dist-packages (from gymnasium[classic_control]) (3.1.0)\n",
            "Requirement already satisfied: typing-extensions>=4.3.0 in /usr/local/lib/python3.10/dist-packages (from gymnasium[classic_control]) (4.12.2)\n",
            "Collecting farama-notifications>=0.0.1 (from gymnasium[classic_control])\n",
            "  Downloading Farama_Notifications-0.0.4-py3-none-any.whl.metadata (558 bytes)\n",
            "Requirement already satisfied: pygame>=2.1.3 in /usr/local/lib/python3.10/dist-packages (from gymnasium[classic_control]) (2.6.1)\n",
            "Downloading Farama_Notifications-0.0.4-py3-none-any.whl (2.5 kB)\n",
            "Downloading gymnasium-1.0.0-py3-none-any.whl (958 kB)\n",
            "\u001b[2K   \u001b[90m━━━━━━━━━━━━━━━━━━━━━━━━━━━━━━━━━━━━━━━━\u001b[0m \u001b[32m958.1/958.1 kB\u001b[0m \u001b[31m11.4 MB/s\u001b[0m eta \u001b[36m0:00:00\u001b[0m\n",
            "\u001b[?25hInstalling collected packages: farama-notifications, gymnasium\n",
            "Successfully installed farama-notifications-0.0.4 gymnasium-1.0.0\n"
          ]
        }
      ],
      "source": [
        "import sys\n",
        "IN_COLAB = \"google.colab\" in sys.modules\n",
        "\n",
        "if IN_COLAB:\n",
        "    !apt-get update\n",
        "    !apt install python-opengl\n",
        "    !apt install ffmpeg\n",
        "    !apt install xvfb\n",
        "    !pip install PyVirtualDisplay==3.0\n",
        "    !pip install gymnasium[classic_control]\n",
        "    from pyvirtualdisplay import Display\n",
        "\n",
        "    # Start virtual display\n",
        "    dis = Display(visible=0, size=(400, 400))\n",
        "    dis.start()"
      ]
    },
    {
      "cell_type": "markdown",
      "metadata": {
        "id": "sHmjyfGJOTsV"
      },
      "source": [
        "## Import Dependencies"
      ]
    },
    {
      "cell_type": "code",
      "execution_count": 2,
      "metadata": {
        "id": "GJ7ASlptVUES"
      },
      "outputs": [],
      "source": [
        "import os\n",
        "from typing import Dict, List, Tuple\n",
        "import math, random\n",
        "\n",
        "import gym\n",
        "import gymnasium as gymnasium\n",
        "import numpy as np\n",
        "import matplotlib.pyplot as plt\n",
        "%matplotlib inline\n",
        "\n",
        "\n",
        "import base64\n",
        "import glob\n",
        "import io\n",
        "import os\n",
        "\n",
        "\n",
        "import torch\n",
        "import torch.nn as nn\n",
        "import torch.optim as optim\n",
        "import torch.autograd as autograd\n",
        "import torch.nn.functional as F\n",
        "\n",
        "\n",
        "from IPython.display import HTML, display, clear_output\n",
        "\n"
      ]
    },
    {
      "cell_type": "markdown",
      "metadata": {
        "id": "Eqs9Zs6rOZhy"
      },
      "source": [
        "#**Implementation**"
      ]
    },
    {
      "cell_type": "markdown",
      "metadata": {
        "id": "GaC0tjzZS6hG"
      },
      "source": [
        "## **Show recorded video**\n",
        "The following functions are used in order to show in a video the obtained results"
      ]
    },
    {
      "cell_type": "code",
      "execution_count": 3,
      "metadata": {
        "id": "4qPbPwvooax1",
        "colab": {
          "base_uri": "https://localhost:8080/"
        },
        "outputId": "9d30d4a3-1cf6-45b9-c728-756ad1f49812"
      },
      "outputs": [
        {
          "output_type": "stream",
          "name": "stderr",
          "text": [
            "/usr/local/lib/python3.10/dist-packages/ipykernel/ipkernel.py:283: DeprecationWarning: `should_run_async` will not call `transform_cell` automatically in the future. Please pass the result to `transformed_cell` argument and any exception that happen during thetransform in `preprocessing_exc_tuple` in IPython 7.17 and above.\n",
            "  and should_run_async(code)\n"
          ]
        }
      ],
      "source": [
        "def ipython_show_video(path: str) -> None:\n",
        "    \"\"\"Show a video at `path` within IPython Notebook.\"\"\"\n",
        "    if not os.path.isfile(path):\n",
        "        raise NameError(\"Cannot access: {}\".format(path))\n",
        "\n",
        "    video = io.open(path, \"r+b\").read()\n",
        "    encoded = base64.b64encode(video)\n",
        "\n",
        "    display(HTML(\n",
        "        data=\"\"\"\n",
        "        <video width=\"320\" height=\"240\" alt=\"test\" controls>\n",
        "        <source src=\"data:video/mp4;base64,{0}\" type=\"video/mp4\"/>\n",
        "        </video>\n",
        "        \"\"\".format(encoded.decode(\"ascii\"))\n",
        "    ))\n",
        "\n",
        "def remove_videos (video_folder: str):\n",
        "    list_of_files = glob.glob(os.path.join(video_folder, \"*.mp4\"))\n",
        "    for video in list_of_files:\n",
        "      try:\n",
        "          os.remove(video)\n",
        "      except:\n",
        "          print(\"Error while deleting file : \", video)\n",
        "\n",
        "def show_latest_video(video_folder: str) -> str:\n",
        "    \"\"\"Show the most recently recorded video from video folder.\"\"\"\n",
        "    list_of_files = glob.glob(os.path.join(video_folder, \"*.mp4\"))\n",
        "    print(\"files: \", list_of_files )\n",
        "    latest_file = max(list_of_files, key=os.path.getctime)\n",
        "    ipython_show_video(latest_file)\n",
        "    return latest_file\n",
        "\n",
        "def show_all_videos(video_folder: str) -> str:\n",
        "    \"\"\"Show all the videos recorded.\"\"\"\n",
        "    list_of_files = glob.glob(os.path.join(video_folder, \"*.mp4\"))\n",
        "    print(\"files: \", list_of_files )\n",
        "    for video in list_of_files:\n",
        "      ipython_show_video(video)\n",
        "    print(\"Played:\", video)\n"
      ]
    },
    {
      "cell_type": "markdown",
      "metadata": {
        "id": "PZzMzzVmIbKz"
      },
      "source": [
        "## Autograd Variable"
      ]
    },
    {
      "cell_type": "code",
      "execution_count": 4,
      "metadata": {
        "id": "HYyjk9ihIbK0"
      },
      "outputs": [],
      "source": [
        "Variable = lambda *args, **kwargs: autograd.Variable(*args, **kwargs)"
      ]
    },
    {
      "cell_type": "markdown",
      "metadata": {
        "id": "TnjlYrW5IbK0"
      },
      "source": [
        "## Replay Buffer"
      ]
    },
    {
      "cell_type": "code",
      "execution_count": 5,
      "metadata": {
        "id": "45GG4TiEIbK1"
      },
      "outputs": [],
      "source": [
        "from collections import deque\n",
        "\n",
        "class ReplayBuffer(object):\n",
        "    def __init__(self, capacity):\n",
        "        self.buffer = deque(maxlen=capacity)\n",
        "\n",
        "    def push(self, state, action, reward, next_state, done):\n",
        "        state      = np.expand_dims(state, 0)\n",
        "        next_state = np.expand_dims(next_state, 0)\n",
        "\n",
        "        self.buffer.append((state, action, reward, next_state, done))\n",
        "\n",
        "    def sample(self, batch_size):\n",
        "        state, action, reward, next_state, done = zip(*random.sample(self.buffer, batch_size))\n",
        "        return np.concatenate(state), action, reward, np.concatenate(next_state), done\n",
        "\n",
        "    def __len__(self):\n",
        "        return len(self.buffer)"
      ]
    },
    {
      "cell_type": "markdown",
      "metadata": {
        "id": "IyAYT95VwIvl"
      },
      "source": [
        "*###* Testing Replay Buffer"
      ]
    },
    {
      "cell_type": "code",
      "execution_count": 6,
      "metadata": {
        "colab": {
          "base_uri": "https://localhost:8080/"
        },
        "id": "B47-W5kjrEeA",
        "outputId": "5b7a21e0-fbbe-4335-cbc1-803e447060c9"
      },
      "outputs": [
        {
          "output_type": "stream",
          "name": "stdout",
          "text": [
            "We add 8 elements but there are only  5 \n",
            "rB:  deque([(array([3]), 3, 3, array([3]), 3), (array([4]), 4, 4, array([4]), 4), (array([5]), 5, 5, array([5]), 5), (array([6]), 6, 6, array([6]), 6), (array([7]), 7, 7, array([7]), 7)], maxlen=5)\n",
            "\n",
            "After we add a new element the buffer is:  deque([(array([4]), 4, 4, array([4]), 4), (array([5]), 5, 5, array([5]), 5), (array([6]), 6, 6, array([6]), 6), (array([7]), 7, 7, array([7]), 7), (array([10]), 10, 10, array([10]), 10)], maxlen=5)\n",
            "\n",
            " The sampled elemenst:  (array([ 4, 10]), (4, 10), (4, 10), array([ 4, 10]), (4, 10))\n",
            "\n",
            " The sampled elemenst:  (array([5, 4, 6]), (5, 4, 6), (5, 4, 6), array([5, 4, 6]), (5, 4, 6))\n"
          ]
        }
      ],
      "source": [
        "# We build a Replay buffer for 5 elements\n",
        "rB = ReplayBuffer(5)\n",
        "\n",
        "# We are going to add 8 elements\n",
        "for i in range(8):\n",
        "  rB.push(i,i,i,i,i)\n",
        "print(\"We add 8 elements but there are only \", len(rB), \"\\nrB: \", rB.buffer)\n",
        "\n",
        "# We are going to add another value\n",
        "rB.push(10,10,10,10,10)\n",
        "print(\"\\nAfter we add a new element the buffer is: \", rB.buffer)\n",
        "\n",
        "# No we are going to see are sampled some experiences\n",
        "mini_batch = rB.sample(2)\n",
        "print(\"\\n The sampled elemenst: \", mini_batch )\n",
        "\n",
        "mini_batch = rB.sample(3)\n",
        "print(\"\\n The sampled elemenst: \", mini_batch )\n"
      ]
    },
    {
      "cell_type": "markdown",
      "metadata": {
        "id": "voxkftv1IbK2"
      },
      "source": [
        "## Cart Pole Environment"
      ]
    },
    {
      "cell_type": "code",
      "execution_count": 7,
      "metadata": {
        "colab": {
          "base_uri": "https://localhost:8080/"
        },
        "id": "9EHbFDp6IbK4",
        "outputId": "d874927d-7630-4f68-80fd-8a6a7e7c594e"
      },
      "outputs": [
        {
          "output_type": "stream",
          "name": "stderr",
          "text": [
            "/usr/local/lib/python3.10/dist-packages/gymnasium/envs/registration.py:517: DeprecationWarning: \u001b[33mWARN: The environment CartPole-v0 is out of date. You should consider upgrading to version `v1`.\u001b[0m\n",
            "  logger.deprecation(\n"
          ]
        }
      ],
      "source": [
        "env_id = \"CartPole-v0\"\n",
        "env = gymnasium.make(env_id, render_mode=\"rgb_array\")"
      ]
    },
    {
      "cell_type": "code",
      "execution_count": 8,
      "metadata": {
        "id": "pZySBOH5IbLA"
      },
      "outputs": [],
      "source": [
        "def plot(frame_idx, rewards):\n",
        "    clear_output(True)\n",
        "    plt.figure(figsize=(20,5))\n",
        "    plt.subplot(131)\n",
        "    plt.title('frame %s. reward: %s' % (frame_idx, np.mean(rewards[-10:])))\n",
        "    plt.plot(rewards)\n",
        "    plt.show()"
      ]
    },
    {
      "cell_type": "markdown",
      "metadata": {
        "id": "h7aZ3bYgIbK4"
      },
      "source": [
        "## Epsilon greedy exploration\n",
        "Epsilon value is dynamic. It starts with 1.0 value (exploration) and little by little it is going to decay until 0.01 (exploitation)"
      ]
    },
    {
      "cell_type": "code",
      "execution_count": 9,
      "metadata": {
        "id": "hZCk-i69IbK5"
      },
      "outputs": [],
      "source": [
        "epsilon_start = 1.0\n",
        "epsilon_final = 0.01\n",
        "epsilon_decay = 500\n",
        "\n",
        "epsilon_by_frame = lambda frame_idx: epsilon_final + (epsilon_start - epsilon_final) * math.exp(-1. * frame_idx / epsilon_decay)"
      ]
    },
    {
      "cell_type": "code",
      "execution_count": 10,
      "metadata": {
        "colab": {
          "base_uri": "https://localhost:8080/",
          "height": 448
        },
        "id": "DKVzXtD0IbK6",
        "outputId": "70cce58f-c4e7-4a89-aba0-95a97be3c61c"
      },
      "outputs": [
        {
          "output_type": "execute_result",
          "data": {
            "text/plain": [
              "[<matplotlib.lines.Line2D at 0x7f0950fd8760>]"
            ]
          },
          "metadata": {},
          "execution_count": 10
        },
        {
          "output_type": "display_data",
          "data": {
            "text/plain": [
              "<Figure size 640x480 with 1 Axes>"
            ],
            "image/png": "[encoded data removed]"
          },
          "metadata": {}
        }
      ],
      "source": [
        "plt.plot([epsilon_by_frame(i) for i in range(10000)])"
      ]
    },
    {
      "cell_type": "markdown",
      "metadata": {
        "id": "c6A-SD0_IbK7"
      },
      "source": [
        "## Deep Q Network"
      ]
    },
    {
      "cell_type": "code",
      "execution_count": 11,
      "metadata": {
        "id": "p4vsG_e3IbK7"
      },
      "outputs": [],
      "source": [
        "class DQN(nn.Module):\n",
        "    def __init__(self, num_inputs, num_actions):\n",
        "        super(DQN, self).__init__()\n",
        "\n",
        "        self.layers = nn.Sequential(\n",
        "            nn.Linear(env.observation_space.shape[0], 128),\n",
        "            nn.ReLU(),\n",
        "            nn.Linear(128, 128),\n",
        "            nn.ReLU(),\n",
        "            nn.Linear(128, env.action_space.n)\n",
        "        )\n",
        "\n",
        "        self.optimizer = optim.Adam(self.parameters())\n",
        "        self.replay_buffer = ReplayBuffer(1000)\n",
        "        self.batch_size = 32\n",
        "        self.gamma = 0.99\n",
        "        self.n_step = 3\n",
        "\n",
        "    # This method defines the epsilon value. It started with 1.0 and it decays until 0.01 value\n",
        "    def get_epsilon_value(self, frame_idx):\n",
        "      epsilon_start = 1.0\n",
        "      epsilon_final = 0.01\n",
        "      epsilon_decay = 500\n",
        "\n",
        "      epsilon = lambda frame_idx: epsilon_final + (epsilon_start - epsilon_final) * math.exp(-1. * frame_idx / epsilon_decay)\n",
        "      return epsilon(frame_idx)\n",
        "\n",
        "    # This method computes output Tensors from input Tensors. That is, given an state it returns an array with q(s,a) values for all actions\n",
        "    def forward(self, x):\n",
        "        return self.layers(x)\n",
        "\n",
        "    # Given a state and epsilon value, this method returns an action following epsilon-greedy\n",
        "    def act(self, state, epsilon):\n",
        "        if random.random() > epsilon:\n",
        "            state   = Variable(torch.FloatTensor(state).unsqueeze(0), requires_grad=False)\n",
        "            q_value = self.forward(state)\n",
        "            action  = q_value.max(1)[1].item()\n",
        "        else:\n",
        "            action = random.randrange(env.action_space.n)\n",
        "        return action\n",
        "\n",
        "    # Given a model, it copyes the current model on it.\n",
        "    def update_target(self, target_model):\n",
        "      target_model.load_state_dict(self.state_dict())\n",
        "\n",
        "    # Calculate n-Step returns based on rewards (from mini-batch)\n",
        "    def calculate_n_step_returns(self, reward, done):\n",
        "      n_step_returns = []  # Initialize an empty list to store n-step returns\n",
        "      rewards = list(reward) # Parse the rewards tuple as a list/array\n",
        "      done = list(done) # Parse the done tuple as a list/array\n",
        "\n",
        "      for i in range(len(rewards)):  # Iterate through each experience\n",
        "          if done[i]:\n",
        "              discounted_sum_rewards = 0; # If the episode is done, set the discounted sum to 0\n",
        "          elif i + self.n_step <= len(rewards): # If enough episodes left calculate discounted sum for n steps\n",
        "              discounted_sum_rewards = sum([rewards[i + j] * (self.gamma ** j) for j in range(self.n_step)])\n",
        "          else: # Handle cases where remaining steps are less than n\n",
        "              remaining_steps = len(rewards) - i\n",
        "              discounted_sum_rewards = sum([rewards[i + j] * (self.gamma ** j) for j in range(remaining_steps)])\n",
        "\n",
        "          n_step_returns.append(discounted_sum_rewards)  # Append to the list\n",
        "\n",
        "      return n_step_returns  # Return the list of n-step returns\n",
        "\n",
        "    # TODO\n",
        "    # This method updates the weights\n",
        "    def compute_td_loss_our(self, target_model):\n",
        "      # Obtain a mini_batch to train the weights.\n",
        "      # state, action, reward, next_state and done are numpy arrays, each position corresponds to one experience\n",
        "      state, action, reward, next_state, done = self.replay_buffer.sample(self.batch_size)\n",
        "      n_step_rewards = self.calculate_n_step_returns(reward, done)\n",
        "\n",
        "      # Convert those numpy arrays to tensors. It is neccesary to work with Pytorch\n",
        "      states_tensor      = Variable(torch.FloatTensor(np.float32(state)))       # current_state S\n",
        "      actions_tensor     = Variable(torch.LongTensor(action))                   # action A\n",
        "      next_states_tensor = Variable(torch.FloatTensor(np.float32(next_state)))  # next_state S'\n",
        "\n",
        "      # The approximated q_values of each current state\n",
        "      q_values_tensor      = self.forward(states_tensor) # Q(S, A, W)\n",
        "\n",
        "      # The approximated q_values of each next state calculated with the current_model and the target_model\n",
        "      next_q_values_current_model_tensor = self.forward(next_states_tensor) # Q(S', A', W)\n",
        "      next_q_values_target_model_tensor = target_model.forward(next_states_tensor) # Q(S', A', W')\n",
        "\n",
        "      # Convert the approximated next_states' q_values to numpy array. We are going to work with these arrays\n",
        "      next_q_values_current_model = next_q_values_current_model_tensor.detach().numpy();\n",
        "      next_q_values_target_model = next_q_values_target_model_tensor.detach().numpy();\n",
        "      expected_q_value = np.zeros(self.batch_size)\n",
        "\n",
        "      # TODO\n",
        "      # input: next_q_values_current_model is a numpy array. In each element are stored all the approximated q values for the next state calculated with the current_model\n",
        "      # input: next_q_values_target_model is a numpy array. In each element are stored all the approximated q values for the next state calculated with the target_model\n",
        "      # input: reward is a numpy array with the rewards obtained in each experience of the mini_batch (batch_size)\n",
        "      # output: expected_q_value is a numpy array. You have to store in each position the target value of each experience using next_q_values_target_model and reward elements\n",
        "      # note: all these numpy arrays has the same length: the length of the mini_batch (batch_size)\n",
        "      #\n",
        "      # for all the elements on the batch size\n",
        "      #  calculate the target expected value and store in expected_q_value\n",
        "\n",
        "      for i in range(self.batch_size):\n",
        "\n",
        "        expected_q_value[i] = n_step_rewards[i]\n",
        "\n",
        "        next_q_value = 0\n",
        "        if not(done[i]):\n",
        "          next_q_value = max(next_q_values_target_model[i])\n",
        "          expected_q_value[i] += (self.gamma ** self.n_step) * next_q_value\n",
        "\n",
        "\n",
        "      # END TODO\n",
        "\n",
        "      # Prepare data for the loss function\n",
        "      q_value = q_values_tensor.gather(1, actions_tensor.unsqueeze(1)).squeeze(1)\n",
        "      expected_q_values = torch.tensor(expected_q_value)\n",
        "\n",
        "      # Loss function: to know how good the weights are\n",
        "      lossMSE = nn.MSELoss()\n",
        "      loss = lossMSE(q_value.float(), expected_q_values.float())\n",
        "\n",
        "      # Based on the results of the loss function, the weights are updated with gradient descent\n",
        "      self.optimizer.zero_grad()\n",
        "      loss.backward()\n",
        "      self.optimizer.step()\n",
        "\n",
        "      return loss\n",
        "\n",
        "    # TODO\n",
        "    # Method to train the agent\n",
        "    def train(self, env):\n",
        "      num_frames = 25000\n",
        "      losses = []\n",
        "      all_rewards = []\n",
        "      episode_reward = 0\n",
        "      target_model  = DQN(env.observation_space.shape[0], env.action_space.n)\n",
        "      state, info = env.reset()\n",
        "\n",
        "      # TODO\n",
        "      # replay buffer attribute is empty\n",
        "      # for each frame\n",
        "      #   get current epsilon\n",
        "      #   get action following epsilon greedy\n",
        "      #   get next_state and reward\n",
        "      #   add new experience to the replay buffer\n",
        "      #   update state\n",
        "      #   update episode total reward\n",
        "      #   if done\n",
        "      #     reset environment\n",
        "      #     append the episode total reward to all_rewards array\n",
        "      #     set episode total reward to 0\n",
        "      #   if experience replay has more elements than batch_size\n",
        "      #     update the weights\n",
        "      #   every 100 frames update the target model\n",
        "\n",
        "      for frame_idx in range(1, num_frames + 1):\n",
        "          epsilon = self.get_epsilon_value(frame_idx)\n",
        "          action = self.act(state, epsilon)\n",
        "\n",
        "          next_state, reward, done, truncated, info = env.step(action)\n",
        "          self.replay_buffer.push(state, action, reward, next_state, done)\n",
        "\n",
        "          state = next_state\n",
        "          episode_reward += reward\n",
        "\n",
        "          if done or truncated:\n",
        "              state, info = env.reset()\n",
        "              all_rewards.append(episode_reward)\n",
        "              episode_reward = 0\n",
        "\n",
        "          if len(current_model.replay_buffer) > self.batch_size:\n",
        "              loss = self.compute_td_loss_our(target_model)\n",
        "              losses.append(loss.data)\n",
        "\n",
        "          # to visualize how the agent is learning\n",
        "          if frame_idx % 200 == 0:\n",
        "              plot(frame_idx, all_rewards)\n",
        "\n",
        "          if frame_idx % 100 == 0:\n",
        "              self.update_target(target_model)\n",
        "\n",
        "    # This method runs one episode and generates a video to observe the result\n",
        "    def test(self,env):\n",
        "        video_folder=\"videos\"\n",
        "\n",
        "        remove_videos(video_folder=video_folder)\n",
        "\n",
        "        # we are going to work over envVideo.\n",
        "        envVideo = gymnasium.wrappers.RecordVideo(env, video_folder=video_folder)\n",
        "\n",
        "        done = False #It is used to control if the episode is finished, if it is finished the environment must be reset\n",
        "        state, info = envVideo.reset()\n",
        "\n",
        "        total_reward = 0\n",
        "        while not(done):\n",
        "            action = self.act(state, 0)\n",
        "            next_state, reward, done, truncated, info = envVideo.step(action)\n",
        "            state = next_state\n",
        "            total_reward +=reward\n",
        "            if done or truncated:\n",
        "              break\n",
        "        envVideo.close()\n",
        "        print(\"rew: \", total_reward)\n",
        "        show_all_videos(video_folder=video_folder)\n",
        "\n"
      ]
    },
    {
      "cell_type": "markdown",
      "metadata": {
        "id": "ynxAQEvLmC6R"
      },
      "source": [
        "### Train the agent"
      ]
    },
    {
      "cell_type": "code",
      "execution_count": 12,
      "metadata": {
        "colab": {
          "base_uri": "https://localhost:8080/",
          "height": 468
        },
        "id": "uQO4hDUn2vUa",
        "outputId": "0e3dcd21-7fb1-4f52-b3a6-bad30667bd10"
      },
      "outputs": [
        {
          "output_type": "display_data",
          "data": {
            "text/plain": [
              "<Figure size 2000x500 with 1 Axes>"
            ],
            "image/png": "[encoded data removed]"
          },
          "metadata": {}
        }
      ],
      "source": [
        "current_model = DQN(env.observation_space.shape[0], env.action_space.n)\n",
        "current_model.train(env)"
      ]
    },
    {
      "cell_type": "markdown",
      "metadata": {
        "id": "WoZsHTkFl7Jq"
      },
      "source": [
        "### Test the agent"
      ]
    },
    {
      "cell_type": "code",
      "execution_count": null,
      "metadata": {
        "id": "YIVpEbfR4pVO",
        "colab": {
          "base_uri": "https://localhost:8080/",
          "height": 571
        },
        "outputId": "40a5f025-85ae-4dd4-ed51-7fc409b304f3"
      },
      "outputs": [
        {
          "output_type": "stream",
          "name": "stderr",
          "text": [
            "/usr/local/lib/python3.10/dist-packages/moviepy/config_defaults.py:1: DeprecationWarning: invalid escape sequence '\\P'\n",
            "  \"\"\"\n",
            "/usr/local/lib/python3.10/dist-packages/pygame/pkgdata.py:25: DeprecationWarning: pkg_resources is deprecated as an API. See https://setuptools.pypa.io/en/latest/pkg_resources.html\n",
            "  from pkg_resources import resource_stream, resource_exists\n",
            "/usr/local/lib/python3.10/dist-packages/pkg_resources/__init__.py:3154: DeprecationWarning: Deprecated call to `pkg_resources.declare_namespace('google')`.\n",
            "Implementing implicit namespace packages (as specified in PEP 420) is preferred to `pkg_resources.declare_namespace`. See https://setuptools.pypa.io/en/latest/references/keywords.html#keyword-namespace-packages\n",
            "  declare_namespace(pkg)\n",
            "/usr/local/lib/python3.10/dist-packages/pkg_resources/__init__.py:3154: DeprecationWarning: Deprecated call to `pkg_resources.declare_namespace('google.cloud')`.\n",
            "Implementing implicit namespace packages (as specified in PEP 420) is preferred to `pkg_resources.declare_namespace`. See https://setuptools.pypa.io/en/latest/references/keywords.html#keyword-namespace-packages\n",
            "  declare_namespace(pkg)\n",
            "/usr/local/lib/python3.10/dist-packages/pkg_resources/__init__.py:3154: DeprecationWarning: Deprecated call to `pkg_resources.declare_namespace('sphinxcontrib')`.\n",
            "Implementing implicit namespace packages (as specified in PEP 420) is preferred to `pkg_resources.declare_namespace`. See https://setuptools.pypa.io/en/latest/references/keywords.html#keyword-namespace-packages\n",
            "  declare_namespace(pkg)\n"
          ]
        },
        {
          "output_type": "stream",
          "name": "stdout",
          "text": [
            "rew:  200.0\n",
            "files:  ['videos/rl-video-episode-0.mp4']\n"
          ]
        },
        {
          "output_type": "display_data",
          "data": {
            "text/plain": [
              "<IPython.core.display.HTML object>"
            ],
            "text/html": [
              "\n",
              "        <video width=\"320\" height=\"240\" alt=\"test\" controls>\n",
              "        <source src=\"data:video/mp4;base64,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\" type=\"video/mp4\"/>\n",
              "        </video>\n",
              "        "
            ]
          },
          "metadata": {}
        },
        {
          "output_type": "stream",
          "name": "stdout",
          "text": [
            "Played: videos/rl-video-episode-0.mp4\n"
          ]
        }
      ],
      "source": [
        "current_model.test(env)"
      ]
    }
  ],
  "metadata": {
    "colab": {
      "provenance": [],
      "include_colab_link": true
    },
    "gpuClass": "standard",
    "kernelspec": {
      "display_name": "Python 3",
      "language": "python",
      "name": "python3"
    },
    "language_info": {
      "codemirror_mode": {
        "name": "ipython",
        "version": 3
      },
      "file_extension": ".py",
      "mimetype": "text/x-python",
      "name": "python",
      "nbconvert_exporter": "python",
      "pygments_lexer": "ipython3",
      "version": "3.6.8"
    }
  },
  "nbformat": 4,
  "nbformat_minor": 0
}