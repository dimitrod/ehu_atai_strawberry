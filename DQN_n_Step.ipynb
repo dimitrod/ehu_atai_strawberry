{
  "cells": [
    {
      "cell_type": "markdown",
      "metadata": {
        "id": "view-in-github",
        "colab_type": "text"
      },
      "source": [
        "<a href=\"https://colab.research.google.com/github/dimitrod/ehu_atai_strawberry/blob/main/DQN_n_Step.ipynb\" target=\"_parent\"><img src=\"https://colab.research.google.com/assets/colab-badge.svg\" alt=\"Open In Colab\"/></a>"
      ]
    },
    {
      "cell_type": "markdown",
      "metadata": {
        "id": "7p-FkdaHOISM"
      },
      "source": [
        "# **Initialization**"
      ]
    },
    {
      "cell_type": "markdown",
      "metadata": {
        "id": "VzfboO1QP_Uw"
      },
      "source": [
        "## Install dependencies"
      ]
    },
    {
      "cell_type": "code",
      "execution_count": 2,
      "metadata": {
        "colab": {
          "base_uri": "https://localhost:8080/"
        },
        "id": "mt4fLrG2Puzd",
        "outputId": "14387338-2029-490d-97da-04f58f9c13e4"
      },
      "outputs": [
        {
          "output_type": "stream",
          "name": "stdout",
          "text": [
            "\r0% [Working]\r            \rGet:1 https://cloud.r-project.org/bin/linux/ubuntu jammy-cran40/ InRelease [3,626 B]\n",
            "\r0% [Waiting for headers] [Waiting for headers] [1 InRelease 3,626 B/3,626 B 100%] [Connected to r2u.\r0% [Waiting for headers] [Waiting for headers] [Connected to r2u.stat.illinois.edu (192.17.190.167)]\r                                                                                                    \rGet:2 https://developer.download.nvidia.com/compute/cuda/repos/ubuntu2204/x86_64  InRelease [1,581 B]\n",
            "\r0% [Waiting for headers] [Waiting for headers] [Connected to r2u.stat.illinois.edu (192.17.190.167)]\r0% [Waiting for headers] [Waiting for headers] [Connected to r2u.stat.illinois.edu (192.17.190.167)]\r                                                                                                    \rGet:3 http://security.ubuntu.com/ubuntu jammy-security InRelease [129 kB]\n",
            "Hit:4 http://archive.ubuntu.com/ubuntu jammy InRelease\n",
            "Get:5 http://archive.ubuntu.com/ubuntu jammy-updates InRelease [128 kB]\n",
            "Get:6 https://r2u.stat.illinois.edu/ubuntu jammy InRelease [6,555 B]\n",
            "Get:7 https://developer.download.nvidia.com/compute/cuda/repos/ubuntu2204/x86_64  Packages [1,192 kB]\n",
            "Get:8 http://archive.ubuntu.com/ubuntu jammy-backports InRelease [127 kB]\n",
            "Get:9 https://r2u.stat.illinois.edu/ubuntu jammy/main all Packages [8,532 kB]\n",
            "Get:10 https://ppa.launchpadcontent.net/deadsnakes/ppa/ubuntu jammy InRelease [18.1 kB]\n",
            "Get:11 http://security.ubuntu.com/ubuntu jammy-security/main amd64 Packages [2,454 kB]\n",
            "Hit:12 https://ppa.launchpadcontent.net/graphics-drivers/ppa/ubuntu jammy InRelease\n",
            "Get:13 http://archive.ubuntu.com/ubuntu jammy-updates/main amd64 Packages [2,738 kB]\n",
            "Hit:14 https://ppa.launchpadcontent.net/ubuntugis/ppa/ubuntu jammy InRelease\n",
            "Get:15 https://r2u.stat.illinois.edu/ubuntu jammy/main amd64 Packages [2,626 kB]\n",
            "Get:16 https://ppa.launchpadcontent.net/deadsnakes/ppa/ubuntu jammy/main amd64 Packages [32.9 kB]\n",
            "Fetched 18.0 MB in 3s (6,583 kB/s)\n",
            "Reading package lists... Done\n",
            "W: Skipping acquire of configured file 'main/source/Sources' as repository 'https://r2u.stat.illinois.edu/ubuntu jammy InRelease' does not seem to provide it (sources.list entry misspelt?)\n",
            "Reading package lists... Done\n",
            "Building dependency tree... Done\n",
            "Reading state information... Done\n",
            "\u001b[1;31mE: \u001b[0mUnable to locate package python-opengl\u001b[0m\n",
            "Reading package lists... Done\n",
            "Building dependency tree... Done\n",
            "Reading state information... Done\n",
            "ffmpeg is already the newest version (7:4.4.2-0ubuntu0.22.04.1).\n",
            "0 upgraded, 0 newly installed, 0 to remove and 50 not upgraded.\n",
            "Reading package lists... Done\n",
            "Building dependency tree... Done\n",
            "Reading state information... Done\n",
            "The following additional packages will be installed:\n",
            "  libfontenc1 libxfont2 libxkbfile1 x11-xkb-utils xfonts-base xfonts-encodings xfonts-utils\n",
            "  xserver-common\n",
            "The following NEW packages will be installed:\n",
            "  libfontenc1 libxfont2 libxkbfile1 x11-xkb-utils xfonts-base xfonts-encodings xfonts-utils\n",
            "  xserver-common xvfb\n",
            "0 upgraded, 9 newly installed, 0 to remove and 50 not upgraded.\n",
            "Need to get 7,815 kB of archives.\n",
            "After this operation, 11.9 MB of additional disk space will be used.\n",
            "Get:1 http://archive.ubuntu.com/ubuntu jammy/main amd64 libfontenc1 amd64 1:1.1.4-1build3 [14.7 kB]\n",
            "Get:2 http://archive.ubuntu.com/ubuntu jammy/main amd64 libxfont2 amd64 1:2.0.5-1build1 [94.5 kB]\n",
            "Get:3 http://archive.ubuntu.com/ubuntu jammy/main amd64 libxkbfile1 amd64 1:1.1.0-1build3 [71.8 kB]\n",
            "Get:4 http://archive.ubuntu.com/ubuntu jammy/main amd64 x11-xkb-utils amd64 7.7+5build4 [172 kB]\n",
            "Get:5 http://archive.ubuntu.com/ubuntu jammy/main amd64 xfonts-encodings all 1:1.0.5-0ubuntu2 [578 kB]\n",
            "Get:6 http://archive.ubuntu.com/ubuntu jammy/main amd64 xfonts-utils amd64 1:7.7+6build2 [94.6 kB]\n",
            "Get:7 http://archive.ubuntu.com/ubuntu jammy/main amd64 xfonts-base all 1:1.0.5 [5,896 kB]\n",
            "Get:8 http://archive.ubuntu.com/ubuntu jammy-updates/main amd64 xserver-common all 2:21.1.4-2ubuntu1.7~22.04.12 [28.7 kB]\n",
            "Get:9 http://archive.ubuntu.com/ubuntu jammy-updates/universe amd64 xvfb amd64 2:21.1.4-2ubuntu1.7~22.04.12 [864 kB]\n",
            "Fetched 7,815 kB in 1s (8,355 kB/s)\n",
            "Selecting previously unselected package libfontenc1:amd64.\n",
            "(Reading database ... 123632 files and directories currently installed.)\n",
            "Preparing to unpack .../0-libfontenc1_1%3a1.1.4-1build3_amd64.deb ...\n",
            "Unpacking libfontenc1:amd64 (1:1.1.4-1build3) ...\n",
            "Selecting previously unselected package libxfont2:amd64.\n",
            "Preparing to unpack .../1-libxfont2_1%3a2.0.5-1build1_amd64.deb ...\n",
            "Unpacking libxfont2:amd64 (1:2.0.5-1build1) ...\n",
            "Selecting previously unselected package libxkbfile1:amd64.\n",
            "Preparing to unpack .../2-libxkbfile1_1%3a1.1.0-1build3_amd64.deb ...\n",
            "Unpacking libxkbfile1:amd64 (1:1.1.0-1build3) ...\n",
            "Selecting previously unselected package x11-xkb-utils.\n",
            "Preparing to unpack .../3-x11-xkb-utils_7.7+5build4_amd64.deb ...\n",
            "Unpacking x11-xkb-utils (7.7+5build4) ...\n",
            "Selecting previously unselected package xfonts-encodings.\n",
            "Preparing to unpack .../4-xfonts-encodings_1%3a1.0.5-0ubuntu2_all.deb ...\n",
            "Unpacking xfonts-encodings (1:1.0.5-0ubuntu2) ...\n",
            "Selecting previously unselected package xfonts-utils.\n",
            "Preparing to unpack .../5-xfonts-utils_1%3a7.7+6build2_amd64.deb ...\n",
            "Unpacking xfonts-utils (1:7.7+6build2) ...\n",
            "Selecting previously unselected package xfonts-base.\n",
            "Preparing to unpack .../6-xfonts-base_1%3a1.0.5_all.deb ...\n",
            "Unpacking xfonts-base (1:1.0.5) ...\n",
            "Selecting previously unselected package xserver-common.\n",
            "Preparing to unpack .../7-xserver-common_2%3a21.1.4-2ubuntu1.7~22.04.12_all.deb ...\n",
            "Unpacking xserver-common (2:21.1.4-2ubuntu1.7~22.04.12) ...\n",
            "Selecting previously unselected package xvfb.\n",
            "Preparing to unpack .../8-xvfb_2%3a21.1.4-2ubuntu1.7~22.04.12_amd64.deb ...\n",
            "Unpacking xvfb (2:21.1.4-2ubuntu1.7~22.04.12) ...\n",
            "Setting up libfontenc1:amd64 (1:1.1.4-1build3) ...\n",
            "Setting up xfonts-encodings (1:1.0.5-0ubuntu2) ...\n",
            "Setting up libxkbfile1:amd64 (1:1.1.0-1build3) ...\n",
            "Setting up libxfont2:amd64 (1:2.0.5-1build1) ...\n",
            "Setting up x11-xkb-utils (7.7+5build4) ...\n",
            "Setting up xfonts-utils (1:7.7+6build2) ...\n",
            "Setting up xfonts-base (1:1.0.5) ...\n",
            "Setting up xserver-common (2:21.1.4-2ubuntu1.7~22.04.12) ...\n",
            "Setting up xvfb (2:21.1.4-2ubuntu1.7~22.04.12) ...\n",
            "Processing triggers for man-db (2.10.2-1) ...\n",
            "Processing triggers for fontconfig (2.13.1-4.2ubuntu5) ...\n",
            "Processing triggers for libc-bin (2.35-0ubuntu3.4) ...\n",
            "/sbin/ldconfig.real: /usr/local/lib/libtbb.so.12 is not a symbolic link\n",
            "\n",
            "/sbin/ldconfig.real: /usr/local/lib/libtcm.so.1 is not a symbolic link\n",
            "\n",
            "/sbin/ldconfig.real: /usr/local/lib/libtbbmalloc_proxy.so.2 is not a symbolic link\n",
            "\n",
            "/sbin/ldconfig.real: /usr/local/lib/libhwloc.so.15 is not a symbolic link\n",
            "\n",
            "/sbin/ldconfig.real: /usr/local/lib/libtbbmalloc.so.2 is not a symbolic link\n",
            "\n",
            "/sbin/ldconfig.real: /usr/local/lib/libur_adapter_level_zero.so.0 is not a symbolic link\n",
            "\n",
            "/sbin/ldconfig.real: /usr/local/lib/libtbbbind_2_5.so.3 is not a symbolic link\n",
            "\n",
            "/sbin/ldconfig.real: /usr/local/lib/libtcm_debug.so.1 is not a symbolic link\n",
            "\n",
            "/sbin/ldconfig.real: /usr/local/lib/libumf.so.0 is not a symbolic link\n",
            "\n",
            "/sbin/ldconfig.real: /usr/local/lib/libtbbbind_2_0.so.3 is not a symbolic link\n",
            "\n",
            "/sbin/ldconfig.real: /usr/local/lib/libtbbbind.so.3 is not a symbolic link\n",
            "\n",
            "/sbin/ldconfig.real: /usr/local/lib/libur_adapter_opencl.so.0 is not a symbolic link\n",
            "\n",
            "/sbin/ldconfig.real: /usr/local/lib/libur_loader.so.0 is not a symbolic link\n",
            "\n",
            "Collecting PyVirtualDisplay==3.0\n",
            "  Downloading PyVirtualDisplay-3.0-py3-none-any.whl.metadata (943 bytes)\n",
            "Downloading PyVirtualDisplay-3.0-py3-none-any.whl (15 kB)\n",
            "Installing collected packages: PyVirtualDisplay\n",
            "Successfully installed PyVirtualDisplay-3.0\n",
            "Collecting gymnasium[classic_control]\n",
            "  Downloading gymnasium-1.0.0-py3-none-any.whl.metadata (9.5 kB)\n",
            "Requirement already satisfied: numpy>=1.21.0 in /usr/local/lib/python3.10/dist-packages (from gymnasium[classic_control]) (1.26.4)\n",
            "Requirement already satisfied: cloudpickle>=1.2.0 in /usr/local/lib/python3.10/dist-packages (from gymnasium[classic_control]) (3.1.0)\n",
            "Requirement already satisfied: typing-extensions>=4.3.0 in /usr/local/lib/python3.10/dist-packages (from gymnasium[classic_control]) (4.12.2)\n",
            "Collecting farama-notifications>=0.0.1 (from gymnasium[classic_control])\n",
            "  Downloading Farama_Notifications-0.0.4-py3-none-any.whl.metadata (558 bytes)\n",
            "Requirement already satisfied: pygame>=2.1.3 in /usr/local/lib/python3.10/dist-packages (from gymnasium[classic_control]) (2.6.1)\n",
            "Downloading Farama_Notifications-0.0.4-py3-none-any.whl (2.5 kB)\n",
            "Downloading gymnasium-1.0.0-py3-none-any.whl (958 kB)\n",
            "\u001b[2K   \u001b[90m━━━━━━━━━━━━━━━━━━━━━━━━━━━━━━━━━━━━━━━━\u001b[0m \u001b[32m958.1/958.1 kB\u001b[0m \u001b[31m17.1 MB/s\u001b[0m eta \u001b[36m0:00:00\u001b[0m\n",
            "\u001b[?25hInstalling collected packages: farama-notifications, gymnasium\n",
            "Successfully installed farama-notifications-0.0.4 gymnasium-1.0.0\n"
          ]
        }
      ],
      "source": [
        "import sys\n",
        "IN_COLAB = \"google.colab\" in sys.modules\n",
        "\n",
        "if IN_COLAB:\n",
        "    !apt-get update\n",
        "    !apt install python-opengl\n",
        "    !apt install ffmpeg\n",
        "    !apt install xvfb\n",
        "    !pip install PyVirtualDisplay==3.0\n",
        "    !pip install gymnasium[classic_control]\n",
        "    from pyvirtualdisplay import Display\n",
        "\n",
        "    # Start virtual display\n",
        "    dis = Display(visible=0, size=(400, 400))\n",
        "    dis.start()"
      ]
    },
    {
      "cell_type": "markdown",
      "metadata": {
        "id": "sHmjyfGJOTsV"
      },
      "source": [
        "## Import Dependencies"
      ]
    },
    {
      "cell_type": "code",
      "execution_count": 3,
      "metadata": {
        "id": "GJ7ASlptVUES"
      },
      "outputs": [],
      "source": [
        "import os\n",
        "from typing import Dict, List, Tuple\n",
        "import math, random\n",
        "\n",
        "import gym\n",
        "import gymnasium as gymnasium\n",
        "import numpy as np\n",
        "import matplotlib.pyplot as plt\n",
        "%matplotlib inline\n",
        "\n",
        "\n",
        "import base64\n",
        "import glob\n",
        "import io\n",
        "import os\n",
        "\n",
        "\n",
        "import torch\n",
        "import torch.nn as nn\n",
        "import torch.optim as optim\n",
        "import torch.autograd as autograd\n",
        "import torch.nn.functional as F\n",
        "\n",
        "\n",
        "from IPython.display import HTML, display, clear_output\n",
        "\n"
      ]
    },
    {
      "cell_type": "markdown",
      "metadata": {
        "id": "Eqs9Zs6rOZhy"
      },
      "source": [
        "#**Implementation**"
      ]
    },
    {
      "cell_type": "markdown",
      "metadata": {
        "id": "GaC0tjzZS6hG"
      },
      "source": [
        "## **Show recorded video**\n",
        "The following functions are used in order to show in a video the obtained results"
      ]
    },
    {
      "cell_type": "code",
      "execution_count": 4,
      "metadata": {
        "id": "4qPbPwvooax1",
        "colab": {
          "base_uri": "https://localhost:8080/"
        },
        "outputId": "c6264175-0ea8-4a6a-c927-6f90b56884e5"
      },
      "outputs": [
        {
          "output_type": "stream",
          "name": "stderr",
          "text": [
            "/usr/local/lib/python3.10/dist-packages/ipykernel/ipkernel.py:283: DeprecationWarning: `should_run_async` will not call `transform_cell` automatically in the future. Please pass the result to `transformed_cell` argument and any exception that happen during thetransform in `preprocessing_exc_tuple` in IPython 7.17 and above.\n",
            "  and should_run_async(code)\n"
          ]
        }
      ],
      "source": [
        "def ipython_show_video(path: str) -> None:\n",
        "    \"\"\"Show a video at `path` within IPython Notebook.\"\"\"\n",
        "    if not os.path.isfile(path):\n",
        "        raise NameError(\"Cannot access: {}\".format(path))\n",
        "\n",
        "    video = io.open(path, \"r+b\").read()\n",
        "    encoded = base64.b64encode(video)\n",
        "\n",
        "    display(HTML(\n",
        "        data=\"\"\"\n",
        "        <video width=\"320\" height=\"240\" alt=\"test\" controls>\n",
        "        <source src=\"data:video/mp4;base64,{0}\" type=\"video/mp4\"/>\n",
        "        </video>\n",
        "        \"\"\".format(encoded.decode(\"ascii\"))\n",
        "    ))\n",
        "\n",
        "def remove_videos (video_folder: str):\n",
        "    list_of_files = glob.glob(os.path.join(video_folder, \"*.mp4\"))\n",
        "    for video in list_of_files:\n",
        "      try:\n",
        "          os.remove(video)\n",
        "      except:\n",
        "          print(\"Error while deleting file : \", video)\n",
        "\n",
        "def show_latest_video(video_folder: str) -> str:\n",
        "    \"\"\"Show the most recently recorded video from video folder.\"\"\"\n",
        "    list_of_files = glob.glob(os.path.join(video_folder, \"*.mp4\"))\n",
        "    print(\"files: \", list_of_files )\n",
        "    latest_file = max(list_of_files, key=os.path.getctime)\n",
        "    ipython_show_video(latest_file)\n",
        "    return latest_file\n",
        "\n",
        "def show_all_videos(video_folder: str) -> str:\n",
        "    \"\"\"Show all the videos recorded.\"\"\"\n",
        "    list_of_files = glob.glob(os.path.join(video_folder, \"*.mp4\"))\n",
        "    print(\"files: \", list_of_files )\n",
        "    for video in list_of_files:\n",
        "      ipython_show_video(video)\n",
        "    print(\"Played:\", video)\n"
      ]
    },
    {
      "cell_type": "markdown",
      "metadata": {
        "id": "PZzMzzVmIbKz"
      },
      "source": [
        "## Autograd Variable"
      ]
    },
    {
      "cell_type": "code",
      "execution_count": 5,
      "metadata": {
        "id": "HYyjk9ihIbK0"
      },
      "outputs": [],
      "source": [
        "Variable = lambda *args, **kwargs: autograd.Variable(*args, **kwargs)"
      ]
    },
    {
      "cell_type": "markdown",
      "metadata": {
        "id": "TnjlYrW5IbK0"
      },
      "source": [
        "## Replay Buffer"
      ]
    },
    {
      "cell_type": "code",
      "execution_count": 46,
      "metadata": {
        "id": "45GG4TiEIbK1",
        "colab": {
          "base_uri": "https://localhost:8080/"
        },
        "outputId": "23a549ea-a36d-4b89-9833-c5c6c9590aac"
      },
      "outputs": [
        {
          "output_type": "stream",
          "name": "stdout",
          "text": [
            "Replay Buffer Content (len=5):\n",
            "(array([1]), 2, 2.9701, array([4]), False)\n",
            "(array([2]), 3, 2.9701, array([5]), False)\n",
            "(array([3]), 4, 2.9701, array([6]), True)\n",
            "(array([6]), 7, 2.9701, array([9]), False)\n",
            "(array([7]), 8, 2.9701, array([10]), False)\n",
            "\n",
            "Sampled Mini-Batch (2 samples): (array([6, 3]), (7, 4), (2.9701, 2.9701), array([9, 6]), (False, True))\n",
            "\n",
            "Sampled Mini-Batch (3 samples): (array([3, 2, 7]), (4, 3, 8), (2.9701, 2.9701, 2.9701), array([ 6,  5, 10]), (True, False, False))\n"
          ]
        },
        {
          "output_type": "stream",
          "name": "stderr",
          "text": [
            "/usr/local/lib/python3.10/dist-packages/ipykernel/ipkernel.py:283: DeprecationWarning: `should_run_async` will not call `transform_cell` automatically in the future. Please pass the result to `transformed_cell` argument and any exception that happen during thetransform in `preprocessing_exc_tuple` in IPython 7.17 and above.\n",
            "  and should_run_async(code)\n"
          ]
        }
      ],
      "source": [
        "from collections import deque\n",
        "\n",
        "class ReplayBufferNStep:\n",
        "    def __init__(self, capacity, n_step, gamma):\n",
        "        self.buffer = deque(maxlen=capacity)  # Main buffer for replay\n",
        "        self.n_step_buffer = deque(maxlen=n_step)  # Temporary n-step buffer\n",
        "        self.n_step = n_step\n",
        "        self.gamma = gamma  # Discount factor\n",
        "\n",
        "    def _calculate_n_step_return(self):\n",
        "        \"\"\"Calculate the n-step return and extract the final next state and done flag.\"\"\"\n",
        "        reward, next_state, done = 0.0, None, False\n",
        "        for idx, (_, _, r, ns, d) in enumerate(self.n_step_buffer):\n",
        "            reward += (self.gamma ** idx) * r  # Discounted reward\n",
        "            next_state = ns  # Update next_state to the last step's state\n",
        "            done = d  # Update done flag to the last step's done\n",
        "            if d:  # Stop if terminal state is encountered\n",
        "                break\n",
        "        return reward, next_state, done\n",
        "\n",
        "    def push(self, state, action, reward, next_state, done):\n",
        "        \"\"\"\n",
        "        Add a transition to the n-step buffer and store the processed n-step transition in the main buffer.\n",
        "        \"\"\"\n",
        "        # Add transition to n-step buffer\n",
        "        self.n_step_buffer.append((state, action, reward, next_state, done))\n",
        "\n",
        "        # If n-step buffer is full, calculate n-step return and push to the main buffer\n",
        "        if len(self.n_step_buffer) == self.n_step:\n",
        "            state, action, _, _, _ = self.n_step_buffer[0]  # Take initial state and action\n",
        "            reward, next_state, done = self._calculate_n_step_return()\n",
        "            state      = np.expand_dims(state, 0)\n",
        "            next_state = np.expand_dims(next_state, 0)\n",
        "            self.buffer.append((state, action, reward, next_state, done))\n",
        "\n",
        "        # Clear the n-step buffer if terminal state is encountered\n",
        "        if done:\n",
        "            self.n_step_buffer.clear()\n",
        "\n",
        "    def sample(self, batch_size):\n",
        "        \"\"\"\n",
        "        Sample a batch of transitions from the main buffer.\n",
        "        \"\"\"\n",
        "        if len(self.buffer) < batch_size:\n",
        "            raise ValueError(\"Not enough elements in the buffer to sample.\")\n",
        "        state, action, reward, next_state, done = zip(*random.sample(self.buffer, batch_size))\n",
        "        return np.concatenate(state), action, reward, np.concatenate(next_state), done\n",
        "\n",
        "    def __len__(self):\n",
        "        return len(self.buffer)\n",
        "\n",
        "# Create a Replay Buffer with capacity 5, n-step=3, and gamma=0.99\n",
        "rB = ReplayBufferNStep(capacity=5, n_step=3, gamma=0.99)\n",
        "\n",
        "# Add 10 transitions to the buffer\n",
        "for i in range(10):\n",
        "    # Simulate terminal states every 6 steps\n",
        "    done = (i % 6 == 5)\n",
        "    rB.push(state=i, action=i + 1, reward=1.0, next_state=i + 1, done=done)\n",
        "\n",
        "# Check the buffer content after adding transitions\n",
        "print(f\"Replay Buffer Content (len={len(rB)}):\")\n",
        "for item in rB.buffer:\n",
        "    print(item)\n",
        "\n",
        "# Sample two experiences\n",
        "try:\n",
        "    mini_batch = rB.sample(2)\n",
        "    print(\"\\nSampled Mini-Batch (2 samples):\", mini_batch)\n",
        "except ValueError as e:\n",
        "    print(\"\\nError during sampling:\", e)\n",
        "\n",
        "# Sample three experiences\n",
        "try:\n",
        "    mini_batch = rB.sample(3)\n",
        "    print(\"\\nSampled Mini-Batch (3 samples):\", mini_batch)\n",
        "except ValueError as e:\n",
        "    print(\"\\nError during sampling:\", e)"
      ]
    },
    {
      "cell_type": "markdown",
      "metadata": {
        "id": "IyAYT95VwIvl"
      },
      "source": [
        "*###* Testing Replay Buffer"
      ]
    },
    {
      "cell_type": "code",
      "execution_count": 9,
      "metadata": {
        "id": "B47-W5kjrEeA"
      },
      "outputs": [],
      "source": [
        "# # We build a Replay buffer for 5 elements\n",
        "# rB = ReplayBufferNStep(5, 3, 0.99)\n",
        "\n",
        "# print(\"len \", len(rB), \"\\nrB: \", rB.buffer)\n",
        "\n",
        "# # We are going to add 8 elements\n",
        "# for i in range(25):\n",
        "#   rB.push(i,i,i,i,i)\n",
        "# print(\"We add 8 elements but there are only \", len(rB), \"\\nrB: \", rB.buffer)\n",
        "\n",
        "# # We are going to add another value\n",
        "# rB.push(10,10,10,10,10)\n",
        "# print(\"\\nAfter we add a new element the buffer is: \", rB.buffer)\n",
        "\n",
        "# # No we are going to see are sampled some experiences\n",
        "# mini_batch = rB.sample(1)\n",
        "# print(\"\\n The sampled elemenst: \", mini_batch )\n",
        "\n",
        "# mini_batch = rB.sample(3)\n",
        "# print(\"\\n The sampled elemenst: \", mini_batch )\n"
      ]
    },
    {
      "cell_type": "markdown",
      "metadata": {
        "id": "voxkftv1IbK2"
      },
      "source": [
        "## Cart Pole Environment"
      ]
    },
    {
      "cell_type": "code",
      "execution_count": 19,
      "metadata": {
        "colab": {
          "base_uri": "https://localhost:8080/"
        },
        "id": "9EHbFDp6IbK4",
        "outputId": "4e7ecbe8-b9f8-4d23-ba18-545fd109f806"
      },
      "outputs": [
        {
          "output_type": "stream",
          "name": "stderr",
          "text": [
            "/usr/local/lib/python3.10/dist-packages/gymnasium/envs/registration.py:517: DeprecationWarning: \u001b[33mWARN: The environment CartPole-v0 is out of date. You should consider upgrading to version `v1`.\u001b[0m\n",
            "  logger.deprecation(\n"
          ]
        }
      ],
      "source": [
        "env_id = \"CartPole-v0\"\n",
        "env = gymnasium.make(env_id, render_mode=\"rgb_array\")"
      ]
    },
    {
      "cell_type": "code",
      "execution_count": 20,
      "metadata": {
        "id": "pZySBOH5IbLA"
      },
      "outputs": [],
      "source": [
        "def plot(frame_idx, rewards):\n",
        "    clear_output(True)\n",
        "    plt.figure(figsize=(20,5))\n",
        "    plt.subplot(131)\n",
        "    plt.title('frame %s. reward: %s' % (frame_idx, np.mean(rewards[-10:])))\n",
        "    plt.plot(rewards)\n",
        "    plt.show()"
      ]
    },
    {
      "cell_type": "markdown",
      "metadata": {
        "id": "h7aZ3bYgIbK4"
      },
      "source": [
        "## Epsilon greedy exploration\n",
        "Epsilon value is dynamic. It starts with 1.0 value (exploration) and little by little it is going to decay until 0.01 (exploitation)"
      ]
    },
    {
      "cell_type": "code",
      "execution_count": 21,
      "metadata": {
        "id": "hZCk-i69IbK5"
      },
      "outputs": [],
      "source": [
        "epsilon_start = 1.0\n",
        "epsilon_final = 0.01\n",
        "epsilon_decay = 500\n",
        "\n",
        "epsilon_by_frame = lambda frame_idx: epsilon_final + (epsilon_start - epsilon_final) * math.exp(-1. * frame_idx / epsilon_decay)"
      ]
    },
    {
      "cell_type": "code",
      "execution_count": 22,
      "metadata": {
        "colab": {
          "base_uri": "https://localhost:8080/",
          "height": 448
        },
        "id": "DKVzXtD0IbK6",
        "outputId": "abbf4e06-865e-49d9-f2aa-9bcfa0e6a1cf"
      },
      "outputs": [
        {
          "output_type": "execute_result",
          "data": {
            "text/plain": [
              "[<matplotlib.lines.Line2D at 0x7cbb87b90d00>]"
            ]
          },
          "metadata": {},
          "execution_count": 22
        },
        {
          "output_type": "display_data",
          "data": {
            "text/plain": [
              "<Figure size 640x480 with 1 Axes>"
            ],
            "image/png": "[encoded data removed]"
          },
          "metadata": {}
        }
      ],
      "source": [
        "plt.plot([epsilon_by_frame(i) for i in range(10000)])"
      ]
    },
    {
      "cell_type": "markdown",
      "metadata": {
        "id": "c6A-SD0_IbK7"
      },
      "source": [
        "## Deep Q Network"
      ]
    },
    {
      "cell_type": "code",
      "execution_count": 49,
      "metadata": {
        "id": "p4vsG_e3IbK7"
      },
      "outputs": [],
      "source": [
        "class DQN(nn.Module):\n",
        "    def __init__(self, num_inputs, num_actions, n_step=3, gamma=0.99):\n",
        "        super(DQN, self).__init__()\n",
        "\n",
        "        self.layers = nn.Sequential(\n",
        "            nn.Linear(env.observation_space.shape[0], 128),\n",
        "            nn.ReLU(),\n",
        "            nn.Linear(128, 128),\n",
        "            nn.ReLU(),\n",
        "            nn.Linear(128, env.action_space.n)\n",
        "        )\n",
        "\n",
        "\n",
        "        self.optimizer = optim.Adam(self.parameters())\n",
        "        self.n_step = n_step\n",
        "        self.gamma = gamma\n",
        "\n",
        "        self.replay_buffer = ReplayBufferNStep(1000, n_step=n_step, gamma=gamma)\n",
        "        self.batch_size = 32\n",
        "\n",
        "    # This method defines the epsilon value. It started with 1.0 and it decays until 0.01 value\n",
        "    def get_epsilon_value(self, frame_idx):\n",
        "      epsilon_start = 1.0\n",
        "      epsilon_final = 0.01\n",
        "      epsilon_decay = 500\n",
        "\n",
        "      epsilon = lambda frame_idx: epsilon_final + (epsilon_start - epsilon_final) * math.exp(-1. * frame_idx / epsilon_decay)\n",
        "      return epsilon(frame_idx)\n",
        "\n",
        "    # This method computes output Tensors from input Tensors. That is, given an state it returns an array with q(s,a) values for all actions\n",
        "    def forward(self, x):\n",
        "        return self.layers(x)\n",
        "\n",
        "    # Given a state and epsilon value, this method returns an action following epsilon-greedy\n",
        "    def act(self, state, epsilon):\n",
        "        if random.random() > epsilon:\n",
        "            state   = Variable(torch.FloatTensor(state).unsqueeze(0), requires_grad=False)\n",
        "            q_value = self.forward(state)\n",
        "            action  = q_value.max(1)[1].item()\n",
        "        else:\n",
        "            action = random.randrange(env.action_space.n)\n",
        "        return action\n",
        "\n",
        "    # Given a model, it copyes the current model on it.\n",
        "    def update_target(self, target_model):\n",
        "      target_model.load_state_dict(self.state_dict())\n",
        "\n",
        "    # This method updates the weights\n",
        "    # It is solved using tensors\n",
        "    # def compute_td_loss(self, target_model):\n",
        "    #   state, action, reward, next_state, done = self.replay_buffer.sample(self.batch_size)\n",
        "\n",
        "    #   state      = Variable(torch.FloatTensor(np.float32(state)))\n",
        "    #   next_state = Variable(torch.FloatTensor(np.float32(next_state)))\n",
        "    #   action     = Variable(torch.LongTensor(action))\n",
        "    #   reward     = Variable(torch.FloatTensor(reward))\n",
        "    #   done       = Variable(torch.FloatTensor(done))\n",
        "\n",
        "    #   q_values      = self.forward(state)\n",
        "    #   next_q_values = self.forward(next_state)\n",
        "    #   next_q_state_values = target_model(next_state)\n",
        "\n",
        "    #   q_value       = q_values.gather(1, action.unsqueeze(1)).squeeze(1)\n",
        "    #   next_q_value = next_q_state_values.gather(1, torch.max(next_q_values, 1)[1].unsqueeze(1)).squeeze(1)\n",
        "    #   #next_q_value = next_q_state_values.max(1)[0]\n",
        "    #   expected_q_value = reward + self.gamma * next_q_value * (1 - done)\n",
        "\n",
        "    #   loss = (q_value - Variable(expected_q_value.data)).pow(2).mean()\n",
        "\n",
        "    #   self.optimizer.zero_grad()\n",
        "    #   loss.backward()\n",
        "    #   self.optimizer.step()\n",
        "\n",
        "    #   return loss\n",
        "\n",
        "    # TODO\n",
        "    # This method updates the weights\n",
        "    def compute_td_loss_our(self, target_model):\n",
        "      # Obtain a mini_batch to train the weights.\n",
        "      # state, action, reward, next_state and done are numpy arrays, each position corresponds to one experience\n",
        "      state, action, reward, next_state, done = self.replay_buffer.sample(self.batch_size)\n",
        "\n",
        "      # Convert those numpy arrays to tensors. It is neccesary to work with Pytorch\n",
        "      states_tensor      = Variable(torch.FloatTensor(np.float32(state)))       # current_state S\n",
        "      actions_tensor     = Variable(torch.LongTensor(action))                   # action A\n",
        "      next_states_tensor = Variable(torch.FloatTensor(np.float32(next_state)))  # next_state S'\n",
        "\n",
        "      # The approximated q_values of each current state\n",
        "      q_values_tensor      = self.forward(states_tensor) # Q(S, A, W)\n",
        "\n",
        "      # The approximated q_values of each next state calculated with the current_model and the target_model\n",
        "      next_q_values_current_model_tensor = self.forward(next_states_tensor) # Q(S', A', W)\n",
        "      next_q_values_target_model_tensor = target_model.forward(next_states_tensor) # Q(S', A', W')\n",
        "\n",
        "      # Convert the approximated next_states' q_values to numpy array. We are going to work with these arrays\n",
        "      next_q_values_current_model = next_q_values_current_model_tensor.detach().numpy();\n",
        "      next_q_values_target_model = next_q_values_target_model_tensor.detach().numpy();\n",
        "      expected_q_value = np.zeros(self.batch_size)\n",
        "\n",
        "      # TODO\n",
        "      # input: next_q_values_current_model is a numpy array. In each element are stored all the approximated q values for the next state calculated with the current_model\n",
        "      # input: next_q_values_target_model is a numpy array. In each element are stored all the approximated q values for the next state calculated with the target_model\n",
        "      # input: reward is a numpy array with the rewards obtained in each experience of the mini_batch (batch_size)\n",
        "      # output: expected_q_value is a numpy array. You have to store in each position the target value of each experience using next_q_values_target_model and reward elements\n",
        "      # note: all these numpy arrays has the same length: the length of the mini_batch (batch_size)\n",
        "      #\n",
        "      # for all the elements on the batch size\n",
        "      #  calculate the target expected value and store in expected_q_value\n",
        "\n",
        "      for i in range(self.batch_size):\n",
        "        next_q_value = 0\n",
        "        if not(done[i]):\n",
        "          next_q_value = max(next_q_values_target_model[i])\n",
        "\n",
        "          # with current model\n",
        "          #next_q_value = max(next_q_values_current_model[i])\n",
        "\n",
        "          # with current model action and target model approximation\n",
        "          #next_action = np.argmax(next_q_values_current_model[i])\n",
        "          #next_q_value = next_q_values_target_model[i][next_action]\n",
        "\n",
        "        expected_q_value[i] = reward[i] + self.gamma*next_q_value\n",
        "\n",
        "      # END TODO\n",
        "\n",
        "      # Prepare data for the loss function\n",
        "      q_value = q_values_tensor.gather(1, actions_tensor.unsqueeze(1)).squeeze(1)\n",
        "      expected_q_values = torch.tensor(expected_q_value)\n",
        "\n",
        "      # Loss function: to know how good the weights are\n",
        "      lossMSE = nn.MSELoss()\n",
        "      loss = lossMSE(q_value.float(), expected_q_values.float())\n",
        "\n",
        "      # Based on the results of the loss function, the weights are updated with gradient descent\n",
        "      self.optimizer.zero_grad()\n",
        "      loss.backward()\n",
        "      self.optimizer.step()\n",
        "\n",
        "      return loss\n",
        "\n",
        "    # TODO\n",
        "    # Method to train the agent\n",
        "    def train(self, env):\n",
        "      num_frames = 25000\n",
        "      losses = []\n",
        "      all_rewards = []\n",
        "      episode_reward = 0\n",
        "      target_model  = DQN(env.observation_space.shape[0], env.action_space.n)\n",
        "      state, info = env.reset()\n",
        "\n",
        "      # TODO\n",
        "      # replay buffer attribute is empty\n",
        "      # for each frame\n",
        "      #   get current epsilon\n",
        "      #   get action following epsilon greedy\n",
        "      #   get next_state and reward\n",
        "      #   add new experience to the replay buffer\n",
        "      #   update state\n",
        "      #   update episode total reward\n",
        "      #   if done\n",
        "      #     reset environment\n",
        "      #     append the episode total reward to all_rewards array\n",
        "      #     set episode total reward to 0\n",
        "      #   if experience replay has more elements than batch_size\n",
        "      #     update the weights\n",
        "      #   every 100 frames update the target model\n",
        "\n",
        "      for frame_idx in range(1, num_frames + 1):\n",
        "          epsilon = self.get_epsilon_value(frame_idx)\n",
        "          action = self.act(state, epsilon)\n",
        "\n",
        "          next_state, reward, done, truncated, info = env.step(action)\n",
        "          self.replay_buffer.push(state, action, reward, next_state, done)\n",
        "\n",
        "          state = next_state\n",
        "          episode_reward += reward\n",
        "\n",
        "          if done or truncated:\n",
        "              state, info = env.reset()\n",
        "              all_rewards.append(episode_reward)\n",
        "              episode_reward = 0\n",
        "\n",
        "          if len(current_model.replay_buffer) > self.batch_size:\n",
        "              loss = self.compute_td_loss_our(target_model)\n",
        "              losses.append(loss.data)\n",
        "\n",
        "          # to visualize how the agent is learning\n",
        "          if frame_idx % 200 == 0:\n",
        "              plot(frame_idx, all_rewards)\n",
        "\n",
        "          if frame_idx % 100 == 0:\n",
        "              self.update_target(target_model)\n",
        "\n",
        "    # This method runs one episode and generates a video to observe the result\n",
        "    def test(self,env):\n",
        "        video_folder=\"videos\"\n",
        "\n",
        "        remove_videos(video_folder=video_folder)\n",
        "\n",
        "        # we are going to work over envVideo.\n",
        "        envVideo = gymnasium.wrappers.RecordVideo(env, video_folder=video_folder)\n",
        "\n",
        "        done = False #It is used to control if the episode is finished, if it is finished the environment must be reset\n",
        "        state, info = envVideo.reset()\n",
        "\n",
        "        total_reward = 0\n",
        "        while not(done):\n",
        "            action = self.act(state, 0)\n",
        "            next_state, reward, done, truncated, info = envVideo.step(action)\n",
        "            state = next_state\n",
        "            total_reward +=reward\n",
        "            if done or truncated:\n",
        "              break\n",
        "        envVideo.close()\n",
        "        print(\"rew: \", total_reward)\n",
        "        show_all_videos(video_folder=video_folder)\n",
        "\n"
      ]
    },
    {
      "cell_type": "markdown",
      "metadata": {
        "id": "ynxAQEvLmC6R"
      },
      "source": [
        "### Train the agent"
      ]
    },
    {
      "cell_type": "code",
      "execution_count": 50,
      "metadata": {
        "colab": {
          "base_uri": "https://localhost:8080/",
          "height": 468
        },
        "id": "uQO4hDUn2vUa",
        "outputId": "fa75f91a-efc7-460d-bc5f-5d38fb303dc7"
      },
      "outputs": [
        {
          "output_type": "display_data",
          "data": {
            "text/plain": [
              "<Figure size 2000x500 with 1 Axes>"
            ],
            "image/png": "[encoded data removed]"
          },
          "metadata": {}
        }
      ],
      "source": [
        "current_model = DQN(env.observation_space.shape[0], env.action_space.n)\n",
        "current_model.train(env)"
      ]
    },
    {
      "cell_type": "markdown",
      "metadata": {
        "id": "WoZsHTkFl7Jq"
      },
      "source": [
        "### Test the agent"
      ]
    },
    {
      "cell_type": "code",
      "execution_count": 51,
      "metadata": {
        "id": "YIVpEbfR4pVO",
        "colab": {
          "base_uri": "https://localhost:8080/",
          "height": 571
        },
        "outputId": "4bc25714-3ff8-40b7-aec7-8872d2b22bef"
      },
      "outputs": [
        {
          "output_type": "stream",
          "name": "stderr",
          "text": [
            "/usr/local/lib/python3.10/dist-packages/moviepy/config_defaults.py:1: DeprecationWarning: invalid escape sequence '\\P'\n",
            "  \"\"\"\n",
            "/usr/local/lib/python3.10/dist-packages/pygame/pkgdata.py:25: DeprecationWarning: pkg_resources is deprecated as an API. See https://setuptools.pypa.io/en/latest/pkg_resources.html\n",
            "  from pkg_resources import resource_stream, resource_exists\n",
            "/usr/local/lib/python3.10/dist-packages/pkg_resources/__init__.py:3154: DeprecationWarning: Deprecated call to `pkg_resources.declare_namespace('google')`.\n",
            "Implementing implicit namespace packages (as specified in PEP 420) is preferred to `pkg_resources.declare_namespace`. See https://setuptools.pypa.io/en/latest/references/keywords.html#keyword-namespace-packages\n",
            "  declare_namespace(pkg)\n",
            "/usr/local/lib/python3.10/dist-packages/pkg_resources/__init__.py:3154: DeprecationWarning: Deprecated call to `pkg_resources.declare_namespace('google.cloud')`.\n",
            "Implementing implicit namespace packages (as specified in PEP 420) is preferred to `pkg_resources.declare_namespace`. See https://setuptools.pypa.io/en/latest/references/keywords.html#keyword-namespace-packages\n",
            "  declare_namespace(pkg)\n",
            "/usr/local/lib/python3.10/dist-packages/pkg_resources/__init__.py:3154: DeprecationWarning: Deprecated call to `pkg_resources.declare_namespace('sphinxcontrib')`.\n",
            "Implementing implicit namespace packages (as specified in PEP 420) is preferred to `pkg_resources.declare_namespace`. See https://setuptools.pypa.io/en/latest/references/keywords.html#keyword-namespace-packages\n",
            "  declare_namespace(pkg)\n"
          ]
        },
        {
          "output_type": "stream",
          "name": "stdout",
          "text": [
            "rew:  200.0\n",
            "files:  ['videos/rl-video-episode-0.mp4']\n"
          ]
        },
        {
          "output_type": "display_data",
          "data": {
            "text/plain": [
              "<IPython.core.display.HTML object>"
            ],
            "text/html": [
              "\n",
              "        <video width=\"320\" height=\"240\" alt=\"test\" controls>\n",
              "        <source src=\"data:video/mp4;base64,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\" type=\"video/mp4\"/>\n",
              "        </video>\n",
              "        "
            ]
          },
          "metadata": {}
        },
        {
          "output_type": "stream",
          "name": "stdout",
          "text": [
            "Played: videos/rl-video-episode-0.mp4\n"
          ]
        }
      ],
      "source": [
        "current_model.test(env)"
      ]
    }
  ],
  "metadata": {
    "colab": {
      "provenance": [],
      "include_colab_link": true
    },
    "gpuClass": "standard",
    "kernelspec": {
      "display_name": "Python 3",
      "language": "python",
      "name": "python3"
    },
    "language_info": {
      "codemirror_mode": {
        "name": "ipython",
        "version": 3
      },
      "file_extension": ".py",
      "mimetype": "text/x-python",
      "name": "python",
      "nbconvert_exporter": "python",
      "pygments_lexer": "ipython3",
      "version": "3.6.8"
    }
  },
  "nbformat": 4,
  "nbformat_minor": 0
}