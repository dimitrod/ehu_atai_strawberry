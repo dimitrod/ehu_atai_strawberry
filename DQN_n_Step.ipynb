{
  "cells": [
    {
      "cell_type": "markdown",
      "metadata": {
        "id": "view-in-github",
        "colab_type": "text"
      },
      "source": [
        "<a href=\"https://colab.research.google.com/github/dimitrod/ehu_atai_strawberry/blob/main/DQN_n_Step.ipynb\" target=\"_parent\"><img src=\"https://colab.research.google.com/assets/colab-badge.svg\" alt=\"Open In Colab\"/></a>"
      ]
    },
    {
      "cell_type": "markdown",
      "metadata": {
        "id": "7p-FkdaHOISM"
      },
      "source": [
        "# **Initialization**"
      ]
    },
    {
      "cell_type": "markdown",
      "metadata": {
        "id": "VzfboO1QP_Uw"
      },
      "source": [
        "## Install dependencies"
      ]
    },
    {
      "cell_type": "code",
      "execution_count": null,
      "metadata": {
        "colab": {
          "base_uri": "https://localhost:8080/"
        },
        "id": "mt4fLrG2Puzd",
        "outputId": "154c1654-4906-4fab-c383-5a59a1a7fe05"
      },
      "outputs": [
        {
          "output_type": "stream",
          "name": "stdout",
          "text": [
            "\r0% [Working]\r            \rGet:1 https://developer.download.nvidia.com/compute/cuda/repos/ubuntu2204/x86_64  InRelease [1,581 B]\n",
            "Get:2 https://cloud.r-project.org/bin/linux/ubuntu jammy-cran40/ InRelease [3,626 B]\n",
            "Get:3 https://r2u.stat.illinois.edu/ubuntu jammy InRelease [6,555 B]\n",
            "Hit:4 http://archive.ubuntu.com/ubuntu jammy InRelease\n",
            "Get:5 https://developer.download.nvidia.com/compute/cuda/repos/ubuntu2204/x86_64  Packages [1,192 kB]\n",
            "Get:6 http://security.ubuntu.com/ubuntu jammy-security InRelease [129 kB]\n",
            "Get:7 http://archive.ubuntu.com/ubuntu jammy-updates InRelease [128 kB]\n",
            "Hit:8 https://ppa.launchpadcontent.net/deadsnakes/ppa/ubuntu jammy InRelease\n",
            "Get:9 https://r2u.stat.illinois.edu/ubuntu jammy/main amd64 Packages [2,624 kB]\n",
            "Hit:10 https://ppa.launchpadcontent.net/graphics-drivers/ppa/ubuntu jammy InRelease\n",
            "Hit:11 https://ppa.launchpadcontent.net/ubuntugis/ppa/ubuntu jammy InRelease\n",
            "Get:12 http://archive.ubuntu.com/ubuntu jammy-backports InRelease [127 kB]\n",
            "Get:13 https://r2u.stat.illinois.edu/ubuntu jammy/main all Packages [8,525 kB]\n",
            "Get:14 http://security.ubuntu.com/ubuntu jammy-security/universe amd64 Packages [1,225 kB]\n",
            "Get:15 http://archive.ubuntu.com/ubuntu jammy-updates/restricted amd64 Packages [3,446 kB]\n",
            "Get:16 http://security.ubuntu.com/ubuntu jammy-security/main amd64 Packages [2,454 kB]\n",
            "Get:17 http://archive.ubuntu.com/ubuntu jammy-updates/universe amd64 Packages [1,514 kB]\n",
            "Get:18 http://archive.ubuntu.com/ubuntu jammy-updates/main amd64 Packages [2,738 kB]\n",
            "Get:19 http://archive.ubuntu.com/ubuntu jammy-updates/multiverse amd64 Packages [53.3 kB]\n",
            "Fetched 24.2 MB in 3s (7,077 kB/s)\n",
            "Reading package lists... Done\n",
            "W: Skipping acquire of configured file 'main/source/Sources' as repository 'https://r2u.stat.illinois.edu/ubuntu jammy InRelease' does not seem to provide it (sources.list entry misspelt?)\n",
            "Reading package lists... Done\n",
            "Building dependency tree... Done\n",
            "Reading state information... Done\n",
            "\u001b[1;31mE: \u001b[0mUnable to locate package python-opengl\u001b[0m\n",
            "Reading package lists... Done\n",
            "Building dependency tree... Done\n",
            "Reading state information... Done\n",
            "ffmpeg is already the newest version (7:4.4.2-0ubuntu0.22.04.1).\n",
            "0 upgraded, 0 newly installed, 0 to remove and 50 not upgraded.\n",
            "Reading package lists... Done\n",
            "Building dependency tree... Done\n",
            "Reading state information... Done\n",
            "The following additional packages will be installed:\n",
            "  libfontenc1 libxfont2 libxkbfile1 x11-xkb-utils xfonts-base xfonts-encodings xfonts-utils\n",
            "  xserver-common\n",
            "The following NEW packages will be installed:\n",
            "  libfontenc1 libxfont2 libxkbfile1 x11-xkb-utils xfonts-base xfonts-encodings xfonts-utils\n",
            "  xserver-common xvfb\n",
            "0 upgraded, 9 newly installed, 0 to remove and 50 not upgraded.\n",
            "Need to get 7,815 kB of archives.\n",
            "After this operation, 11.9 MB of additional disk space will be used.\n",
            "Get:1 http://archive.ubuntu.com/ubuntu jammy/main amd64 libfontenc1 amd64 1:1.1.4-1build3 [14.7 kB]\n",
            "Get:2 http://archive.ubuntu.com/ubuntu jammy/main amd64 libxfont2 amd64 1:2.0.5-1build1 [94.5 kB]\n",
            "Get:3 http://archive.ubuntu.com/ubuntu jammy/main amd64 libxkbfile1 amd64 1:1.1.0-1build3 [71.8 kB]\n",
            "Get:4 http://archive.ubuntu.com/ubuntu jammy/main amd64 x11-xkb-utils amd64 7.7+5build4 [172 kB]\n",
            "Get:5 http://archive.ubuntu.com/ubuntu jammy/main amd64 xfonts-encodings all 1:1.0.5-0ubuntu2 [578 kB]\n",
            "Get:6 http://archive.ubuntu.com/ubuntu jammy/main amd64 xfonts-utils amd64 1:7.7+6build2 [94.6 kB]\n",
            "Get:7 http://archive.ubuntu.com/ubuntu jammy/main amd64 xfonts-base all 1:1.0.5 [5,896 kB]\n",
            "Get:8 http://archive.ubuntu.com/ubuntu jammy-updates/main amd64 xserver-common all 2:21.1.4-2ubuntu1.7~22.04.12 [28.7 kB]\n",
            "Get:9 http://archive.ubuntu.com/ubuntu jammy-updates/universe amd64 xvfb amd64 2:21.1.4-2ubuntu1.7~22.04.12 [864 kB]\n",
            "Fetched 7,815 kB in 1s (5,505 kB/s)\n",
            "Selecting previously unselected package libfontenc1:amd64.\n",
            "(Reading database ... 123632 files and directories currently installed.)\n",
            "Preparing to unpack .../0-libfontenc1_1%3a1.1.4-1build3_amd64.deb ...\n",
            "Unpacking libfontenc1:amd64 (1:1.1.4-1build3) ...\n",
            "Selecting previously unselected package libxfont2:amd64.\n",
            "Preparing to unpack .../1-libxfont2_1%3a2.0.5-1build1_amd64.deb ...\n",
            "Unpacking libxfont2:amd64 (1:2.0.5-1build1) ...\n",
            "Selecting previously unselected package libxkbfile1:amd64.\n",
            "Preparing to unpack .../2-libxkbfile1_1%3a1.1.0-1build3_amd64.deb ...\n",
            "Unpacking libxkbfile1:amd64 (1:1.1.0-1build3) ...\n",
            "Selecting previously unselected package x11-xkb-utils.\n",
            "Preparing to unpack .../3-x11-xkb-utils_7.7+5build4_amd64.deb ...\n",
            "Unpacking x11-xkb-utils (7.7+5build4) ...\n",
            "Selecting previously unselected package xfonts-encodings.\n",
            "Preparing to unpack .../4-xfonts-encodings_1%3a1.0.5-0ubuntu2_all.deb ...\n",
            "Unpacking xfonts-encodings (1:1.0.5-0ubuntu2) ...\n",
            "Selecting previously unselected package xfonts-utils.\n",
            "Preparing to unpack .../5-xfonts-utils_1%3a7.7+6build2_amd64.deb ...\n",
            "Unpacking xfonts-utils (1:7.7+6build2) ...\n",
            "Selecting previously unselected package xfonts-base.\n",
            "Preparing to unpack .../6-xfonts-base_1%3a1.0.5_all.deb ...\n",
            "Unpacking xfonts-base (1:1.0.5) ...\n",
            "Selecting previously unselected package xserver-common.\n",
            "Preparing to unpack .../7-xserver-common_2%3a21.1.4-2ubuntu1.7~22.04.12_all.deb ...\n",
            "Unpacking xserver-common (2:21.1.4-2ubuntu1.7~22.04.12) ...\n",
            "Selecting previously unselected package xvfb.\n",
            "Preparing to unpack .../8-xvfb_2%3a21.1.4-2ubuntu1.7~22.04.12_amd64.deb ...\n",
            "Unpacking xvfb (2:21.1.4-2ubuntu1.7~22.04.12) ...\n",
            "Setting up libfontenc1:amd64 (1:1.1.4-1build3) ...\n",
            "Setting up xfonts-encodings (1:1.0.5-0ubuntu2) ...\n",
            "Setting up libxkbfile1:amd64 (1:1.1.0-1build3) ...\n",
            "Setting up libxfont2:amd64 (1:2.0.5-1build1) ...\n",
            "Setting up x11-xkb-utils (7.7+5build4) ...\n",
            "Setting up xfonts-utils (1:7.7+6build2) ...\n",
            "Setting up xfonts-base (1:1.0.5) ...\n",
            "Setting up xserver-common (2:21.1.4-2ubuntu1.7~22.04.12) ...\n",
            "Setting up xvfb (2:21.1.4-2ubuntu1.7~22.04.12) ...\n",
            "Processing triggers for man-db (2.10.2-1) ...\n",
            "Processing triggers for fontconfig (2.13.1-4.2ubuntu5) ...\n",
            "Processing triggers for libc-bin (2.35-0ubuntu3.4) ...\n",
            "/sbin/ldconfig.real: /usr/local/lib/libtbbmalloc.so.2 is not a symbolic link\n",
            "\n",
            "/sbin/ldconfig.real: /usr/local/lib/libtbbbind.so.3 is not a symbolic link\n",
            "\n",
            "/sbin/ldconfig.real: /usr/local/lib/libtcm.so.1 is not a symbolic link\n",
            "\n",
            "/sbin/ldconfig.real: /usr/local/lib/libur_adapter_opencl.so.0 is not a symbolic link\n",
            "\n",
            "/sbin/ldconfig.real: /usr/local/lib/libur_adapter_level_zero.so.0 is not a symbolic link\n",
            "\n",
            "/sbin/ldconfig.real: /usr/local/lib/libtbbmalloc_proxy.so.2 is not a symbolic link\n",
            "\n",
            "/sbin/ldconfig.real: /usr/local/lib/libtbbbind_2_0.so.3 is not a symbolic link\n",
            "\n",
            "/sbin/ldconfig.real: /usr/local/lib/libtbb.so.12 is not a symbolic link\n",
            "\n",
            "/sbin/ldconfig.real: /usr/local/lib/libhwloc.so.15 is not a symbolic link\n",
            "\n",
            "/sbin/ldconfig.real: /usr/local/lib/libtcm_debug.so.1 is not a symbolic link\n",
            "\n",
            "/sbin/ldconfig.real: /usr/local/lib/libtbbbind_2_5.so.3 is not a symbolic link\n",
            "\n",
            "/sbin/ldconfig.real: /usr/local/lib/libur_loader.so.0 is not a symbolic link\n",
            "\n",
            "/sbin/ldconfig.real: /usr/local/lib/libumf.so.0 is not a symbolic link\n",
            "\n",
            "Collecting PyVirtualDisplay==3.0\n",
            "  Downloading PyVirtualDisplay-3.0-py3-none-any.whl.metadata (943 bytes)\n",
            "Downloading PyVirtualDisplay-3.0-py3-none-any.whl (15 kB)\n",
            "Installing collected packages: PyVirtualDisplay\n",
            "Successfully installed PyVirtualDisplay-3.0\n",
            "Collecting gymnasium[classic_control]\n",
            "  Downloading gymnasium-1.0.0-py3-none-any.whl.metadata (9.5 kB)\n",
            "Requirement already satisfied: numpy>=1.21.0 in /usr/local/lib/python3.10/dist-packages (from gymnasium[classic_control]) (1.26.4)\n",
            "Requirement already satisfied: cloudpickle>=1.2.0 in /usr/local/lib/python3.10/dist-packages (from gymnasium[classic_control]) (3.1.0)\n",
            "Requirement already satisfied: typing-extensions>=4.3.0 in /usr/local/lib/python3.10/dist-packages (from gymnasium[classic_control]) (4.12.2)\n",
            "Collecting farama-notifications>=0.0.1 (from gymnasium[classic_control])\n",
            "  Downloading Farama_Notifications-0.0.4-py3-none-any.whl.metadata (558 bytes)\n",
            "Requirement already satisfied: pygame>=2.1.3 in /usr/local/lib/python3.10/dist-packages (from gymnasium[classic_control]) (2.6.1)\n",
            "Downloading Farama_Notifications-0.0.4-py3-none-any.whl (2.5 kB)\n",
            "Downloading gymnasium-1.0.0-py3-none-any.whl (958 kB)\n",
            "\u001b[2K   \u001b[90m━━━━━━━━━━━━━━━━━━━━━━━━━━━━━━━━━━━━━━━━\u001b[0m \u001b[32m958.1/958.1 kB\u001b[0m \u001b[31m12.9 MB/s\u001b[0m eta \u001b[36m0:00:00\u001b[0m\n",
            "\u001b[?25hInstalling collected packages: farama-notifications, gymnasium\n",
            "Successfully installed farama-notifications-0.0.4 gymnasium-1.0.0\n"
          ]
        }
      ],
      "source": [
        "import sys\n",
        "IN_COLAB = \"google.colab\" in sys.modules\n",
        "\n",
        "if IN_COLAB:\n",
        "    !apt-get update\n",
        "    !apt install python-opengl\n",
        "    !apt install ffmpeg\n",
        "    !apt install xvfb\n",
        "    !pip install PyVirtualDisplay==3.0\n",
        "    !pip install gymnasium[classic_control]\n",
        "    from pyvirtualdisplay import Display\n",
        "\n",
        "    # Start virtual display\n",
        "    dis = Display(visible=0, size=(400, 400))\n",
        "    dis.start()"
      ]
    },
    {
      "cell_type": "markdown",
      "metadata": {
        "id": "sHmjyfGJOTsV"
      },
      "source": [
        "## Import Dependencies"
      ]
    },
    {
      "cell_type": "code",
      "execution_count": null,
      "metadata": {
        "id": "GJ7ASlptVUES"
      },
      "outputs": [],
      "source": [
        "import os\n",
        "from typing import Dict, List, Tuple\n",
        "import math, random\n",
        "\n",
        "import gym\n",
        "import gymnasium as gymnasium\n",
        "import numpy as np\n",
        "import matplotlib.pyplot as plt\n",
        "%matplotlib inline\n",
        "\n",
        "\n",
        "import base64\n",
        "import glob\n",
        "import io\n",
        "import os\n",
        "\n",
        "\n",
        "import torch\n",
        "import torch.nn as nn\n",
        "import torch.optim as optim\n",
        "import torch.autograd as autograd\n",
        "import torch.nn.functional as F\n",
        "\n",
        "\n",
        "from IPython.display import HTML, display, clear_output\n",
        "\n"
      ]
    },
    {
      "cell_type": "markdown",
      "metadata": {
        "id": "Eqs9Zs6rOZhy"
      },
      "source": [
        "#**Implementation**"
      ]
    },
    {
      "cell_type": "markdown",
      "metadata": {
        "id": "GaC0tjzZS6hG"
      },
      "source": [
        "## **Show recorded video**\n",
        "The following functions are used in order to show in a video the obtained results"
      ]
    },
    {
      "cell_type": "code",
      "execution_count": null,
      "metadata": {
        "id": "4qPbPwvooax1",
        "colab": {
          "base_uri": "https://localhost:8080/"
        },
        "outputId": "4746e1d6-53d8-4dc9-f3c4-57d4baf747f5"
      },
      "outputs": [
        {
          "output_type": "stream",
          "name": "stderr",
          "text": [
            "/usr/local/lib/python3.10/dist-packages/ipykernel/ipkernel.py:283: DeprecationWarning: `should_run_async` will not call `transform_cell` automatically in the future. Please pass the result to `transformed_cell` argument and any exception that happen during thetransform in `preprocessing_exc_tuple` in IPython 7.17 and above.\n",
            "  and should_run_async(code)\n"
          ]
        }
      ],
      "source": [
        "def ipython_show_video(path: str) -> None:\n",
        "    \"\"\"Show a video at `path` within IPython Notebook.\"\"\"\n",
        "    if not os.path.isfile(path):\n",
        "        raise NameError(\"Cannot access: {}\".format(path))\n",
        "\n",
        "    video = io.open(path, \"r+b\").read()\n",
        "    encoded = base64.b64encode(video)\n",
        "\n",
        "    display(HTML(\n",
        "        data=\"\"\"\n",
        "        <video width=\"320\" height=\"240\" alt=\"test\" controls>\n",
        "        <source src=\"data:video/mp4;base64,{0}\" type=\"video/mp4\"/>\n",
        "        </video>\n",
        "        \"\"\".format(encoded.decode(\"ascii\"))\n",
        "    ))\n",
        "\n",
        "def remove_videos (video_folder: str):\n",
        "    list_of_files = glob.glob(os.path.join(video_folder, \"*.mp4\"))\n",
        "    for video in list_of_files:\n",
        "      try:\n",
        "          os.remove(video)\n",
        "      except:\n",
        "          print(\"Error while deleting file : \", video)\n",
        "\n",
        "def show_latest_video(video_folder: str) -> str:\n",
        "    \"\"\"Show the most recently recorded video from video folder.\"\"\"\n",
        "    list_of_files = glob.glob(os.path.join(video_folder, \"*.mp4\"))\n",
        "    print(\"files: \", list_of_files )\n",
        "    latest_file = max(list_of_files, key=os.path.getctime)\n",
        "    ipython_show_video(latest_file)\n",
        "    return latest_file\n",
        "\n",
        "def show_all_videos(video_folder: str) -> str:\n",
        "    \"\"\"Show all the videos recorded.\"\"\"\n",
        "    list_of_files = glob.glob(os.path.join(video_folder, \"*.mp4\"))\n",
        "    print(\"files: \", list_of_files )\n",
        "    for video in list_of_files:\n",
        "      ipython_show_video(video)\n",
        "    print(\"Played:\", video)\n"
      ]
    },
    {
      "cell_type": "markdown",
      "metadata": {
        "id": "PZzMzzVmIbKz"
      },
      "source": [
        "## Autograd Variable"
      ]
    },
    {
      "cell_type": "code",
      "execution_count": null,
      "metadata": {
        "id": "HYyjk9ihIbK0"
      },
      "outputs": [],
      "source": [
        "Variable = lambda *args, **kwargs: autograd.Variable(*args, **kwargs)"
      ]
    },
    {
      "cell_type": "markdown",
      "metadata": {
        "id": "TnjlYrW5IbK0"
      },
      "source": [
        "## Replay Buffer"
      ]
    },
    {
      "cell_type": "code",
      "execution_count": null,
      "metadata": {
        "id": "45GG4TiEIbK1",
        "colab": {
          "base_uri": "https://localhost:8080/",
          "height": 454
        },
        "outputId": "81f61586-48a6-429b-b14e-4e22d1e5896e"
      },
      "outputs": [
        {
          "output_type": "stream",
          "name": "stdout",
          "text": [
            "len  0 \n",
            "rB:  deque([], maxlen=5)\n",
            "We add 8 elements but there are only  0 \n",
            "rB:  deque([], maxlen=5)\n",
            "\n",
            "After we add a new element the buffer is:  deque([], maxlen=5)\n"
          ]
        },
        {
          "output_type": "error",
          "ename": "ValueError",
          "evalue": "Not enough elements in the buffer to sample.",
          "traceback": [
            "\u001b[0;31m---------------------------------------------------------------------------\u001b[0m",
            "\u001b[0;31mValueError\u001b[0m                                Traceback (most recent call last)",
            "\u001b[0;32m<ipython-input-44-74ef22d3daf3>\u001b[0m in \u001b[0;36m<cell line: 80>\u001b[0;34m()\u001b[0m\n\u001b[1;32m     78\u001b[0m \u001b[0;34m\u001b[0m\u001b[0m\n\u001b[1;32m     79\u001b[0m \u001b[0;31m# No we are going to see are sampled some experiences\u001b[0m\u001b[0;34m\u001b[0m\u001b[0;34m\u001b[0m\u001b[0m\n\u001b[0;32m---> 80\u001b[0;31m \u001b[0mmini_batch\u001b[0m \u001b[0;34m=\u001b[0m \u001b[0mrB\u001b[0m\u001b[0;34m.\u001b[0m\u001b[0msample\u001b[0m\u001b[0;34m(\u001b[0m\u001b[0;36m2\u001b[0m\u001b[0;34m)\u001b[0m\u001b[0;34m\u001b[0m\u001b[0;34m\u001b[0m\u001b[0m\n\u001b[0m\u001b[1;32m     81\u001b[0m \u001b[0mprint\u001b[0m\u001b[0;34m(\u001b[0m\u001b[0;34m\"\\n The sampled elemenst: \"\u001b[0m\u001b[0;34m,\u001b[0m \u001b[0mmini_batch\u001b[0m \u001b[0;34m)\u001b[0m\u001b[0;34m\u001b[0m\u001b[0;34m\u001b[0m\u001b[0m\n\u001b[1;32m     82\u001b[0m \u001b[0;34m\u001b[0m\u001b[0m\n",
            "\u001b[0;32m<ipython-input-44-74ef22d3daf3>\u001b[0m in \u001b[0;36msample\u001b[0;34m(self, batch_size)\u001b[0m\n\u001b[1;32m     47\u001b[0m             \u001b[0;31m# If not enough elements, raise a ValueError or return None\u001b[0m\u001b[0;34m\u001b[0m\u001b[0;34m\u001b[0m\u001b[0m\n\u001b[1;32m     48\u001b[0m             \u001b[0;31m# You can choose the behavior that best suits your needs\u001b[0m\u001b[0;34m\u001b[0m\u001b[0;34m\u001b[0m\u001b[0m\n\u001b[0;32m---> 49\u001b[0;31m             \u001b[0;32mraise\u001b[0m \u001b[0mValueError\u001b[0m\u001b[0;34m(\u001b[0m\u001b[0;34m\"Not enough elements in the buffer to sample.\"\u001b[0m\u001b[0;34m)\u001b[0m\u001b[0;34m\u001b[0m\u001b[0;34m\u001b[0m\u001b[0m\n\u001b[0m\u001b[1;32m     50\u001b[0m             \u001b[0;31m# or\u001b[0m\u001b[0;34m\u001b[0m\u001b[0;34m\u001b[0m\u001b[0m\n\u001b[1;32m     51\u001b[0m             \u001b[0;31m# return None\u001b[0m\u001b[0;34m\u001b[0m\u001b[0;34m\u001b[0m\u001b[0m\n",
            "\u001b[0;31mValueError\u001b[0m: Not enough elements in the buffer to sample."
          ]
        }
      ],
      "source": [
        "from collections import deque\n",
        "\n",
        "class ReplayBufferNStep:\n",
        "    def __init__(self, capacity, n_step, gamma):\n",
        "        self.buffer = deque(maxlen=capacity)  # Main buffer for replay\n",
        "        self.n_step_buffer = deque(maxlen=n_step)  # Temporary n-step buffer\n",
        "        self.n_step = n_step\n",
        "        self.gamma = gamma  # Discount factor\n",
        "\n",
        "    def _calculate_n_step_return(self):\n",
        "        \"\"\"Calculate the n-step return and extract the final next state and done flag.\"\"\"\n",
        "        reward, next_state, done = 0.0, None, False\n",
        "        for idx, (_, _, r, ns, d) in enumerate(self.n_step_buffer):\n",
        "            reward += (self.gamma ** idx) * r  # Discounted reward\n",
        "            next_state = ns  # Update next_state to the last step's state\n",
        "            done = d  # Update done flag to the last step's done\n",
        "            if d:  # Stop if terminal state is encountered\n",
        "                break\n",
        "        return reward, next_state, done\n",
        "\n",
        "    def push(self, state, action, reward, next_state, done):\n",
        "        \"\"\"\n",
        "        Add a transition to the n-step buffer and store the processed n-step transition in the main buffer.\n",
        "        \"\"\"\n",
        "        state = np.expand_dims(state, 0)\n",
        "        next_state = np.expand_dims(next_state, 0)\n",
        "\n",
        "        # Add transition to n-step buffer\n",
        "        self.n_step_buffer.append((state, action, reward, next_state, done))\n",
        "\n",
        "        # If n-step buffer is full, calculate n-step return and push to the main buffer\n",
        "        if len(self.n_step_buffer) == self.n_step:\n",
        "            state, action, _, _, _ = self.n_step_buffer[0]  # Take initial state and action\n",
        "            reward, next_state, done = self._calculate_n_step_return()\n",
        "            self.buffer.append((state, action, reward, next_state, done))\n",
        "\n",
        "        # Clear the n-step buffer if terminal state is encountered\n",
        "        if done:\n",
        "            self.n_step_buffer.clear()\n",
        "\n",
        "    def sample(self, batch_size):\n",
        "        \"\"\"\n",
        "        Sample a batch of transitions from the main buffer.\n",
        "        \"\"\"\n",
        "        # Check if the buffer has enough elements for sampling\n",
        "        if len(self.buffer) < batch_size:\n",
        "            # If not enough elements, raise a ValueError or return None\n",
        "            # You can choose the behavior that best suits your needs\n",
        "            raise ValueError(\"Not enough elements in the buffer to sample.\")\n",
        "            # or\n",
        "            # return None\n",
        "\n",
        "        state, action, reward, next_state, done = zip(*random.sample(self.buffer, batch_size))\n",
        "        return (\n",
        "            np.concatenate(state),\n",
        "            action,\n",
        "            reward,\n",
        "            np.concatenate(next_state),\n",
        "            done,\n",
        "        )\n",
        "\n",
        "    def __len__(self):\n",
        "        return len(self.buffer)\n",
        "\n",
        "# We build a Replay buffer for 5 elements\n",
        "rB = ReplayBufferNStep(5, 3, 0.99)\n",
        "\n",
        "print(\"len \", len(rB), \"\\nrB: \", rB.buffer)\n",
        "\n",
        "# We are going to add 8 elements\n",
        "for i in range(8):\n",
        "  rB.push(i,i,i,i,i)\n",
        "print(\"We add 8 elements but there are only \", len(rB), \"\\nrB: \", rB.buffer)\n",
        "\n",
        "# We are going to add another value\n",
        "rB.push(10,10,10,10,10)\n",
        "print(\"\\nAfter we add a new element the buffer is: \", rB.buffer)\n",
        "\n",
        "# No we are going to see are sampled some experiences\n",
        "mini_batch = rB.sample(2)\n",
        "print(\"\\n The sampled elemenst: \", mini_batch )\n",
        "\n",
        "mini_batch = rB.sample(3)\n",
        "print(\"\\n The sampled elemenst: \", mini_batch )"
      ]
    },
    {
      "cell_type": "markdown",
      "metadata": {
        "id": "IyAYT95VwIvl"
      },
      "source": [
        "*###* Testing Replay Buffer"
      ]
    },
    {
      "cell_type": "code",
      "execution_count": null,
      "metadata": {
        "colab": {
          "base_uri": "https://localhost:8080/",
          "height": 478
        },
        "id": "B47-W5kjrEeA",
        "outputId": "97105105-a867-45ad-c37f-5d62dfc5eb09"
      },
      "outputs": [
        {
          "output_type": "stream",
          "name": "stdout",
          "text": [
            "len  0 \n",
            "rB:  deque([], maxlen=5)\n",
            "We add 8 elements but there are only  0 \n",
            "rB:  deque([], maxlen=5)\n",
            "\n",
            "After we add a new element the buffer is:  deque([], maxlen=5)\n"
          ]
        },
        {
          "output_type": "error",
          "ename": "ValueError",
          "evalue": "Sample larger than population or is negative",
          "traceback": [
            "\u001b[0;31m---------------------------------------------------------------------------\u001b[0m",
            "\u001b[0;31mValueError\u001b[0m                                Traceback (most recent call last)",
            "\u001b[0;32m<ipython-input-39-76800441e6fa>\u001b[0m in \u001b[0;36m<cell line: 16>\u001b[0;34m()\u001b[0m\n\u001b[1;32m     14\u001b[0m \u001b[0;34m\u001b[0m\u001b[0m\n\u001b[1;32m     15\u001b[0m \u001b[0;31m# No we are going to see are sampled some experiences\u001b[0m\u001b[0;34m\u001b[0m\u001b[0;34m\u001b[0m\u001b[0m\n\u001b[0;32m---> 16\u001b[0;31m \u001b[0mmini_batch\u001b[0m \u001b[0;34m=\u001b[0m \u001b[0mrB\u001b[0m\u001b[0;34m.\u001b[0m\u001b[0msample\u001b[0m\u001b[0;34m(\u001b[0m\u001b[0;36m1\u001b[0m\u001b[0;34m)\u001b[0m\u001b[0;34m\u001b[0m\u001b[0;34m\u001b[0m\u001b[0m\n\u001b[0m\u001b[1;32m     17\u001b[0m \u001b[0mprint\u001b[0m\u001b[0;34m(\u001b[0m\u001b[0;34m\"\\n The sampled elemenst: \"\u001b[0m\u001b[0;34m,\u001b[0m \u001b[0mmini_batch\u001b[0m \u001b[0;34m)\u001b[0m\u001b[0;34m\u001b[0m\u001b[0;34m\u001b[0m\u001b[0m\n\u001b[1;32m     18\u001b[0m \u001b[0;34m\u001b[0m\u001b[0m\n",
            "\u001b[0;32m<ipython-input-15-ddf0d5cca437>\u001b[0m in \u001b[0;36msample\u001b[0;34m(self, batch_size)\u001b[0m\n\u001b[1;32m     43\u001b[0m         \u001b[0mSample\u001b[0m \u001b[0ma\u001b[0m \u001b[0mbatch\u001b[0m \u001b[0mof\u001b[0m \u001b[0mtransitions\u001b[0m \u001b[0;32mfrom\u001b[0m \u001b[0mthe\u001b[0m \u001b[0mmain\u001b[0m \u001b[0mbuffer\u001b[0m\u001b[0;34m.\u001b[0m\u001b[0;34m\u001b[0m\u001b[0;34m\u001b[0m\u001b[0m\n\u001b[1;32m     44\u001b[0m         \"\"\"\n\u001b[0;32m---> 45\u001b[0;31m         \u001b[0mstate\u001b[0m\u001b[0;34m,\u001b[0m \u001b[0maction\u001b[0m\u001b[0;34m,\u001b[0m \u001b[0mreward\u001b[0m\u001b[0;34m,\u001b[0m \u001b[0mnext_state\u001b[0m\u001b[0;34m,\u001b[0m \u001b[0mdone\u001b[0m \u001b[0;34m=\u001b[0m \u001b[0mzip\u001b[0m\u001b[0;34m(\u001b[0m\u001b[0;34m*\u001b[0m\u001b[0mrandom\u001b[0m\u001b[0;34m.\u001b[0m\u001b[0msample\u001b[0m\u001b[0;34m(\u001b[0m\u001b[0mself\u001b[0m\u001b[0;34m.\u001b[0m\u001b[0mbuffer\u001b[0m\u001b[0;34m,\u001b[0m \u001b[0mbatch_size\u001b[0m\u001b[0;34m)\u001b[0m\u001b[0;34m)\u001b[0m\u001b[0;34m\u001b[0m\u001b[0;34m\u001b[0m\u001b[0m\n\u001b[0m\u001b[1;32m     46\u001b[0m         return (\n\u001b[1;32m     47\u001b[0m             \u001b[0mnp\u001b[0m\u001b[0;34m.\u001b[0m\u001b[0mconcatenate\u001b[0m\u001b[0;34m(\u001b[0m\u001b[0mstate\u001b[0m\u001b[0;34m)\u001b[0m\u001b[0;34m,\u001b[0m\u001b[0;34m\u001b[0m\u001b[0;34m\u001b[0m\u001b[0m\n",
            "\u001b[0;32m/usr/lib/python3.10/random.py\u001b[0m in \u001b[0;36msample\u001b[0;34m(self, population, k, counts)\u001b[0m\n\u001b[1;32m    480\u001b[0m         \u001b[0mrandbelow\u001b[0m \u001b[0;34m=\u001b[0m \u001b[0mself\u001b[0m\u001b[0;34m.\u001b[0m\u001b[0m_randbelow\u001b[0m\u001b[0;34m\u001b[0m\u001b[0;34m\u001b[0m\u001b[0m\n\u001b[1;32m    481\u001b[0m         \u001b[0;32mif\u001b[0m \u001b[0;32mnot\u001b[0m \u001b[0;36m0\u001b[0m \u001b[0;34m<=\u001b[0m \u001b[0mk\u001b[0m \u001b[0;34m<=\u001b[0m \u001b[0mn\u001b[0m\u001b[0;34m:\u001b[0m\u001b[0;34m\u001b[0m\u001b[0;34m\u001b[0m\u001b[0m\n\u001b[0;32m--> 482\u001b[0;31m             \u001b[0;32mraise\u001b[0m \u001b[0mValueError\u001b[0m\u001b[0;34m(\u001b[0m\u001b[0;34m\"Sample larger than population or is negative\"\u001b[0m\u001b[0;34m)\u001b[0m\u001b[0;34m\u001b[0m\u001b[0;34m\u001b[0m\u001b[0m\n\u001b[0m\u001b[1;32m    483\u001b[0m         \u001b[0mresult\u001b[0m \u001b[0;34m=\u001b[0m \u001b[0;34m[\u001b[0m\u001b[0;32mNone\u001b[0m\u001b[0;34m]\u001b[0m \u001b[0;34m*\u001b[0m \u001b[0mk\u001b[0m\u001b[0;34m\u001b[0m\u001b[0;34m\u001b[0m\u001b[0m\n\u001b[1;32m    484\u001b[0m         \u001b[0msetsize\u001b[0m \u001b[0;34m=\u001b[0m \u001b[0;36m21\u001b[0m        \u001b[0;31m# size of a small set minus size of an empty list\u001b[0m\u001b[0;34m\u001b[0m\u001b[0;34m\u001b[0m\u001b[0m\n",
            "\u001b[0;31mValueError\u001b[0m: Sample larger than population or is negative"
          ]
        }
      ],
      "source": [
        "# # We build a Replay buffer for 5 elements\n",
        "# rB = ReplayBufferNStep(5, 3, 0.99)\n",
        "\n",
        "# print(\"len \", len(rB), \"\\nrB: \", rB.buffer)\n",
        "\n",
        "# # We are going to add 8 elements\n",
        "# for i in range(25):\n",
        "#   rB.push(i,i,i,i,i)\n",
        "# print(\"We add 8 elements but there are only \", len(rB), \"\\nrB: \", rB.buffer)\n",
        "\n",
        "# # We are going to add another value\n",
        "# rB.push(10,10,10,10,10)\n",
        "# print(\"\\nAfter we add a new element the buffer is: \", rB.buffer)\n",
        "\n",
        "# # No we are going to see are sampled some experiences\n",
        "# mini_batch = rB.sample(1)\n",
        "# print(\"\\n The sampled elemenst: \", mini_batch )\n",
        "\n",
        "# mini_batch = rB.sample(3)\n",
        "# print(\"\\n The sampled elemenst: \", mini_batch )\n"
      ]
    },
    {
      "cell_type": "markdown",
      "metadata": {
        "id": "voxkftv1IbK2"
      },
      "source": [
        "## Cart Pole Environment"
      ]
    },
    {
      "cell_type": "code",
      "execution_count": null,
      "metadata": {
        "colab": {
          "base_uri": "https://localhost:8080/"
        },
        "id": "9EHbFDp6IbK4",
        "outputId": "178e9571-6ce5-41a3-beea-6449de76a959"
      },
      "outputs": [
        {
          "output_type": "stream",
          "name": "stderr",
          "text": [
            "/usr/local/lib/python3.10/dist-packages/gymnasium/envs/registration.py:517: DeprecationWarning: \u001b[33mWARN: The environment CartPole-v0 is out of date. You should consider upgrading to version `v1`.\u001b[0m\n",
            "  logger.deprecation(\n"
          ]
        }
      ],
      "source": [
        "env_id = \"CartPole-v0\"\n",
        "env = gymnasium.make(env_id, render_mode=\"rgb_array\")"
      ]
    },
    {
      "cell_type": "code",
      "execution_count": null,
      "metadata": {
        "id": "pZySBOH5IbLA"
      },
      "outputs": [],
      "source": [
        "def plot(frame_idx, rewards):\n",
        "    clear_output(True)\n",
        "    plt.figure(figsize=(20,5))\n",
        "    plt.subplot(131)\n",
        "    plt.title('frame %s. reward: %s' % (frame_idx, np.mean(rewards[-10:])))\n",
        "    plt.plot(rewards)\n",
        "    plt.show()"
      ]
    },
    {
      "cell_type": "markdown",
      "metadata": {
        "id": "h7aZ3bYgIbK4"
      },
      "source": [
        "## Epsilon greedy exploration\n",
        "Epsilon value is dynamic. It starts with 1.0 value (exploration) and little by little it is going to decay until 0.01 (exploitation)"
      ]
    },
    {
      "cell_type": "code",
      "execution_count": null,
      "metadata": {
        "id": "hZCk-i69IbK5"
      },
      "outputs": [],
      "source": [
        "epsilon_start = 1.0\n",
        "epsilon_final = 0.01\n",
        "epsilon_decay = 500\n",
        "\n",
        "epsilon_by_frame = lambda frame_idx: epsilon_final + (epsilon_start - epsilon_final) * math.exp(-1. * frame_idx / epsilon_decay)"
      ]
    },
    {
      "cell_type": "code",
      "execution_count": null,
      "metadata": {
        "colab": {
          "base_uri": "https://localhost:8080/",
          "height": 448
        },
        "id": "DKVzXtD0IbK6",
        "outputId": "52b164a8-f3cc-4c45-d035-21d7b83255ff"
      },
      "outputs": [
        {
          "output_type": "execute_result",
          "data": {
            "text/plain": [
              "[<matplotlib.lines.Line2D at 0x7b215771a4a0>]"
            ]
          },
          "metadata": {},
          "execution_count": 20
        },
        {
          "output_type": "display_data",
          "data": {
            "text/plain": [
              "<Figure size 640x480 with 1 Axes>"
            ],
            "image/png": "[encoded data removed]"
          },
          "metadata": {}
        }
      ],
      "source": [
        "plt.plot([epsilon_by_frame(i) for i in range(10000)])"
      ]
    },
    {
      "cell_type": "markdown",
      "metadata": {
        "id": "c6A-SD0_IbK7"
      },
      "source": [
        "## Deep Q Network"
      ]
    },
    {
      "cell_type": "code",
      "execution_count": null,
      "metadata": {
        "id": "p4vsG_e3IbK7"
      },
      "outputs": [],
      "source": [
        "class DQN(nn.Module):\n",
        "    def __init__(self, num_inputs, num_actions, n_step=3, gamma=0.99):\n",
        "        super(DQN, self).__init__()\n",
        "\n",
        "        self.layers = nn.Sequential(\n",
        "            nn.Linear(env.observation_space.shape[0], 128),\n",
        "            nn.ReLU(),\n",
        "            nn.Linear(128, 128),\n",
        "            nn.ReLU(),\n",
        "            nn.Linear(128, env.action_space.n)\n",
        "        )\n",
        "\n",
        "        self.optimizer = optim.Adam(self.parameters())\n",
        "        self.n_step = n_step\n",
        "        self.gamma = gamma\n",
        "\n",
        "        self.replay_buffer = ReplayBufferNStep(1000, n_step=n_step, gamma=gamma)\n",
        "        self.batch_size = 32\n",
        "\n",
        "    # This method defines the epsilon value. It started with 1.0 and it decays until 0.01 value\n",
        "    def get_epsilon_value(self, frame_idx):\n",
        "      epsilon_start = 1.0\n",
        "      epsilon_final = 0.01\n",
        "      epsilon_decay = 500\n",
        "\n",
        "      epsilon = lambda frame_idx: epsilon_final + (epsilon_start - epsilon_final) * math.exp(-1. * frame_idx / epsilon_decay)\n",
        "      return epsilon(frame_idx)\n",
        "\n",
        "    # This method computes output Tensors from input Tensors. That is, given an state it returns an array with q(s,a) values for all actions\n",
        "    def forward(self, x):\n",
        "        return self.layers(x)\n",
        "\n",
        "    # Given a state and epsilon value, this method returns an action following epsilon-greedy\n",
        "    def act(self, state, epsilon):\n",
        "        if random.random() > epsilon:\n",
        "            state   = Variable(torch.FloatTensor(state).unsqueeze(0), requires_grad=False)\n",
        "            q_value = self.forward(state)\n",
        "            action  = q_value.max(1)[1].item()\n",
        "        else:\n",
        "            action = random.randrange(env.action_space.n)\n",
        "        return action\n",
        "\n",
        "    # Given a model, it copyes the current model on it.\n",
        "    def update_target(self, target_model):\n",
        "      target_model.load_state_dict(self.state_dict())\n",
        "\n",
        "    # This method updates the weights\n",
        "    # It is solved using tensors\n",
        "    # def compute_td_loss(self, target_model):\n",
        "    #   state, action, reward, next_state, done = self.replay_buffer.sample(self.batch_size)\n",
        "\n",
        "    #   state      = Variable(torch.FloatTensor(np.float32(state)))\n",
        "    #   next_state = Variable(torch.FloatTensor(np.float32(next_state)))\n",
        "    #   action     = Variable(torch.LongTensor(action))\n",
        "    #   reward     = Variable(torch.FloatTensor(reward))\n",
        "    #   done       = Variable(torch.FloatTensor(done))\n",
        "\n",
        "    #   q_values      = self.forward(state)\n",
        "    #   next_q_values = self.forward(next_state)\n",
        "    #   next_q_state_values = target_model(next_state)\n",
        "\n",
        "    #   q_value       = q_values.gather(1, action.unsqueeze(1)).squeeze(1)\n",
        "    #   next_q_value = next_q_state_values.gather(1, torch.max(next_q_values, 1)[1].unsqueeze(1)).squeeze(1)\n",
        "    #   #next_q_value = next_q_state_values.max(1)[0]\n",
        "    #   expected_q_value = reward + self.gamma * next_q_value * (1 - done)\n",
        "\n",
        "    #   loss = (q_value - Variable(expected_q_value.data)).pow(2).mean()\n",
        "\n",
        "    #   self.optimizer.zero_grad()\n",
        "    #   loss.backward()\n",
        "    #   self.optimizer.step()\n",
        "\n",
        "    #   return loss\n",
        "\n",
        "    # TODO\n",
        "    # This method updates the weights\n",
        "    def compute_td_loss_our(self, target_model):\n",
        "      # Obtain a mini_batch to train the weights.\n",
        "      # state, action, reward, next_state and done are numpy arrays, each position corresponds to one experience\n",
        "      state, action, reward, next_state, done = self.replay_buffer.sample(self.batch_size)\n",
        "\n",
        "      # Convert those numpy arrays to tensors. It is neccesary to work with Pytorch\n",
        "      states_tensor      = Variable(torch.FloatTensor(np.float32(state)))       # current_state S\n",
        "      actions_tensor     = Variable(torch.LongTensor(action))                   # action A\n",
        "      next_states_tensor = Variable(torch.FloatTensor(np.float32(next_state)))  # next_state S'\n",
        "\n",
        "      # The approximated q_values of each current state\n",
        "      q_values_tensor      = self.forward(states_tensor) # Q(S, A, W)\n",
        "\n",
        "      # The approximated q_values of each next state calculated with the current_model and the target_model\n",
        "      next_q_values_current_model_tensor = self.forward(next_states_tensor) # Q(S', A', W)\n",
        "      next_q_values_target_model_tensor = target_model.forward(next_states_tensor) # Q(S', A', W')\n",
        "\n",
        "      # Convert the approximated next_states' q_values to numpy array. We are going to work with these arrays\n",
        "      next_q_values_current_model = next_q_values_current_model_tensor.detach().numpy();\n",
        "      next_q_values_target_model = next_q_values_target_model_tensor.detach().numpy();\n",
        "      expected_q_value = np.zeros(self.batch_size)\n",
        "\n",
        "      # TODO\n",
        "      # input: next_q_values_current_model is a numpy array. In each element are stored all the approximated q values for the next state calculated with the current_model\n",
        "      # input: next_q_values_target_model is a numpy array. In each element are stored all the approximated q values for the next state calculated with the target_model\n",
        "      # input: reward is a numpy array with the rewards obtained in each experience of the mini_batch (batch_size)\n",
        "      # output: expected_q_value is a numpy array. You have to store in each position the target value of each experience using next_q_values_target_model and reward elements\n",
        "      # note: all these numpy arrays has the same length: the length of the mini_batch (batch_size)\n",
        "      #\n",
        "      # for all the elements on the batch size\n",
        "      #  calculate the target expected value and store in expected_q_value\n",
        "\n",
        "      for i in range(self.batch_size):\n",
        "        next_q_value = 0\n",
        "        if not(done[i]):\n",
        "          next_q_value = max(next_q_values_target_model[i])\n",
        "\n",
        "          # with current model\n",
        "          #next_q_value = max(next_q_values_current_model[i])\n",
        "\n",
        "          # with current model action and target model approximation\n",
        "          #next_action = np.argmax(next_q_values_current_model[i])\n",
        "          #next_q_value = next_q_values_target_model[i][next_action]\n",
        "\n",
        "        expected_q_value[i] = reward[i] + self.gamma*next_q_value\n",
        "\n",
        "      # END TODO\n",
        "\n",
        "      # Prepare data for the loss function\n",
        "      q_value = q_values_tensor.gather(1, actions_tensor.unsqueeze(1)).squeeze(1)\n",
        "      expected_q_values = torch.tensor(expected_q_value)\n",
        "\n",
        "      # Loss function: to know how good the weights are\n",
        "      lossMSE = nn.MSELoss()\n",
        "      loss = lossMSE(q_value.float(), expected_q_values.float())\n",
        "\n",
        "      # Based on the results of the loss function, the weights are updated with gradient descent\n",
        "      self.optimizer.zero_grad()\n",
        "      loss.backward()\n",
        "      self.optimizer.step()\n",
        "\n",
        "      return loss\n",
        "\n",
        "    # TODO\n",
        "    # Method to train the agent\n",
        "    def train(self, env):\n",
        "      num_frames = 25000\n",
        "      losses = []\n",
        "      all_rewards = []\n",
        "      episode_reward = 0\n",
        "      target_model  = DQN(env.observation_space.shape[0], env.action_space.n)\n",
        "      state, info = env.reset()\n",
        "\n",
        "      # TODO\n",
        "      # replay buffer attribute is empty\n",
        "      # for each frame\n",
        "      #   get current epsilon\n",
        "      #   get action following epsilon greedy\n",
        "      #   get next_state and reward\n",
        "      #   add new experience to the replay buffer\n",
        "      #   update state\n",
        "      #   update episode total reward\n",
        "      #   if done\n",
        "      #     reset environment\n",
        "      #     append the episode total reward to all_rewards array\n",
        "      #     set episode total reward to 0\n",
        "      #   if experience replay has more elements than batch_size\n",
        "      #     update the weights\n",
        "      #   every 100 frames update the target model\n",
        "\n",
        "      for frame_idx in range(1, num_frames + 1):\n",
        "          epsilon = self.get_epsilon_value(frame_idx)\n",
        "          action = self.act(state, epsilon)\n",
        "\n",
        "          next_state, reward, done, truncated, info = env.step(action)\n",
        "          self.replay_buffer.push(state, action, reward, next_state, done)\n",
        "\n",
        "          state = next_state\n",
        "          episode_reward += reward\n",
        "\n",
        "          if done or truncated:\n",
        "              state, info = env.reset()\n",
        "              all_rewards.append(episode_reward)\n",
        "              episode_reward = 0\n",
        "\n",
        "          if len(current_model.replay_buffer) > self.batch_size:\n",
        "              loss = self.compute_td_loss_our(target_model)\n",
        "              losses.append(loss.data)\n",
        "\n",
        "          # to visualize how the agent is learning\n",
        "          if frame_idx % 200 == 0:\n",
        "              plot(frame_idx, all_rewards)\n",
        "\n",
        "          if frame_idx % 100 == 0:\n",
        "              self.update_target(target_model)\n",
        "\n",
        "    # This method runs one episode and generates a video to observe the result\n",
        "    def test(self,env):\n",
        "        video_folder=\"videos\"\n",
        "\n",
        "        remove_videos(video_folder=video_folder)\n",
        "\n",
        "        # we are going to work over envVideo.\n",
        "        envVideo = gymnasium.wrappers.RecordVideo(env, video_folder=video_folder)\n",
        "\n",
        "        done = False #It is used to control if the episode is finished, if it is finished the environment must be reset\n",
        "        state, info = envVideo.reset()\n",
        "\n",
        "        total_reward = 0\n",
        "        while not(done):\n",
        "            action = self.act(state, 0)\n",
        "            next_state, reward, done, truncated, info = envVideo.step(action)\n",
        "            state = next_state\n",
        "            total_reward +=reward\n",
        "            if done or truncated:\n",
        "              break\n",
        "        envVideo.close()\n",
        "        print(\"rew: \", total_reward)\n",
        "        show_all_videos(video_folder=video_folder)\n",
        "\n"
      ]
    },
    {
      "cell_type": "markdown",
      "metadata": {
        "id": "ynxAQEvLmC6R"
      },
      "source": [
        "### Train the agent"
      ]
    },
    {
      "cell_type": "code",
      "execution_count": null,
      "metadata": {
        "colab": {
          "base_uri": "https://localhost:8080/",
          "height": 468
        },
        "id": "uQO4hDUn2vUa",
        "outputId": "77742b0a-9e42-4c52-da4e-9c7c1cf3da08"
      },
      "outputs": [
        {
          "output_type": "display_data",
          "data": {
            "text/plain": [
              "<Figure size 2000x500 with 1 Axes>"
            ],
            "image/png": "[encoded data removed]"
          },
          "metadata": {}
        }
      ],
      "source": [
        "current_model = DQN(env.observation_space.shape[0], env.action_space.n)\n",
        "current_model.train(env)"
      ]
    },
    {
      "cell_type": "markdown",
      "metadata": {
        "id": "WoZsHTkFl7Jq"
      },
      "source": [
        "### Test the agent"
      ]
    },
    {
      "cell_type": "code",
      "execution_count": null,
      "metadata": {
        "id": "YIVpEbfR4pVO",
        "colab": {
          "base_uri": "https://localhost:8080/",
          "height": 372
        },
        "outputId": "dea051d3-d7c9-4c5f-c5de-767216aadb44"
      },
      "outputs": [
        {
          "output_type": "stream",
          "name": "stderr",
          "text": [
            "/usr/local/lib/python3.10/dist-packages/gymnasium/wrappers/rendering.py:283: UserWarning: \u001b[33mWARN: Overwriting existing videos at /content/videos folder (try specifying a different `video_folder` for the `RecordVideo` wrapper if this is not desired)\u001b[0m\n",
            "  logger.warn(\n"
          ]
        },
        {
          "output_type": "stream",
          "name": "stdout",
          "text": [
            "rew:  200.0\n",
            "files:  ['videos/rl-video-episode-0.mp4']\n"
          ]
        },
        {
          "output_type": "display_data",
          "data": {
            "text/plain": [
              "<IPython.core.display.HTML object>"
            ],
            "text/html": [
              "\n",
              "        <video width=\"320\" height=\"240\" alt=\"test\" controls>\n",
              "        <source src=\"data:video/mp4;base64,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\" type=\"video/mp4\"/>\n",
              "        </video>\n",
              "        "
            ]
          },
          "metadata": {}
        },
        {
          "output_type": "stream",
          "name": "stdout",
          "text": [
            "Played: videos/rl-video-episode-0.mp4\n"
          ]
        }
      ],
      "source": [
        "current_model.test(env)"
      ]
    }
  ],
  "metadata": {
    "colab": {
      "provenance": [],
      "include_colab_link": true
    },
    "gpuClass": "standard",
    "kernelspec": {
      "display_name": "Python 3",
      "language": "python",
      "name": "python3"
    },
    "language_info": {
      "codemirror_mode": {
        "name": "ipython",
        "version": 3
      },
      "file_extension": ".py",
      "mimetype": "text/x-python",
      "name": "python",
      "nbconvert_exporter": "python",
      "pygments_lexer": "ipython3",
      "version": "3.6.8"
    }
  },
  "nbformat": 4,
  "nbformat_minor": 0
}