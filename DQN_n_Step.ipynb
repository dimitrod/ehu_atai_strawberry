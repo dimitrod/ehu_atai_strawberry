{
  "cells": [
    {
      "cell_type": "markdown",
      "metadata": {
        "id": "view-in-github",
        "colab_type": "text"
      },
      "source": [
        "<a href=\"https://colab.research.google.com/github/dimitrod/ehu_atai_strawberry/blob/main/DQN_n_Step.ipynb\" target=\"_parent\"><img src=\"https://colab.research.google.com/assets/colab-badge.svg\" alt=\"Open In Colab\"/></a>"
      ]
    },
    {
      "cell_type": "markdown",
      "metadata": {
        "id": "7p-FkdaHOISM"
      },
      "source": [
        "# **Initialization**"
      ]
    },
    {
      "cell_type": "markdown",
      "metadata": {
        "id": "VzfboO1QP_Uw"
      },
      "source": [
        "## Install dependencies"
      ]
    },
    {
      "cell_type": "code",
      "execution_count": 1,
      "metadata": {
        "colab": {
          "base_uri": "https://localhost:8080/"
        },
        "id": "mt4fLrG2Puzd",
        "outputId": "e03f91e4-6056-442c-8c29-ffb6989ad261"
      },
      "outputs": [
        {
          "output_type": "stream",
          "name": "stdout",
          "text": [
            "\r0% [Working]\r            \rHit:1 http://archive.ubuntu.com/ubuntu jammy InRelease\n",
            "\r0% [Connecting to security.ubuntu.com (91.189.91.82)] [Waiting for headers] [Connected to r2u.stat.i\r                                                                                                    \rGet:2 http://archive.ubuntu.com/ubuntu jammy-updates InRelease [128 kB]\n",
            "\r                                                                                                    \rGet:3 https://cloud.r-project.org/bin/linux/ubuntu jammy-cran40/ InRelease [3,626 B]\n",
            "\r0% [2 InRelease 15.6 kB/128 kB 12%] [Waiting for headers] [Waiting for headers] [Waiting for headers\r                                                                                                    \rGet:4 https://developer.download.nvidia.com/compute/cuda/repos/ubuntu2204/x86_64  InRelease [1,581 B]\n",
            "\r0% [2 InRelease 15.6 kB/128 kB 12%] [Waiting for headers] [Waiting for headers] [4 InRelease 1,581 B\r0% [2 InRelease 15.6 kB/128 kB 12%] [Waiting for headers] [Waiting for headers] [Connected to ppa.la\r                                                                                                    \rGet:5 http://security.ubuntu.com/ubuntu jammy-security InRelease [129 kB]\n",
            "Get:6 https://r2u.stat.illinois.edu/ubuntu jammy InRelease [6,555 B]\n",
            "Get:7 http://archive.ubuntu.com/ubuntu jammy-backports InRelease [127 kB]\n",
            "Get:8 https://developer.download.nvidia.com/compute/cuda/repos/ubuntu2204/x86_64  Packages [1,192 kB]\n",
            "Get:9 https://ppa.launchpadcontent.net/deadsnakes/ppa/ubuntu jammy InRelease [18.1 kB]\n",
            "Hit:10 https://ppa.launchpadcontent.net/graphics-drivers/ppa/ubuntu jammy InRelease\n",
            "Hit:11 https://ppa.launchpadcontent.net/ubuntugis/ppa/ubuntu jammy InRelease\n",
            "Get:12 https://r2u.stat.illinois.edu/ubuntu jammy/main amd64 Packages [2,626 kB]\n",
            "Get:13 https://r2u.stat.illinois.edu/ubuntu jammy/main all Packages [8,531 kB]\n",
            "Get:14 http://archive.ubuntu.com/ubuntu jammy-updates/restricted amd64 Packages [3,453 kB]\n",
            "Get:15 http://archive.ubuntu.com/ubuntu jammy-updates/main amd64 Packages [2,741 kB]\n",
            "Get:16 http://security.ubuntu.com/ubuntu jammy-security/main amd64 Packages [2,454 kB]\n",
            "Get:17 https://ppa.launchpadcontent.net/deadsnakes/ppa/ubuntu jammy/main amd64 Packages [32.9 kB]\n",
            "Fetched 21.4 MB in 5s (4,580 kB/s)\n",
            "Reading package lists... Done\n",
            "W: Skipping acquire of configured file 'main/source/Sources' as repository 'https://r2u.stat.illinois.edu/ubuntu jammy InRelease' does not seem to provide it (sources.list entry misspelt?)\n",
            "Reading package lists... Done\n",
            "Building dependency tree... Done\n",
            "Reading state information... Done\n",
            "\u001b[1;31mE: \u001b[0mUnable to locate package python-opengl\u001b[0m\n",
            "Reading package lists... Done\n",
            "Building dependency tree... Done\n",
            "Reading state information... Done\n",
            "ffmpeg is already the newest version (7:4.4.2-0ubuntu0.22.04.1).\n",
            "0 upgraded, 0 newly installed, 0 to remove and 52 not upgraded.\n",
            "Reading package lists... Done\n",
            "Building dependency tree... Done\n",
            "Reading state information... Done\n",
            "The following additional packages will be installed:\n",
            "  libfontenc1 libxfont2 libxkbfile1 x11-xkb-utils xfonts-base xfonts-encodings xfonts-utils\n",
            "  xserver-common\n",
            "The following NEW packages will be installed:\n",
            "  libfontenc1 libxfont2 libxkbfile1 x11-xkb-utils xfonts-base xfonts-encodings xfonts-utils\n",
            "  xserver-common xvfb\n",
            "0 upgraded, 9 newly installed, 0 to remove and 52 not upgraded.\n",
            "Need to get 7,815 kB of archives.\n",
            "After this operation, 11.9 MB of additional disk space will be used.\n",
            "Get:1 http://archive.ubuntu.com/ubuntu jammy/main amd64 libfontenc1 amd64 1:1.1.4-1build3 [14.7 kB]\n",
            "Get:2 http://archive.ubuntu.com/ubuntu jammy/main amd64 libxfont2 amd64 1:2.0.5-1build1 [94.5 kB]\n",
            "Get:3 http://archive.ubuntu.com/ubuntu jammy/main amd64 libxkbfile1 amd64 1:1.1.0-1build3 [71.8 kB]\n",
            "Get:4 http://archive.ubuntu.com/ubuntu jammy/main amd64 x11-xkb-utils amd64 7.7+5build4 [172 kB]\n",
            "Get:5 http://archive.ubuntu.com/ubuntu jammy/main amd64 xfonts-encodings all 1:1.0.5-0ubuntu2 [578 kB]\n",
            "Get:6 http://archive.ubuntu.com/ubuntu jammy/main amd64 xfonts-utils amd64 1:7.7+6build2 [94.6 kB]\n",
            "Get:7 http://archive.ubuntu.com/ubuntu jammy/main amd64 xfonts-base all 1:1.0.5 [5,896 kB]\n",
            "Get:8 http://archive.ubuntu.com/ubuntu jammy-updates/main amd64 xserver-common all 2:21.1.4-2ubuntu1.7~22.04.12 [28.7 kB]\n",
            "Get:9 http://archive.ubuntu.com/ubuntu jammy-updates/universe amd64 xvfb amd64 2:21.1.4-2ubuntu1.7~22.04.12 [864 kB]\n",
            "Fetched 7,815 kB in 0s (18.4 MB/s)\n",
            "Selecting previously unselected package libfontenc1:amd64.\n",
            "(Reading database ... 123632 files and directories currently installed.)\n",
            "Preparing to unpack .../0-libfontenc1_1%3a1.1.4-1build3_amd64.deb ...\n",
            "Unpacking libfontenc1:amd64 (1:1.1.4-1build3) ...\n",
            "Selecting previously unselected package libxfont2:amd64.\n",
            "Preparing to unpack .../1-libxfont2_1%3a2.0.5-1build1_amd64.deb ...\n",
            "Unpacking libxfont2:amd64 (1:2.0.5-1build1) ...\n",
            "Selecting previously unselected package libxkbfile1:amd64.\n",
            "Preparing to unpack .../2-libxkbfile1_1%3a1.1.0-1build3_amd64.deb ...\n",
            "Unpacking libxkbfile1:amd64 (1:1.1.0-1build3) ...\n",
            "Selecting previously unselected package x11-xkb-utils.\n",
            "Preparing to unpack .../3-x11-xkb-utils_7.7+5build4_amd64.deb ...\n",
            "Unpacking x11-xkb-utils (7.7+5build4) ...\n",
            "Selecting previously unselected package xfonts-encodings.\n",
            "Preparing to unpack .../4-xfonts-encodings_1%3a1.0.5-0ubuntu2_all.deb ...\n",
            "Unpacking xfonts-encodings (1:1.0.5-0ubuntu2) ...\n",
            "Selecting previously unselected package xfonts-utils.\n",
            "Preparing to unpack .../5-xfonts-utils_1%3a7.7+6build2_amd64.deb ...\n",
            "Unpacking xfonts-utils (1:7.7+6build2) ...\n",
            "Selecting previously unselected package xfonts-base.\n",
            "Preparing to unpack .../6-xfonts-base_1%3a1.0.5_all.deb ...\n",
            "Unpacking xfonts-base (1:1.0.5) ...\n",
            "Selecting previously unselected package xserver-common.\n",
            "Preparing to unpack .../7-xserver-common_2%3a21.1.4-2ubuntu1.7~22.04.12_all.deb ...\n",
            "Unpacking xserver-common (2:21.1.4-2ubuntu1.7~22.04.12) ...\n",
            "Selecting previously unselected package xvfb.\n",
            "Preparing to unpack .../8-xvfb_2%3a21.1.4-2ubuntu1.7~22.04.12_amd64.deb ...\n",
            "Unpacking xvfb (2:21.1.4-2ubuntu1.7~22.04.12) ...\n",
            "Setting up libfontenc1:amd64 (1:1.1.4-1build3) ...\n",
            "Setting up xfonts-encodings (1:1.0.5-0ubuntu2) ...\n",
            "Setting up libxkbfile1:amd64 (1:1.1.0-1build3) ...\n",
            "Setting up libxfont2:amd64 (1:2.0.5-1build1) ...\n",
            "Setting up x11-xkb-utils (7.7+5build4) ...\n",
            "Setting up xfonts-utils (1:7.7+6build2) ...\n",
            "Setting up xfonts-base (1:1.0.5) ...\n",
            "Setting up xserver-common (2:21.1.4-2ubuntu1.7~22.04.12) ...\n",
            "Setting up xvfb (2:21.1.4-2ubuntu1.7~22.04.12) ...\n",
            "Processing triggers for man-db (2.10.2-1) ...\n",
            "Processing triggers for fontconfig (2.13.1-4.2ubuntu5) ...\n",
            "Processing triggers for libc-bin (2.35-0ubuntu3.4) ...\n",
            "/sbin/ldconfig.real: /usr/local/lib/libtbb.so.12 is not a symbolic link\n",
            "\n",
            "/sbin/ldconfig.real: /usr/local/lib/libtcm.so.1 is not a symbolic link\n",
            "\n",
            "/sbin/ldconfig.real: /usr/local/lib/libtbbmalloc_proxy.so.2 is not a symbolic link\n",
            "\n",
            "/sbin/ldconfig.real: /usr/local/lib/libhwloc.so.15 is not a symbolic link\n",
            "\n",
            "/sbin/ldconfig.real: /usr/local/lib/libtbbmalloc.so.2 is not a symbolic link\n",
            "\n",
            "/sbin/ldconfig.real: /usr/local/lib/libur_adapter_level_zero.so.0 is not a symbolic link\n",
            "\n",
            "/sbin/ldconfig.real: /usr/local/lib/libtbbbind_2_5.so.3 is not a symbolic link\n",
            "\n",
            "/sbin/ldconfig.real: /usr/local/lib/libtcm_debug.so.1 is not a symbolic link\n",
            "\n",
            "/sbin/ldconfig.real: /usr/local/lib/libumf.so.0 is not a symbolic link\n",
            "\n",
            "/sbin/ldconfig.real: /usr/local/lib/libtbbbind_2_0.so.3 is not a symbolic link\n",
            "\n",
            "/sbin/ldconfig.real: /usr/local/lib/libtbbbind.so.3 is not a symbolic link\n",
            "\n",
            "/sbin/ldconfig.real: /usr/local/lib/libur_adapter_opencl.so.0 is not a symbolic link\n",
            "\n",
            "/sbin/ldconfig.real: /usr/local/lib/libur_loader.so.0 is not a symbolic link\n",
            "\n",
            "Collecting PyVirtualDisplay==3.0\n",
            "  Downloading PyVirtualDisplay-3.0-py3-none-any.whl.metadata (943 bytes)\n",
            "Downloading PyVirtualDisplay-3.0-py3-none-any.whl (15 kB)\n",
            "Installing collected packages: PyVirtualDisplay\n",
            "Successfully installed PyVirtualDisplay-3.0\n",
            "Collecting gymnasium[classic_control]\n",
            "  Downloading gymnasium-1.0.0-py3-none-any.whl.metadata (9.5 kB)\n",
            "Requirement already satisfied: numpy>=1.21.0 in /usr/local/lib/python3.10/dist-packages (from gymnasium[classic_control]) (1.26.4)\n",
            "Requirement already satisfied: cloudpickle>=1.2.0 in /usr/local/lib/python3.10/dist-packages (from gymnasium[classic_control]) (3.1.0)\n",
            "Requirement already satisfied: typing-extensions>=4.3.0 in /usr/local/lib/python3.10/dist-packages (from gymnasium[classic_control]) (4.12.2)\n",
            "Collecting farama-notifications>=0.0.1 (from gymnasium[classic_control])\n",
            "  Downloading Farama_Notifications-0.0.4-py3-none-any.whl.metadata (558 bytes)\n",
            "Requirement already satisfied: pygame>=2.1.3 in /usr/local/lib/python3.10/dist-packages (from gymnasium[classic_control]) (2.6.1)\n",
            "Downloading Farama_Notifications-0.0.4-py3-none-any.whl (2.5 kB)\n",
            "Downloading gymnasium-1.0.0-py3-none-any.whl (958 kB)\n",
            "\u001b[2K   \u001b[90m━━━━━━━━━━━━━━━━━━━━━━━━━━━━━━━━━━━━━━━━\u001b[0m \u001b[32m958.1/958.1 kB\u001b[0m \u001b[31m11.1 MB/s\u001b[0m eta \u001b[36m0:00:00\u001b[0m\n",
            "\u001b[?25hInstalling collected packages: farama-notifications, gymnasium\n",
            "Successfully installed farama-notifications-0.0.4 gymnasium-1.0.0\n"
          ]
        }
      ],
      "source": [
        "import sys\n",
        "IN_COLAB = \"google.colab\" in sys.modules\n",
        "\n",
        "if IN_COLAB:\n",
        "    !apt-get update\n",
        "    !apt install python-opengl\n",
        "    !apt install ffmpeg\n",
        "    !apt install xvfb\n",
        "    !pip install PyVirtualDisplay==3.0\n",
        "    !pip install gymnasium[classic_control]\n",
        "    from pyvirtualdisplay import Display\n",
        "\n",
        "    # Start virtual display\n",
        "    dis = Display(visible=0, size=(400, 400))\n",
        "    dis.start()"
      ]
    },
    {
      "cell_type": "markdown",
      "metadata": {
        "id": "sHmjyfGJOTsV"
      },
      "source": [
        "## Import Dependencies"
      ]
    },
    {
      "cell_type": "code",
      "execution_count": 2,
      "metadata": {
        "id": "GJ7ASlptVUES"
      },
      "outputs": [],
      "source": [
        "import os\n",
        "from typing import Dict, List, Tuple\n",
        "import math, random\n",
        "\n",
        "import gym\n",
        "import gymnasium as gymnasium\n",
        "import numpy as np\n",
        "import matplotlib.pyplot as plt\n",
        "%matplotlib inline\n",
        "\n",
        "\n",
        "import base64\n",
        "import glob\n",
        "import io\n",
        "import os\n",
        "\n",
        "\n",
        "import torch\n",
        "import torch.nn as nn\n",
        "import torch.optim as optim\n",
        "import torch.autograd as autograd\n",
        "import torch.nn.functional as F\n",
        "\n",
        "\n",
        "from IPython.display import HTML, display, clear_output\n",
        "\n"
      ]
    },
    {
      "cell_type": "markdown",
      "metadata": {
        "id": "Eqs9Zs6rOZhy"
      },
      "source": [
        "#**Implementation**"
      ]
    },
    {
      "cell_type": "markdown",
      "metadata": {
        "id": "GaC0tjzZS6hG"
      },
      "source": [
        "## **Show recorded video**\n",
        "The following functions are used in order to show in a video the obtained results"
      ]
    },
    {
      "cell_type": "code",
      "execution_count": 3,
      "metadata": {
        "id": "4qPbPwvooax1"
      },
      "outputs": [],
      "source": [
        "def ipython_show_video(path: str) -> None:\n",
        "    \"\"\"Show a video at `path` within IPython Notebook.\"\"\"\n",
        "    if not os.path.isfile(path):\n",
        "        raise NameError(\"Cannot access: {}\".format(path))\n",
        "\n",
        "    video = io.open(path, \"r+b\").read()\n",
        "    encoded = base64.b64encode(video)\n",
        "\n",
        "    display(HTML(\n",
        "        data=\"\"\"\n",
        "        <video width=\"320\" height=\"240\" alt=\"test\" controls>\n",
        "        <source src=\"data:video/mp4;base64,{0}\" type=\"video/mp4\"/>\n",
        "        </video>\n",
        "        \"\"\".format(encoded.decode(\"ascii\"))\n",
        "    ))\n",
        "\n",
        "def remove_videos (video_folder: str):\n",
        "    list_of_files = glob.glob(os.path.join(video_folder, \"*.mp4\"))\n",
        "    for video in list_of_files:\n",
        "      try:\n",
        "          os.remove(video)\n",
        "      except:\n",
        "          print(\"Error while deleting file : \", video)\n",
        "\n",
        "def show_latest_video(video_folder: str) -> str:\n",
        "    \"\"\"Show the most recently recorded video from video folder.\"\"\"\n",
        "    list_of_files = glob.glob(os.path.join(video_folder, \"*.mp4\"))\n",
        "    print(\"files: \", list_of_files )\n",
        "    latest_file = max(list_of_files, key=os.path.getctime)\n",
        "    ipython_show_video(latest_file)\n",
        "    return latest_file\n",
        "\n",
        "def show_all_videos(video_folder: str) -> str:\n",
        "    \"\"\"Show all the videos recorded.\"\"\"\n",
        "    list_of_files = glob.glob(os.path.join(video_folder, \"*.mp4\"))\n",
        "    print(\"files: \", list_of_files )\n",
        "    for video in list_of_files:\n",
        "      ipython_show_video(video)\n",
        "    print(\"Played:\", video)\n"
      ]
    },
    {
      "cell_type": "markdown",
      "metadata": {
        "id": "PZzMzzVmIbKz"
      },
      "source": [
        "## Autograd Variable"
      ]
    },
    {
      "cell_type": "code",
      "execution_count": 4,
      "metadata": {
        "id": "HYyjk9ihIbK0"
      },
      "outputs": [],
      "source": [
        "Variable = lambda *args, **kwargs: autograd.Variable(*args, **kwargs)"
      ]
    },
    {
      "cell_type": "markdown",
      "metadata": {
        "id": "TnjlYrW5IbK0"
      },
      "source": [
        "## Replay Buffer"
      ]
    },
    {
      "cell_type": "code",
      "execution_count": 5,
      "metadata": {
        "id": "45GG4TiEIbK1"
      },
      "outputs": [],
      "source": [
        "from collections import deque\n",
        "\n",
        "class ReplayBufferNStep:\n",
        "    def __init__(self, capacity, n_step, gamma):\n",
        "        self.buffer = deque(maxlen=capacity)  # Main buffer for replay\n",
        "        self.n_step_buffer = deque(maxlen=n_step)  # Temporary n-step buffer\n",
        "        self.n_step = n_step\n",
        "        self.gamma = gamma  # Discount factor\n",
        "\n",
        "    def _calculate_n_step_return(self):\n",
        "        #Calculate the n-step return and extract the final next state and done flag.\n",
        "        reward, next_state, done = 0.0, None, False\n",
        "        for idx, (_, _, r, ns, d) in enumerate(self.n_step_buffer):\n",
        "            reward += (self.gamma ** idx) * r  # Discounted reward\n",
        "            next_state = ns  # Update next_state to the last step's state\n",
        "            done = d  # Update done flag to the last step's done\n",
        "            if d:  # Stop if terminal state is encountered\n",
        "                break\n",
        "        return reward, next_state, done\n",
        "\n",
        "    def push(self, state, action, reward, next_state, done):\n",
        "        # Add transition to n-step buffer\n",
        "        self.n_step_buffer.append((state, action, reward, next_state, done))\n",
        "\n",
        "        # If n-step buffer is full, calculate n-step return and push to the main buffer\n",
        "        if len(self.n_step_buffer) == self.n_step:\n",
        "            state, action, _, _, _ = self.n_step_buffer[0]  # Take initial state and action\n",
        "            reward, next_state, done = self._calculate_n_step_return()\n",
        "            state      = np.expand_dims(state, 0)\n",
        "            next_state = np.expand_dims(next_state, 0)\n",
        "            self.buffer.append((state, action, reward, next_state, done))\n",
        "\n",
        "        # Clear the n-step buffer if terminal state is encountered\n",
        "        # Don't clear out prev. exp!!!\n",
        "        #if done:\n",
        "        #    self.n_step_buffer.clear()\n",
        "\n",
        "    def sample(self, batch_size):\n",
        "        #Sample a batch of transitions from the main buffer.\n",
        "        state, action, reward, next_state, done = zip(*random.sample(self.buffer, batch_size))\n",
        "        return np.concatenate(state), action, reward, np.concatenate(next_state), done\n",
        "\n",
        "    def __len__(self):\n",
        "        return len(self.buffer)"
      ]
    },
    {
      "cell_type": "markdown",
      "metadata": {
        "id": "IyAYT95VwIvl"
      },
      "source": [
        "*###* Testing Replay Buffer"
      ]
    },
    {
      "cell_type": "code",
      "execution_count": 6,
      "metadata": {
        "id": "B47-W5kjrEeA",
        "outputId": "8382068b-f147-45ef-bfd3-3977c4349c9d",
        "colab": {
          "base_uri": "https://localhost:8080/"
        }
      },
      "outputs": [
        {
          "output_type": "stream",
          "name": "stdout",
          "text": [
            "Replay Buffer Content (len=5):\n",
            "(array([1]), 2, 2.9701, array([4]), False)\n",
            "(array([2]), 3, 2.9701, array([5]), False)\n",
            "(array([3]), 4, 2.9701, array([6]), True)\n",
            "(array([6]), 7, 2.9701, array([9]), False)\n",
            "(array([7]), 8, 2.9701, array([10]), False)\n",
            "\n",
            "Sampled Mini-Batch (2 samples): (array([1, 2]), (2, 3), (2.9701, 2.9701), array([4, 5]), (False, False))\n",
            "\n",
            "Sampled Mini-Batch (3 samples): (array([6, 7, 2]), (7, 8, 3), (2.9701, 2.9701, 2.9701), array([ 9, 10,  5]), (False, False, False))\n"
          ]
        }
      ],
      "source": [
        "# Create a Replay Buffer with capacity 5, n-step=3, and gamma=0.99\n",
        "rB = ReplayBufferNStep(capacity=5, n_step=3, gamma=0.99)\n",
        "\n",
        "# Add 10 transitions to the buffer\n",
        "for i in range(10):\n",
        "    # Simulate terminal states every 6 steps\n",
        "    done = (i % 6 == 5)\n",
        "    rB.push(state=i, action=i + 1, reward=1.0, next_state=i + 1, done=done)\n",
        "\n",
        "# Check the buffer content after adding transitions\n",
        "print(f\"Replay Buffer Content (len={len(rB)}):\")\n",
        "for item in rB.buffer:\n",
        "    print(item)\n",
        "\n",
        "# Sample two experiences\n",
        "try:\n",
        "    mini_batch = rB.sample(2)\n",
        "    print(\"\\nSampled Mini-Batch (2 samples):\", mini_batch)\n",
        "except ValueError as e:\n",
        "    print(\"\\nError during sampling:\", e)\n",
        "\n",
        "# Sample three experiences\n",
        "try:\n",
        "    mini_batch = rB.sample(3)\n",
        "    print(\"\\nSampled Mini-Batch (3 samples):\", mini_batch)\n",
        "except ValueError as e:\n",
        "    print(\"\\nError during sampling:\", e)"
      ]
    },
    {
      "cell_type": "markdown",
      "metadata": {
        "id": "voxkftv1IbK2"
      },
      "source": [
        "## Cart Pole Environment"
      ]
    },
    {
      "cell_type": "code",
      "execution_count": 7,
      "metadata": {
        "colab": {
          "base_uri": "https://localhost:8080/"
        },
        "id": "9EHbFDp6IbK4",
        "outputId": "48ad5b6d-f6c0-4666-e237-b2ef0277d24d"
      },
      "outputs": [
        {
          "output_type": "stream",
          "name": "stderr",
          "text": [
            "/usr/local/lib/python3.10/dist-packages/gymnasium/envs/registration.py:517: DeprecationWarning: \u001b[33mWARN: The environment CartPole-v0 is out of date. You should consider upgrading to version `v1`.\u001b[0m\n",
            "  logger.deprecation(\n"
          ]
        }
      ],
      "source": [
        "env_id = \"CartPole-v0\"\n",
        "env = gymnasium.make(env_id, render_mode=\"rgb_array\")"
      ]
    },
    {
      "cell_type": "code",
      "execution_count": 8,
      "metadata": {
        "id": "pZySBOH5IbLA"
      },
      "outputs": [],
      "source": [
        "def plot(frame_idx, rewards):\n",
        "    clear_output(True)\n",
        "    plt.figure(figsize=(20,5))\n",
        "    plt.subplot(131)\n",
        "    plt.title('frame %s. reward: %s' % (frame_idx, np.mean(rewards[-10:])))\n",
        "    plt.plot(rewards)\n",
        "    plt.show()"
      ]
    },
    {
      "cell_type": "markdown",
      "metadata": {
        "id": "h7aZ3bYgIbK4"
      },
      "source": [
        "## Epsilon greedy exploration\n",
        "Epsilon value is dynamic. It starts with 1.0 value (exploration) and little by little it is going to decay until 0.01 (exploitation)"
      ]
    },
    {
      "cell_type": "code",
      "execution_count": 9,
      "metadata": {
        "id": "hZCk-i69IbK5"
      },
      "outputs": [],
      "source": [
        "epsilon_start = 1.0\n",
        "epsilon_final = 0.01\n",
        "epsilon_decay = 500\n",
        "\n",
        "epsilon_by_frame = lambda frame_idx: epsilon_final + (epsilon_start - epsilon_final) * math.exp(-1. * frame_idx / epsilon_decay)"
      ]
    },
    {
      "cell_type": "code",
      "execution_count": null,
      "metadata": {
        "colab": {
          "base_uri": "https://localhost:8080/",
          "height": 448
        },
        "id": "DKVzXtD0IbK6",
        "outputId": "abbf4e06-865e-49d9-f2aa-9bcfa0e6a1cf"
      },
      "outputs": [
        {
          "output_type": "execute_result",
          "data": {
            "text/plain": [
              "[<matplotlib.lines.Line2D at 0x7cbb87b90d00>]"
            ]
          },
          "metadata": {},
          "execution_count": 22
        },
        {
          "output_type": "display_data",
          "data": {
            "text/plain": [
              "<Figure size 640x480 with 1 Axes>"
            ],
            "image/png": "[encoded data removed]"
          },
          "metadata": {}
        }
      ],
      "source": [
        "plt.plot([epsilon_by_frame(i) for i in range(10000)])"
      ]
    },
    {
      "cell_type": "markdown",
      "metadata": {
        "id": "c6A-SD0_IbK7"
      },
      "source": [
        "## Deep Q Network"
      ]
    },
    {
      "cell_type": "code",
      "execution_count": 10,
      "metadata": {
        "id": "p4vsG_e3IbK7"
      },
      "outputs": [],
      "source": [
        "class DQN(nn.Module):\n",
        "    def __init__(self, num_inputs, num_actions, n_step=3, gamma=0.99):\n",
        "        super(DQN, self).__init__()\n",
        "\n",
        "        self.layers = nn.Sequential(\n",
        "            nn.Linear(env.observation_space.shape[0], 128),\n",
        "            nn.ReLU(),\n",
        "            nn.Linear(128, 128),\n",
        "            nn.ReLU(),\n",
        "            nn.Linear(128, env.action_space.n)\n",
        "        )\n",
        "\n",
        "\n",
        "        self.optimizer = optim.Adam(self.parameters())\n",
        "        self.n_step = n_step\n",
        "        self.gamma = gamma\n",
        "\n",
        "        self.replay_buffer = ReplayBufferNStep(1000, n_step=n_step, gamma=gamma)\n",
        "        self.batch_size = 32\n",
        "\n",
        "    # This method defines the epsilon value. It started with 1.0 and it decays until 0.01 value\n",
        "    def get_epsilon_value(self, frame_idx):\n",
        "      epsilon_start = 1.0\n",
        "      epsilon_final = 0.01\n",
        "      epsilon_decay = 500\n",
        "\n",
        "      epsilon = lambda frame_idx: epsilon_final + (epsilon_start - epsilon_final) * math.exp(-1. * frame_idx / epsilon_decay)\n",
        "      return epsilon(frame_idx)\n",
        "\n",
        "    # This method computes output Tensors from input Tensors. That is, given an state it returns an array with q(s,a) values for all actions\n",
        "    def forward(self, x):\n",
        "        return self.layers(x)\n",
        "\n",
        "    # Given a state and epsilon value, this method returns an action following epsilon-greedy\n",
        "    def act(self, state, epsilon):\n",
        "        if random.random() > epsilon:\n",
        "            state   = Variable(torch.FloatTensor(state).unsqueeze(0), requires_grad=False)\n",
        "            q_value = self.forward(state)\n",
        "            action  = q_value.max(1)[1].item()\n",
        "        else:\n",
        "            action = random.randrange(env.action_space.n)\n",
        "        return action\n",
        "\n",
        "    # Given a model, it copyes the current model on it.\n",
        "    def update_target(self, target_model):\n",
        "      target_model.load_state_dict(self.state_dict())\n",
        "\n",
        "    # This method updates the weights\n",
        "    # It is solved using tensors\n",
        "    # def compute_td_loss(self, target_model):\n",
        "    #   state, action, reward, next_state, done = self.replay_buffer.sample(self.batch_size)\n",
        "\n",
        "    #   state      = Variable(torch.FloatTensor(np.float32(state)))\n",
        "    #   next_state = Variable(torch.FloatTensor(np.float32(next_state)))\n",
        "    #   action     = Variable(torch.LongTensor(action))\n",
        "    #   reward     = Variable(torch.FloatTensor(reward))\n",
        "    #   done       = Variable(torch.FloatTensor(done))\n",
        "\n",
        "    #   q_values      = self.forward(state)\n",
        "    #   next_q_values = self.forward(next_state)\n",
        "    #   next_q_state_values = target_model(next_state)\n",
        "\n",
        "    #   q_value       = q_values.gather(1, action.unsqueeze(1)).squeeze(1)\n",
        "    #   next_q_value = next_q_state_values.gather(1, torch.max(next_q_values, 1)[1].unsqueeze(1)).squeeze(1)\n",
        "    #   #next_q_value = next_q_state_values.max(1)[0]\n",
        "    #   expected_q_value = reward + self.gamma * next_q_value * (1 - done)\n",
        "\n",
        "    #   loss = (q_value - Variable(expected_q_value.data)).pow(2).mean()\n",
        "\n",
        "    #   self.optimizer.zero_grad()\n",
        "    #   loss.backward()\n",
        "    #   self.optimizer.step()\n",
        "\n",
        "    #   return loss\n",
        "\n",
        "    # TODO\n",
        "    # This method updates the weights\n",
        "    def compute_td_loss_our(self, target_model):\n",
        "      # Obtain a mini_batch to train the weights.\n",
        "      # state, action, reward, next_state and done are numpy arrays, each position corresponds to one experience\n",
        "      state, action, reward, next_state, done = self.replay_buffer.sample(self.batch_size)\n",
        "\n",
        "      # Convert those numpy arrays to tensors. It is neccesary to work with Pytorch\n",
        "      states_tensor      = Variable(torch.FloatTensor(np.float32(state)))       # current_state S\n",
        "      actions_tensor     = Variable(torch.LongTensor(action))                   # action A\n",
        "      next_states_tensor = Variable(torch.FloatTensor(np.float32(next_state)))  # next_state S'\n",
        "\n",
        "      # The approximated q_values of each current state\n",
        "      q_values_tensor      = self.forward(states_tensor) # Q(S, A, W)\n",
        "\n",
        "      # The approximated q_values of each next state calculated with the current_model and the target_model\n",
        "      next_q_values_current_model_tensor = self.forward(next_states_tensor) # Q(S', A', W)\n",
        "      next_q_values_target_model_tensor = target_model.forward(next_states_tensor) # Q(S', A', W')\n",
        "\n",
        "      # Convert the approximated next_states' q_values to numpy array. We are going to work with these arrays\n",
        "      next_q_values_current_model = next_q_values_current_model_tensor.detach().numpy();\n",
        "      next_q_values_target_model = next_q_values_target_model_tensor.detach().numpy();\n",
        "      expected_q_value = np.zeros(self.batch_size)\n",
        "\n",
        "      # TODO\n",
        "      # input: next_q_values_current_model is a numpy array. In each element are stored all the approximated q values for the next state calculated with the current_model\n",
        "      # input: next_q_values_target_model is a numpy array. In each element are stored all the approximated q values for the next state calculated with the target_model\n",
        "      # input: reward is a numpy array with the rewards obtained in each experience of the mini_batch (batch_size)\n",
        "      # output: expected_q_value is a numpy array. You have to store in each position the target value of each experience using next_q_values_target_model and reward elements\n",
        "      # note: all these numpy arrays has the same length: the length of the mini_batch (batch_size)\n",
        "      #\n",
        "      # for all the elements on the batch size\n",
        "      #  calculate the target expected value and store in expected_q_value\n",
        "\n",
        "      for i in range(self.batch_size):\n",
        "        next_q_value = 0\n",
        "        if not(done[i]):\n",
        "          next_q_value = max(next_q_values_target_model[i])\n",
        "\n",
        "          # with current model\n",
        "          #next_q_value = max(next_q_values_current_model[i])\n",
        "\n",
        "          # with current model action and target model approximation\n",
        "          #next_action = np.argmax(next_q_values_current_model[i])\n",
        "          #next_q_value = next_q_values_target_model[i][next_action]\n",
        "\n",
        "        expected_q_value[i] = reward[i] + self.gamma*next_q_value\n",
        "\n",
        "      # END TODO\n",
        "\n",
        "      # Prepare data for the loss function\n",
        "      q_value = q_values_tensor.gather(1, actions_tensor.unsqueeze(1)).squeeze(1)\n",
        "      expected_q_values = torch.tensor(expected_q_value)\n",
        "\n",
        "      # Loss function: to know how good the weights are\n",
        "      lossMSE = nn.MSELoss()\n",
        "      loss = lossMSE(q_value.float(), expected_q_values.float())\n",
        "\n",
        "      # Based on the results of the loss function, the weights are updated with gradient descent\n",
        "      self.optimizer.zero_grad()\n",
        "      loss.backward()\n",
        "      self.optimizer.step()\n",
        "\n",
        "      return loss\n",
        "\n",
        "    # TODO\n",
        "    # Method to train the agent\n",
        "    def train(self, env):\n",
        "      num_frames = 25000\n",
        "      losses = []\n",
        "      all_rewards = []\n",
        "      episode_reward = 0\n",
        "      target_model  = DQN(env.observation_space.shape[0], env.action_space.n)\n",
        "      state, info = env.reset()\n",
        "\n",
        "      # Use 3 deques\n",
        "      # 1 for states at most n elements (3 e.g.)\n",
        "      # 1 for actions\n",
        "      # 1 for rewardsr\n",
        "\n",
        "      # TODO\n",
        "      # replay buffer attribute is empty\n",
        "      # for each frame\n",
        "      #   get current epsilon\n",
        "      #   get action following epsilon greedy\n",
        "      #   get next_state and reward\n",
        "      #   add new experience to the replay buffer\n",
        "      #   update state\n",
        "      #   update episode total reward\n",
        "      #   if done\n",
        "      #     reset environment\n",
        "      #     append the episode total reward to all_rewards array\n",
        "      #     set episode total reward to 0\n",
        "      #   if experience replay has more elements than batch_size\n",
        "      #     update the weights\n",
        "      #   every 100 frames update the target model\n",
        "\n",
        "      for frame_idx in range(1, num_frames + 1):\n",
        "          epsilon = self.get_epsilon_value(frame_idx)\n",
        "          action = self.act(state, epsilon)\n",
        "\n",
        "          next_state, reward, done, truncated, info = env.step(action)\n",
        "          self.replay_buffer.push(state, action, reward, next_state, done)\n",
        "\n",
        "          state = next_state\n",
        "          episode_reward += reward\n",
        "\n",
        "          if done or truncated:\n",
        "              state, info = env.reset()\n",
        "              all_rewards.append(episode_reward)\n",
        "              episode_reward = 0\n",
        "\n",
        "          if len(current_model.replay_buffer) > self.batch_size:\n",
        "              loss = self.compute_td_loss_our(target_model)\n",
        "              losses.append(loss.data)\n",
        "\n",
        "          # to visualize how the agent is learning\n",
        "          if frame_idx % 200 == 0:\n",
        "              plot(frame_idx, all_rewards)\n",
        "\n",
        "          if frame_idx % 100 == 0:\n",
        "              self.update_target(target_model)\n",
        "\n",
        "    # This method runs one episode and generates a video to observe the result\n",
        "    def test(self,env):\n",
        "        video_folder=\"videos\"\n",
        "\n",
        "        remove_videos(video_folder=video_folder)\n",
        "\n",
        "        # we are going to work over envVideo.\n",
        "        envVideo = gymnasium.wrappers.RecordVideo(env, video_folder=video_folder)\n",
        "\n",
        "        done = False #It is used to control if the episode is finished, if it is finished the environment must be reset\n",
        "        state, info = envVideo.reset()\n",
        "\n",
        "        total_reward = 0\n",
        "        while not(done):\n",
        "            action = self.act(state, 0)\n",
        "            next_state, reward, done, truncated, info = envVideo.step(action)\n",
        "            state = next_state\n",
        "            total_reward +=reward\n",
        "            if done or truncated:\n",
        "              break\n",
        "        envVideo.close()\n",
        "        print(\"rew: \", total_reward)\n",
        "        show_all_videos(video_folder=video_folder)\n",
        "\n"
      ]
    },
    {
      "cell_type": "markdown",
      "metadata": {
        "id": "ynxAQEvLmC6R"
      },
      "source": [
        "### Train the agent"
      ]
    },
    {
      "cell_type": "code",
      "execution_count": 13,
      "metadata": {
        "colab": {
          "base_uri": "https://localhost:8080/",
          "height": 468
        },
        "id": "uQO4hDUn2vUa",
        "outputId": "407db0a6-7417-4b0e-a2e3-7158ab1935ef"
      },
      "outputs": [
        {
          "output_type": "display_data",
          "data": {
            "text/plain": [
              "<Figure size 2000x500 with 1 Axes>"
            ],
            "image/png": "[encoded data removed]"
          },
          "metadata": {}
        }
      ],
      "source": [
        "current_model = DQN(env.observation_space.shape[0], env.action_space.n)\n",
        "current_model.train(env)"
      ]
    },
    {
      "cell_type": "markdown",
      "metadata": {
        "id": "WoZsHTkFl7Jq"
      },
      "source": [
        "### Test the agent"
      ]
    },
    {
      "cell_type": "code",
      "execution_count": 14,
      "metadata": {
        "id": "YIVpEbfR4pVO",
        "colab": {
          "base_uri": "https://localhost:8080/",
          "height": 571
        },
        "outputId": "a86d2428-33b8-47d4-8067-fd24aa025c39"
      },
      "outputs": [
        {
          "output_type": "stream",
          "name": "stderr",
          "text": [
            "/usr/local/lib/python3.10/dist-packages/moviepy/config_defaults.py:1: DeprecationWarning: invalid escape sequence '\\P'\n",
            "  \"\"\"\n",
            "/usr/local/lib/python3.10/dist-packages/pygame/pkgdata.py:25: DeprecationWarning: pkg_resources is deprecated as an API. See https://setuptools.pypa.io/en/latest/pkg_resources.html\n",
            "  from pkg_resources import resource_stream, resource_exists\n",
            "/usr/local/lib/python3.10/dist-packages/pkg_resources/__init__.py:3154: DeprecationWarning: Deprecated call to `pkg_resources.declare_namespace('google')`.\n",
            "Implementing implicit namespace packages (as specified in PEP 420) is preferred to `pkg_resources.declare_namespace`. See https://setuptools.pypa.io/en/latest/references/keywords.html#keyword-namespace-packages\n",
            "  declare_namespace(pkg)\n",
            "/usr/local/lib/python3.10/dist-packages/pkg_resources/__init__.py:3154: DeprecationWarning: Deprecated call to `pkg_resources.declare_namespace('google.cloud')`.\n",
            "Implementing implicit namespace packages (as specified in PEP 420) is preferred to `pkg_resources.declare_namespace`. See https://setuptools.pypa.io/en/latest/references/keywords.html#keyword-namespace-packages\n",
            "  declare_namespace(pkg)\n",
            "/usr/local/lib/python3.10/dist-packages/pkg_resources/__init__.py:3154: DeprecationWarning: Deprecated call to `pkg_resources.declare_namespace('sphinxcontrib')`.\n",
            "Implementing implicit namespace packages (as specified in PEP 420) is preferred to `pkg_resources.declare_namespace`. See https://setuptools.pypa.io/en/latest/references/keywords.html#keyword-namespace-packages\n",
            "  declare_namespace(pkg)\n"
          ]
        },
        {
          "output_type": "stream",
          "name": "stdout",
          "text": [
            "rew:  200.0\n",
            "files:  ['videos/rl-video-episode-0.mp4']\n"
          ]
        },
        {
          "output_type": "display_data",
          "data": {
            "text/plain": [
              "<IPython.core.display.HTML object>"
            ],
            "text/html": [
              "\n",
              "        <video width=\"320\" height=\"240\" alt=\"test\" controls>\n",
              "        <source src=\"data:video/mp4;base64,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\" type=\"video/mp4\"/>\n",
              "        </video>\n",
              "        "
            ]
          },
          "metadata": {}
        },
        {
          "output_type": "stream",
          "name": "stdout",
          "text": [
            "Played: videos/rl-video-episode-0.mp4\n"
          ]
        }
      ],
      "source": [
        "current_model.test(env)"
      ]
    }
  ],
  "metadata": {
    "colab": {
      "provenance": [],
      "include_colab_link": true
    },
    "kernelspec": {
      "display_name": "Python 3",
      "name": "python3"
    },
    "language_info": {
      "codemirror_mode": {
        "name": "ipython",
        "version": 3
      },
      "file_extension": ".py",
      "mimetype": "text/x-python",
      "name": "python",
      "nbconvert_exporter": "python",
      "pygments_lexer": "ipython3",
      "version": "3.6.8"
    }
  },
  "nbformat": 4,
  "nbformat_minor": 0
}