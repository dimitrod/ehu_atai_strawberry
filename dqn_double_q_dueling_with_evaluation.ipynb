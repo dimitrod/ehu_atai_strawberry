{
  "cells": [
    {
      "cell_type": "markdown",
      "metadata": {
        "id": "view-in-github",
        "colab_type": "text"
      },
      "source": [
        "<a href=\"https://colab.research.google.com/github/dimitrod/ehu_atai_strawberry/blob/main/dqn_double_q_dueling_with_evaluation.ipynb\" target=\"_parent\"><img src=\"https://colab.research.google.com/assets/colab-badge.svg\" alt=\"Open In Colab\"/></a>"
      ]
    },
    {
      "cell_type": "markdown",
      "metadata": {
        "id": "7p-FkdaHOISM"
      },
      "source": [
        "# **Initialization**"
      ]
    },
    {
      "cell_type": "markdown",
      "metadata": {
        "id": "VzfboO1QP_Uw"
      },
      "source": [
        "## Install dependencies"
      ]
    },
    {
      "cell_type": "code",
      "execution_count": 1,
      "metadata": {
        "colab": {
          "base_uri": "https://localhost:8080/"
        },
        "id": "mt4fLrG2Puzd",
        "outputId": "032cd02f-5d8f-467f-a09f-76c01d89ea84"
      },
      "outputs": [
        {
          "output_type": "stream",
          "name": "stdout",
          "text": [
            "\r0% [Working]\r            \rHit:1 http://archive.ubuntu.com/ubuntu jammy InRelease\n",
            "\r0% [Connecting to security.ubuntu.com (185.125.190.83)] [Waiting for headers] [Connected to r2u.stat\r                                                                                                    \rGet:2 https://cloud.r-project.org/bin/linux/ubuntu jammy-cran40/ InRelease [3,626 B]\n",
            "\r0% [Waiting for headers] [Waiting for headers] [Waiting for headers] [Waiting for headers] [Connecti\r                                                                                                    \rGet:3 http://archive.ubuntu.com/ubuntu jammy-updates InRelease [128 kB]\n",
            "\r0% [3 InRelease 12.7 kB/128 kB 10%] [Waiting for headers] [Waiting for headers] [Waiting for headers\r                                                                                                    \rGet:4 https://developer.download.nvidia.com/compute/cuda/repos/ubuntu2204/x86_64  InRelease [1,581 B]\n",
            "Get:5 https://r2u.stat.illinois.edu/ubuntu jammy InRelease [6,555 B]\n",
            "Get:6 http://security.ubuntu.com/ubuntu jammy-security InRelease [129 kB]\n",
            "Get:7 http://archive.ubuntu.com/ubuntu jammy-backports InRelease [127 kB]\n",
            "Hit:8 https://ppa.launchpadcontent.net/deadsnakes/ppa/ubuntu jammy InRelease\n",
            "Get:9 https://developer.download.nvidia.com/compute/cuda/repos/ubuntu2204/x86_64  Packages [1,196 kB]\n",
            "Get:10 https://ppa.launchpadcontent.net/graphics-drivers/ppa/ubuntu jammy InRelease [24.3 kB]\n",
            "Get:11 https://r2u.stat.illinois.edu/ubuntu jammy/main amd64 Packages [2,628 kB]\n",
            "Hit:12 https://ppa.launchpadcontent.net/ubuntugis/ppa/ubuntu jammy InRelease\n",
            "Get:13 http://archive.ubuntu.com/ubuntu jammy-updates/universe amd64 Packages [1,517 kB]\n",
            "Get:14 https://r2u.stat.illinois.edu/ubuntu jammy/main all Packages [8,555 kB]\n",
            "Get:15 http://archive.ubuntu.com/ubuntu jammy-updates/main amd64 Packages [2,830 kB]\n",
            "Get:16 http://archive.ubuntu.com/ubuntu jammy-updates/restricted amd64 Packages [3,614 kB]\n",
            "Get:17 http://archive.ubuntu.com/ubuntu jammy-backports/main amd64 Packages [81.4 kB]\n",
            "Get:18 http://archive.ubuntu.com/ubuntu jammy-backports/universe amd64 Packages [33.8 kB]\n",
            "Get:19 http://security.ubuntu.com/ubuntu jammy-security/universe amd64 Packages [1,226 kB]\n",
            "Get:20 https://ppa.launchpadcontent.net/graphics-drivers/ppa/ubuntu jammy/main amd64 Packages [53.4 kB]\n",
            "Get:21 http://security.ubuntu.com/ubuntu jammy-security/main amd64 Packages [2,517 kB]\n",
            "Get:22 http://security.ubuntu.com/ubuntu jammy-security/restricted amd64 Packages [3,448 kB]\n",
            "Fetched 28.1 MB in 3s (9,086 kB/s)\n",
            "Reading package lists... Done\n",
            "W: Skipping acquire of configured file 'main/source/Sources' as repository 'https://r2u.stat.illinois.edu/ubuntu jammy InRelease' does not seem to provide it (sources.list entry misspelt?)\n",
            "Reading package lists... Done\n",
            "Building dependency tree... Done\n",
            "Reading state information... Done\n",
            "\u001b[1;31mE: \u001b[0mUnable to locate package python-opengl\u001b[0m\n",
            "Reading package lists... Done\n",
            "Building dependency tree... Done\n",
            "Reading state information... Done\n",
            "ffmpeg is already the newest version (7:4.4.2-0ubuntu0.22.04.1).\n",
            "0 upgraded, 0 newly installed, 0 to remove and 54 not upgraded.\n",
            "Reading package lists... Done\n",
            "Building dependency tree... Done\n",
            "Reading state information... Done\n",
            "The following additional packages will be installed:\n",
            "  libfontenc1 libxfont2 libxkbfile1 x11-xkb-utils xfonts-base xfonts-encodings xfonts-utils\n",
            "  xserver-common\n",
            "The following NEW packages will be installed:\n",
            "  libfontenc1 libxfont2 libxkbfile1 x11-xkb-utils xfonts-base xfonts-encodings xfonts-utils\n",
            "  xserver-common xvfb\n",
            "0 upgraded, 9 newly installed, 0 to remove and 54 not upgraded.\n",
            "Need to get 7,815 kB of archives.\n",
            "After this operation, 11.9 MB of additional disk space will be used.\n",
            "Get:1 http://archive.ubuntu.com/ubuntu jammy/main amd64 libfontenc1 amd64 1:1.1.4-1build3 [14.7 kB]\n",
            "Get:2 http://archive.ubuntu.com/ubuntu jammy/main amd64 libxfont2 amd64 1:2.0.5-1build1 [94.5 kB]\n",
            "Get:3 http://archive.ubuntu.com/ubuntu jammy/main amd64 libxkbfile1 amd64 1:1.1.0-1build3 [71.8 kB]\n",
            "Get:4 http://archive.ubuntu.com/ubuntu jammy/main amd64 x11-xkb-utils amd64 7.7+5build4 [172 kB]\n",
            "Get:5 http://archive.ubuntu.com/ubuntu jammy/main amd64 xfonts-encodings all 1:1.0.5-0ubuntu2 [578 kB]\n",
            "Get:6 http://archive.ubuntu.com/ubuntu jammy/main amd64 xfonts-utils amd64 1:7.7+6build2 [94.6 kB]\n",
            "Get:7 http://archive.ubuntu.com/ubuntu jammy/main amd64 xfonts-base all 1:1.0.5 [5,896 kB]\n",
            "Get:8 http://archive.ubuntu.com/ubuntu jammy-updates/main amd64 xserver-common all 2:21.1.4-2ubuntu1.7~22.04.12 [28.7 kB]\n",
            "Get:9 http://archive.ubuntu.com/ubuntu jammy-updates/universe amd64 xvfb amd64 2:21.1.4-2ubuntu1.7~22.04.12 [864 kB]\n",
            "Fetched 7,815 kB in 0s (18.4 MB/s)\n",
            "Selecting previously unselected package libfontenc1:amd64.\n",
            "(Reading database ... 123634 files and directories currently installed.)\n",
            "Preparing to unpack .../0-libfontenc1_1%3a1.1.4-1build3_amd64.deb ...\n",
            "Unpacking libfontenc1:amd64 (1:1.1.4-1build3) ...\n",
            "Selecting previously unselected package libxfont2:amd64.\n",
            "Preparing to unpack .../1-libxfont2_1%3a2.0.5-1build1_amd64.deb ...\n",
            "Unpacking libxfont2:amd64 (1:2.0.5-1build1) ...\n",
            "Selecting previously unselected package libxkbfile1:amd64.\n",
            "Preparing to unpack .../2-libxkbfile1_1%3a1.1.0-1build3_amd64.deb ...\n",
            "Unpacking libxkbfile1:amd64 (1:1.1.0-1build3) ...\n",
            "Selecting previously unselected package x11-xkb-utils.\n",
            "Preparing to unpack .../3-x11-xkb-utils_7.7+5build4_amd64.deb ...\n",
            "Unpacking x11-xkb-utils (7.7+5build4) ...\n",
            "Selecting previously unselected package xfonts-encodings.\n",
            "Preparing to unpack .../4-xfonts-encodings_1%3a1.0.5-0ubuntu2_all.deb ...\n",
            "Unpacking xfonts-encodings (1:1.0.5-0ubuntu2) ...\n",
            "Selecting previously unselected package xfonts-utils.\n",
            "Preparing to unpack .../5-xfonts-utils_1%3a7.7+6build2_amd64.deb ...\n",
            "Unpacking xfonts-utils (1:7.7+6build2) ...\n",
            "Selecting previously unselected package xfonts-base.\n",
            "Preparing to unpack .../6-xfonts-base_1%3a1.0.5_all.deb ...\n",
            "Unpacking xfonts-base (1:1.0.5) ...\n",
            "Selecting previously unselected package xserver-common.\n",
            "Preparing to unpack .../7-xserver-common_2%3a21.1.4-2ubuntu1.7~22.04.12_all.deb ...\n",
            "Unpacking xserver-common (2:21.1.4-2ubuntu1.7~22.04.12) ...\n",
            "Selecting previously unselected package xvfb.\n",
            "Preparing to unpack .../8-xvfb_2%3a21.1.4-2ubuntu1.7~22.04.12_amd64.deb ...\n",
            "Unpacking xvfb (2:21.1.4-2ubuntu1.7~22.04.12) ...\n",
            "Setting up libfontenc1:amd64 (1:1.1.4-1build3) ...\n",
            "Setting up xfonts-encodings (1:1.0.5-0ubuntu2) ...\n",
            "Setting up libxkbfile1:amd64 (1:1.1.0-1build3) ...\n",
            "Setting up libxfont2:amd64 (1:2.0.5-1build1) ...\n",
            "Setting up x11-xkb-utils (7.7+5build4) ...\n",
            "Setting up xfonts-utils (1:7.7+6build2) ...\n",
            "Setting up xfonts-base (1:1.0.5) ...\n",
            "Setting up xserver-common (2:21.1.4-2ubuntu1.7~22.04.12) ...\n",
            "Setting up xvfb (2:21.1.4-2ubuntu1.7~22.04.12) ...\n",
            "Processing triggers for man-db (2.10.2-1) ...\n",
            "Processing triggers for fontconfig (2.13.1-4.2ubuntu5) ...\n",
            "Processing triggers for libc-bin (2.35-0ubuntu3.4) ...\n",
            "/sbin/ldconfig.real: /usr/local/lib/libtbb.so.12 is not a symbolic link\n",
            "\n",
            "/sbin/ldconfig.real: /usr/local/lib/libur_loader.so.0 is not a symbolic link\n",
            "\n",
            "/sbin/ldconfig.real: /usr/local/lib/libtbbbind.so.3 is not a symbolic link\n",
            "\n",
            "/sbin/ldconfig.real: /usr/local/lib/libtcm.so.1 is not a symbolic link\n",
            "\n",
            "/sbin/ldconfig.real: /usr/local/lib/libtbbmalloc_proxy.so.2 is not a symbolic link\n",
            "\n",
            "/sbin/ldconfig.real: /usr/local/lib/libur_adapter_opencl.so.0 is not a symbolic link\n",
            "\n",
            "/sbin/ldconfig.real: /usr/local/lib/libtbbbind_2_0.so.3 is not a symbolic link\n",
            "\n",
            "/sbin/ldconfig.real: /usr/local/lib/libur_adapter_level_zero.so.0 is not a symbolic link\n",
            "\n",
            "/sbin/ldconfig.real: /usr/local/lib/libtcm_debug.so.1 is not a symbolic link\n",
            "\n",
            "/sbin/ldconfig.real: /usr/local/lib/libhwloc.so.15 is not a symbolic link\n",
            "\n",
            "/sbin/ldconfig.real: /usr/local/lib/libumf.so.0 is not a symbolic link\n",
            "\n",
            "/sbin/ldconfig.real: /usr/local/lib/libtbbmalloc.so.2 is not a symbolic link\n",
            "\n",
            "/sbin/ldconfig.real: /usr/local/lib/libtbbbind_2_5.so.3 is not a symbolic link\n",
            "\n",
            "Collecting PyVirtualDisplay==3.0\n",
            "  Downloading PyVirtualDisplay-3.0-py3-none-any.whl.metadata (943 bytes)\n",
            "Downloading PyVirtualDisplay-3.0-py3-none-any.whl (15 kB)\n",
            "Installing collected packages: PyVirtualDisplay\n",
            "Successfully installed PyVirtualDisplay-3.0\n",
            "Collecting gymnasium[classic_control]\n",
            "  Downloading gymnasium-1.0.0-py3-none-any.whl.metadata (9.5 kB)\n",
            "Requirement already satisfied: numpy>=1.21.0 in /usr/local/lib/python3.10/dist-packages (from gymnasium[classic_control]) (1.26.4)\n",
            "Requirement already satisfied: cloudpickle>=1.2.0 in /usr/local/lib/python3.10/dist-packages (from gymnasium[classic_control]) (3.1.0)\n",
            "Requirement already satisfied: typing-extensions>=4.3.0 in /usr/local/lib/python3.10/dist-packages (from gymnasium[classic_control]) (4.12.2)\n",
            "Collecting farama-notifications>=0.0.1 (from gymnasium[classic_control])\n",
            "  Downloading Farama_Notifications-0.0.4-py3-none-any.whl.metadata (558 bytes)\n",
            "Requirement already satisfied: pygame>=2.1.3 in /usr/local/lib/python3.10/dist-packages (from gymnasium[classic_control]) (2.6.1)\n",
            "Downloading Farama_Notifications-0.0.4-py3-none-any.whl (2.5 kB)\n",
            "Downloading gymnasium-1.0.0-py3-none-any.whl (958 kB)\n",
            "\u001b[2K   \u001b[90m━━━━━━━━━━━━━━━━━━━━━━━━━━━━━━━━━━━━━━━━\u001b[0m \u001b[32m958.1/958.1 kB\u001b[0m \u001b[31m13.1 MB/s\u001b[0m eta \u001b[36m0:00:00\u001b[0m\n",
            "\u001b[?25hInstalling collected packages: farama-notifications, gymnasium\n",
            "Successfully installed farama-notifications-0.0.4 gymnasium-1.0.0\n"
          ]
        }
      ],
      "source": [
        "import sys\n",
        "IN_COLAB = \"google.colab\" in sys.modules\n",
        "\n",
        "if IN_COLAB:\n",
        "    !apt-get update\n",
        "    !apt install python-opengl\n",
        "    !apt install ffmpeg\n",
        "    !apt install xvfb\n",
        "    !pip install PyVirtualDisplay==3.0\n",
        "    !pip install gymnasium[classic_control]\n",
        "    from pyvirtualdisplay import Display\n",
        "\n",
        "    # Start virtual display\n",
        "    dis = Display(visible=0, size=(400, 400))\n",
        "    dis.start()"
      ]
    },
    {
      "cell_type": "markdown",
      "metadata": {
        "id": "sHmjyfGJOTsV"
      },
      "source": [
        "## Import Dependencies"
      ]
    },
    {
      "cell_type": "code",
      "execution_count": 2,
      "metadata": {
        "id": "GJ7ASlptVUES"
      },
      "outputs": [],
      "source": [
        "import os\n",
        "from typing import Dict, List, Tuple\n",
        "import math, random\n",
        "\n",
        "import gym\n",
        "import gymnasium as gymnasium\n",
        "import numpy as np\n",
        "import matplotlib.pyplot as plt\n",
        "%matplotlib inline\n",
        "\n",
        "\n",
        "import base64\n",
        "import glob\n",
        "import io\n",
        "import os\n",
        "\n",
        "\n",
        "import torch\n",
        "import torch.nn as nn\n",
        "import torch.optim as optim\n",
        "import torch.autograd as autograd\n",
        "import torch.nn.functional as F\n",
        "\n",
        "\n",
        "from IPython.display import HTML, display, clear_output\n",
        "\n"
      ]
    },
    {
      "cell_type": "markdown",
      "metadata": {
        "id": "Eqs9Zs6rOZhy"
      },
      "source": [
        "#**Implementation**"
      ]
    },
    {
      "cell_type": "markdown",
      "metadata": {
        "id": "GaC0tjzZS6hG"
      },
      "source": [
        "## **Show recorded video**\n",
        "The following functions are used in order to show in a video the obtained results"
      ]
    },
    {
      "cell_type": "code",
      "execution_count": 3,
      "metadata": {
        "id": "4qPbPwvooax1",
        "outputId": "c5a66592-4ead-484e-c871-a8bf7b63f2c4",
        "colab": {
          "base_uri": "https://localhost:8080/"
        }
      },
      "outputs": [
        {
          "output_type": "stream",
          "name": "stderr",
          "text": [
            "/usr/local/lib/python3.10/dist-packages/ipykernel/ipkernel.py:283: DeprecationWarning: `should_run_async` will not call `transform_cell` automatically in the future. Please pass the result to `transformed_cell` argument and any exception that happen during thetransform in `preprocessing_exc_tuple` in IPython 7.17 and above.\n",
            "  and should_run_async(code)\n"
          ]
        }
      ],
      "source": [
        "def ipython_show_video(path: str) -> None:\n",
        "    \"\"\"Show a video at `path` within IPython Notebook.\"\"\"\n",
        "    if not os.path.isfile(path):\n",
        "        raise NameError(\"Cannot access: {}\".format(path))\n",
        "\n",
        "    video = io.open(path, \"r+b\").read()\n",
        "    encoded = base64.b64encode(video)\n",
        "\n",
        "    display(HTML(\n",
        "        data=\"\"\"\n",
        "        <video width=\"320\" height=\"240\" alt=\"test\" controls>\n",
        "        <source src=\"data:video/mp4;base64,{0}\" type=\"video/mp4\"/>\n",
        "        </video>\n",
        "        \"\"\".format(encoded.decode(\"ascii\"))\n",
        "    ))\n",
        "\n",
        "def remove_videos (video_folder: str):\n",
        "    list_of_files = glob.glob(os.path.join(video_folder, \"*.mp4\"))\n",
        "    for video in list_of_files:\n",
        "      try:\n",
        "          os.remove(video)\n",
        "      except:\n",
        "          print(\"Error while deleting file : \", video)\n",
        "\n",
        "def show_latest_video(video_folder: str) -> str:\n",
        "    \"\"\"Show the most recently recorded video from video folder.\"\"\"\n",
        "    list_of_files = glob.glob(os.path.join(video_folder, \"*.mp4\"))\n",
        "    print(\"files: \", list_of_files )\n",
        "    latest_file = max(list_of_files, key=os.path.getctime)\n",
        "    ipython_show_video(latest_file)\n",
        "    return latest_file\n",
        "\n",
        "def show_all_videos(video_folder: str) -> str:\n",
        "    \"\"\"Show all the videos recorded.\"\"\"\n",
        "    list_of_files = glob.glob(os.path.join(video_folder, \"*.mp4\"))\n",
        "    print(\"files: \", list_of_files )\n",
        "    for video in list_of_files:\n",
        "      ipython_show_video(video)\n",
        "    print(\"Played:\", video)\n"
      ]
    },
    {
      "cell_type": "markdown",
      "metadata": {
        "id": "PZzMzzVmIbKz"
      },
      "source": [
        "## Autograd Variable"
      ]
    },
    {
      "cell_type": "code",
      "execution_count": 4,
      "metadata": {
        "id": "HYyjk9ihIbK0"
      },
      "outputs": [],
      "source": [
        "Variable = lambda *args, **kwargs: autograd.Variable(*args, **kwargs)"
      ]
    },
    {
      "cell_type": "markdown",
      "metadata": {
        "id": "TnjlYrW5IbK0"
      },
      "source": [
        "## Replay Buffer"
      ]
    },
    {
      "cell_type": "code",
      "execution_count": 5,
      "metadata": {
        "id": "45GG4TiEIbK1"
      },
      "outputs": [],
      "source": [
        "from collections import deque\n",
        "\n",
        "class ReplayBuffer(object):\n",
        "    def __init__(self, capacity):\n",
        "        self.buffer = deque(maxlen=capacity)\n",
        "\n",
        "    def push(self, state, action, reward, next_state, done):\n",
        "        state      = np.expand_dims(state, 0)\n",
        "        next_state = np.expand_dims(next_state, 0)\n",
        "\n",
        "        self.buffer.append((state, action, reward, next_state, done))\n",
        "\n",
        "    def sample(self, batch_size):\n",
        "        state, action, reward, next_state, done = zip(*random.sample(self.buffer, batch_size))\n",
        "        return np.concatenate(state), action, reward, np.concatenate(next_state), done\n",
        "\n",
        "    def __len__(self):\n",
        "        return len(self.buffer)"
      ]
    },
    {
      "cell_type": "markdown",
      "metadata": {
        "id": "IyAYT95VwIvl"
      },
      "source": [
        "*###* Testing Replay Buffer"
      ]
    },
    {
      "cell_type": "code",
      "execution_count": 6,
      "metadata": {
        "colab": {
          "base_uri": "https://localhost:8080/"
        },
        "id": "B47-W5kjrEeA",
        "outputId": "91e43938-3f4d-4b22-eaed-c166f52b77ba"
      },
      "outputs": [
        {
          "output_type": "stream",
          "name": "stdout",
          "text": [
            "We add 8 elements but there are only  5 \n",
            "rB:  deque([(array([3]), 3, 3, array([3]), 3), (array([4]), 4, 4, array([4]), 4), (array([5]), 5, 5, array([5]), 5), (array([6]), 6, 6, array([6]), 6), (array([7]), 7, 7, array([7]), 7)], maxlen=5)\n",
            "\n",
            "After we add a new element the buffer is:  deque([(array([4]), 4, 4, array([4]), 4), (array([5]), 5, 5, array([5]), 5), (array([6]), 6, 6, array([6]), 6), (array([7]), 7, 7, array([7]), 7), (array([10]), 10, 10, array([10]), 10)], maxlen=5)\n",
            "\n",
            " The sampled elemenst:  (array([10,  7]), (10, 7), (10, 7), array([10,  7]), (10, 7))\n",
            "\n",
            " The sampled elemenst:  (array([5, 6, 7]), (5, 6, 7), (5, 6, 7), array([5, 6, 7]), (5, 6, 7))\n"
          ]
        }
      ],
      "source": [
        "# We build a Replay buffer for 5 elements\n",
        "rB = ReplayBuffer(5)\n",
        "\n",
        "# We are going to add 8 elements\n",
        "for i in range(8):\n",
        "  rB.push(i,i,i,i,i)\n",
        "print(\"We add 8 elements but there are only \", len(rB), \"\\nrB: \", rB.buffer)\n",
        "\n",
        "# We are going to add another value\n",
        "rB.push(10,10,10,10,10)\n",
        "print(\"\\nAfter we add a new element the buffer is: \", rB.buffer)\n",
        "\n",
        "# No we are going to see are sampled some experiences\n",
        "mini_batch = rB.sample(2)\n",
        "print(\"\\n The sampled elemenst: \", mini_batch )\n",
        "\n",
        "mini_batch = rB.sample(3)\n",
        "print(\"\\n The sampled elemenst: \", mini_batch )\n"
      ]
    },
    {
      "cell_type": "markdown",
      "metadata": {
        "id": "voxkftv1IbK2"
      },
      "source": [
        "## Cart Pole Environment"
      ]
    },
    {
      "cell_type": "code",
      "execution_count": 7,
      "metadata": {
        "colab": {
          "base_uri": "https://localhost:8080/"
        },
        "id": "9EHbFDp6IbK4",
        "outputId": "c5ecf694-187d-4c21-9e91-8463226d3ea5"
      },
      "outputs": [
        {
          "output_type": "stream",
          "name": "stderr",
          "text": [
            "/usr/local/lib/python3.10/dist-packages/gymnasium/envs/registration.py:517: DeprecationWarning: \u001b[33mWARN: The environment CartPole-v0 is out of date. You should consider upgrading to version `v1`.\u001b[0m\n",
            "  logger.deprecation(\n"
          ]
        }
      ],
      "source": [
        "env_id = \"CartPole-v0\"\n",
        "env = gymnasium.make(env_id, render_mode=\"rgb_array\")"
      ]
    },
    {
      "cell_type": "code",
      "execution_count": 8,
      "metadata": {
        "id": "pZySBOH5IbLA"
      },
      "outputs": [],
      "source": [
        "def plot(frame_idx, rewards):\n",
        "    clear_output(True)\n",
        "    plt.figure(figsize=(20,5))\n",
        "    plt.subplot(131)\n",
        "    plt.title('frame %s. reward: %s' % (frame_idx, np.mean(rewards[-10:])))\n",
        "    plt.plot(rewards)\n",
        "    plt.show()"
      ]
    },
    {
      "cell_type": "markdown",
      "metadata": {
        "id": "h7aZ3bYgIbK4"
      },
      "source": [
        "## Epsilon greedy exploration\n",
        "Epsilon value is dynamic. It starts with 1.0 value (exploration) and little by little it is going to decay until 0.01 (exploitation)"
      ]
    },
    {
      "cell_type": "code",
      "execution_count": 9,
      "metadata": {
        "id": "hZCk-i69IbK5"
      },
      "outputs": [],
      "source": [
        "epsilon_start = 1.0\n",
        "epsilon_final = 0.01\n",
        "epsilon_decay = 500\n",
        "\n",
        "epsilon_by_frame = lambda frame_idx: epsilon_final + (epsilon_start - epsilon_final) * math.exp(-1. * frame_idx / epsilon_decay)"
      ]
    },
    {
      "cell_type": "code",
      "execution_count": 10,
      "metadata": {
        "colab": {
          "base_uri": "https://localhost:8080/",
          "height": 447
        },
        "id": "DKVzXtD0IbK6",
        "outputId": "a351077c-ebe2-4dd6-b3c8-b79a65939057"
      },
      "outputs": [
        {
          "output_type": "execute_result",
          "data": {
            "text/plain": [
              "[<matplotlib.lines.Line2D at 0x7b9105bf6800>]"
            ]
          },
          "metadata": {},
          "execution_count": 10
        },
        {
          "output_type": "display_data",
          "data": {
            "text/plain": [
              "<Figure size 640x480 with 1 Axes>"
            ],
            "image/png": "[encoded data removed]"
          },
          "metadata": {}
        }
      ],
      "source": [
        "plt.plot([epsilon_by_frame(i) for i in range(10000)])"
      ]
    },
    {
      "cell_type": "markdown",
      "metadata": {
        "id": "c6A-SD0_IbK7"
      },
      "source": [
        "## Dueling Double Deep Q Network"
      ]
    },
    {
      "cell_type": "code",
      "source": [
        "from collections import OrderedDict"
      ],
      "metadata": {
        "id": "XDZjbrONoMSn"
      },
      "execution_count": 11,
      "outputs": []
    },
    {
      "cell_type": "code",
      "source": [
        "env.observation_space.shape[0]"
      ],
      "metadata": {
        "id": "QAqgLXngNQhu",
        "outputId": "994ad6a3-95c1-49ac-9368-5634c148c075",
        "colab": {
          "base_uri": "https://localhost:8080/"
        }
      },
      "execution_count": 12,
      "outputs": [
        {
          "output_type": "execute_result",
          "data": {
            "text/plain": [
              "4"
            ]
          },
          "metadata": {},
          "execution_count": 12
        }
      ]
    },
    {
      "cell_type": "code",
      "execution_count": 13,
      "metadata": {
        "id": "p4vsG_e3IbK7"
      },
      "outputs": [],
      "source": [
        "class DQN(nn.Module):\n",
        "    def __init__(self, num_inputs, num_actions):\n",
        "        super(DQN, self).__init__()\n",
        "\n",
        "        self.layers = nn.Sequential(OrderedDict([\n",
        "            ('conv1', nn.Linear(env.observation_space.shape[0], 32)),\n",
        "            ('relu1', nn.ReLU()),\n",
        "        ]))\n",
        "\n",
        "        self.v_values = nn.Sequential(OrderedDict([\n",
        "            ('v_value1', nn.Linear(32, 128)),\n",
        "            ('relu2', nn.ReLU()),\n",
        "            ('v_value2', nn.Linear(128, 128)),\n",
        "            ('relu3', nn.ReLU()),\n",
        "            ('v_value3', nn.Linear(128, 1))\n",
        "        ]))\n",
        "\n",
        "        self.adv_values = nn.Sequential(OrderedDict([\n",
        "            ('adv_value1', nn.Linear(32, 128)),\n",
        "            ('relu4', nn.ReLU()),\n",
        "            ('adv_value2', nn.Linear(128, 128)),\n",
        "            ('relu5', nn.ReLU()),\n",
        "            ('adv_value3', nn.Linear(128, env.action_space.n))\n",
        "        ]))\n",
        "\n",
        "        self.optimizer = optim.Adam(self.parameters())\n",
        "        self.replay_buffer = ReplayBuffer(1000)\n",
        "        self.batch_size = 32\n",
        "        self.gamma = 0.99\n",
        "\n",
        "    # This method defines the epsilon value. It started with 1.0 and it decays until 0.01 value\n",
        "    def get_epsilon_value(self, frame_idx):\n",
        "      epsilon_start = 1.0\n",
        "      epsilon_final = 0.01\n",
        "      epsilon_decay = 500\n",
        "\n",
        "      epsilon = lambda frame_idx: epsilon_final + (epsilon_start - epsilon_final) * math.exp(-1. * frame_idx / epsilon_decay)\n",
        "      return epsilon(frame_idx)\n",
        "\n",
        "    # This method computes output Tensors from input Tensors. That is, given an state it returns an array with q(s,a) values for all actions\n",
        "    def forward(self, x):\n",
        "      x = self.layers(x)\n",
        "      v_value = self.v_values(x)\n",
        "      adv_value = self.adv_values(x)\n",
        "      mean_adv_value = torch.mean(adv_value)\n",
        "      q_value = v_value + adv_value - mean_adv_value\n",
        "      return q_value\n",
        "\n",
        "    # Given a state and epsilon value, this method returns an action following epsilon-greedy\n",
        "    def act(self, state, epsilon):\n",
        "        if random.random() > epsilon:\n",
        "            state   = Variable(torch.FloatTensor(state).unsqueeze(0), requires_grad=False)\n",
        "            q_value = self.forward(state)\n",
        "            action  = q_value.max(1)[1].item()\n",
        "        else:\n",
        "            action = random.randrange(env.action_space.n)\n",
        "        return action\n",
        "\n",
        "    # Given a model, it copyes the current model on it.\n",
        "    def update_target(self, target_model):\n",
        "      target_model.load_state_dict(self.state_dict())\n",
        "\n",
        "    # This method updates the weights\n",
        "    # It is solved using tensors\n",
        "    def compute_td_loss(self, target_model):\n",
        "      state, action, reward, next_state, done = self.replay_buffer.sample(self.batch_size)\n",
        "\n",
        "      state      = Variable(torch.FloatTensor(np.float32(state)))\n",
        "      next_state = Variable(torch.FloatTensor(np.float32(next_state)))\n",
        "      action     = Variable(torch.LongTensor(action))\n",
        "      reward     = Variable(torch.FloatTensor(reward))\n",
        "      done       = Variable(torch.FloatTensor(done))\n",
        "\n",
        "      q_values      = self.forward(state)\n",
        "      next_q_values = self.forward(next_state)\n",
        "      next_q_state_values = target_model(next_state)\n",
        "\n",
        "      q_value       = q_values.gather(1, action.unsqueeze(1)).squeeze(1)\n",
        "      next_q_value = next_q_state_values.gather(1, torch.max(next_q_values, 1)[1].unsqueeze(1)).squeeze(1)\n",
        "      #next_q_value = next_q_state_values.max(1)[0]\n",
        "      expected_q_value = reward + self.gamma * next_q_value * (1 - done)\n",
        "\n",
        "      loss = (q_value - Variable(expected_q_value.data)).pow(2).mean()\n",
        "\n",
        "      self.optimizer.zero_grad()\n",
        "      loss.backward()\n",
        "      self.optimizer.step()\n",
        "\n",
        "      return loss\n",
        "\n",
        "    # TODO\n",
        "    # This method updates the weights\n",
        "    def compute_td_loss_our(self, target_model):\n",
        "      # Obtain a mini_batch to train the weights.\n",
        "      # state, action, reward, next_state and done are numpy arrays, each position corresponds to one experience\n",
        "      state, action, reward, next_state, done = self.replay_buffer.sample(self.batch_size)\n",
        "\n",
        "      # Convert those numpy arrays to tensors. It is neccesary to work with Pytorch\n",
        "      states_tensor      = Variable(torch.FloatTensor(np.float32(state)))       # current_state S\n",
        "      actions_tensor     = Variable(torch.LongTensor(action))                   # action A\n",
        "      next_states_tensor = Variable(torch.FloatTensor(np.float32(next_state)))  # next_state S'\n",
        "\n",
        "      # The approximated q_values of each current state\n",
        "      q_values_tensor      = self.forward(states_tensor) # Q(S, A, W)\n",
        "\n",
        "      # The approximated q_values of each next state calculated with the current_model and the target_model\n",
        "      next_q_values_current_model_tensor = self.forward(next_states_tensor) # Q(S', A', W)\n",
        "      next_q_values_target_model_tensor = target_model.forward(next_states_tensor) # Q(S', A', W')\n",
        "\n",
        "      # Convert the approximated next_states' q_values to numpy array. We are going to work with these arrays\n",
        "      next_q_values_current_model = next_q_values_current_model_tensor.detach().numpy();\n",
        "      next_q_values_target_model = next_q_values_target_model_tensor.detach().numpy();\n",
        "      expected_q_value = np.zeros(self.batch_size)\n",
        "\n",
        "      # TODO\n",
        "      # input: next_q_values_current_model is a numpy array. In each element are stored all the approximated q values for the next state calculated with the current_model\n",
        "      # input: next_q_values_target_model is a numpy array. In each element are stored all the approximated q values for the next state calculated with the target_model\n",
        "      # input: reward is a numpy array with the rewards obtained in each experience of the mini_batch (batch_size)\n",
        "      # output: expected_q_value is a numpy array. You have to store in each position the target value of each experience using next_q_values_target_model and reward elements\n",
        "      # note: all these numpy arrays has the same length: the length of the mini_batch (batch_size)\n",
        "      #\n",
        "      # for all the elements on the batch size\n",
        "      #  calculate the target expected value and store in expected_q_value\n",
        "\n",
        "      for i in range(self.batch_size):\n",
        "        next_q_value = 0\n",
        "        if not(done[i]):\n",
        "          next_q_value = max(next_q_values_target_model[i])\n",
        "\n",
        "          # with current model\n",
        "          #next_q_value = max(next_q_values_current_model[i])\n",
        "\n",
        "          # with current model action and target model approximation\n",
        "          #next_action = np.argmax(next_q_values_current_model[i])\n",
        "          #next_q_value = next_q_values_target_model[i][next_action]\n",
        "\n",
        "        expected_q_value[i] = reward[i] + self.gamma*next_q_value\n",
        "\n",
        "      # END TODO\n",
        "\n",
        "      # Prepare data for the loss function\n",
        "      q_value = q_values_tensor.gather(1, actions_tensor.unsqueeze(1)).squeeze(1)\n",
        "      expected_q_values = torch.tensor(expected_q_value)\n",
        "\n",
        "      # Loss function: to know how good the weights are\n",
        "      lossMSE = nn.MSELoss()\n",
        "      loss = lossMSE(q_value.float(), expected_q_values.float())\n",
        "\n",
        "      # Based on the results of the loss function, the weights are updated with gradient descent\n",
        "      self.optimizer.zero_grad()\n",
        "      loss.backward()\n",
        "      self.optimizer.step()\n",
        "\n",
        "      return loss\n",
        "\n",
        "    # TODO\n",
        "    # Method to train the agent\n",
        "    def train(self, env):\n",
        "      num_frames = 25000\n",
        "      losses = []\n",
        "      all_rewards = []\n",
        "      episode_reward = 0\n",
        "      has_converged = False\n",
        "      convergence_time = 'Did not converge'\n",
        "      target_model  = DQN(env.observation_space.shape[0], env.action_space.n)\n",
        "      state, info = env.reset()\n",
        "\n",
        "      # TODO\n",
        "      # replay buffer attribute is empty\n",
        "      # for each frame\n",
        "      #   get current epsilon\n",
        "      #   get action following epsilon greedy\n",
        "      #   get next_state and reward\n",
        "      #   add new experience to the replay buffer\n",
        "      #   update state\n",
        "      #   update episode total reward\n",
        "      #   if done\n",
        "      #     reset environment\n",
        "      #     append the episode total reward to all_rewards array\n",
        "      #     set episode total reward to 0\n",
        "      #   if experience replay has more elements than batch_size\n",
        "      #     update the weights\n",
        "      #   every 100 frames update the target model\n",
        "\n",
        "      for frame_idx in range(1, num_frames + 1):\n",
        "          epsilon = self.get_epsilon_value(frame_idx)\n",
        "          action = self.act(state, epsilon)\n",
        "\n",
        "          next_state, reward, done, truncated, info = env.step(action)\n",
        "          self.replay_buffer.push(state, action, reward, next_state, done)\n",
        "\n",
        "          state = next_state\n",
        "          episode_reward += reward\n",
        "\n",
        "          if done or truncated:\n",
        "              state, info = env.reset()\n",
        "              all_rewards.append(episode_reward)\n",
        "              episode_reward = 0\n",
        "\n",
        "          if len(current_model.replay_buffer) > self.batch_size:\n",
        "              loss = self.compute_td_loss_our(target_model)\n",
        "              losses.append(loss.data)\n",
        "\n",
        "          # to visualize how the agent is learning\n",
        "          if frame_idx % 200 == 0:\n",
        "              plot(frame_idx, all_rewards)\n",
        "              print(f\"Average reward over {len(all_rewards)} episodes: {sum(all_rewards)/len(all_rewards)}\")\n",
        "\n",
        "              if (not has_converged) and (sum(all_rewards[-100:])/100 > 195):\n",
        "                  has_converged = True\n",
        "                  convergence_time = len(all_rewards) - 100\n",
        "\n",
        "          if frame_idx % 100 == 0:\n",
        "              self.update_target(target_model)\n",
        "\n",
        "      print(\"Converges when average reward of 100 latest episodes is > 195\")\n",
        "      print(\"The convergence time is the first of these 100 episodes\")\n",
        "      print(f\"Convergence time: {convergence_time}\")\n",
        "      return convergence_time\n",
        "\n",
        "    # This method runs one episode and generates a video to observe the result\n",
        "    def test(self,env,num_episodes=10):\n",
        "        video_folder=\"videos\"\n",
        "\n",
        "        remove_videos(video_folder=video_folder)\n",
        "\n",
        "        # we are going to work over envVideo.\n",
        "        envVideo = gymnasium.wrappers.RecordVideo(env, video_folder=video_folder)\n",
        "\n",
        "        total_reward = 0\n",
        "\n",
        "        for episode in range(num_episodes):\n",
        "            done = False #It is used to control if the episode is finished, if it is finished the environment must be reset\n",
        "            state, info = envVideo.reset()\n",
        "\n",
        "            while not(done):\n",
        "                action = self.act(state, 0)\n",
        "                next_state, reward, done, truncated, info = envVideo.step(action)\n",
        "                state = next_state\n",
        "                total_reward +=reward\n",
        "                if done or truncated:\n",
        "                  break\n",
        "        envVideo.close()\n",
        "\n",
        "        average_reward = total_reward/num_episodes\n",
        "        print(f\"Total reward over {num_episodes} episodes: {total_reward}\")\n",
        "        print(f\"Average reward over {num_episodes} episodes: {average_reward}\")\n",
        "        print(\"Interpretation: Reward = Amount of time the cart balances the pole.\",\n",
        "              \"\\n                Max reward = Max episode length = 200\")\n",
        "        show_all_videos(video_folder=video_folder)\n",
        "\n",
        "        return average_reward\n",
        "\n"
      ]
    },
    {
      "cell_type": "markdown",
      "metadata": {
        "id": "ynxAQEvLmC6R"
      },
      "source": [
        "### Train the agent once"
      ]
    },
    {
      "cell_type": "code",
      "execution_count": 14,
      "metadata": {
        "colab": {
          "base_uri": "https://localhost:8080/",
          "height": 556
        },
        "id": "uQO4hDUn2vUa",
        "outputId": "5f8a0a72-bb4d-4781-8878-be9c320ec272"
      },
      "outputs": [
        {
          "output_type": "display_data",
          "data": {
            "text/plain": [
              "<Figure size 2000x500 with 1 Axes>"
            ],
            "image/png": "[encoded data removed]"
          },
          "metadata": {}
        },
        {
          "output_type": "stream",
          "name": "stdout",
          "text": [
            "Average reward over 173 episodes: 144.4971098265896\n",
            "Converges when average reward of 100 latest episodes is > 195\n",
            "The convergence time is the first of these 100 episodes\n",
            "Convergence time: Did not converge\n"
          ]
        },
        {
          "output_type": "execute_result",
          "data": {
            "text/plain": [
              "'Did not converge'"
            ],
            "application/vnd.google.colaboratory.intrinsic+json": {
              "type": "string"
            }
          },
          "metadata": {},
          "execution_count": 14
        }
      ],
      "source": [
        "current_model = DQN(env.observation_space.shape[0], env.action_space.n)\n",
        "current_model.train(env)"
      ]
    },
    {
      "cell_type": "markdown",
      "metadata": {
        "id": "WoZsHTkFl7Jq"
      },
      "source": [
        "### Test the agent once"
      ]
    },
    {
      "cell_type": "code",
      "execution_count": 15,
      "metadata": {
        "id": "YIVpEbfR4pVO",
        "colab": {
          "base_uri": "https://localhost:8080/",
          "height": 1000
        },
        "outputId": "208261bc-b7d7-4db4-98ac-1094bded3818"
      },
      "outputs": [
        {
          "output_type": "stream",
          "name": "stderr",
          "text": [
            "/usr/local/lib/python3.10/dist-packages/ipykernel/ipkernel.py:283: DeprecationWarning: `should_run_async` will not call `transform_cell` automatically in the future. Please pass the result to `transformed_cell` argument and any exception that happen during thetransform in `preprocessing_exc_tuple` in IPython 7.17 and above.\n",
            "  and should_run_async(code)\n",
            "/usr/local/lib/python3.10/dist-packages/moviepy/config_defaults.py:1: DeprecationWarning: invalid escape sequence '\\P'\n",
            "  \"\"\"\n",
            "/usr/local/lib/python3.10/dist-packages/pygame/pkgdata.py:25: DeprecationWarning: pkg_resources is deprecated as an API. See https://setuptools.pypa.io/en/latest/pkg_resources.html\n",
            "  from pkg_resources import resource_stream, resource_exists\n",
            "/usr/local/lib/python3.10/dist-packages/pkg_resources/__init__.py:3154: DeprecationWarning: Deprecated call to `pkg_resources.declare_namespace('google')`.\n",
            "Implementing implicit namespace packages (as specified in PEP 420) is preferred to `pkg_resources.declare_namespace`. See https://setuptools.pypa.io/en/latest/references/keywords.html#keyword-namespace-packages\n",
            "  declare_namespace(pkg)\n",
            "/usr/local/lib/python3.10/dist-packages/pkg_resources/__init__.py:3154: DeprecationWarning: Deprecated call to `pkg_resources.declare_namespace('google.cloud')`.\n",
            "Implementing implicit namespace packages (as specified in PEP 420) is preferred to `pkg_resources.declare_namespace`. See https://setuptools.pypa.io/en/latest/references/keywords.html#keyword-namespace-packages\n",
            "  declare_namespace(pkg)\n",
            "/usr/local/lib/python3.10/dist-packages/pkg_resources/__init__.py:3154: DeprecationWarning: Deprecated call to `pkg_resources.declare_namespace('sphinxcontrib')`.\n",
            "Implementing implicit namespace packages (as specified in PEP 420) is preferred to `pkg_resources.declare_namespace`. See https://setuptools.pypa.io/en/latest/references/keywords.html#keyword-namespace-packages\n",
            "  declare_namespace(pkg)\n"
          ]
        },
        {
          "output_type": "stream",
          "name": "stdout",
          "text": [
            "Total reward over 10 episodes: 2000.0\n",
            "Average reward over 10 episodes: 200.0\n",
            "Interpretation: Reward = Amount of time the cart balances the pole. \n",
            "                Max reward = Max episode length = 200\n",
            "files:  ['videos/rl-video-episode-8.mp4', 'videos/rl-video-episode-0.mp4', 'videos/rl-video-episode-1.mp4']\n"
          ]
        },
        {
          "output_type": "display_data",
          "data": {
            "text/plain": [
              "<IPython.core.display.HTML object>"
            ],
            "text/html": [
              "\n",
              "        <video width=\"320\" height=\"240\" alt=\"test\" controls>\n",
              "        <source src=\"data:video/mp4;base64,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\" type=\"video/mp4\"/>\n",
              "        </video>\n",
              "        "
            ]
          },
          "metadata": {}
        },
        {
          "output_type": "display_data",
          "data": {
            "text/plain": [
              "<IPython.core.display.HTML object>"
            ],
            "text/html": [
              "\n",
              "        <video width=\"320\" height=\"240\" alt=\"test\" controls>\n",
              "        <source src=\"data:video/mp4;base64,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\" type=\"video/mp4\"/>\n",
              "        </video>\n",
              "        "
            ]
          },
          "metadata": {}
        },
        {
          "output_type": "display_data",
          "data": {
            "text/plain": [
              "<IPython.core.display.HTML object>"
            ],
            "text/html": [
              "\n",
              "        <video width=\"320\" height=\"240\" alt=\"test\" controls>\n",
              "        <source src=\"data:video/mp4;base64,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\" type=\"video/mp4\"/>\n",
              "        </video>\n",
              "        "
            ]
          },
          "metadata": {}
        },
        {
          "output_type": "stream",
          "name": "stdout",
          "text": [
            "Played: videos/rl-video-episode-1.mp4\n"
          ]
        },
        {
          "output_type": "execute_result",
          "data": {
            "text/plain": [
              "200.0"
            ]
          },
          "metadata": {},
          "execution_count": 15
        }
      ],
      "source": [
        "current_model.test(env)"
      ]
    },
    {
      "cell_type": "markdown",
      "source": [
        "###Train and test the agent multiple times, measure convergence time and rewards"
      ],
      "metadata": {
        "id": "YT2APln51y-Z"
      }
    },
    {
      "cell_type": "code",
      "source": [
        "convergence_times = [] # Convergence time of each round of training\n",
        "rewards_per_episode = [] # For each trained agent, this is the average reward over all episodes during testing\n",
        "num_rounds = 10 # Number of training rounds\n",
        "\n",
        "for episode in range(num_rounds):\n",
        "    current_model = DQN(env.observation_space.shape[0], env.action_space.n)\n",
        "    convergence_times.append(current_model.train(env))\n",
        "    rewards_per_episode.append(current_model.test(env))\n",
        "\n",
        "# Filter out any N/A values for training rounds where convergence criteria was not met\n",
        "filtered_convergence_times = [time for time in convergence_times if isinstance(time, (int, float))]\n",
        "\n",
        "times_converged = len(filtered_convergence_times) # Amount of training rounds where convergence criteria was met\n",
        "avg_rew_per_episode = np.mean(rewards_per_episode) # Average of all agents average rewards per episode\n",
        "avg_convergence_time = np.mean(filtered_convergence_times) # Average convergence time\n",
        "rew_per_ep_std = np.std(rewards_per_episode, ddof=1) # Standard deviation of rewards per episode across all agents\n",
        "convergence_time_std = np.std(filtered_convergence_times, ddof=1) # Standard deviation of convergence time\n",
        "\n",
        "print(f\"Number of training rounds: {num_rounds}\")\n",
        "print(f\"Times converged: {times_converged}\")\n",
        "print(f\"Average convergence time: {avg_convergence_time}\")\n",
        "print(f\"Standard deviation of convergence time: {convergence_time_std}\")\n",
        "print(f\"Average reward per episode for the trained agents: {avg_rew_per_episode}\")\n",
        "print(f\"Standard deviation of reward per episode for the trained agents: {rew_per_ep_std}\")\n"
      ],
      "metadata": {
        "id": "Oo6cES8O14cc",
        "outputId": "655fe2cc-0433-4b43-b91d-cdab6d61ed3d",
        "colab": {
          "base_uri": "https://localhost:8080/",
          "height": 1000
        }
      },
      "execution_count": 16,
      "outputs": [
        {
          "output_type": "display_data",
          "data": {
            "text/plain": [
              "<Figure size 2000x500 with 1 Axes>"
            ],
            "image/png": "[encoded data removed]"
          },
          "metadata": {}
        },
        {
          "output_type": "stream",
          "name": "stdout",
          "text": [
            "Average reward over 174 episodes: 143.5632183908046\n",
            "Converges when average reward of 100 latest episodes is > 195\n",
            "The convergence time is the first of these 100 episodes\n",
            "Convergence time: Did not converge\n",
            "Total reward over 10 episodes: 96.0\n",
            "Average reward over 10 episodes: 9.6\n",
            "Interpretation: Reward = Amount of time the cart balances the pole. \n",
            "                Max reward = Max episode length = 200\n",
            "files:  ['videos/rl-video-episode-8.mp4', 'videos/rl-video-episode-0.mp4', 'videos/rl-video-episode-1.mp4']\n"
          ]
        },
        {
          "output_type": "display_data",
          "data": {
            "text/plain": [
              "<IPython.core.display.HTML object>"
            ],
            "text/html": [
              "\n",
              "        <video width=\"320\" height=\"240\" alt=\"test\" controls>\n",
              "        <source src=\"data:video/mp4;base64,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\" type=\"video/mp4\"/>\n",
              "        </video>\n",
              "        "
            ]
          },
          "metadata": {}
        },
        {
          "output_type": "display_data",
          "data": {
            "text/plain": [
              "<IPython.core.display.HTML object>"
            ],
            "text/html": [
              "\n",
              "        <video width=\"320\" height=\"240\" alt=\"test\" controls>\n",
              "        <source src=\"data:video/mp4;base64,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\" type=\"video/mp4\"/>\n",
              "        </video>\n",
              "        "
            ]
          },
          "metadata": {}
        },
        {
          "output_type": "display_data",
          "data": {
            "text/plain": [
              "<IPython.core.display.HTML object>"
            ],
            "text/html": [
              "\n",
              "        <video width=\"320\" height=\"240\" alt=\"test\" controls>\n",
              "        <source src=\"data:video/mp4;base64,AAAAIGZ0eXBpc29tAAACAGlzb21pc28yYXZjMW1wNDEAAAAIZnJlZQAACS5tZGF0AAACrgYF//+q3EXpvebZSLeWLNgg2SPu73gyNjQgLSBjb3JlIDE1OSByMjk5MSAxNzcxYjU1IC0gSC4yNjQvTVBFRy00IEFWQyBjb2RlYyAtIENvcHlsZWZ0IDIwMDMtMjAxOSAtIGh0dHA6Ly93d3cudmlkZW9sYW4ub3JnL3gyNjQuaHRtbCAtIG9wdGlvbnM6IGNhYmFjPTEgcmVmPTMgZGVibG9jaz0xOjA6MCBhbmFseXNlPTB4MzoweDExMyBtZT1oZXggc3VibWU9NyBwc3k9MSBwc3lfcmQ9MS4wMDowLjAwIG1peGVkX3JlZj0xIG1lX3JhbmdlPTE2IGNocm9tYV9tZT0xIHRyZWxsaXM9MSA4eDhkY3Q9MSBjcW09MCBkZWFkem9uZT0yMSwxMSBmYXN0X3Bza2lwPTEgY2hyb21hX3FwX29mZnNldD0tMiB0aHJlYWRzPTMgbG9va2FoZWFkX3RocmVhZHM9MSBzbGljZWRfdGhyZWFkcz0wIG5yPTAgZGVjaW1hdGU9MSBpbnRlcmxhY2VkPTAgYmx1cmF5X2NvbXBhdD0wIGNvbnN0cmFpbmVkX2ludHJhPTAgYmZyYW1lcz0zIGJfcHlyYW1pZD0yIGJfYWRhcHQ9MSBiX2JpYXM9MCBkaXJlY3Q9MSB3ZWlnaHRiPTEgb3Blbl9nb3A9MCB3ZWlnaHRwPTIga2V5aW50PTI1MCBrZXlpbnRfbWluPTI1IHNjZW5lY3V0PTQwIGludHJhX3JlZnJlc2g9MCByY19sb29rYWhlYWQ9NDAgcmM9Y3JmIG1idHJlZT0xIGNyZj0yMy4wIHFjb21wPTAuNjAgcXBtaW49MCBxcG1heD02OSBxcHN0ZXA9NCBpcF9yYXRpbz0xLjQwIGFxPTE6MS4wMACAAAABz2WIhAAv//72rvzLK0cLlS4dWXuzUfLoSXL9iDB9aAAAAwAAAwAAJuKiZ0WFMeJsgAAALmAIWElDyDzETFWKgSxDPavgnEaAn05f66dUY9WghoO7A3rD5OX8COh/BRvdbRre7LzdhQJmCDTNRI/jscKLcuLP8APjt7zvIfeIFofW/7HrdMIddCsEjXWdYH7P0wLvbKwS4YWjdlVyDPvL17jHBJvnVHSyH/aAMum2+fT+xsRfHkwj+QC4kytOd37XDTwA2QD6Mpc6FLe7eDYG/EJCTUABLcX8aC4ft94nTR4EP4opFIYQAymgAFJ1myWRiGy9be3JRFU1+MssYNpaMq/ilttqOGbVlr7/hM050i3X+OX+oIX2PoReboQArYSJAAADAKe4uCInpHJIbMvppfJsdNS6e55LnYveaPEab4XNlavIMtUjJyr4WVX/GXw/GSK/L4aEF4S0PtvoiadoqY3bYbe3aTWKFpF0OiwBxWLpsrakiFmW4xSe0CPT5YYWE/uvO4rQcbN0AAANJXTT6sVvozJnb9wH0Ck9JAIP+6BH5w0MYs8fd72pG3Rto2c8vlQd2vbhbYvMIPKTuQQgAdLBmtwAAAMAAAMAAAMAB60AAACSQZokbEK//jhAAAENG458HoeDwgGZjXLJByZQdFyU4BvXOhJcCqYseoweovqKfhV8/G1RKX6XgqMGixFJ963RXO8CGgb3ec1Dm9VhR7DSuj2eJBCYsntzTnPkMKvnqI+A+KvNUMEcUNtIIVZl5QefEtVfe1bS4j4sCWRUmy8L30WW7EeYjp4zBpXD0XflRYTnmkAAAAA0QZ5CeIR/AAAWvkuwOubH4i5EPRxEepqIlE70lvvieb5QAM9gVAloFcYKjgYhbLgfvZg/RwAAABwBnmF0R/8AAAUdD70SuafX6j5nWtZp9JJEYGVOAAAALQGeY2pH/wAAI78EJwtH9a6ifh0K+PiyozkIcNj84/euIJiMfXqMggxhnwLnowAAAMlBmmZJqEFomUwU8K/+OEAAAQz2niwmQWtswoAg6Mcz6A2V43UOiulbVJnl46V6VJfgSuaSxR1D0U7i2BUe+YgA6lPvqzbitIZPI+R6qN0kD1lOZAjykcV5a0xS9tJs//qHvd92NEo2wKuLqmvth9so/+8KOySGCTi72IKKKXOwDydc3t62IJy24o8TT1bTjMEO+XSZdTXGVHEQOwg/n31uV+R2zKwZUQnFSMrBgHhcSO+v5+FQ7kPk3Ym0eEre6unoa0JDD/gWsTUAAAA7AZ6Fakf/AAAjvZYCieBmQdnDTJaUICWsOl2ujbEXIozOVny3GLMOsbb0Uv9ZT6aXk55Dbgh6MMMrjcEAAADGQZqJSeEKUmUwIT/98QAAAwKe6LEQ4XH/YL5QPisIAFs2bxjr/EoYfJDJbklOvJodxgL2lxx0PNaOvPgAgfw0UBRMxMbu3ZXyTri3kyOMvWLaSLohao6ikDYshd6kUlx4zz/QsbOrNiSv13vZPRHaYoMpxjgWiOsp84nZcIVCZwtXhBAFO7FtegXA5MEGGimnszu+ShEJP/VDvRuRW6l3EdA6MeT3NzWe4EMyuUx2+z3gSXvUAguBdUSuIjozTMpMhO6oTG1PAAAAWEGep0U0TCP/AAAWu5Q1fVDJs0SrpSWyzaUNImFPdcNjPSsIWS4vIywY+BUqjzZR6tn+/1/U8UEyRglblUD22MRryL4cM0GgA0KSWo0FOWBEiCr/a7mLDZgAAABFAZ7Iakf/AAAjvc0yc3jg4j4qNYuC0NUn9BBSpWQ7lPvtYNs+eMP2rwaRcFAcQZkcql1gxWTwS3+XZFEBLEUXRgeN+sqAAAAAsEGay0moQWiZTBTx//yEAAAP76J79hdcKPQCaQ4MGXA/sXWiKW77NnnX4TYPTiH+4NE4+gulgYP7l0A3I0qlR//4biuIevqQOsasCIqDWkR3ccxFRxAoMh418uMmPKHrOND/fQWs5ETvGNlV1PCGVZdmKSQbHHdoAhKpzwaodeFXv2Xr4KU3LfUWMsrrQLORiwJIjIjpvOBwEXU8WQplAfHgxKmHdsOXEhzZg6ZIGd/BAAAATwGe6mpH/wAAI7Dj/52BribMGu6DdRHHFe6dO7qvi5ggc/xgHWDZIpujBPCGvgdE0leYtkAMU5NBNHLrSyP/Sfj41BppKp+X6PKEi11q7XgAAAObbW9vdgAAAGxtdmhkAAAAAAAAAAAAAAAAAAAD6AAAAPAAAQAAAQAAAAAAAAAAAAAAAAEAAAAAAAAAAAAAAAAAAAABAAAAAAAAAAAAAAAAAABAAAAAAAAAAAAAAAAAAAAAAAAAAAAAAAAAAAAAAAAAAgAAAsV0cmFrAAAAXHRraGQAAAADAAAAAAAAAAAAAAABAAAAAAAAAPAAAAAAAAAAAAAAAAAAAAAAAAEAAAAAAAAAAAAAAAAAAAABAAAAAAAAAAAAAAAAAABAAAAAAlgAAAGQAAAAAAAkZWR0cwAAABxlbHN0AAAAAAAAAAEAAADwAAACAAABAAAAAAI9bWRpYQAAACBtZGhkAAAAAAAAAAAAAAAAAAAyAAAADABVxAAAAAAALWhkbHIAAAAAAAAAAHZpZGUAAAAAAAAAAAAAAABWaWRlb0hhbmRsZXIAAAAB6G1pbmYAAAAUdm1oZAAAAAEAAAAAAAAAAAAAACRkaW5mAAAAHGRyZWYAAAAAAAAAAQAAAAx1cmwgAAAAAQAAAahzdGJsAAAAmHN0c2QAAAAAAAAAAQAAAIhhdmMxAAAAAAAAAAEAAAAAAAAAAAAAAAAAAAAAAlgBkABIAAAASAAAAAAAAAABAAAAAAAAAAAAAAAAAAAAAAAAAAAAAAAAAAAAAAAAAAAAGP//AAAAMmF2Y0MBZAAf/+EAGWdkAB+s2UCYM+XhAAADAAEAAAMAZA8YMZYBAAZo6+PLIsAAAAAYc3R0cwAAAAAAAAABAAAADAAAAQAAAAAUc3RzcwAAAAAAAAABAAAAAQAAAGhjdHRzAAAAAAAAAAsAAAABAAACAAAAAAEAAAUAAAAAAQAAAgAAAAABAAAAAAAAAAEAAAEAAAAAAQAAAwAAAAABAAABAAAAAAEAAAQAAAAAAgAAAQAAAAABAAADAAAAAAEAAAEAAAAAHHN0c2MAAAAAAAAAAQAAAAEAAAAMAAAAAQAAAERzdHN6AAAAAAAAAAAAAAAMAAAEhQAAAJYAAAA4AAAAIAAAADEAAADNAAAAPwAAAMoAAABcAAAASQAAALQAAABTAAAAFHN0Y28AAAAAAAAAAQAAADAAAABidWR0YQAAAFptZXRhAAAAAAAAACFoZGxyAAAAAAAAAABtZGlyYXBwbAAAAAAAAAAAAAAAAC1pbHN0AAAAJal0b28AAAAdZGF0YQAAAAEAAAAATGF2ZjU4LjI5LjEwMA==\" type=\"video/mp4\"/>\n",
              "        </video>\n",
              "        "
            ]
          },
          "metadata": {}
        },
        {
          "output_type": "stream",
          "name": "stdout",
          "text": [
            "Played: videos/rl-video-episode-1.mp4\n",
            "Number of training rounds: 10\n",
            "Times converged: 0\n",
            "Average convergence time: nan\n",
            "Standard deviation of convergence time: nan\n",
            "Average reward per episode for the trained agents: 162.66\n",
            "Standard deviation of reward per episode for the trained agents: 66.31395361795619\n"
          ]
        },
        {
          "output_type": "stream",
          "name": "stderr",
          "text": [
            "/usr/local/lib/python3.10/dist-packages/numpy/core/fromnumeric.py:3504: RuntimeWarning: Mean of empty slice.\n",
            "  return _methods._mean(a, axis=axis, dtype=dtype,\n",
            "/usr/local/lib/python3.10/dist-packages/numpy/core/_methods.py:129: RuntimeWarning: invalid value encountered in scalar divide\n",
            "  ret = ret.dtype.type(ret / rcount)\n",
            "/usr/local/lib/python3.10/dist-packages/numpy/core/_methods.py:206: RuntimeWarning: Degrees of freedom <= 0 for slice\n",
            "  ret = _var(a, axis=axis, dtype=dtype, out=out, ddof=ddof,\n",
            "/usr/local/lib/python3.10/dist-packages/numpy/core/_methods.py:163: RuntimeWarning: invalid value encountered in divide\n",
            "  arrmean = um.true_divide(arrmean, div, out=arrmean,\n",
            "/usr/local/lib/python3.10/dist-packages/numpy/core/_methods.py:198: RuntimeWarning: invalid value encountered in scalar divide\n",
            "  ret = ret.dtype.type(ret / rcount)\n"
          ]
        }
      ]
    }
  ],
  "metadata": {
    "colab": {
      "provenance": [],
      "gpuType": "T4",
      "include_colab_link": true
    },
    "kernelspec": {
      "display_name": "Python 3",
      "name": "python3"
    },
    "language_info": {
      "codemirror_mode": {
        "name": "ipython",
        "version": 3
      },
      "file_extension": ".py",
      "mimetype": "text/x-python",
      "name": "python",
      "nbconvert_exporter": "python",
      "pygments_lexer": "ipython3",
      "version": "3.6.8"
    },
    "accelerator": "GPU"
  },
  "nbformat": 4,
  "nbformat_minor": 0
}