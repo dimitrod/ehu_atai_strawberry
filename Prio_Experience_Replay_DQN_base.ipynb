{
  "cells": [
    {
      "cell_type": "markdown",
      "metadata": {
        "id": "7p-FkdaHOISM"
      },
      "source": [
        "# **Initialization**"
      ]
    },
    {
      "cell_type": "markdown",
      "metadata": {
        "id": "VzfboO1QP_Uw"
      },
      "source": [
        "## Install dependencies"
      ]
    },
    {
      "cell_type": "code",
      "execution_count": 1,
      "metadata": {
        "colab": {
          "base_uri": "https://localhost:8080/"
        },
        "id": "mt4fLrG2Puzd",
        "outputId": "98d63920-7090-4c08-cc7a-65d68c2172cc"
      },
      "outputs": [
        {
          "output_type": "stream",
          "name": "stdout",
          "text": [
            "\r0% [Working]\r            \rHit:1 http://archive.ubuntu.com/ubuntu jammy InRelease\n",
            "\r0% [Waiting for headers] [Waiting for headers] [Connected to cloud.r-project.org (18.161.170.63)] [C\r                                                                                                    \rGet:2 http://archive.ubuntu.com/ubuntu jammy-updates InRelease [128 kB]\n",
            "\r                                                                                                    \rGet:3 http://security.ubuntu.com/ubuntu jammy-security InRelease [129 kB]\n",
            "\r                                                                                                    \rGet:4 https://cloud.r-project.org/bin/linux/ubuntu jammy-cran40/ InRelease [3,626 B]\n",
            "\r0% [2 InRelease 47.5 kB/128 kB 37%] [3 InRelease 75.0 kB/129 kB 58%] [Waiting for headers] [Waiting \r                                                                                                    \rGet:5 https://developer.download.nvidia.com/compute/cuda/repos/ubuntu2204/x86_64  InRelease [1,581 B]\n",
            "Get:6 https://r2u.stat.illinois.edu/ubuntu jammy InRelease [6,555 B]\n",
            "Get:7 http://archive.ubuntu.com/ubuntu jammy-backports InRelease [127 kB]\n",
            "Hit:8 https://ppa.launchpadcontent.net/deadsnakes/ppa/ubuntu jammy InRelease\n",
            "Get:9 https://ppa.launchpadcontent.net/graphics-drivers/ppa/ubuntu jammy InRelease [24.3 kB]\n",
            "Hit:10 https://ppa.launchpadcontent.net/ubuntugis/ppa/ubuntu jammy InRelease\n",
            "Get:11 https://developer.download.nvidia.com/compute/cuda/repos/ubuntu2204/x86_64  Packages [1,196 kB]\n",
            "Get:12 http://security.ubuntu.com/ubuntu jammy-security/universe amd64 Packages [1,226 kB]\n",
            "Get:13 http://security.ubuntu.com/ubuntu jammy-security/main amd64 Packages [2,506 kB]\n",
            "Get:14 https://r2u.stat.illinois.edu/ubuntu jammy/main amd64 Packages [2,628 kB]\n",
            "Get:15 https://r2u.stat.illinois.edu/ubuntu jammy/main all Packages [8,555 kB]\n",
            "Get:16 http://archive.ubuntu.com/ubuntu jammy-updates/universe amd64 Packages [1,517 kB]\n",
            "Get:17 http://archive.ubuntu.com/ubuntu jammy-updates/main amd64 Packages [2,817 kB]\n",
            "Get:18 https://ppa.launchpadcontent.net/graphics-drivers/ppa/ubuntu jammy/main amd64 Packages [53.4 kB]\n",
            "Fetched 20.9 MB in 8s (2,474 kB/s)\n",
            "Reading package lists... Done\n",
            "W: Skipping acquire of configured file 'main/source/Sources' as repository 'https://r2u.stat.illinois.edu/ubuntu jammy InRelease' does not seem to provide it (sources.list entry misspelt?)\n",
            "Reading package lists... Done\n",
            "Building dependency tree... Done\n",
            "Reading state information... Done\n",
            "\u001b[1;31mE: \u001b[0mUnable to locate package python-opengl\u001b[0m\n",
            "Reading package lists... Done\n",
            "Building dependency tree... Done\n",
            "Reading state information... Done\n",
            "ffmpeg is already the newest version (7:4.4.2-0ubuntu0.22.04.1).\n",
            "0 upgraded, 0 newly installed, 0 to remove and 53 not upgraded.\n",
            "Reading package lists... Done\n",
            "Building dependency tree... Done\n",
            "Reading state information... Done\n",
            "The following additional packages will be installed:\n",
            "  libfontenc1 libxfont2 libxkbfile1 x11-xkb-utils xfonts-base xfonts-encodings xfonts-utils\n",
            "  xserver-common\n",
            "The following NEW packages will be installed:\n",
            "  libfontenc1 libxfont2 libxkbfile1 x11-xkb-utils xfonts-base xfonts-encodings xfonts-utils\n",
            "  xserver-common xvfb\n",
            "0 upgraded, 9 newly installed, 0 to remove and 53 not upgraded.\n",
            "Need to get 7,815 kB of archives.\n",
            "After this operation, 11.9 MB of additional disk space will be used.\n",
            "Get:1 http://archive.ubuntu.com/ubuntu jammy/main amd64 libfontenc1 amd64 1:1.1.4-1build3 [14.7 kB]\n",
            "Get:2 http://archive.ubuntu.com/ubuntu jammy/main amd64 libxfont2 amd64 1:2.0.5-1build1 [94.5 kB]\n",
            "Get:3 http://archive.ubuntu.com/ubuntu jammy/main amd64 libxkbfile1 amd64 1:1.1.0-1build3 [71.8 kB]\n",
            "Get:4 http://archive.ubuntu.com/ubuntu jammy/main amd64 x11-xkb-utils amd64 7.7+5build4 [172 kB]\n",
            "Get:5 http://archive.ubuntu.com/ubuntu jammy/main amd64 xfonts-encodings all 1:1.0.5-0ubuntu2 [578 kB]\n",
            "Get:6 http://archive.ubuntu.com/ubuntu jammy/main amd64 xfonts-utils amd64 1:7.7+6build2 [94.6 kB]\n",
            "Get:7 http://archive.ubuntu.com/ubuntu jammy/main amd64 xfonts-base all 1:1.0.5 [5,896 kB]\n",
            "Get:8 http://archive.ubuntu.com/ubuntu jammy-updates/main amd64 xserver-common all 2:21.1.4-2ubuntu1.7~22.04.12 [28.7 kB]\n",
            "Get:9 http://archive.ubuntu.com/ubuntu jammy-updates/universe amd64 xvfb amd64 2:21.1.4-2ubuntu1.7~22.04.12 [864 kB]\n",
            "Fetched 7,815 kB in 1s (5,324 kB/s)\n",
            "Selecting previously unselected package libfontenc1:amd64.\n",
            "(Reading database ... 123634 files and directories currently installed.)\n",
            "Preparing to unpack .../0-libfontenc1_1%3a1.1.4-1build3_amd64.deb ...\n",
            "Unpacking libfontenc1:amd64 (1:1.1.4-1build3) ...\n",
            "Selecting previously unselected package libxfont2:amd64.\n",
            "Preparing to unpack .../1-libxfont2_1%3a2.0.5-1build1_amd64.deb ...\n",
            "Unpacking libxfont2:amd64 (1:2.0.5-1build1) ...\n",
            "Selecting previously unselected package libxkbfile1:amd64.\n",
            "Preparing to unpack .../2-libxkbfile1_1%3a1.1.0-1build3_amd64.deb ...\n",
            "Unpacking libxkbfile1:amd64 (1:1.1.0-1build3) ...\n",
            "Selecting previously unselected package x11-xkb-utils.\n",
            "Preparing to unpack .../3-x11-xkb-utils_7.7+5build4_amd64.deb ...\n",
            "Unpacking x11-xkb-utils (7.7+5build4) ...\n",
            "Selecting previously unselected package xfonts-encodings.\n",
            "Preparing to unpack .../4-xfonts-encodings_1%3a1.0.5-0ubuntu2_all.deb ...\n",
            "Unpacking xfonts-encodings (1:1.0.5-0ubuntu2) ...\n",
            "Selecting previously unselected package xfonts-utils.\n",
            "Preparing to unpack .../5-xfonts-utils_1%3a7.7+6build2_amd64.deb ...\n",
            "Unpacking xfonts-utils (1:7.7+6build2) ...\n",
            "Selecting previously unselected package xfonts-base.\n",
            "Preparing to unpack .../6-xfonts-base_1%3a1.0.5_all.deb ...\n",
            "Unpacking xfonts-base (1:1.0.5) ...\n",
            "Selecting previously unselected package xserver-common.\n",
            "Preparing to unpack .../7-xserver-common_2%3a21.1.4-2ubuntu1.7~22.04.12_all.deb ...\n",
            "Unpacking xserver-common (2:21.1.4-2ubuntu1.7~22.04.12) ...\n",
            "Selecting previously unselected package xvfb.\n",
            "Preparing to unpack .../8-xvfb_2%3a21.1.4-2ubuntu1.7~22.04.12_amd64.deb ...\n",
            "Unpacking xvfb (2:21.1.4-2ubuntu1.7~22.04.12) ...\n",
            "Setting up libfontenc1:amd64 (1:1.1.4-1build3) ...\n",
            "Setting up xfonts-encodings (1:1.0.5-0ubuntu2) ...\n",
            "Setting up libxkbfile1:amd64 (1:1.1.0-1build3) ...\n",
            "Setting up libxfont2:amd64 (1:2.0.5-1build1) ...\n",
            "Setting up x11-xkb-utils (7.7+5build4) ...\n",
            "Setting up xfonts-utils (1:7.7+6build2) ...\n",
            "Setting up xfonts-base (1:1.0.5) ...\n",
            "Setting up xserver-common (2:21.1.4-2ubuntu1.7~22.04.12) ...\n",
            "Setting up xvfb (2:21.1.4-2ubuntu1.7~22.04.12) ...\n",
            "Processing triggers for man-db (2.10.2-1) ...\n",
            "Processing triggers for fontconfig (2.13.1-4.2ubuntu5) ...\n",
            "Processing triggers for libc-bin (2.35-0ubuntu3.4) ...\n",
            "/sbin/ldconfig.real: /usr/local/lib/libtbb.so.12 is not a symbolic link\n",
            "\n",
            "/sbin/ldconfig.real: /usr/local/lib/libur_loader.so.0 is not a symbolic link\n",
            "\n",
            "/sbin/ldconfig.real: /usr/local/lib/libtbbbind.so.3 is not a symbolic link\n",
            "\n",
            "/sbin/ldconfig.real: /usr/local/lib/libtcm.so.1 is not a symbolic link\n",
            "\n",
            "/sbin/ldconfig.real: /usr/local/lib/libtbbmalloc_proxy.so.2 is not a symbolic link\n",
            "\n",
            "/sbin/ldconfig.real: /usr/local/lib/libur_adapter_opencl.so.0 is not a symbolic link\n",
            "\n",
            "/sbin/ldconfig.real: /usr/local/lib/libtbbbind_2_0.so.3 is not a symbolic link\n",
            "\n",
            "/sbin/ldconfig.real: /usr/local/lib/libur_adapter_level_zero.so.0 is not a symbolic link\n",
            "\n",
            "/sbin/ldconfig.real: /usr/local/lib/libtcm_debug.so.1 is not a symbolic link\n",
            "\n",
            "/sbin/ldconfig.real: /usr/local/lib/libhwloc.so.15 is not a symbolic link\n",
            "\n",
            "/sbin/ldconfig.real: /usr/local/lib/libumf.so.0 is not a symbolic link\n",
            "\n",
            "/sbin/ldconfig.real: /usr/local/lib/libtbbmalloc.so.2 is not a symbolic link\n",
            "\n",
            "/sbin/ldconfig.real: /usr/local/lib/libtbbbind_2_5.so.3 is not a symbolic link\n",
            "\n",
            "Collecting PyVirtualDisplay==3.0\n",
            "  Downloading PyVirtualDisplay-3.0-py3-none-any.whl.metadata (943 bytes)\n",
            "Downloading PyVirtualDisplay-3.0-py3-none-any.whl (15 kB)\n",
            "Installing collected packages: PyVirtualDisplay\n",
            "Successfully installed PyVirtualDisplay-3.0\n",
            "Collecting gymnasium[classic_control]\n",
            "  Downloading gymnasium-1.0.0-py3-none-any.whl.metadata (9.5 kB)\n",
            "Requirement already satisfied: numpy>=1.21.0 in /usr/local/lib/python3.10/dist-packages (from gymnasium[classic_control]) (1.26.4)\n",
            "Requirement already satisfied: cloudpickle>=1.2.0 in /usr/local/lib/python3.10/dist-packages (from gymnasium[classic_control]) (3.1.0)\n",
            "Requirement already satisfied: typing-extensions>=4.3.0 in /usr/local/lib/python3.10/dist-packages (from gymnasium[classic_control]) (4.12.2)\n",
            "Collecting farama-notifications>=0.0.1 (from gymnasium[classic_control])\n",
            "  Downloading Farama_Notifications-0.0.4-py3-none-any.whl.metadata (558 bytes)\n",
            "Requirement already satisfied: pygame>=2.1.3 in /usr/local/lib/python3.10/dist-packages (from gymnasium[classic_control]) (2.6.1)\n",
            "Downloading Farama_Notifications-0.0.4-py3-none-any.whl (2.5 kB)\n",
            "Downloading gymnasium-1.0.0-py3-none-any.whl (958 kB)\n",
            "\u001b[2K   \u001b[90m━━━━━━━━━━━━━━━━━━━━━━━━━━━━━━━━━━━━━━━━\u001b[0m \u001b[32m958.1/958.1 kB\u001b[0m \u001b[31m13.1 MB/s\u001b[0m eta \u001b[36m0:00:00\u001b[0m\n",
            "\u001b[?25hInstalling collected packages: farama-notifications, gymnasium\n",
            "Successfully installed farama-notifications-0.0.4 gymnasium-1.0.0\n"
          ]
        }
      ],
      "source": [
        "import sys\n",
        "IN_COLAB = \"google.colab\" in sys.modules\n",
        "\n",
        "if IN_COLAB:\n",
        "    !apt-get update\n",
        "    !apt install python-opengl\n",
        "    !apt install ffmpeg\n",
        "    !apt install xvfb\n",
        "    !pip install PyVirtualDisplay==3.0\n",
        "    !pip install gymnasium[classic_control]\n",
        "    from pyvirtualdisplay import Display\n",
        "\n",
        "    # Start virtual display\n",
        "    dis = Display(visible=0, size=(400, 400))\n",
        "    dis.start()"
      ]
    },
    {
      "cell_type": "markdown",
      "metadata": {
        "id": "sHmjyfGJOTsV"
      },
      "source": [
        "## Import Dependencies"
      ]
    },
    {
      "cell_type": "code",
      "execution_count": 2,
      "metadata": {
        "id": "GJ7ASlptVUES"
      },
      "outputs": [],
      "source": [
        "import os\n",
        "from typing import Dict, List, Tuple\n",
        "import math, random\n",
        "\n",
        "import gym\n",
        "import gymnasium as gymnasium\n",
        "import numpy as np\n",
        "import matplotlib.pyplot as plt\n",
        "%matplotlib inline\n",
        "\n",
        "\n",
        "import base64\n",
        "import glob\n",
        "import io\n",
        "import os\n",
        "\n",
        "\n",
        "import torch\n",
        "import torch.nn as nn\n",
        "import torch.optim as optim\n",
        "import torch.autograd as autograd\n",
        "import torch.nn.functional as F\n",
        "\n",
        "\n",
        "from IPython.display import HTML, display, clear_output\n",
        "\n"
      ]
    },
    {
      "cell_type": "markdown",
      "metadata": {
        "id": "Eqs9Zs6rOZhy"
      },
      "source": [
        "#**Implementation**"
      ]
    },
    {
      "cell_type": "markdown",
      "metadata": {
        "id": "GaC0tjzZS6hG"
      },
      "source": [
        "## **Show recorded video**\n",
        "The following functions are used in order to show in a video the obtained results"
      ]
    },
    {
      "cell_type": "code",
      "execution_count": 3,
      "metadata": {
        "id": "4qPbPwvooax1"
      },
      "outputs": [],
      "source": [
        "def ipython_show_video(path: str) -> None:\n",
        "    \"\"\"Show a video at `path` within IPython Notebook.\"\"\"\n",
        "    if not os.path.isfile(path):\n",
        "        raise NameError(\"Cannot access: {}\".format(path))\n",
        "\n",
        "    video = io.open(path, \"r+b\").read()\n",
        "    encoded = base64.b64encode(video)\n",
        "\n",
        "    display(HTML(\n",
        "        data=\"\"\"\n",
        "        <video width=\"320\" height=\"240\" alt=\"test\" controls>\n",
        "        <source src=\"data:video/mp4;base64,{0}\" type=\"video/mp4\"/>\n",
        "        </video>\n",
        "        \"\"\".format(encoded.decode(\"ascii\"))\n",
        "    ))\n",
        "\n",
        "def remove_videos (video_folder: str):\n",
        "    list_of_files = glob.glob(os.path.join(video_folder, \"*.mp4\"))\n",
        "    for video in list_of_files:\n",
        "      try:\n",
        "          os.remove(video)\n",
        "      except:\n",
        "          print(\"Error while deleting file : \", video)\n",
        "\n",
        "def show_latest_video(video_folder: str) -> str:\n",
        "    \"\"\"Show the most recently recorded video from video folder.\"\"\"\n",
        "    list_of_files = glob.glob(os.path.join(video_folder, \"*.mp4\"))\n",
        "    print(\"files: \", list_of_files )\n",
        "    latest_file = max(list_of_files, key=os.path.getctime)\n",
        "    ipython_show_video(latest_file)\n",
        "    return latest_file\n",
        "\n",
        "def show_all_videos(video_folder: str) -> str:\n",
        "    \"\"\"Show all the videos recorded.\"\"\"\n",
        "    list_of_files = glob.glob(os.path.join(video_folder, \"*.mp4\"))\n",
        "    print(\"files: \", list_of_files )\n",
        "    for video in list_of_files:\n",
        "      ipython_show_video(video)\n",
        "    print(\"Played:\", video)\n"
      ]
    },
    {
      "cell_type": "markdown",
      "metadata": {
        "id": "PZzMzzVmIbKz"
      },
      "source": [
        "## Autograd Variable"
      ]
    },
    {
      "cell_type": "code",
      "execution_count": 4,
      "metadata": {
        "id": "HYyjk9ihIbK0"
      },
      "outputs": [],
      "source": [
        "Variable = lambda *args, **kwargs: autograd.Variable(*args, **kwargs)"
      ]
    },
    {
      "cell_type": "markdown",
      "metadata": {
        "id": "TnjlYrW5IbK0"
      },
      "source": [
        "## Replay Buffer"
      ]
    },
    {
      "cell_type": "code",
      "execution_count": 5,
      "metadata": {
        "id": "45GG4TiEIbK1"
      },
      "outputs": [],
      "source": [
        "from collections import deque\n",
        "\n",
        "class ReplayBuffer(object):\n",
        "    def __init__(self, capacity):\n",
        "        self.buffer = deque(maxlen=capacity)\n",
        "\n",
        "    def push(self, state, action, reward, next_state, done):\n",
        "        state      = np.expand_dims(state, 0)\n",
        "        next_state = np.expand_dims(next_state, 0)\n",
        "\n",
        "        self.buffer.append((state, action, reward, next_state, done))\n",
        "\n",
        "    def sample(self, batch_size):\n",
        "        state, action, reward, next_state, done = zip(*random.sample(self.buffer, batch_size))\n",
        "        return np.concatenate(state), action, reward, np.concatenate(next_state), done\n",
        "\n",
        "    def __len__(self):\n",
        "        return len(self.buffer)"
      ]
    },
    {
      "cell_type": "code",
      "source": [
        "import numpy as np\n",
        "import random\n",
        "from collections import deque\n",
        "      #New Version of the Replay Buffer without Experience Relay\n",
        "class PrioritizedReplayBuffer:\n",
        "    def __init__(self, capacity, alpha=0.6):\n",
        "        self.capacity = capacity\n",
        "        self.alpha = alpha  # Hyperparameter, which is responsible for priority\n",
        "        self.buffer = deque(maxlen=capacity)\n",
        "        self.priorities = []\n",
        "        self.position = 0\n",
        "\n",
        "    # Determine max priority\n",
        "    def push(self, state, action, reward, next_state, done):\n",
        "\n",
        "      max_priority = max(self.priorities) if self.priorities else 1.0\n",
        "\n",
        "      if len(self.buffer) < self.capacity:\n",
        "          # add state and priority\n",
        "          self.buffer.append((state, action, reward, next_state, done))\n",
        "          self.priorities.append(max_priority)\n",
        "      else:\n",
        "          # If the Buffer is full we replace state and priority\n",
        "          self.buffer[self.position] = (state, action, reward, next_state, done)\n",
        "          self.priorities[self.position] = max_priority\n",
        "\n",
        "      # Refresh position\n",
        "      self.position = (self.position + 1) % self.capacity\n",
        "\n",
        "\n",
        "    def sample(self, batch_size):\n",
        "      # Synchronisation of Buffer and priorities\n",
        "      assert len(self.buffer) == len(self.priorities), \"Buffer and priorities must have the same length.\"\n",
        "\n",
        "      # here we are calculating possibilities based on priorities\n",
        "      priorities = np.array(self.priorities, dtype=np.float32) ** self.alpha\n",
        "      probabilities = priorities / np.sum(priorities)\n",
        "\n",
        "      # doing sampling with possibilities\n",
        "      indices = np.random.choice(len(self.buffer), batch_size, p=probabilities, replace=False)\n",
        "      experiences = [self.buffer[i] for i in indices]\n",
        "\n",
        "      return experiences, indices\n",
        "\n",
        "\n",
        "    def update_priorities(self, indices, td_errors):\n",
        "        # Refresh the possibilities after TD-Fehler\n",
        "        for idx, td_error in zip(indices, td_errors):\n",
        "            self.priorities[idx] = abs(td_error) + 1e-5  # small number in case error=0\n",
        "\n",
        "    def __len__(self):\n",
        "        return len(self.buffer)\n"
      ],
      "metadata": {
        "id": "flYprpFfqHdl"
      },
      "execution_count": 24,
      "outputs": []
    },
    {
      "cell_type": "markdown",
      "metadata": {
        "id": "IyAYT95VwIvl"
      },
      "source": [
        "*###* Testing Replay Buffer"
      ]
    },
    {
      "cell_type": "code",
      "execution_count": null,
      "metadata": {
        "colab": {
          "base_uri": "https://localhost:8080/"
        },
        "id": "B47-W5kjrEeA",
        "outputId": "e095d213-fefd-46b9-ab26-b0580825737b"
      },
      "outputs": [
        {
          "output_type": "stream",
          "name": "stdout",
          "text": [
            "We add 8 elements but there are only  5 \n",
            "rB:  deque([(array([3]), 3, 3, array([3]), 3), (array([4]), 4, 4, array([4]), 4), (array([5]), 5, 5, array([5]), 5), (array([6]), 6, 6, array([6]), 6), (array([7]), 7, 7, array([7]), 7)], maxlen=5)\n",
            "\n",
            "After we add a new element the buffer is:  deque([(array([4]), 4, 4, array([4]), 4), (array([5]), 5, 5, array([5]), 5), (array([6]), 6, 6, array([6]), 6), (array([7]), 7, 7, array([7]), 7), (array([10]), 10, 10, array([10]), 10)], maxlen=5)\n",
            "\n",
            " The sampled elemenst:  (array([5, 7]), (5, 7), (5, 7), array([5, 7]), (5, 7))\n",
            "\n",
            " The sampled elemenst:  (array([6, 7, 4]), (6, 7, 4), (6, 7, 4), array([6, 7, 4]), (6, 7, 4))\n"
          ]
        }
      ],
      "source": [
        "# We build a Replay buffer for 5 elements\n",
        "rB = ReplayBuffer(5)\n",
        "\n",
        "# We are going to add 8 elements\n",
        "for i in range(8):\n",
        "  rB.push(i,i,i,i,i)\n",
        "print(\"We add 8 elements but there are only \", len(rB), \"\\nrB: \", rB.buffer)\n",
        "\n",
        "# We are going to add another value\n",
        "rB.push(10,10,10,10,10)\n",
        "print(\"\\nAfter we add a new element the buffer is: \", rB.buffer)\n",
        "\n",
        "# No we are going to see are sampled some experiences\n",
        "mini_batch = rB.sample(2)\n",
        "print(\"\\n The sampled elemenst: \", mini_batch )\n",
        "\n",
        "mini_batch = rB.sample(3)\n",
        "print(\"\\n The sampled elemenst: \", mini_batch )\n"
      ]
    },
    {
      "cell_type": "markdown",
      "metadata": {
        "id": "voxkftv1IbK2"
      },
      "source": [
        "## Cart Pole Environment"
      ]
    },
    {
      "cell_type": "code",
      "execution_count": 7,
      "metadata": {
        "colab": {
          "base_uri": "https://localhost:8080/"
        },
        "id": "9EHbFDp6IbK4",
        "outputId": "19d89c4a-6640-4def-fd28-7c76acca7767"
      },
      "outputs": [
        {
          "output_type": "stream",
          "name": "stderr",
          "text": [
            "/usr/local/lib/python3.10/dist-packages/gymnasium/envs/registration.py:517: DeprecationWarning: \u001b[33mWARN: The environment CartPole-v0 is out of date. You should consider upgrading to version `v1`.\u001b[0m\n",
            "  logger.deprecation(\n"
          ]
        }
      ],
      "source": [
        "env_id = \"CartPole-v0\"\n",
        "env = gymnasium.make(env_id, render_mode=\"rgb_array\")"
      ]
    },
    {
      "cell_type": "code",
      "execution_count": 8,
      "metadata": {
        "id": "pZySBOH5IbLA"
      },
      "outputs": [],
      "source": [
        "def plot(frame_idx, rewards):\n",
        "    clear_output(True)\n",
        "    plt.figure(figsize=(20,5))\n",
        "    plt.subplot(131)\n",
        "    plt.title('frame %s. reward: %s' % (frame_idx, np.mean(rewards[-10:])))\n",
        "    plt.plot(rewards)\n",
        "    plt.show()"
      ]
    },
    {
      "cell_type": "markdown",
      "metadata": {
        "id": "h7aZ3bYgIbK4"
      },
      "source": [
        "## Epsilon greedy exploration\n",
        "Epsilon value is dynamic. It starts with 1.0 value (exploration) and little by little it is going to decay until 0.01 (exploitation)"
      ]
    },
    {
      "cell_type": "code",
      "execution_count": 9,
      "metadata": {
        "id": "hZCk-i69IbK5"
      },
      "outputs": [],
      "source": [
        "epsilon_start = 1.0\n",
        "epsilon_final = 0.01\n",
        "epsilon_decay = 500\n",
        "\n",
        "epsilon_by_frame = lambda frame_idx: epsilon_final + (epsilon_start - epsilon_final) * math.exp(-1. * frame_idx / epsilon_decay)"
      ]
    },
    {
      "cell_type": "code",
      "execution_count": 10,
      "metadata": {
        "colab": {
          "base_uri": "https://localhost:8080/",
          "height": 447
        },
        "id": "DKVzXtD0IbK6",
        "outputId": "a670adb1-a65c-432a-f477-fffa715dfb5b"
      },
      "outputs": [
        {
          "output_type": "execute_result",
          "data": {
            "text/plain": [
              "[<matplotlib.lines.Line2D at 0x7dd4fb1175e0>]"
            ]
          },
          "metadata": {},
          "execution_count": 10
        },
        {
          "output_type": "display_data",
          "data": {
            "text/plain": [
              "<Figure size 640x480 with 1 Axes>"
            ],
            "image/png": "[encoded data removed]"
          },
          "metadata": {}
        }
      ],
      "source": [
        "plt.plot([epsilon_by_frame(i) for i in range(10000)])"
      ]
    },
    {
      "cell_type": "markdown",
      "metadata": {
        "id": "c6A-SD0_IbK7"
      },
      "source": [
        "## Deep Q Network"
      ]
    },
    {
      "cell_type": "code",
      "execution_count": 25,
      "metadata": {
        "id": "p4vsG_e3IbK7"
      },
      "outputs": [],
      "source": [
        "class DQN(nn.Module):\n",
        "    def __init__(self, num_inputs, num_actions):\n",
        "        super(DQN, self).__init__()\n",
        "\n",
        "        self.layers = nn.Sequential(\n",
        "            nn.Linear(env.observation_space.shape[0], 128),\n",
        "            nn.ReLU(),\n",
        "            nn.Linear(128, 128),\n",
        "            nn.ReLU(),\n",
        "            nn.Linear(128, env.action_space.n)\n",
        "        )\n",
        "\n",
        "        self.optimizer = optim.Adam(self.parameters())\n",
        "        self.replay_buffer = PrioritizedReplayBuffer(1000)\n",
        "        self.batch_size = 32\n",
        "        self.gamma = 0.99\n",
        "\n",
        "\n",
        "    def get_epsilon_value(self, frame_idx):\n",
        "      epsilon_start = 1.0\n",
        "      epsilon_final = 0.01\n",
        "      epsilon_decay = 500\n",
        "\n",
        "      epsilon = lambda frame_idx: epsilon_final + (epsilon_start - epsilon_final) * math.exp(-1. * frame_idx / epsilon_decay)\n",
        "      return epsilon(frame_idx)\n",
        "\n",
        "\n",
        "    def forward(self, x):\n",
        "        return self.layers(x)\n",
        "\n",
        "\n",
        "    def act(self, state, epsilon):\n",
        "        if random.random() > epsilon:\n",
        "            state   = Variable(torch.FloatTensor(state).unsqueeze(0), requires_grad=False)\n",
        "            q_value = self.forward(state)\n",
        "            action  = q_value.max(1)[1].item()\n",
        "        else:\n",
        "            action = random.randrange(env.action_space.n)\n",
        "        return action\n",
        "\n",
        "\n",
        "    def update_target(self, target_model):\n",
        "      target_model.load_state_dict(self.state_dict())\n",
        "\n",
        "\n",
        "\n",
        "\n",
        "    def compute_td_loss_our(self, target_model):\n",
        "\n",
        "      state, action, reward, next_state, done = self.replay_buffer.sample(self.batch_size)\n",
        "\n",
        "      # Convert those numpy arrays to tensors. It is neccesary to work with Pytorch\n",
        "      states_tensor      = Variable(torch.FloatTensor(np.float32(state)))       # current_state S\n",
        "      actions_tensor     = Variable(torch.LongTensor(action))                   # action A\n",
        "      next_states_tensor = Variable(torch.FloatTensor(np.float32(next_state)))  # next_state S'\n",
        "\n",
        "      # The approximated q_values of each current state\n",
        "      q_values_tensor      = self.forward(states_tensor) # Q(S, A, W)\n",
        "\n",
        "      # The approximated q_values of each next state calculated with the current_model and the target_model\n",
        "      next_q_values_current_model_tensor = self.forward(next_states_tensor) # Q(S', A', W)\n",
        "      next_q_values_target_model_tensor = target_model.forward(next_states_tensor) # Q(S', A', W')\n",
        "\n",
        "      # Convert the approximated next_states' q_values to numpy array. We are going to work with these arrays\n",
        "      next_q_values_current_model = next_q_values_current_model_tensor.detach().numpy();\n",
        "      next_q_values_target_model = next_q_values_target_model_tensor.detach().numpy();\n",
        "      expected_q_value = np.zeros(self.batch_size)\n",
        "\n",
        "      # TODO\n",
        "      # input: next_q_values_current_model is a numpy array. In each element are stored all the approximated q values for the next state calculated with the current_model\n",
        "      # input: next_q_values_target_model is a numpy array. In each element are stored all the approximated q values for the next state calculated with the target_model\n",
        "      # input: reward is a numpy array with the rewards obtained in each experience of the mini_batch (batch_size)\n",
        "      # output: expected_q_value is a numpy array. You have to store in each position the target value of each experience using next_q_values_target_model and reward elements\n",
        "      # note: all these numpy arrays has the same length: the length of the mini_batch (batch_size)\n",
        "      #\n",
        "      # for all the elements on the batch size\n",
        "      #  calculate the target expected value and store in expected_q_value\n",
        "\n",
        "      for i in range(self.batch_size):\n",
        "        next_q_value = 0\n",
        "        if not(done[i]):\n",
        "          next_q_value = max(next_q_values_target_model[i])\n",
        "\n",
        "          # with current model\n",
        "          #next_q_value = max(next_q_values_current_model[i])\n",
        "\n",
        "          # with current model action and target model approximation\n",
        "          #next_action = np.argmax(next_q_values_current_model[i])\n",
        "          #next_q_value = next_q_values_target_model[i][next_action]\n",
        "\n",
        "        expected_q_value[i] = reward[i] + self.gamma*next_q_value\n",
        "\n",
        "      # END TODO\n",
        "\n",
        "      # Prepare data for the loss function\n",
        "      q_value = q_values_tensor.gather(1, actions_tensor.unsqueeze(1)).squeeze(1)\n",
        "      expected_q_values = torch.tensor(expected_q_value)\n",
        "\n",
        "      # Loss function: to know how good the weights are\n",
        "      lossMSE = nn.MSELoss()\n",
        "      loss = lossMSE(q_value.float(), expected_q_values.float())\n",
        "\n",
        "      # Based on the results of the loss function, the weights are updated with gradient descent\n",
        "      self.optimizer.zero_grad()\n",
        "      loss.backward()\n",
        "      self.optimizer.step()\n",
        "\n",
        "      return loss\n",
        "\n",
        "\n",
        "\n",
        "    def compute_td_error(self, q_value, reward, gamma, next_q):\n",
        "      return (q_value - (reward + gamma * next_q))\n",
        "\n",
        "\n",
        "\n",
        "\n",
        "    # TODO\n",
        "    # Method to train the agent\n",
        "    def train(self, env):\n",
        "      num_frames = 25000\n",
        "      losses = []\n",
        "      all_rewards = []\n",
        "      episode_reward = 0\n",
        "      target_model = DQN(env.observation_space.shape[0], env.action_space.n)\n",
        "      state, info = env.reset()\n",
        "\n",
        "      for frame_idx in range(1, num_frames + 1):\n",
        "        epsilon = self.get_epsilon_value(frame_idx)\n",
        "        action = self.act(state, epsilon)\n",
        "\n",
        "        next_state, reward, done, truncated, info = env.step(action)\n",
        "        self.replay_buffer.push(state, action, reward, next_state, done)\n",
        "\n",
        "        state = next_state\n",
        "        episode_reward += reward\n",
        "\n",
        "        if done or truncated:\n",
        "            state, info = env.reset()\n",
        "            all_rewards.append(episode_reward)\n",
        "            episode_reward = 0\n",
        "\n",
        "        if len(self.replay_buffer) > self.batch_size:\n",
        "            # Sampling from the Replay-Buffer, so we are picking some examples from the buffer.\n",
        "            experiences, indices = self.replay_buffer.sample(self.batch_size)\n",
        "            states, actions, rewards, next_states, dones = zip(*experiences)\n",
        "\n",
        "            # Convert those numpy arrays to tensors. It is neccesary to work with Pytorch.\n",
        "            states_np = np.array(states, dtype=np.float32)\n",
        "            actions_np = np.array(actions, dtype=np.int64)\n",
        "            rewards_np = np.array(rewards, dtype=np.float32)\n",
        "            next_states_np = np.array(next_states, dtype=np.float32)\n",
        "            dones_np = np.array(dones, dtype=np.float32)\n",
        "\n",
        "            # Converting  NumPy-Arrays to PyTorch-tensors\n",
        "            states_tensor = torch.from_numpy(states_np)\n",
        "            actions_tensor = torch.from_numpy(actions_np)\n",
        "            rewards_tensor = torch.from_numpy(rewards_np)\n",
        "            next_states_tensor = torch.from_numpy(next_states_np)\n",
        "            dones_tensor = torch.from_numpy(dones_np)\n",
        "\n",
        "            # Calculating the q values for actual and for the next state\n",
        "            q_values = self(states_tensor)\n",
        "            next_q_values_target = target_model(next_states_tensor)\n",
        "\n",
        "            # Calculating the next max q value and expected values\n",
        "            max_next_q_values = torch.max(next_q_values_target, dim=1)[0]\n",
        "            expected_q_values = rewards_tensor + self.gamma * max_next_q_values * (1 - dones_tensor)\n",
        "\n",
        "            # q values for actions\n",
        "            q_values_for_actions = q_values.gather(1, actions_tensor.unsqueeze(1)).squeeze(1)\n",
        "\n",
        "            # calculating the loss\n",
        "            loss = nn.MSELoss()(q_values_for_actions, expected_q_values)\n",
        "\n",
        "\n",
        "            self.optimizer.zero_grad()\n",
        "            loss.backward()\n",
        "            self.optimizer.step()\n",
        "\n",
        "            # calculating finald td errors and update\n",
        "            td_errors = (q_values_for_actions - expected_q_values).detach().numpy()\n",
        "            self.replay_buffer.update_priorities(indices, np.abs(td_errors))\n",
        "\n",
        "            losses.append(loss.item())\n",
        "\n",
        "        # Visualising every Frames\n",
        "        if frame_idx % 200 == 0:\n",
        "            plot(frame_idx, all_rewards)\n",
        "\n",
        "        # Refresh Targetmodell every 100 Frames\n",
        "        if frame_idx % 100 == 0:\n",
        "            self.update_target(target_model)\n",
        "\n",
        "\n",
        "\n",
        "    # This method runs one episode and generates a video to observe the result\n",
        "    def test(self,env):\n",
        "        video_folder=\"videos\"\n",
        "\n",
        "        remove_videos(video_folder=video_folder)\n",
        "\n",
        "        # we are going to work over envVideo.\n",
        "        envVideo = gymnasium.wrappers.RecordVideo(env, video_folder=video_folder)\n",
        "\n",
        "        done = False #It is used to control if the episode is finished, if it is finished the environment must be reset\n",
        "        state, info = envVideo.reset()\n",
        "\n",
        "        total_reward = 0\n",
        "        while not(done):\n",
        "            action = self.act(state, 0)\n",
        "            next_state, reward, done, truncated, info = envVideo.step(action)\n",
        "            state = next_state\n",
        "            total_reward +=reward\n",
        "            if done or truncated:\n",
        "              break\n",
        "        envVideo.close()\n",
        "        print(\"rew: \", total_reward)\n",
        "        show_all_videos(video_folder=video_folder)\n",
        "\n"
      ]
    },
    {
      "cell_type": "markdown",
      "metadata": {
        "id": "ynxAQEvLmC6R"
      },
      "source": [
        "### Train the agent"
      ]
    },
    {
      "cell_type": "code",
      "execution_count": 26,
      "metadata": {
        "colab": {
          "base_uri": "https://localhost:8080/",
          "height": 468
        },
        "id": "uQO4hDUn2vUa",
        "outputId": "bad8ad84-b664-4453-dc20-e4b5c191b8b2"
      },
      "outputs": [
        {
          "output_type": "display_data",
          "data": {
            "text/plain": [
              "<Figure size 2000x500 with 1 Axes>"
            ],
            "image/png": "[encoded data removed]"
          },
          "metadata": {}
        }
      ],
      "source": [
        "current_model = DQN(env.observation_space.shape[0], env.action_space.n)\n",
        "current_model.train(env)"
      ]
    },
    {
      "cell_type": "markdown",
      "metadata": {
        "id": "WoZsHTkFl7Jq"
      },
      "source": [
        "### Test the agent"
      ]
    },
    {
      "cell_type": "code",
      "execution_count": 27,
      "metadata": {
        "id": "YIVpEbfR4pVO",
        "colab": {
          "base_uri": "https://localhost:8080/",
          "height": 553
        },
        "outputId": "9ec5de47-aba7-4385-ce2b-2c3845b537f0"
      },
      "outputs": [
        {
          "output_type": "stream",
          "name": "stderr",
          "text": [
            "/usr/local/lib/python3.10/dist-packages/moviepy/config_defaults.py:1: DeprecationWarning: invalid escape sequence '\\P'\n",
            "  \"\"\"\n",
            "/usr/local/lib/python3.10/dist-packages/pygame/pkgdata.py:25: DeprecationWarning: pkg_resources is deprecated as an API. See https://setuptools.pypa.io/en/latest/pkg_resources.html\n",
            "  from pkg_resources import resource_stream, resource_exists\n",
            "/usr/local/lib/python3.10/dist-packages/pkg_resources/__init__.py:3154: DeprecationWarning: Deprecated call to `pkg_resources.declare_namespace('google')`.\n",
            "Implementing implicit namespace packages (as specified in PEP 420) is preferred to `pkg_resources.declare_namespace`. See https://setuptools.pypa.io/en/latest/references/keywords.html#keyword-namespace-packages\n",
            "  declare_namespace(pkg)\n",
            "/usr/local/lib/python3.10/dist-packages/pkg_resources/__init__.py:3154: DeprecationWarning: Deprecated call to `pkg_resources.declare_namespace('google.cloud')`.\n",
            "Implementing implicit namespace packages (as specified in PEP 420) is preferred to `pkg_resources.declare_namespace`. See https://setuptools.pypa.io/en/latest/references/keywords.html#keyword-namespace-packages\n",
            "  declare_namespace(pkg)\n",
            "/usr/local/lib/python3.10/dist-packages/pkg_resources/__init__.py:3154: DeprecationWarning: Deprecated call to `pkg_resources.declare_namespace('sphinxcontrib')`.\n",
            "Implementing implicit namespace packages (as specified in PEP 420) is preferred to `pkg_resources.declare_namespace`. See https://setuptools.pypa.io/en/latest/references/keywords.html#keyword-namespace-packages\n",
            "  declare_namespace(pkg)\n"
          ]
        },
        {
          "output_type": "stream",
          "name": "stdout",
          "text": [
            "rew:  200.0\n",
            "files:  ['videos/rl-video-episode-0.mp4']\n"
          ]
        },
        {
          "output_type": "display_data",
          "data": {
            "text/plain": [
              "<IPython.core.display.HTML object>"
            ],
            "text/html": [
              "\n",
              "        <video width=\"320\" height=\"240\" alt=\"test\" controls>\n",
              "        <source src=\"data:video/mp4;base64,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\" type=\"video/mp4\"/>\n",
              "        </video>\n",
              "        "
            ]
          },
          "metadata": {}
        },
        {
          "output_type": "stream",
          "name": "stdout",
          "text": [
            "Played: videos/rl-video-episode-0.mp4\n"
          ]
        }
      ],
      "source": [
        "current_model.test(env)"
      ]
    }
  ],
  "metadata": {
    "colab": {
      "provenance": []
    },
    "gpuClass": "standard",
    "kernelspec": {
      "display_name": "Python 3",
      "language": "python",
      "name": "python3"
    },
    "language_info": {
      "codemirror_mode": {
        "name": "ipython",
        "version": 3
      },
      "file_extension": ".py",
      "mimetype": "text/x-python",
      "name": "python",
      "nbconvert_exporter": "python",
      "pygments_lexer": "ipython3",
      "version": "3.6.8"
    }
  },
  "nbformat": 4,
  "nbformat_minor": 0
}