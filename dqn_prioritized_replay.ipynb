{
  "cells": [
    {
      "cell_type": "markdown",
      "metadata": {
        "id": "view-in-github",
        "colab_type": "text"
      },
      "source": [
        "<a href=\"https://colab.research.google.com/github/dimitrod/ehu_atai_strawberry/blob/main/dqn_prioritized_replay.ipynb\" target=\"_parent\"><img src=\"https://colab.research.google.com/assets/colab-badge.svg\" alt=\"Open In Colab\"/></a>"
      ]
    },
    {
      "cell_type": "markdown",
      "metadata": {
        "id": "7p-FkdaHOISM"
      },
      "source": [
        "# **Initialization**"
      ]
    },
    {
      "cell_type": "markdown",
      "metadata": {
        "id": "VzfboO1QP_Uw"
      },
      "source": [
        "## Install dependencies"
      ]
    },
    {
      "cell_type": "code",
      "execution_count": null,
      "metadata": {
        "colab": {
          "base_uri": "https://localhost:8080/"
        },
        "id": "mt4fLrG2Puzd",
        "outputId": "bc3126d6-389f-43a0-c04a-a43d979d9a12"
      },
      "outputs": [
        {
          "output_type": "stream",
          "name": "stdout",
          "text": [
            "\r0% [Working]\r            \rGet:1 https://cloud.r-project.org/bin/linux/ubuntu jammy-cran40/ InRelease [3,626 B]\n",
            "Get:2 https://developer.download.nvidia.com/compute/cuda/repos/ubuntu2204/x86_64  InRelease [1,581 B]\n",
            "Hit:3 http://archive.ubuntu.com/ubuntu jammy InRelease\n",
            "Get:4 http://security.ubuntu.com/ubuntu jammy-security InRelease [129 kB]\n",
            "Get:5 https://developer.download.nvidia.com/compute/cuda/repos/ubuntu2204/x86_64  Packages [1,192 kB]\n",
            "Get:6 http://archive.ubuntu.com/ubuntu jammy-updates InRelease [128 kB]\n",
            "Get:7 https://r2u.stat.illinois.edu/ubuntu jammy InRelease [6,555 B]\n",
            "Hit:8 https://ppa.launchpadcontent.net/deadsnakes/ppa/ubuntu jammy InRelease\n",
            "Get:9 https://r2u.stat.illinois.edu/ubuntu jammy/main all Packages [8,525 kB]\n",
            "Hit:10 https://ppa.launchpadcontent.net/graphics-drivers/ppa/ubuntu jammy InRelease\n",
            "Get:11 http://archive.ubuntu.com/ubuntu jammy-backports InRelease [127 kB]\n",
            "Hit:12 https://ppa.launchpadcontent.net/ubuntugis/ppa/ubuntu jammy InRelease\n",
            "Get:13 http://security.ubuntu.com/ubuntu jammy-security/main amd64 Packages [2,454 kB]\n",
            "Get:14 http://archive.ubuntu.com/ubuntu jammy-updates/universe amd64 Packages [1,514 kB]\n",
            "Get:15 http://archive.ubuntu.com/ubuntu jammy-updates/restricted amd64 Packages [3,446 kB]\n",
            "Get:16 http://security.ubuntu.com/ubuntu jammy-security/universe amd64 Packages [1,225 kB]\n",
            "Get:17 http://archive.ubuntu.com/ubuntu jammy-updates/main amd64 Packages [2,738 kB]\n",
            "Get:18 http://archive.ubuntu.com/ubuntu jammy-updates/multiverse amd64 Packages [53.3 kB]\n",
            "Get:19 https://r2u.stat.illinois.edu/ubuntu jammy/main amd64 Packages [2,624 kB]\n",
            "Fetched 24.2 MB in 5s (4,549 kB/s)\n",
            "Reading package lists... Done\n",
            "W: Skipping acquire of configured file 'main/source/Sources' as repository 'https://r2u.stat.illinois.edu/ubuntu jammy InRelease' does not seem to provide it (sources.list entry misspelt?)\n",
            "Reading package lists... Done\n",
            "Building dependency tree... Done\n",
            "Reading state information... Done\n",
            "\u001b[1;31mE: \u001b[0mUnable to locate package python-opengl\u001b[0m\n",
            "Reading package lists... Done\n",
            "Building dependency tree... Done\n",
            "Reading state information... Done\n",
            "ffmpeg is already the newest version (7:4.4.2-0ubuntu0.22.04.1).\n",
            "0 upgraded, 0 newly installed, 0 to remove and 50 not upgraded.\n",
            "Reading package lists... Done\n",
            "Building dependency tree... Done\n",
            "Reading state information... Done\n",
            "The following additional packages will be installed:\n",
            "  libfontenc1 libxfont2 libxkbfile1 x11-xkb-utils xfonts-base xfonts-encodings xfonts-utils\n",
            "  xserver-common\n",
            "The following NEW packages will be installed:\n",
            "  libfontenc1 libxfont2 libxkbfile1 x11-xkb-utils xfonts-base xfonts-encodings xfonts-utils\n",
            "  xserver-common xvfb\n",
            "0 upgraded, 9 newly installed, 0 to remove and 50 not upgraded.\n",
            "Need to get 7,815 kB of archives.\n",
            "After this operation, 11.9 MB of additional disk space will be used.\n",
            "Get:1 http://archive.ubuntu.com/ubuntu jammy/main amd64 libfontenc1 amd64 1:1.1.4-1build3 [14.7 kB]\n",
            "Get:2 http://archive.ubuntu.com/ubuntu jammy/main amd64 libxfont2 amd64 1:2.0.5-1build1 [94.5 kB]\n",
            "Get:3 http://archive.ubuntu.com/ubuntu jammy/main amd64 libxkbfile1 amd64 1:1.1.0-1build3 [71.8 kB]\n",
            "Get:4 http://archive.ubuntu.com/ubuntu jammy/main amd64 x11-xkb-utils amd64 7.7+5build4 [172 kB]\n",
            "Get:5 http://archive.ubuntu.com/ubuntu jammy/main amd64 xfonts-encodings all 1:1.0.5-0ubuntu2 [578 kB]\n",
            "Get:6 http://archive.ubuntu.com/ubuntu jammy/main amd64 xfonts-utils amd64 1:7.7+6build2 [94.6 kB]\n",
            "Get:7 http://archive.ubuntu.com/ubuntu jammy/main amd64 xfonts-base all 1:1.0.5 [5,896 kB]\n",
            "Get:8 http://archive.ubuntu.com/ubuntu jammy-updates/main amd64 xserver-common all 2:21.1.4-2ubuntu1.7~22.04.12 [28.7 kB]\n",
            "Get:9 http://archive.ubuntu.com/ubuntu jammy-updates/universe amd64 xvfb amd64 2:21.1.4-2ubuntu1.7~22.04.12 [864 kB]\n",
            "Fetched 7,815 kB in 3s (2,624 kB/s)\n",
            "Selecting previously unselected package libfontenc1:amd64.\n",
            "(Reading database ... 123632 files and directories currently installed.)\n",
            "Preparing to unpack .../0-libfontenc1_1%3a1.1.4-1build3_amd64.deb ...\n",
            "Unpacking libfontenc1:amd64 (1:1.1.4-1build3) ...\n",
            "Selecting previously unselected package libxfont2:amd64.\n",
            "Preparing to unpack .../1-libxfont2_1%3a2.0.5-1build1_amd64.deb ...\n",
            "Unpacking libxfont2:amd64 (1:2.0.5-1build1) ...\n",
            "Selecting previously unselected package libxkbfile1:amd64.\n",
            "Preparing to unpack .../2-libxkbfile1_1%3a1.1.0-1build3_amd64.deb ...\n",
            "Unpacking libxkbfile1:amd64 (1:1.1.0-1build3) ...\n",
            "Selecting previously unselected package x11-xkb-utils.\n",
            "Preparing to unpack .../3-x11-xkb-utils_7.7+5build4_amd64.deb ...\n",
            "Unpacking x11-xkb-utils (7.7+5build4) ...\n",
            "Selecting previously unselected package xfonts-encodings.\n",
            "Preparing to unpack .../4-xfonts-encodings_1%3a1.0.5-0ubuntu2_all.deb ...\n",
            "Unpacking xfonts-encodings (1:1.0.5-0ubuntu2) ...\n",
            "Selecting previously unselected package xfonts-utils.\n",
            "Preparing to unpack .../5-xfonts-utils_1%3a7.7+6build2_amd64.deb ...\n",
            "Unpacking xfonts-utils (1:7.7+6build2) ...\n",
            "Selecting previously unselected package xfonts-base.\n",
            "Preparing to unpack .../6-xfonts-base_1%3a1.0.5_all.deb ...\n",
            "Unpacking xfonts-base (1:1.0.5) ...\n",
            "Selecting previously unselected package xserver-common.\n",
            "Preparing to unpack .../7-xserver-common_2%3a21.1.4-2ubuntu1.7~22.04.12_all.deb ...\n",
            "Unpacking xserver-common (2:21.1.4-2ubuntu1.7~22.04.12) ...\n",
            "Selecting previously unselected package xvfb.\n",
            "Preparing to unpack .../8-xvfb_2%3a21.1.4-2ubuntu1.7~22.04.12_amd64.deb ...\n",
            "Unpacking xvfb (2:21.1.4-2ubuntu1.7~22.04.12) ...\n",
            "Setting up libfontenc1:amd64 (1:1.1.4-1build3) ...\n",
            "Setting up xfonts-encodings (1:1.0.5-0ubuntu2) ...\n",
            "Setting up libxkbfile1:amd64 (1:1.1.0-1build3) ...\n",
            "Setting up libxfont2:amd64 (1:2.0.5-1build1) ...\n",
            "Setting up x11-xkb-utils (7.7+5build4) ...\n",
            "Setting up xfonts-utils (1:7.7+6build2) ...\n",
            "Setting up xfonts-base (1:1.0.5) ...\n",
            "Setting up xserver-common (2:21.1.4-2ubuntu1.7~22.04.12) ...\n",
            "Setting up xvfb (2:21.1.4-2ubuntu1.7~22.04.12) ...\n",
            "Processing triggers for man-db (2.10.2-1) ...\n",
            "Processing triggers for fontconfig (2.13.1-4.2ubuntu5) ...\n",
            "Processing triggers for libc-bin (2.35-0ubuntu3.4) ...\n",
            "/sbin/ldconfig.real: /usr/local/lib/libtbbmalloc.so.2 is not a symbolic link\n",
            "\n",
            "/sbin/ldconfig.real: /usr/local/lib/libtbbbind.so.3 is not a symbolic link\n",
            "\n",
            "/sbin/ldconfig.real: /usr/local/lib/libtcm.so.1 is not a symbolic link\n",
            "\n",
            "/sbin/ldconfig.real: /usr/local/lib/libur_adapter_opencl.so.0 is not a symbolic link\n",
            "\n",
            "/sbin/ldconfig.real: /usr/local/lib/libur_adapter_level_zero.so.0 is not a symbolic link\n",
            "\n",
            "/sbin/ldconfig.real: /usr/local/lib/libtbbmalloc_proxy.so.2 is not a symbolic link\n",
            "\n",
            "/sbin/ldconfig.real: /usr/local/lib/libtbbbind_2_0.so.3 is not a symbolic link\n",
            "\n",
            "/sbin/ldconfig.real: /usr/local/lib/libtbb.so.12 is not a symbolic link\n",
            "\n",
            "/sbin/ldconfig.real: /usr/local/lib/libhwloc.so.15 is not a symbolic link\n",
            "\n",
            "/sbin/ldconfig.real: /usr/local/lib/libtcm_debug.so.1 is not a symbolic link\n",
            "\n",
            "/sbin/ldconfig.real: /usr/local/lib/libtbbbind_2_5.so.3 is not a symbolic link\n",
            "\n",
            "/sbin/ldconfig.real: /usr/local/lib/libur_loader.so.0 is not a symbolic link\n",
            "\n",
            "/sbin/ldconfig.real: /usr/local/lib/libumf.so.0 is not a symbolic link\n",
            "\n",
            "Collecting PyVirtualDisplay==3.0\n",
            "  Downloading PyVirtualDisplay-3.0-py3-none-any.whl.metadata (943 bytes)\n",
            "Downloading PyVirtualDisplay-3.0-py3-none-any.whl (15 kB)\n",
            "Installing collected packages: PyVirtualDisplay\n",
            "Successfully installed PyVirtualDisplay-3.0\n",
            "Collecting gymnasium[classic_control]\n",
            "  Downloading gymnasium-1.0.0-py3-none-any.whl.metadata (9.5 kB)\n",
            "Requirement already satisfied: numpy>=1.21.0 in /usr/local/lib/python3.10/dist-packages (from gymnasium[classic_control]) (1.26.4)\n",
            "Requirement already satisfied: cloudpickle>=1.2.0 in /usr/local/lib/python3.10/dist-packages (from gymnasium[classic_control]) (3.1.0)\n",
            "Requirement already satisfied: typing-extensions>=4.3.0 in /usr/local/lib/python3.10/dist-packages (from gymnasium[classic_control]) (4.12.2)\n",
            "Collecting farama-notifications>=0.0.1 (from gymnasium[classic_control])\n",
            "  Downloading Farama_Notifications-0.0.4-py3-none-any.whl.metadata (558 bytes)\n",
            "Requirement already satisfied: pygame>=2.1.3 in /usr/local/lib/python3.10/dist-packages (from gymnasium[classic_control]) (2.6.1)\n",
            "Downloading Farama_Notifications-0.0.4-py3-none-any.whl (2.5 kB)\n",
            "Downloading gymnasium-1.0.0-py3-none-any.whl (958 kB)\n",
            "\u001b[2K   \u001b[90m━━━━━━━━━━━━━━━━━━━━━━━━━━━━━━━━━━━━━━━━\u001b[0m \u001b[32m958.1/958.1 kB\u001b[0m \u001b[31m11.3 MB/s\u001b[0m eta \u001b[36m0:00:00\u001b[0m\n",
            "\u001b[?25hInstalling collected packages: farama-notifications, gymnasium\n",
            "Successfully installed farama-notifications-0.0.4 gymnasium-1.0.0\n"
          ]
        }
      ],
      "source": [
        "import sys\n",
        "IN_COLAB = \"google.colab\" in sys.modules\n",
        "\n",
        "if IN_COLAB:\n",
        "    !apt-get update\n",
        "    !apt install python-opengl\n",
        "    !apt install ffmpeg\n",
        "    !apt install xvfb\n",
        "    !pip install PyVirtualDisplay==3.0\n",
        "    !pip install gymnasium[classic_control]\n",
        "    from pyvirtualdisplay import Display\n",
        "\n",
        "    # Start virtual display\n",
        "    dis = Display(visible=0, size=(400, 400))\n",
        "    dis.start()"
      ]
    },
    {
      "cell_type": "markdown",
      "metadata": {
        "id": "sHmjyfGJOTsV"
      },
      "source": [
        "## Import Dependencies"
      ]
    },
    {
      "cell_type": "code",
      "execution_count": null,
      "metadata": {
        "id": "GJ7ASlptVUES"
      },
      "outputs": [],
      "source": [
        "import os\n",
        "from typing import Dict, List, Tuple\n",
        "import math, random\n",
        "\n",
        "import gym\n",
        "import gymnasium as gymnasium\n",
        "import numpy as np\n",
        "import matplotlib.pyplot as plt\n",
        "%matplotlib inline\n",
        "\n",
        "\n",
        "import base64\n",
        "import glob\n",
        "import io\n",
        "import os\n",
        "\n",
        "\n",
        "import torch\n",
        "import torch.nn as nn\n",
        "import torch.optim as optim\n",
        "import torch.autograd as autograd\n",
        "import torch.nn.functional as F\n",
        "\n",
        "\n",
        "from IPython.display import HTML, display, clear_output\n",
        "\n"
      ]
    },
    {
      "cell_type": "markdown",
      "metadata": {
        "id": "Eqs9Zs6rOZhy"
      },
      "source": [
        "#**Implementation**"
      ]
    },
    {
      "cell_type": "markdown",
      "metadata": {
        "id": "GaC0tjzZS6hG"
      },
      "source": [
        "## **Show recorded video**\n",
        "The following functions are used in order to show in a video the obtained results"
      ]
    },
    {
      "cell_type": "code",
      "execution_count": null,
      "metadata": {
        "id": "4qPbPwvooax1",
        "colab": {
          "base_uri": "https://localhost:8080/"
        },
        "outputId": "ca571945-25d4-4f43-f2b8-3ef4bcd593be"
      },
      "outputs": [
        {
          "output_type": "stream",
          "name": "stderr",
          "text": [
            "/usr/local/lib/python3.10/dist-packages/ipykernel/ipkernel.py:283: DeprecationWarning: `should_run_async` will not call `transform_cell` automatically in the future. Please pass the result to `transformed_cell` argument and any exception that happen during thetransform in `preprocessing_exc_tuple` in IPython 7.17 and above.\n",
            "  and should_run_async(code)\n"
          ]
        }
      ],
      "source": [
        "def ipython_show_video(path: str) -> None:\n",
        "    \"\"\"Show a video at `path` within IPython Notebook.\"\"\"\n",
        "    if not os.path.isfile(path):\n",
        "        raise NameError(\"Cannot access: {}\".format(path))\n",
        "\n",
        "    video = io.open(path, \"r+b\").read()\n",
        "    encoded = base64.b64encode(video)\n",
        "\n",
        "    display(HTML(\n",
        "        data=\"\"\"\n",
        "        <video width=\"320\" height=\"240\" alt=\"test\" controls>\n",
        "        <source src=\"data:video/mp4;base64,{0}\" type=\"video/mp4\"/>\n",
        "        </video>\n",
        "        \"\"\".format(encoded.decode(\"ascii\"))\n",
        "    ))\n",
        "\n",
        "def remove_videos (video_folder: str):\n",
        "    list_of_files = glob.glob(os.path.join(video_folder, \"*.mp4\"))\n",
        "    for video in list_of_files:\n",
        "      try:\n",
        "          os.remove(video)\n",
        "      except:\n",
        "          print(\"Error while deleting file : \", video)\n",
        "\n",
        "def show_latest_video(video_folder: str) -> str:\n",
        "    \"\"\"Show the most recently recorded video from video folder.\"\"\"\n",
        "    list_of_files = glob.glob(os.path.join(video_folder, \"*.mp4\"))\n",
        "    print(\"files: \", list_of_files )\n",
        "    latest_file = max(list_of_files, key=os.path.getctime)\n",
        "    ipython_show_video(latest_file)\n",
        "    return latest_file\n",
        "\n",
        "def show_all_videos(video_folder: str) -> str:\n",
        "    \"\"\"Show all the videos recorded.\"\"\"\n",
        "    list_of_files = glob.glob(os.path.join(video_folder, \"*.mp4\"))\n",
        "    print(\"files: \", list_of_files )\n",
        "    for video in list_of_files:\n",
        "      ipython_show_video(video)\n",
        "    print(\"Played:\", video)\n"
      ]
    },
    {
      "cell_type": "markdown",
      "metadata": {
        "id": "PZzMzzVmIbKz"
      },
      "source": [
        "## Autograd Variable"
      ]
    },
    {
      "cell_type": "code",
      "execution_count": null,
      "metadata": {
        "id": "HYyjk9ihIbK0"
      },
      "outputs": [],
      "source": [
        "Variable = lambda *args, **kwargs: autograd.Variable(*args, **kwargs)"
      ]
    },
    {
      "cell_type": "markdown",
      "metadata": {
        "id": "TnjlYrW5IbK0"
      },
      "source": [
        "## Replay Buffer"
      ]
    },
    {
      "cell_type": "code",
      "execution_count": null,
      "metadata": {
        "id": "45GG4TiEIbK1"
      },
      "outputs": [],
      "source": [
        "from collections import deque\n",
        "\n",
        "class ReplayBuffer(object):\n",
        "    def __init__(self, capacity):\n",
        "        self.buffer = deque(maxlen=capacity)\n",
        "\n",
        "    def push(self, state, action, reward, next_state, done):\n",
        "        state      = np.expand_dims(state, 0)\n",
        "        next_state = np.expand_dims(next_state, 0)\n",
        "\n",
        "        self.buffer.append((state, action, reward, next_state, done))\n",
        "\n",
        "    def sample(self, batch_size):\n",
        "        state, action, reward, next_state, done = zip(*random.sample(self.buffer, batch_size))\n",
        "        return np.concatenate(state), action, reward, np.concatenate(next_state), done\n",
        "\n",
        "    def __len__(self):\n",
        "        return len(self.buffer)"
      ]
    },
    {
      "cell_type": "markdown",
      "metadata": {
        "id": "IyAYT95VwIvl"
      },
      "source": [
        "*###* Testing Replay Buffer"
      ]
    },
    {
      "cell_type": "code",
      "execution_count": null,
      "metadata": {
        "colab": {
          "base_uri": "https://localhost:8080/"
        },
        "id": "B47-W5kjrEeA",
        "outputId": "693332cb-542c-4be7-cd2c-98f37fc7886f"
      },
      "outputs": [
        {
          "output_type": "stream",
          "name": "stdout",
          "text": [
            "We add 8 elements but there are only  5 \n",
            "rB:  deque([(array([3]), 3, 3, array([3]), 3), (array([4]), 4, 4, array([4]), 4), (array([5]), 5, 5, array([5]), 5), (array([6]), 6, 6, array([6]), 6), (array([7]), 7, 7, array([7]), 7)], maxlen=5)\n",
            "\n",
            "After we add a new element the buffer is:  deque([(array([4]), 4, 4, array([4]), 4), (array([5]), 5, 5, array([5]), 5), (array([6]), 6, 6, array([6]), 6), (array([7]), 7, 7, array([7]), 7), (array([10]), 10, 10, array([10]), 10)], maxlen=5)\n",
            "\n",
            " The sampled elemenst:  (array([ 6, 10]), (6, 10), (6, 10), array([ 6, 10]), (6, 10))\n",
            "\n",
            " The sampled elemenst:  (array([5, 4, 7]), (5, 4, 7), (5, 4, 7), array([5, 4, 7]), (5, 4, 7))\n"
          ]
        }
      ],
      "source": [
        "# We build a Replay buffer for 5 elements\n",
        "rB = ReplayBuffer(5)\n",
        "\n",
        "# We are going to add 8 elements\n",
        "for i in range(8):\n",
        "  rB.push(i,i,i,i,i)\n",
        "print(\"We add 8 elements but there are only \", len(rB), \"\\nrB: \", rB.buffer)\n",
        "\n",
        "# We are going to add another value\n",
        "rB.push(10,10,10,10,10)\n",
        "print(\"\\nAfter we add a new element the buffer is: \", rB.buffer)\n",
        "\n",
        "# No we are going to see are sampled some experiences\n",
        "mini_batch = rB.sample(2)\n",
        "print(\"\\n The sampled elemenst: \", mini_batch )\n",
        "\n",
        "mini_batch = rB.sample(3)\n",
        "print(\"\\n The sampled elemenst: \", mini_batch )\n"
      ]
    },
    {
      "cell_type": "markdown",
      "metadata": {
        "id": "voxkftv1IbK2"
      },
      "source": [
        "## Cart Pole Environment"
      ]
    },
    {
      "cell_type": "code",
      "execution_count": null,
      "metadata": {
        "colab": {
          "base_uri": "https://localhost:8080/"
        },
        "id": "9EHbFDp6IbK4",
        "outputId": "ece22004-7059-4ea8-9471-12117e8d4cb6"
      },
      "outputs": [
        {
          "output_type": "stream",
          "name": "stderr",
          "text": [
            "/usr/local/lib/python3.10/dist-packages/gymnasium/envs/registration.py:517: DeprecationWarning: \u001b[33mWARN: The environment CartPole-v0 is out of date. You should consider upgrading to version `v1`.\u001b[0m\n",
            "  logger.deprecation(\n"
          ]
        }
      ],
      "source": [
        "env_id = \"CartPole-v0\"\n",
        "env = gymnasium.make(env_id, render_mode=\"rgb_array\")"
      ]
    },
    {
      "cell_type": "code",
      "execution_count": null,
      "metadata": {
        "id": "pZySBOH5IbLA"
      },
      "outputs": [],
      "source": [
        "def plot(frame_idx, rewards):\n",
        "    clear_output(True)\n",
        "    plt.figure(figsize=(20,5))\n",
        "    plt.subplot(131)\n",
        "    plt.title('frame %s. reward: %s' % (frame_idx, np.mean(rewards[-10:])))\n",
        "    plt.plot(rewards)\n",
        "    plt.show()"
      ]
    },
    {
      "cell_type": "markdown",
      "metadata": {
        "id": "h7aZ3bYgIbK4"
      },
      "source": [
        "## Epsilon greedy exploration\n",
        "Epsilon value is dynamic. It starts with 1.0 value (exploration) and little by little it is going to decay until 0.01 (exploitation)"
      ]
    },
    {
      "cell_type": "code",
      "execution_count": null,
      "metadata": {
        "id": "hZCk-i69IbK5"
      },
      "outputs": [],
      "source": [
        "epsilon_start = 1.0\n",
        "epsilon_final = 0.01\n",
        "epsilon_decay = 500\n",
        "\n",
        "epsilon_by_frame = lambda frame_idx: epsilon_final + (epsilon_start - epsilon_final) * math.exp(-1. * frame_idx / epsilon_decay)"
      ]
    },
    {
      "cell_type": "code",
      "execution_count": null,
      "metadata": {
        "colab": {
          "base_uri": "https://localhost:8080/",
          "height": 448
        },
        "id": "DKVzXtD0IbK6",
        "outputId": "47a4a8f1-5239-4a5a-9c3f-0470e1d5e078"
      },
      "outputs": [
        {
          "output_type": "execute_result",
          "data": {
            "text/plain": [
              "[<matplotlib.lines.Line2D at 0x7a939828e410>]"
            ]
          },
          "metadata": {},
          "execution_count": 10
        },
        {
          "output_type": "display_data",
          "data": {
            "text/plain": [
              "<Figure size 640x480 with 1 Axes>"
            ],
            "image/png": "[encoded data removed]"
          },
          "metadata": {}
        }
      ],
      "source": [
        "plt.plot([epsilon_by_frame(i) for i in range(10000)])"
      ]
    },
    {
      "cell_type": "markdown",
      "metadata": {
        "id": "c6A-SD0_IbK7"
      },
      "source": [
        "## Deep Q Network"
      ]
    },
    {
      "cell_type": "code",
      "execution_count": null,
      "metadata": {
        "id": "p4vsG_e3IbK7"
      },
      "outputs": [],
      "source": [
        "class DQN(nn.Module):\n",
        "    def __init__(self, num_inputs, num_actions):\n",
        "        super(DQN, self).__init__()\n",
        "\n",
        "        self.layers = nn.Sequential(\n",
        "            nn.Linear(env.observation_space.shape[0], 128),\n",
        "            nn.ReLU(),\n",
        "            nn.Linear(128, 128),\n",
        "            nn.ReLU(),\n",
        "            nn.Linear(128, env.action_space.n)\n",
        "        )\n",
        "\n",
        "        self.optimizer = optim.Adam(self.parameters())\n",
        "        self.replay_buffer = ReplayBuffer(1000)\n",
        "        self.batch_size = 32\n",
        "        self.gamma = 0.99\n",
        "\n",
        "    # This method defines the epsilon value. It started with 1.0 and it decays until 0.01 value\n",
        "    def get_epsilon_value(self, frame_idx):\n",
        "      epsilon_start = 1.0\n",
        "      epsilon_final = 0.01\n",
        "      epsilon_decay = 500\n",
        "\n",
        "      epsilon = lambda frame_idx: epsilon_final + (epsilon_start - epsilon_final) * math.exp(-1. * frame_idx / epsilon_decay)\n",
        "      return epsilon(frame_idx)\n",
        "\n",
        "    # This method computes output Tensors from input Tensors. That is, given an state it returns an array with q(s,a) values for all actions\n",
        "    def forward(self, x):\n",
        "        return self.layers(x)\n",
        "\n",
        "    # Given a state and epsilon value, this method returns an action following epsilon-greedy\n",
        "    def act(self, state, epsilon):\n",
        "        if random.random() > epsilon:\n",
        "            state   = Variable(torch.FloatTensor(state).unsqueeze(0), requires_grad=False)\n",
        "            q_value = self.forward(state)\n",
        "            action  = q_value.max(1)[1].item()\n",
        "        else:\n",
        "            action = random.randrange(env.action_space.n)\n",
        "        return action\n",
        "\n",
        "    # Given a model, it copyes the current model on it.\n",
        "    def update_target(self, target_model):\n",
        "      target_model.load_state_dict(self.state_dict())\n",
        "\n",
        "    # This method updates the weights\n",
        "    # It is solved using tensors\n",
        "    def compute_td_loss(self, target_model):\n",
        "      state, action, reward, next_state, done = self.replay_buffer.sample(self.batch_size)\n",
        "\n",
        "      state      = Variable(torch.FloatTensor(np.float32(state)))\n",
        "      next_state = Variable(torch.FloatTensor(np.float32(next_state)))\n",
        "      action     = Variable(torch.LongTensor(action))\n",
        "      reward     = Variable(torch.FloatTensor(reward))\n",
        "      done       = Variable(torch.FloatTensor(done))\n",
        "\n",
        "      q_values      = self.forward(state)\n",
        "      next_q_values = self.forward(next_state)\n",
        "      next_q_state_values = target_model(next_state)\n",
        "\n",
        "      q_value       = q_values.gather(1, action.unsqueeze(1)).squeeze(1)\n",
        "      next_q_value = next_q_state_values.gather(1, torch.max(next_q_values, 1)[1].unsqueeze(1)).squeeze(1)\n",
        "      #next_q_value = next_q_state_values.max(1)[0]\n",
        "      expected_q_value = reward + self.gamma * next_q_value * (1 - done)\n",
        "\n",
        "      loss = (q_value - Variable(expected_q_value.data)).pow(2).mean()\n",
        "\n",
        "      self.optimizer.zero_grad()\n",
        "      loss.backward()\n",
        "      self.optimizer.step()\n",
        "\n",
        "      return loss\n",
        "\n",
        "    # TODO\n",
        "    # This method updates the weights\n",
        "    def compute_td_loss_our(self, target_model):\n",
        "      # Obtain a mini_batch to train the weights.\n",
        "      # state, action, reward, next_state and done are numpy arrays, each position corresponds to one experience\n",
        "      state, action, reward, next_state, done = self.replay_buffer.sample(self.batch_size)\n",
        "\n",
        "      # Convert those numpy arrays to tensors. It is neccesary to work with Pytorch\n",
        "      states_tensor      = Variable(torch.FloatTensor(np.float32(state)))       # current_state S\n",
        "      actions_tensor     = Variable(torch.LongTensor(action))                   # action A\n",
        "      next_states_tensor = Variable(torch.FloatTensor(np.float32(next_state)))  # next_state S'\n",
        "\n",
        "      # The approximated q_values of each current state\n",
        "      q_values_tensor      = self.forward(states_tensor) # Q(S, A, W)\n",
        "\n",
        "      # The approximated q_values of each next state calculated with the current_model and the target_model\n",
        "      next_q_values_current_model_tensor = self.forward(next_states_tensor) # Q(S', A', W)\n",
        "      next_q_values_target_model_tensor = target_model.forward(next_states_tensor) # Q(S', A', W')\n",
        "\n",
        "      # Convert the approximated next_states' q_values to numpy array. We are going to work with these arrays\n",
        "      next_q_values_current_model = next_q_values_current_model_tensor.detach().numpy();\n",
        "      next_q_values_target_model = next_q_values_target_model_tensor.detach().numpy();\n",
        "      expected_q_value = np.zeros(self.batch_size)\n",
        "\n",
        "      # TODO\n",
        "      # input: next_q_values_current_model is a numpy array. In each element are stored all the approximated q values for the next state calculated with the current_model\n",
        "      # input: next_q_values_target_model is a numpy array. In each element are stored all the approximated q values for the next state calculated with the target_model\n",
        "      # input: reward is a numpy array with the rewards obtained in each experience of the mini_batch (batch_size)\n",
        "      # output: expected_q_value is a numpy array. You have to store in each position the target value of each experience using next_q_values_target_model and reward elements\n",
        "      # note: all these numpy arrays has the same length: the length of the mini_batch (batch_size)\n",
        "      #\n",
        "      # for all the elements on the batch size\n",
        "      #  calculate the target expected value and store in expected_q_value\n",
        "\n",
        "      for i in range(self.batch_size):\n",
        "        next_q_value = 0\n",
        "        if not(done[i]):\n",
        "          next_q_value = max(next_q_values_target_model[i])\n",
        "\n",
        "          # with current model\n",
        "          #next_q_value = max(next_q_values_current_model[i])\n",
        "\n",
        "          # with current model action and target model approximation\n",
        "          #next_action = np.argmax(next_q_values_current_model[i])\n",
        "          #next_q_value = next_q_values_target_model[i][next_action]\n",
        "\n",
        "        expected_q_value[i] = reward[i] + self.gamma*next_q_value\n",
        "\n",
        "      # END TODO\n",
        "\n",
        "      # Prepare data for the loss function\n",
        "      q_value = q_values_tensor.gather(1, actions_tensor.unsqueeze(1)).squeeze(1)\n",
        "      expected_q_values = torch.tensor(expected_q_value)\n",
        "\n",
        "      # Loss function: to know how good the weights are\n",
        "      lossMSE = nn.MSELoss()\n",
        "      loss = lossMSE(q_value.float(), expected_q_values.float())\n",
        "\n",
        "      # Based on the results of the loss function, the weights are updated with gradient descent\n",
        "      self.optimizer.zero_grad()\n",
        "      loss.backward()\n",
        "      self.optimizer.step()\n",
        "\n",
        "      return loss\n",
        "\n",
        "    # TODO\n",
        "    # Method to train the agent\n",
        "    def train(self, env):\n",
        "      num_frames = 25000\n",
        "      losses = []\n",
        "      all_rewards = []\n",
        "      episode_reward = 0\n",
        "      target_model  = DQN(env.observation_space.shape[0], env.action_space.n)\n",
        "      state, info = env.reset()\n",
        "\n",
        "      # TODO\n",
        "      # replay buffer attribute is empty\n",
        "      # for each frame\n",
        "      #   get current epsilon\n",
        "      #   get action following epsilon greedy\n",
        "      #   get next_state and reward\n",
        "      #   add new experience to the replay buffer\n",
        "      #   update state\n",
        "      #   update episode total reward\n",
        "      #   if done\n",
        "      #     reset environment\n",
        "      #     append the episode total reward to all_rewards array\n",
        "      #     set episode total reward to 0\n",
        "      #   if experience replay has more elements than batch_size\n",
        "      #     update the weights\n",
        "      #   every 100 frames update the target model\n",
        "\n",
        "      for frame_idx in range(1, num_frames + 1):\n",
        "          epsilon = self.get_epsilon_value(frame_idx)\n",
        "          action = self.act(state, epsilon)\n",
        "\n",
        "          next_state, reward, done, truncated, info = env.step(action)\n",
        "          self.replay_buffer.push(state, action, reward, next_state, done)\n",
        "\n",
        "          state = next_state\n",
        "          episode_reward += reward\n",
        "\n",
        "          if done or truncated:\n",
        "              state, info = env.reset()\n",
        "              all_rewards.append(episode_reward)\n",
        "              episode_reward = 0\n",
        "\n",
        "          if len(current_model.replay_buffer) > self.batch_size:\n",
        "              loss = self.compute_td_loss_our(target_model)\n",
        "              losses.append(loss.data)\n",
        "\n",
        "          # to visualize how the agent is learning\n",
        "          if frame_idx % 200 == 0:\n",
        "              plot(frame_idx, all_rewards)\n",
        "\n",
        "          if frame_idx % 100 == 0:\n",
        "              self.update_target(target_model)\n",
        "\n",
        "    # This method runs one episode and generates a video to observe the result\n",
        "    def test(self,env):\n",
        "        video_folder=\"videos\"\n",
        "\n",
        "        remove_videos(video_folder=video_folder)\n",
        "\n",
        "        # we are going to work over envVideo.\n",
        "        envVideo = gymnasium.wrappers.RecordVideo(env, video_folder=video_folder)\n",
        "\n",
        "        done = False #It is used to control if the episode is finished, if it is finished the environment must be reset\n",
        "        state, info = envVideo.reset()\n",
        "\n",
        "        total_reward = 0\n",
        "        while not(done):\n",
        "            action = self.act(state, 0)\n",
        "            next_state, reward, done, truncated, info = envVideo.step(action)\n",
        "            state = next_state\n",
        "            total_reward +=reward\n",
        "            if done or truncated:\n",
        "              break\n",
        "        envVideo.close()\n",
        "        print(\"rew: \", total_reward)\n",
        "        show_all_videos(video_folder=video_folder)\n",
        "\n"
      ]
    },
    {
      "cell_type": "markdown",
      "metadata": {
        "id": "ynxAQEvLmC6R"
      },
      "source": [
        "### Train the agent"
      ]
    },
    {
      "cell_type": "code",
      "execution_count": null,
      "metadata": {
        "colab": {
          "base_uri": "https://localhost:8080/",
          "height": 468
        },
        "id": "uQO4hDUn2vUa",
        "outputId": "cf49dea0-39ef-4c67-d883-7b1a471420ed"
      },
      "outputs": [
        {
          "output_type": "display_data",
          "data": {
            "text/plain": [
              "<Figure size 2000x500 with 1 Axes>"
            ],
            "image/png": "[encoded data removed]"
          },
          "metadata": {}
        }
      ],
      "source": [
        "current_model = DQN(env.observation_space.shape[0], env.action_space.n)\n",
        "current_model.train(env)"
      ]
    },
    {
      "cell_type": "markdown",
      "metadata": {
        "id": "WoZsHTkFl7Jq"
      },
      "source": [
        "### Test the agent"
      ]
    },
    {
      "cell_type": "code",
      "execution_count": null,
      "metadata": {
        "id": "YIVpEbfR4pVO",
        "colab": {
          "base_uri": "https://localhost:8080/",
          "height": 571
        },
        "outputId": "591b9caa-cd58-4706-eab2-d136f9e85020"
      },
      "outputs": [
        {
          "output_type": "stream",
          "name": "stderr",
          "text": [
            "/usr/local/lib/python3.10/dist-packages/moviepy/config_defaults.py:1: DeprecationWarning: invalid escape sequence '\\P'\n",
            "  \"\"\"\n",
            "/usr/local/lib/python3.10/dist-packages/pygame/pkgdata.py:25: DeprecationWarning: pkg_resources is deprecated as an API. See https://setuptools.pypa.io/en/latest/pkg_resources.html\n",
            "  from pkg_resources import resource_stream, resource_exists\n",
            "/usr/local/lib/python3.10/dist-packages/pkg_resources/__init__.py:3154: DeprecationWarning: Deprecated call to `pkg_resources.declare_namespace('google')`.\n",
            "Implementing implicit namespace packages (as specified in PEP 420) is preferred to `pkg_resources.declare_namespace`. See https://setuptools.pypa.io/en/latest/references/keywords.html#keyword-namespace-packages\n",
            "  declare_namespace(pkg)\n",
            "/usr/local/lib/python3.10/dist-packages/pkg_resources/__init__.py:3154: DeprecationWarning: Deprecated call to `pkg_resources.declare_namespace('google.cloud')`.\n",
            "Implementing implicit namespace packages (as specified in PEP 420) is preferred to `pkg_resources.declare_namespace`. See https://setuptools.pypa.io/en/latest/references/keywords.html#keyword-namespace-packages\n",
            "  declare_namespace(pkg)\n",
            "/usr/local/lib/python3.10/dist-packages/pkg_resources/__init__.py:3154: DeprecationWarning: Deprecated call to `pkg_resources.declare_namespace('sphinxcontrib')`.\n",
            "Implementing implicit namespace packages (as specified in PEP 420) is preferred to `pkg_resources.declare_namespace`. See https://setuptools.pypa.io/en/latest/references/keywords.html#keyword-namespace-packages\n",
            "  declare_namespace(pkg)\n"
          ]
        },
        {
          "output_type": "stream",
          "name": "stdout",
          "text": [
            "rew:  93.0\n",
            "files:  ['videos/rl-video-episode-0.mp4']\n"
          ]
        },
        {
          "output_type": "display_data",
          "data": {
            "text/plain": [
              "<IPython.core.display.HTML object>"
            ],
            "text/html": [
              "\n",
              "        <video width=\"320\" height=\"240\" alt=\"test\" controls>\n",
              "        <source src=\"data:video/mp4;base64,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\" type=\"video/mp4\"/>\n",
              "        </video>\n",
              "        "
            ]
          },
          "metadata": {}
        },
        {
          "output_type": "stream",
          "name": "stdout",
          "text": [
            "Played: videos/rl-video-episode-0.mp4\n"
          ]
        }
      ],
      "source": [
        "current_model.test(env)"
      ]
    }
  ],
  "metadata": {
    "colab": {
      "provenance": [],
      "include_colab_link": true
    },
    "gpuClass": "standard",
    "kernelspec": {
      "display_name": "Python 3",
      "language": "python",
      "name": "python3"
    },
    "language_info": {
      "codemirror_mode": {
        "name": "ipython",
        "version": 3
      },
      "file_extension": ".py",
      "mimetype": "text/x-python",
      "name": "python",
      "nbconvert_exporter": "python",
      "pygments_lexer": "ipython3",
      "version": "3.6.8"
    }
  },
  "nbformat": 4,
  "nbformat_minor": 0
}