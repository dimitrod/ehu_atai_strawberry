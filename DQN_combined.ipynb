{
  "cells": [
    {
      "cell_type": "markdown",
      "metadata": {
        "id": "view-in-github",
        "colab_type": "text"
      },
      "source": [
        "<a href=\"https://colab.research.google.com/github/dimitrod/ehu_atai_strawberry/blob/main/DQN_combined.ipynb\" target=\"_parent\"><img src=\"https://colab.research.google.com/assets/colab-badge.svg\" alt=\"Open In Colab\"/></a>"
      ]
    },
    {
      "cell_type": "markdown",
      "metadata": {
        "id": "7p-FkdaHOISM"
      },
      "source": [
        "# **Initialization**"
      ]
    },
    {
      "cell_type": "markdown",
      "metadata": {
        "id": "VzfboO1QP_Uw"
      },
      "source": [
        "## Install dependencies"
      ]
    },
    {
      "cell_type": "code",
      "execution_count": 1,
      "metadata": {
        "colab": {
          "base_uri": "https://localhost:8080/"
        },
        "id": "mt4fLrG2Puzd",
        "outputId": "09a91a13-c09c-49ba-c0ad-d5805fcd329d"
      },
      "outputs": [
        {
          "output_type": "stream",
          "name": "stdout",
          "text": [
            "\r0% [Working]\r            \rGet:1 http://security.ubuntu.com/ubuntu jammy-security InRelease [129 kB]\n",
            "Get:2 https://cloud.r-project.org/bin/linux/ubuntu jammy-cran40/ InRelease [3,626 B]\n",
            "Get:3 https://developer.download.nvidia.com/compute/cuda/repos/ubuntu2204/x86_64  InRelease [1,581 B]\n",
            "Get:4 https://r2u.stat.illinois.edu/ubuntu jammy InRelease [6,555 B]\n",
            "Hit:5 http://archive.ubuntu.com/ubuntu jammy InRelease\n",
            "Get:6 http://archive.ubuntu.com/ubuntu jammy-updates InRelease [128 kB]\n",
            "Hit:7 https://ppa.launchpadcontent.net/deadsnakes/ppa/ubuntu jammy InRelease\n",
            "Get:8 https://ppa.launchpadcontent.net/graphics-drivers/ppa/ubuntu jammy InRelease [24.3 kB]\n",
            "Get:9 http://archive.ubuntu.com/ubuntu jammy-backports InRelease [127 kB]\n",
            "Hit:10 https://ppa.launchpadcontent.net/ubuntugis/ppa/ubuntu jammy InRelease\n",
            "Get:11 http://security.ubuntu.com/ubuntu jammy-security/universe amd64 Packages [1,226 kB]\n",
            "Get:12 http://security.ubuntu.com/ubuntu jammy-security/main amd64 Packages [2,517 kB]\n",
            "Get:13 http://security.ubuntu.com/ubuntu jammy-security/restricted amd64 Packages [3,448 kB]\n",
            "Get:14 https://developer.download.nvidia.com/compute/cuda/repos/ubuntu2204/x86_64  Packages [1,196 kB]\n",
            "Get:15 https://r2u.stat.illinois.edu/ubuntu jammy/main amd64 Packages [2,628 kB]\n",
            "Get:16 https://r2u.stat.illinois.edu/ubuntu jammy/main all Packages [8,555 kB]\n",
            "Get:17 http://archive.ubuntu.com/ubuntu jammy-updates/main amd64 Packages [2,830 kB]\n",
            "Get:18 https://ppa.launchpadcontent.net/graphics-drivers/ppa/ubuntu jammy/main amd64 Packages [53.4 kB]\n",
            "Get:19 http://archive.ubuntu.com/ubuntu jammy-updates/restricted amd64 Packages [3,614 kB]\n",
            "Get:20 http://archive.ubuntu.com/ubuntu jammy-updates/universe amd64 Packages [1,517 kB]\n",
            "Get:21 http://archive.ubuntu.com/ubuntu jammy-backports/universe amd64 Packages [33.8 kB]\n",
            "Get:22 http://archive.ubuntu.com/ubuntu jammy-backports/main amd64 Packages [81.4 kB]\n",
            "Fetched 28.1 MB in 12s (2,379 kB/s)\n",
            "Reading package lists... Done\n",
            "W: Skipping acquire of configured file 'main/source/Sources' as repository 'https://r2u.stat.illinois.edu/ubuntu jammy InRelease' does not seem to provide it (sources.list entry misspelt?)\n",
            "Reading package lists... Done\n",
            "Building dependency tree... Done\n",
            "Reading state information... Done\n",
            "\u001b[1;31mE: \u001b[0mUnable to locate package python-opengl\u001b[0m\n",
            "Reading package lists... Done\n",
            "Building dependency tree... Done\n",
            "Reading state information... Done\n",
            "ffmpeg is already the newest version (7:4.4.2-0ubuntu0.22.04.1).\n",
            "0 upgraded, 0 newly installed, 0 to remove and 54 not upgraded.\n",
            "Reading package lists... Done\n",
            "Building dependency tree... Done\n",
            "Reading state information... Done\n",
            "The following additional packages will be installed:\n",
            "  libfontenc1 libxfont2 libxkbfile1 x11-xkb-utils xfonts-base xfonts-encodings xfonts-utils\n",
            "  xserver-common\n",
            "The following NEW packages will be installed:\n",
            "  libfontenc1 libxfont2 libxkbfile1 x11-xkb-utils xfonts-base xfonts-encodings xfonts-utils\n",
            "  xserver-common xvfb\n",
            "0 upgraded, 9 newly installed, 0 to remove and 54 not upgraded.\n",
            "Need to get 7,815 kB of archives.\n",
            "After this operation, 11.9 MB of additional disk space will be used.\n",
            "Get:1 http://archive.ubuntu.com/ubuntu jammy/main amd64 libfontenc1 amd64 1:1.1.4-1build3 [14.7 kB]\n",
            "Get:2 http://archive.ubuntu.com/ubuntu jammy/main amd64 libxfont2 amd64 1:2.0.5-1build1 [94.5 kB]\n",
            "Get:3 http://archive.ubuntu.com/ubuntu jammy/main amd64 libxkbfile1 amd64 1:1.1.0-1build3 [71.8 kB]\n",
            "Get:4 http://archive.ubuntu.com/ubuntu jammy/main amd64 x11-xkb-utils amd64 7.7+5build4 [172 kB]\n",
            "Get:5 http://archive.ubuntu.com/ubuntu jammy/main amd64 xfonts-encodings all 1:1.0.5-0ubuntu2 [578 kB]\n",
            "Get:6 http://archive.ubuntu.com/ubuntu jammy/main amd64 xfonts-utils amd64 1:7.7+6build2 [94.6 kB]\n",
            "Get:7 http://archive.ubuntu.com/ubuntu jammy/main amd64 xfonts-base all 1:1.0.5 [5,896 kB]\n",
            "Get:8 http://archive.ubuntu.com/ubuntu jammy-updates/main amd64 xserver-common all 2:21.1.4-2ubuntu1.7~22.04.12 [28.7 kB]\n",
            "Get:9 http://archive.ubuntu.com/ubuntu jammy-updates/universe amd64 xvfb amd64 2:21.1.4-2ubuntu1.7~22.04.12 [864 kB]\n",
            "Fetched 7,815 kB in 1s (14.7 MB/s)\n",
            "Selecting previously unselected package libfontenc1:amd64.\n",
            "(Reading database ... 123634 files and directories currently installed.)\n",
            "Preparing to unpack .../0-libfontenc1_1%3a1.1.4-1build3_amd64.deb ...\n",
            "Unpacking libfontenc1:amd64 (1:1.1.4-1build3) ...\n",
            "Selecting previously unselected package libxfont2:amd64.\n",
            "Preparing to unpack .../1-libxfont2_1%3a2.0.5-1build1_amd64.deb ...\n",
            "Unpacking libxfont2:amd64 (1:2.0.5-1build1) ...\n",
            "Selecting previously unselected package libxkbfile1:amd64.\n",
            "Preparing to unpack .../2-libxkbfile1_1%3a1.1.0-1build3_amd64.deb ...\n",
            "Unpacking libxkbfile1:amd64 (1:1.1.0-1build3) ...\n",
            "Selecting previously unselected package x11-xkb-utils.\n",
            "Preparing to unpack .../3-x11-xkb-utils_7.7+5build4_amd64.deb ...\n",
            "Unpacking x11-xkb-utils (7.7+5build4) ...\n",
            "Selecting previously unselected package xfonts-encodings.\n",
            "Preparing to unpack .../4-xfonts-encodings_1%3a1.0.5-0ubuntu2_all.deb ...\n",
            "Unpacking xfonts-encodings (1:1.0.5-0ubuntu2) ...\n",
            "Selecting previously unselected package xfonts-utils.\n",
            "Preparing to unpack .../5-xfonts-utils_1%3a7.7+6build2_amd64.deb ...\n",
            "Unpacking xfonts-utils (1:7.7+6build2) ...\n",
            "Selecting previously unselected package xfonts-base.\n",
            "Preparing to unpack .../6-xfonts-base_1%3a1.0.5_all.deb ...\n",
            "Unpacking xfonts-base (1:1.0.5) ...\n",
            "Selecting previously unselected package xserver-common.\n",
            "Preparing to unpack .../7-xserver-common_2%3a21.1.4-2ubuntu1.7~22.04.12_all.deb ...\n",
            "Unpacking xserver-common (2:21.1.4-2ubuntu1.7~22.04.12) ...\n",
            "Selecting previously unselected package xvfb.\n",
            "Preparing to unpack .../8-xvfb_2%3a21.1.4-2ubuntu1.7~22.04.12_amd64.deb ...\n",
            "Unpacking xvfb (2:21.1.4-2ubuntu1.7~22.04.12) ...\n",
            "Setting up libfontenc1:amd64 (1:1.1.4-1build3) ...\n",
            "Setting up xfonts-encodings (1:1.0.5-0ubuntu2) ...\n",
            "Setting up libxkbfile1:amd64 (1:1.1.0-1build3) ...\n",
            "Setting up libxfont2:amd64 (1:2.0.5-1build1) ...\n",
            "Setting up x11-xkb-utils (7.7+5build4) ...\n",
            "Setting up xfonts-utils (1:7.7+6build2) ...\n",
            "Setting up xfonts-base (1:1.0.5) ...\n",
            "Setting up xserver-common (2:21.1.4-2ubuntu1.7~22.04.12) ...\n",
            "Setting up xvfb (2:21.1.4-2ubuntu1.7~22.04.12) ...\n",
            "Processing triggers for man-db (2.10.2-1) ...\n",
            "Processing triggers for fontconfig (2.13.1-4.2ubuntu5) ...\n",
            "Processing triggers for libc-bin (2.35-0ubuntu3.4) ...\n",
            "/sbin/ldconfig.real: /usr/local/lib/libtbb.so.12 is not a symbolic link\n",
            "\n",
            "/sbin/ldconfig.real: /usr/local/lib/libur_loader.so.0 is not a symbolic link\n",
            "\n",
            "/sbin/ldconfig.real: /usr/local/lib/libtbbbind.so.3 is not a symbolic link\n",
            "\n",
            "/sbin/ldconfig.real: /usr/local/lib/libtcm.so.1 is not a symbolic link\n",
            "\n",
            "/sbin/ldconfig.real: /usr/local/lib/libtbbmalloc_proxy.so.2 is not a symbolic link\n",
            "\n",
            "/sbin/ldconfig.real: /usr/local/lib/libur_adapter_opencl.so.0 is not a symbolic link\n",
            "\n",
            "/sbin/ldconfig.real: /usr/local/lib/libtbbbind_2_0.so.3 is not a symbolic link\n",
            "\n",
            "/sbin/ldconfig.real: /usr/local/lib/libur_adapter_level_zero.so.0 is not a symbolic link\n",
            "\n",
            "/sbin/ldconfig.real: /usr/local/lib/libtcm_debug.so.1 is not a symbolic link\n",
            "\n",
            "/sbin/ldconfig.real: /usr/local/lib/libhwloc.so.15 is not a symbolic link\n",
            "\n",
            "/sbin/ldconfig.real: /usr/local/lib/libumf.so.0 is not a symbolic link\n",
            "\n",
            "/sbin/ldconfig.real: /usr/local/lib/libtbbmalloc.so.2 is not a symbolic link\n",
            "\n",
            "/sbin/ldconfig.real: /usr/local/lib/libtbbbind_2_5.so.3 is not a symbolic link\n",
            "\n",
            "Collecting PyVirtualDisplay==3.0\n",
            "  Downloading PyVirtualDisplay-3.0-py3-none-any.whl.metadata (943 bytes)\n",
            "Downloading PyVirtualDisplay-3.0-py3-none-any.whl (15 kB)\n",
            "Installing collected packages: PyVirtualDisplay\n",
            "Successfully installed PyVirtualDisplay-3.0\n",
            "Collecting gymnasium[classic_control]\n",
            "  Downloading gymnasium-1.0.0-py3-none-any.whl.metadata (9.5 kB)\n",
            "Requirement already satisfied: numpy>=1.21.0 in /usr/local/lib/python3.10/dist-packages (from gymnasium[classic_control]) (1.26.4)\n",
            "Requirement already satisfied: cloudpickle>=1.2.0 in /usr/local/lib/python3.10/dist-packages (from gymnasium[classic_control]) (3.1.0)\n",
            "Requirement already satisfied: typing-extensions>=4.3.0 in /usr/local/lib/python3.10/dist-packages (from gymnasium[classic_control]) (4.12.2)\n",
            "Collecting farama-notifications>=0.0.1 (from gymnasium[classic_control])\n",
            "  Downloading Farama_Notifications-0.0.4-py3-none-any.whl.metadata (558 bytes)\n",
            "Requirement already satisfied: pygame>=2.1.3 in /usr/local/lib/python3.10/dist-packages (from gymnasium[classic_control]) (2.6.1)\n",
            "Downloading Farama_Notifications-0.0.4-py3-none-any.whl (2.5 kB)\n",
            "Downloading gymnasium-1.0.0-py3-none-any.whl (958 kB)\n",
            "\u001b[2K   \u001b[90m━━━━━━━━━━━━━━━━━━━━━━━━━━━━━━━━━━━━━━━━\u001b[0m \u001b[32m958.1/958.1 kB\u001b[0m \u001b[31m12.4 MB/s\u001b[0m eta \u001b[36m0:00:00\u001b[0m\n",
            "\u001b[?25hInstalling collected packages: farama-notifications, gymnasium\n",
            "Successfully installed farama-notifications-0.0.4 gymnasium-1.0.0\n"
          ]
        }
      ],
      "source": [
        "import sys\n",
        "IN_COLAB = \"google.colab\" in sys.modules\n",
        "\n",
        "if IN_COLAB:\n",
        "    !apt-get update\n",
        "    !apt install python-opengl\n",
        "    !apt install ffmpeg\n",
        "    !apt install xvfb\n",
        "    !pip install PyVirtualDisplay==3.0\n",
        "    !pip install gymnasium[classic_control]\n",
        "    from pyvirtualdisplay import Display\n",
        "\n",
        "    # Start virtual display\n",
        "    dis = Display(visible=0, size=(400, 400))\n",
        "    dis.start()"
      ]
    },
    {
      "cell_type": "markdown",
      "metadata": {
        "id": "sHmjyfGJOTsV"
      },
      "source": [
        "## Import Dependencies"
      ]
    },
    {
      "cell_type": "code",
      "execution_count": 2,
      "metadata": {
        "id": "GJ7ASlptVUES"
      },
      "outputs": [],
      "source": [
        "import os\n",
        "from typing import Dict, List, Tuple\n",
        "import math, random\n",
        "\n",
        "import gym\n",
        "import gymnasium as gymnasium\n",
        "import numpy as np\n",
        "import matplotlib.pyplot as plt\n",
        "%matplotlib inline\n",
        "\n",
        "\n",
        "import base64\n",
        "import glob\n",
        "import io\n",
        "import os\n",
        "\n",
        "\n",
        "import torch\n",
        "import torch.nn as nn\n",
        "import torch.optim as optim\n",
        "import torch.autograd as autograd\n",
        "import torch.nn.functional as F\n",
        "\n",
        "\n",
        "from IPython.display import HTML, display, clear_output\n",
        "from collections import OrderedDict"
      ]
    },
    {
      "cell_type": "markdown",
      "metadata": {
        "id": "Eqs9Zs6rOZhy"
      },
      "source": [
        "#**Implementation**"
      ]
    },
    {
      "cell_type": "markdown",
      "metadata": {
        "id": "GaC0tjzZS6hG"
      },
      "source": [
        "## **Show recorded video**\n",
        "The following functions are used in order to show in a video the obtained results"
      ]
    },
    {
      "cell_type": "code",
      "execution_count": 3,
      "metadata": {
        "id": "4qPbPwvooax1",
        "outputId": "432a8e18-5c8e-41d8-d17e-324f668f5b77",
        "colab": {
          "base_uri": "https://localhost:8080/"
        }
      },
      "outputs": [
        {
          "output_type": "stream",
          "name": "stderr",
          "text": [
            "/usr/local/lib/python3.10/dist-packages/ipykernel/ipkernel.py:283: DeprecationWarning: `should_run_async` will not call `transform_cell` automatically in the future. Please pass the result to `transformed_cell` argument and any exception that happen during thetransform in `preprocessing_exc_tuple` in IPython 7.17 and above.\n",
            "  and should_run_async(code)\n"
          ]
        }
      ],
      "source": [
        "def ipython_show_video(path: str) -> None:\n",
        "    \"\"\"Show a video at `path` within IPython Notebook.\"\"\"\n",
        "    if not os.path.isfile(path):\n",
        "        raise NameError(\"Cannot access: {}\".format(path))\n",
        "\n",
        "    video = io.open(path, \"r+b\").read()\n",
        "    encoded = base64.b64encode(video)\n",
        "\n",
        "    display(HTML(\n",
        "        data=\"\"\"\n",
        "        <video width=\"320\" height=\"240\" alt=\"test\" controls>\n",
        "        <source src=\"data:video/mp4;base64,{0}\" type=\"video/mp4\"/>\n",
        "        </video>\n",
        "        \"\"\".format(encoded.decode(\"ascii\"))\n",
        "    ))\n",
        "\n",
        "def remove_videos (video_folder: str):\n",
        "    list_of_files = glob.glob(os.path.join(video_folder, \"*.mp4\"))\n",
        "    for video in list_of_files:\n",
        "      try:\n",
        "          os.remove(video)\n",
        "      except:\n",
        "          print(\"Error while deleting file : \", video)\n",
        "\n",
        "def show_latest_video(video_folder: str) -> str:\n",
        "    \"\"\"Show the most recently recorded video from video folder.\"\"\"\n",
        "    list_of_files = glob.glob(os.path.join(video_folder, \"*.mp4\"))\n",
        "    print(\"files: \", list_of_files )\n",
        "    latest_file = max(list_of_files, key=os.path.getctime)\n",
        "    ipython_show_video(latest_file)\n",
        "    return latest_file\n",
        "\n",
        "def show_all_videos(video_folder: str) -> str:\n",
        "    \"\"\"Show all the videos recorded.\"\"\"\n",
        "    list_of_files = glob.glob(os.path.join(video_folder, \"*.mp4\"))\n",
        "    print(\"files: \", list_of_files )\n",
        "    for video in list_of_files:\n",
        "      ipython_show_video(video)\n",
        "    print(\"Played:\", video)\n"
      ]
    },
    {
      "cell_type": "markdown",
      "metadata": {
        "id": "PZzMzzVmIbKz"
      },
      "source": [
        "## Autograd Variable"
      ]
    },
    {
      "cell_type": "code",
      "execution_count": 4,
      "metadata": {
        "id": "HYyjk9ihIbK0"
      },
      "outputs": [],
      "source": [
        "Variable = lambda *args, **kwargs: autograd.Variable(*args, **kwargs)"
      ]
    },
    {
      "cell_type": "markdown",
      "metadata": {
        "id": "TnjlYrW5IbK0"
      },
      "source": [
        "## Replay Buffer"
      ]
    },
    {
      "cell_type": "code",
      "execution_count": 5,
      "metadata": {
        "id": "45GG4TiEIbK1"
      },
      "outputs": [],
      "source": [
        "from collections import deque\n",
        "\n",
        "class HybridReplayBuffer:\n",
        "    def __init__(self, capacity, n_step, gamma, alpha):\n",
        "        self.capacity = capacity\n",
        "        self.alpha = alpha\n",
        "        self.gamma = gamma\n",
        "        self.n_step = n_step\n",
        "\n",
        "        self.priorities = []  # For prioritized sampling\n",
        "        self.buffer = deque(maxlen=capacity)  # Main storage\n",
        "        self.n_step_buffer = deque(maxlen=n_step)  # Temporary n-step buffer\n",
        "        self.position = 0  # Position for cyclic overwriting\n",
        "\n",
        "    def _calculate_n_step_return(self):\n",
        "        reward, next_state, done = 0.0, None, False\n",
        "        for idx, (_, _, r, ns, d) in enumerate(self.n_step_buffer):\n",
        "            reward += (self.gamma ** idx) * r\n",
        "            next_state = ns\n",
        "            done = d\n",
        "            if d:\n",
        "                break\n",
        "        return reward, next_state, done\n",
        "\n",
        "    def push(self, state, action, reward, next_state, done, truncated=False):\n",
        "        self.n_step_buffer.append((state, action, reward, next_state, done))\n",
        "\n",
        "        # Process n-step buffer when full or terminal state\n",
        "        if len(self.n_step_buffer) == self.n_step or done or truncated:\n",
        "            if done or truncated:\n",
        "                while self.n_step_buffer:\n",
        "                    state, action, _, _, _ = self.n_step_buffer[0]\n",
        "                    reward, next_state, done = self._calculate_n_step_return()\n",
        "                    self._store_transition(state, action, reward, next_state, done)\n",
        "                    self.n_step_buffer.popleft()\n",
        "            else:\n",
        "                state, action, _, _, _ = self.n_step_buffer[0]\n",
        "                reward, next_state, done = self._calculate_n_step_return()\n",
        "                self._store_transition(state, action, reward, next_state, done)\n",
        "\n",
        "    def _store_transition(self, state, action, reward, next_state, done):\n",
        "        max_priority = max(self.priorities) if self.priorities else 1.0\n",
        "\n",
        "        if len(self.buffer) < self.capacity:\n",
        "            self.buffer.append((state, action, reward, next_state, done))\n",
        "            self.priorities.append(max_priority)\n",
        "        else:\n",
        "            self.buffer[self.position] = (state, action, reward, next_state, done)\n",
        "            self.priorities[self.position] = max_priority\n",
        "\n",
        "        self.position = (self.position + 1) % self.capacity\n",
        "\n",
        "    def sample(self, batch_size):\n",
        "        assert len(self.buffer) == len(self.priorities), \"Buffer and priorities must be synchronized.\"\n",
        "\n",
        "        # Prioritized sampling\n",
        "        priorities = np.array(self.priorities, dtype=np.float32) ** self.alpha\n",
        "        probabilities = priorities / np.sum(priorities)\n",
        "        indices = np.random.choice(len(self.buffer), batch_size, p=probabilities, replace=False)\n",
        "        experiences = [self.buffer[i] for i in indices]\n",
        "\n",
        "        return experiences, indices\n",
        "\n",
        "    def update_priorities(self, indices, td_errors):\n",
        "        for idx, td_error in zip(indices, td_errors):\n",
        "            self.priorities[idx] = abs(td_error) + 1e-5  # Avoid zero priority\n",
        "\n",
        "    def __len__(self):\n",
        "        return len(self.buffer)"
      ]
    },
    {
      "cell_type": "markdown",
      "metadata": {
        "id": "IyAYT95VwIvl"
      },
      "source": [
        "*###* Testing Replay Buffer"
      ]
    },
    {
      "cell_type": "code",
      "execution_count": 6,
      "metadata": {
        "colab": {
          "base_uri": "https://localhost:8080/"
        },
        "id": "B47-W5kjrEeA",
        "outputId": "0f367981-9ddc-4e25-94bd-9b35d1844088"
      },
      "outputs": [
        {
          "output_type": "stream",
          "name": "stdout",
          "text": [
            "Replay Buffer Content (len=5):\n",
            "(5, 6, 1.0, 6, True)\n",
            "(6, 7, 2.9701, 9, False)\n",
            "(7, 8, 2.9701, 10, False)\n",
            "(3, 4, 2.9701, 6, True)\n",
            "(4, 5, 1.99, 6, True)\n",
            "\n",
            "Sampled Mini-Batch (2 samples): ([(3, 4, 2.9701, 6, True), (4, 5, 1.99, 6, True)], array([3, 4]))\n",
            "\n",
            "Sampled Mini-Batch (3 samples): ([(6, 7, 2.9701, 9, False), (5, 6, 1.0, 6, True), (4, 5, 1.99, 6, True)], array([1, 0, 4]))\n"
          ]
        }
      ],
      "source": [
        "# Create a Replay Buffer with capacity 5, n-step=3, and gamma=0.99\n",
        "rB = HybridReplayBuffer(capacity=5, n_step=3, gamma=0.99, alpha=0.6)\n",
        "\n",
        "# Add 10 transitions to the buffer\n",
        "for i in range(10):\n",
        "    # Simulate terminal states every 6 steps\n",
        "    done = (i % 6 == 5)\n",
        "    rB.push(state=i, action=i + 1, reward=1.0, next_state=i + 1, done=done, truncated=0)\n",
        "\n",
        "# Check the buffer content after adding transitions\n",
        "print(f\"Replay Buffer Content (len={len(rB)}):\")\n",
        "for item in rB.buffer:\n",
        "    print(item)\n",
        "\n",
        "# Sample two experiences\n",
        "try:\n",
        "    mini_batch = rB.sample(2)\n",
        "    print(\"\\nSampled Mini-Batch (2 samples):\", mini_batch)\n",
        "except ValueError as e:\n",
        "    print(\"\\nError during sampling:\", e)\n",
        "\n",
        "# Sample three experiences\n",
        "try:\n",
        "    mini_batch = rB.sample(3)\n",
        "    print(\"\\nSampled Mini-Batch (3 samples):\", mini_batch)\n",
        "except ValueError as e:\n",
        "    print(\"\\nError during sampling:\", e)"
      ]
    },
    {
      "cell_type": "markdown",
      "metadata": {
        "id": "voxkftv1IbK2"
      },
      "source": [
        "## Cart Pole Environment"
      ]
    },
    {
      "cell_type": "code",
      "execution_count": 7,
      "metadata": {
        "colab": {
          "base_uri": "https://localhost:8080/"
        },
        "id": "9EHbFDp6IbK4",
        "outputId": "323bbce2-b4b0-47bf-e6a2-81677de7422e"
      },
      "outputs": [
        {
          "output_type": "stream",
          "name": "stderr",
          "text": [
            "/usr/local/lib/python3.10/dist-packages/gymnasium/envs/registration.py:517: DeprecationWarning: \u001b[33mWARN: The environment CartPole-v0 is out of date. You should consider upgrading to version `v1`.\u001b[0m\n",
            "  logger.deprecation(\n"
          ]
        }
      ],
      "source": [
        "env_id = \"CartPole-v0\"\n",
        "env = gymnasium.make(env_id, render_mode=\"rgb_array\")"
      ]
    },
    {
      "cell_type": "code",
      "execution_count": 8,
      "metadata": {
        "id": "pZySBOH5IbLA"
      },
      "outputs": [],
      "source": [
        "def plot(frame_idx, rewards):\n",
        "    clear_output(True)\n",
        "    plt.figure(figsize=(20,5))\n",
        "    plt.subplot(131)\n",
        "    plt.title('frame %s. reward: %s' % (frame_idx, np.mean(rewards[-10:])))\n",
        "    plt.plot(rewards)\n",
        "    plt.show()"
      ]
    },
    {
      "cell_type": "markdown",
      "metadata": {
        "id": "h7aZ3bYgIbK4"
      },
      "source": [
        "## Epsilon greedy exploration\n",
        "Epsilon value is dynamic. It starts with 1.0 value (exploration) and little by little it is going to decay until 0.01 (exploitation)"
      ]
    },
    {
      "cell_type": "code",
      "execution_count": 9,
      "metadata": {
        "id": "hZCk-i69IbK5"
      },
      "outputs": [],
      "source": [
        "epsilon_start = 1.0\n",
        "epsilon_final = 0.01\n",
        "epsilon_decay = 500\n",
        "\n",
        "epsilon_by_frame = lambda frame_idx: epsilon_final + (epsilon_start - epsilon_final) * math.exp(-1. * frame_idx / epsilon_decay)"
      ]
    },
    {
      "cell_type": "code",
      "execution_count": 10,
      "metadata": {
        "colab": {
          "base_uri": "https://localhost:8080/",
          "height": 447
        },
        "id": "DKVzXtD0IbK6",
        "outputId": "01d53929-9954-454f-de9c-7a96a748cf3d"
      },
      "outputs": [
        {
          "output_type": "execute_result",
          "data": {
            "text/plain": [
              "[<matplotlib.lines.Line2D at 0x7fd974410670>]"
            ]
          },
          "metadata": {},
          "execution_count": 10
        },
        {
          "output_type": "display_data",
          "data": {
            "text/plain": [
              "<Figure size 640x480 with 1 Axes>"
            ],
            "image/png": "[encoded data removed]"
          },
          "metadata": {}
        }
      ],
      "source": [
        "plt.plot([epsilon_by_frame(i) for i in range(10000)])"
      ]
    },
    {
      "cell_type": "markdown",
      "metadata": {
        "id": "c6A-SD0_IbK7"
      },
      "source": [
        "## Deep Q Network"
      ]
    },
    {
      "cell_type": "code",
      "execution_count": 19,
      "metadata": {
        "id": "p4vsG_e3IbK7",
        "outputId": "1f646f53-8179-48ce-92b4-4d4015ff4190",
        "colab": {
          "base_uri": "https://localhost:8080/"
        }
      },
      "outputs": [
        {
          "output_type": "stream",
          "name": "stderr",
          "text": [
            "/usr/local/lib/python3.10/dist-packages/ipykernel/ipkernel.py:283: DeprecationWarning: `should_run_async` will not call `transform_cell` automatically in the future. Please pass the result to `transformed_cell` argument and any exception that happen during thetransform in `preprocessing_exc_tuple` in IPython 7.17 and above.\n",
            "  and should_run_async(code)\n"
          ]
        }
      ],
      "source": [
        "class DQN(nn.Module):\n",
        "    def __init__(self, num_inputs, num_actions, n_step=3, gamma=0.99, alpha=0.6):\n",
        "        super(DQN, self).__init__()\n",
        "\n",
        "        self.layers = nn.Sequential(OrderedDict([\n",
        "            ('conv1', nn.Linear(env.observation_space.shape[0], 32)),\n",
        "            ('relu1', nn.ReLU()),\n",
        "        ]))\n",
        "\n",
        "        self.v_values = nn.Sequential(OrderedDict([\n",
        "            ('v_value1', nn.Linear(32, 128)),\n",
        "            ('relu2', nn.ReLU()),\n",
        "            ('v_value2', nn.Linear(128, 128)),\n",
        "            ('relu3', nn.ReLU()),\n",
        "            ('v_value3', nn.Linear(128, 1))\n",
        "        ]))\n",
        "\n",
        "        self.adv_values = nn.Sequential(OrderedDict([\n",
        "            ('adv_value1', nn.Linear(32, 128)),\n",
        "            ('relu4', nn.ReLU()),\n",
        "            ('adv_value2', nn.Linear(128, 128)),\n",
        "            ('relu5', nn.ReLU()),\n",
        "            ('adv_value3', nn.Linear(128, env.action_space.n))\n",
        "        ]))\n",
        "\n",
        "        self.optimizer = optim.Adam(self.parameters())\n",
        "        self.n_step = n_step\n",
        "        self.gamma = gamma\n",
        "        self.alpha = alpha\n",
        "\n",
        "        self.replay_buffer = HybridReplayBuffer(1000, self.n_step, self.gamma,self.alpha)\n",
        "        self.batch_size = 32\n",
        "\n",
        "    # This method defines the epsilon value. It started with 1.0 and it decays until 0.01 value\n",
        "    def get_epsilon_value(self, frame_idx):\n",
        "      epsilon_start = 1.0\n",
        "      epsilon_final = 0.01\n",
        "      epsilon_decay = 500\n",
        "\n",
        "      epsilon = lambda frame_idx: epsilon_final + (epsilon_start - epsilon_final) * math.exp(-1. * frame_idx / epsilon_decay)\n",
        "      return epsilon(frame_idx)\n",
        "\n",
        "    # This method computes output Tensors from input Tensors. That is, given an state it returns an array with q(s,a) values for all actions\n",
        "    def forward(self, x):\n",
        "      x = self.layers(x)\n",
        "      v_value = self.v_values(x)\n",
        "      adv_value = self.adv_values(x)\n",
        "      mean_adv_value = torch.mean(adv_value)\n",
        "      q_value = v_value + adv_value - mean_adv_value\n",
        "      return q_value\n",
        "\n",
        "    # Given a state and epsilon value, this method returns an action following epsilon-greedy\n",
        "    def act(self, state, epsilon):\n",
        "        if random.random() > epsilon:\n",
        "            state   = Variable(torch.FloatTensor(state).unsqueeze(0), requires_grad=False)\n",
        "            q_value = self.forward(state)\n",
        "            action  = q_value.max(1)[1].item()\n",
        "        else:\n",
        "            action = random.randrange(env.action_space.n)\n",
        "        return action\n",
        "\n",
        "    # Given a model, it copyes the current model on it.\n",
        "    def update_target(self, target_model):\n",
        "      target_model.load_state_dict(self.state_dict())\n",
        "\n",
        "    # This method updates the weights\n",
        "    def compute_td_loss_our(self, target_model):\n",
        "      # Sampling from the Replay-Buffer, picking examples from the buffer.\n",
        "      experiences, indices = self.replay_buffer.sample(self.batch_size)\n",
        "      states, actions, rewards, next_states, dones = zip(*experiences)\n",
        "\n",
        "      # Convert NumPy arrays to PyTorch tensors.\n",
        "      states_tensor = torch.from_numpy(np.array(states, dtype=np.float32))\n",
        "      actions_tensor = torch.from_numpy(np.array(actions, dtype=np.int64))\n",
        "      rewards_tensor = torch.from_numpy(np.array(rewards, dtype=np.float32))\n",
        "      next_states_tensor = torch.from_numpy(np.array(next_states, dtype=np.float32))\n",
        "      dones_tensor = torch.from_numpy(np.array(dones, dtype=np.float32))\n",
        "\n",
        "      # Calculate current Q-values.\n",
        "      q_values = self(states_tensor)\n",
        "\n",
        "      # Use the current model to select the best action in the next state.\n",
        "      next_q_values_current = self(next_states_tensor)\n",
        "      best_actions = torch.argmax(next_q_values_current, dim=1).unsqueeze(1)\n",
        "\n",
        "      # Use the target model to evaluate the Q-value of the best action.\n",
        "      next_q_values_target = target_model(next_states_tensor)\n",
        "      max_next_q_values = next_q_values_target.gather(1, best_actions).squeeze(1)\n",
        "\n",
        "      # Calculate the expected Q-values using rewards and discounted future Q-values.\n",
        "      expected_q_values = rewards_tensor + self.gamma * max_next_q_values * (1 - dones_tensor)\n",
        "\n",
        "      # Gather the Q-values for the selected actions in the current state.\n",
        "      q_values_for_actions = q_values.gather(1, actions_tensor.unsqueeze(1)).squeeze(1)\n",
        "\n",
        "      # Calculate the loss.\n",
        "      loss = nn.MSELoss()(q_values_for_actions, expected_q_values)\n",
        "\n",
        "      # Optimize the model.\n",
        "      self.optimizer.zero_grad()\n",
        "      loss.backward()\n",
        "      self.optimizer.step()\n",
        "\n",
        "      # Update priorities in the replay buffer.\n",
        "      td_errors = (q_values_for_actions - expected_q_values).detach().numpy()\n",
        "      self.replay_buffer.update_priorities(indices, np.abs(td_errors))\n",
        "\n",
        "      return loss\n",
        "\n",
        "    # TODO\n",
        "    # Method to train the agent\n",
        "    def train(self, env):\n",
        "      num_frames = 25000\n",
        "      losses = []\n",
        "      all_rewards = []\n",
        "      episode_reward = 0\n",
        "      target_model  = DQN(env.observation_space.shape[0], env.action_space.n)\n",
        "      state, info = env.reset()\n",
        "\n",
        "      # Use 3 deques\n",
        "      # 1 for states at most n elements (3 e.g.)\n",
        "      # 1 for actions\n",
        "      # 1 for rewardsr\n",
        "\n",
        "      # TODO\n",
        "      # replay buffer attribute is empty\n",
        "      # for each frame\n",
        "      #   get current epsilon\n",
        "      #   get action following epsilon greedy\n",
        "      #   get next_state and reward\n",
        "      #   add new experience to the replay buffer\n",
        "      #   update state\n",
        "      #   update episode total reward\n",
        "      #   if done\n",
        "      #     reset environment\n",
        "      #     append the episode total reward to all_rewards array\n",
        "      #     set episode total reward to 0\n",
        "      #   if experience replay has more elements than batch_size\n",
        "      #     update the weights\n",
        "      #   every 100 frames update the target model\n",
        "\n",
        "      for frame_idx in range(1, num_frames + 1):\n",
        "          epsilon = self.get_epsilon_value(frame_idx)\n",
        "          action = self.act(state, epsilon)\n",
        "\n",
        "          next_state, reward, done, truncated, info = env.step(action)\n",
        "          self.replay_buffer.push(state, action, reward, next_state, done, truncated)\n",
        "\n",
        "          state = next_state\n",
        "          episode_reward += reward\n",
        "\n",
        "          if done or truncated:\n",
        "              state, info = env.reset()\n",
        "              all_rewards.append(episode_reward)\n",
        "              episode_reward = 0\n",
        "\n",
        "          if len(self.replay_buffer) > self.batch_size:\n",
        "              loss = self.compute_td_loss_our(target_model)\n",
        "              losses.append(loss.item())\n",
        "\n",
        "          # to visualize how the agent is learning\n",
        "          if frame_idx % 200 == 0:\n",
        "              plot(frame_idx, all_rewards)\n",
        "\n",
        "          if frame_idx % 100 == 0:\n",
        "              self.update_target(target_model)\n",
        "\n",
        "    # This method runs one episode and generates a video to observe the result\n",
        "    def test(self,env):\n",
        "        video_folder=\"videos\"\n",
        "\n",
        "        remove_videos(video_folder=video_folder)\n",
        "\n",
        "        # we are going to work over envVideo.\n",
        "        envVideo = gymnasium.wrappers.RecordVideo(env, video_folder=video_folder)\n",
        "\n",
        "        done = False #It is used to control if the episode is finished, if it is finished the environment must be reset\n",
        "        state, info = envVideo.reset()\n",
        "\n",
        "        total_reward = 0\n",
        "        while not(done):\n",
        "            action = self.act(state, 0)\n",
        "            next_state, reward, done, truncated, info = envVideo.step(action)\n",
        "            state = next_state\n",
        "            total_reward +=reward\n",
        "            if done or truncated:\n",
        "              break\n",
        "        envVideo.close()\n",
        "        print(\"rew: \", total_reward)\n",
        "        show_all_videos(video_folder=video_folder)\n",
        "\n"
      ]
    },
    {
      "cell_type": "markdown",
      "metadata": {
        "id": "ynxAQEvLmC6R"
      },
      "source": [
        "### Train the agent"
      ]
    },
    {
      "cell_type": "code",
      "execution_count": 23,
      "metadata": {
        "colab": {
          "base_uri": "https://localhost:8080/",
          "height": 755
        },
        "id": "uQO4hDUn2vUa",
        "outputId": "5e779cba-a7cc-41f6-d351-91d471f6a8bd"
      },
      "outputs": [
        {
          "output_type": "display_data",
          "data": {
            "text/plain": [
              "<Figure size 2000x500 with 1 Axes>"
            ],
            "image/png": "[encoded data removed]"
          },
          "metadata": {}
        },
        {
          "output_type": "error",
          "ename": "KeyboardInterrupt",
          "evalue": "",
          "traceback": [
            "\u001b[0;31m---------------------------------------------------------------------------\u001b[0m",
            "\u001b[0;31mKeyboardInterrupt\u001b[0m                         Traceback (most recent call last)",
            "\u001b[0;32m<ipython-input-23-461bab1ffec0>\u001b[0m in \u001b[0;36m<cell line: 2>\u001b[0;34m()\u001b[0m\n\u001b[1;32m      1\u001b[0m \u001b[0mcurrent_model\u001b[0m \u001b[0;34m=\u001b[0m \u001b[0mDQN\u001b[0m\u001b[0;34m(\u001b[0m\u001b[0menv\u001b[0m\u001b[0;34m.\u001b[0m\u001b[0mobservation_space\u001b[0m\u001b[0;34m.\u001b[0m\u001b[0mshape\u001b[0m\u001b[0;34m[\u001b[0m\u001b[0;36m0\u001b[0m\u001b[0;34m]\u001b[0m\u001b[0;34m,\u001b[0m \u001b[0menv\u001b[0m\u001b[0;34m.\u001b[0m\u001b[0maction_space\u001b[0m\u001b[0;34m.\u001b[0m\u001b[0mn\u001b[0m\u001b[0;34m)\u001b[0m\u001b[0;34m\u001b[0m\u001b[0;34m\u001b[0m\u001b[0m\n\u001b[0;32m----> 2\u001b[0;31m \u001b[0mcurrent_model\u001b[0m\u001b[0;34m.\u001b[0m\u001b[0mtrain\u001b[0m\u001b[0;34m(\u001b[0m\u001b[0menv\u001b[0m\u001b[0;34m)\u001b[0m\u001b[0;34m\u001b[0m\u001b[0;34m\u001b[0m\u001b[0m\n\u001b[0m",
            "\u001b[0;32m<ipython-input-19-dada9e6270f3>\u001b[0m in \u001b[0;36mtrain\u001b[0;34m(self, env)\u001b[0m\n\u001b[1;32m    156\u001b[0m \u001b[0;34m\u001b[0m\u001b[0m\n\u001b[1;32m    157\u001b[0m           \u001b[0;32mif\u001b[0m \u001b[0mlen\u001b[0m\u001b[0;34m(\u001b[0m\u001b[0mself\u001b[0m\u001b[0;34m.\u001b[0m\u001b[0mreplay_buffer\u001b[0m\u001b[0;34m)\u001b[0m \u001b[0;34m>\u001b[0m \u001b[0mself\u001b[0m\u001b[0;34m.\u001b[0m\u001b[0mbatch_size\u001b[0m\u001b[0;34m:\u001b[0m\u001b[0;34m\u001b[0m\u001b[0;34m\u001b[0m\u001b[0m\n\u001b[0;32m--> 158\u001b[0;31m               \u001b[0mloss\u001b[0m \u001b[0;34m=\u001b[0m \u001b[0mself\u001b[0m\u001b[0;34m.\u001b[0m\u001b[0mcompute_td_loss_our\u001b[0m\u001b[0;34m(\u001b[0m\u001b[0mtarget_model\u001b[0m\u001b[0;34m)\u001b[0m\u001b[0;34m\u001b[0m\u001b[0;34m\u001b[0m\u001b[0m\n\u001b[0m\u001b[1;32m    159\u001b[0m               \u001b[0mlosses\u001b[0m\u001b[0;34m.\u001b[0m\u001b[0mappend\u001b[0m\u001b[0;34m(\u001b[0m\u001b[0mloss\u001b[0m\u001b[0;34m.\u001b[0m\u001b[0mitem\u001b[0m\u001b[0;34m(\u001b[0m\u001b[0;34m)\u001b[0m\u001b[0;34m)\u001b[0m\u001b[0;34m\u001b[0m\u001b[0;34m\u001b[0m\u001b[0m\n\u001b[1;32m    160\u001b[0m \u001b[0;34m\u001b[0m\u001b[0m\n",
            "\u001b[0;32m<ipython-input-19-dada9e6270f3>\u001b[0m in \u001b[0;36mcompute_td_loss_our\u001b[0;34m(self, target_model)\u001b[0m\n\u001b[1;32m     99\u001b[0m       \u001b[0;31m# Optimize the model.\u001b[0m\u001b[0;34m\u001b[0m\u001b[0;34m\u001b[0m\u001b[0m\n\u001b[1;32m    100\u001b[0m       \u001b[0mself\u001b[0m\u001b[0;34m.\u001b[0m\u001b[0moptimizer\u001b[0m\u001b[0;34m.\u001b[0m\u001b[0mzero_grad\u001b[0m\u001b[0;34m(\u001b[0m\u001b[0;34m)\u001b[0m\u001b[0;34m\u001b[0m\u001b[0;34m\u001b[0m\u001b[0m\n\u001b[0;32m--> 101\u001b[0;31m       \u001b[0mloss\u001b[0m\u001b[0;34m.\u001b[0m\u001b[0mbackward\u001b[0m\u001b[0;34m(\u001b[0m\u001b[0;34m)\u001b[0m\u001b[0;34m\u001b[0m\u001b[0;34m\u001b[0m\u001b[0m\n\u001b[0m\u001b[1;32m    102\u001b[0m       \u001b[0mself\u001b[0m\u001b[0;34m.\u001b[0m\u001b[0moptimizer\u001b[0m\u001b[0;34m.\u001b[0m\u001b[0mstep\u001b[0m\u001b[0;34m(\u001b[0m\u001b[0;34m)\u001b[0m\u001b[0;34m\u001b[0m\u001b[0;34m\u001b[0m\u001b[0m\n\u001b[1;32m    103\u001b[0m \u001b[0;34m\u001b[0m\u001b[0m\n",
            "\u001b[0;32m/usr/local/lib/python3.10/dist-packages/torch/_tensor.py\u001b[0m in \u001b[0;36mbackward\u001b[0;34m(self, gradient, retain_graph, create_graph, inputs)\u001b[0m\n\u001b[1;32m    579\u001b[0m                 \u001b[0minputs\u001b[0m\u001b[0;34m=\u001b[0m\u001b[0minputs\u001b[0m\u001b[0;34m,\u001b[0m\u001b[0;34m\u001b[0m\u001b[0;34m\u001b[0m\u001b[0m\n\u001b[1;32m    580\u001b[0m             )\n\u001b[0;32m--> 581\u001b[0;31m         torch.autograd.backward(\n\u001b[0m\u001b[1;32m    582\u001b[0m             \u001b[0mself\u001b[0m\u001b[0;34m,\u001b[0m \u001b[0mgradient\u001b[0m\u001b[0;34m,\u001b[0m \u001b[0mretain_graph\u001b[0m\u001b[0;34m,\u001b[0m \u001b[0mcreate_graph\u001b[0m\u001b[0;34m,\u001b[0m \u001b[0minputs\u001b[0m\u001b[0;34m=\u001b[0m\u001b[0minputs\u001b[0m\u001b[0;34m\u001b[0m\u001b[0;34m\u001b[0m\u001b[0m\n\u001b[1;32m    583\u001b[0m         )\n",
            "\u001b[0;32m/usr/local/lib/python3.10/dist-packages/torch/autograd/__init__.py\u001b[0m in \u001b[0;36mbackward\u001b[0;34m(tensors, grad_tensors, retain_graph, create_graph, grad_variables, inputs)\u001b[0m\n\u001b[1;32m    345\u001b[0m     \u001b[0;31m# some Python versions print out the first line of a multi-line function\u001b[0m\u001b[0;34m\u001b[0m\u001b[0;34m\u001b[0m\u001b[0m\n\u001b[1;32m    346\u001b[0m     \u001b[0;31m# calls in the traceback and some print out the last line\u001b[0m\u001b[0;34m\u001b[0m\u001b[0;34m\u001b[0m\u001b[0m\n\u001b[0;32m--> 347\u001b[0;31m     _engine_run_backward(\n\u001b[0m\u001b[1;32m    348\u001b[0m         \u001b[0mtensors\u001b[0m\u001b[0;34m,\u001b[0m\u001b[0;34m\u001b[0m\u001b[0;34m\u001b[0m\u001b[0m\n\u001b[1;32m    349\u001b[0m         \u001b[0mgrad_tensors_\u001b[0m\u001b[0;34m,\u001b[0m\u001b[0;34m\u001b[0m\u001b[0;34m\u001b[0m\u001b[0m\n",
            "\u001b[0;32m/usr/local/lib/python3.10/dist-packages/torch/autograd/graph.py\u001b[0m in \u001b[0;36m_engine_run_backward\u001b[0;34m(t_outputs, *args, **kwargs)\u001b[0m\n\u001b[1;32m    823\u001b[0m         \u001b[0munregister_hooks\u001b[0m \u001b[0;34m=\u001b[0m \u001b[0m_register_logging_hooks_on_whole_graph\u001b[0m\u001b[0;34m(\u001b[0m\u001b[0mt_outputs\u001b[0m\u001b[0;34m)\u001b[0m\u001b[0;34m\u001b[0m\u001b[0;34m\u001b[0m\u001b[0m\n\u001b[1;32m    824\u001b[0m     \u001b[0;32mtry\u001b[0m\u001b[0;34m:\u001b[0m\u001b[0;34m\u001b[0m\u001b[0;34m\u001b[0m\u001b[0m\n\u001b[0;32m--> 825\u001b[0;31m         return Variable._execution_engine.run_backward(  # Calls into the C++ engine to run the backward pass\n\u001b[0m\u001b[1;32m    826\u001b[0m             \u001b[0mt_outputs\u001b[0m\u001b[0;34m,\u001b[0m \u001b[0;34m*\u001b[0m\u001b[0margs\u001b[0m\u001b[0;34m,\u001b[0m \u001b[0;34m**\u001b[0m\u001b[0mkwargs\u001b[0m\u001b[0;34m\u001b[0m\u001b[0;34m\u001b[0m\u001b[0m\n\u001b[1;32m    827\u001b[0m         )  # Calls into the C++ engine to run the backward pass\n",
            "\u001b[0;31mKeyboardInterrupt\u001b[0m: "
          ]
        }
      ],
      "source": [
        "current_model = DQN(env.observation_space.shape[0], env.action_space.n)\n",
        "current_model.train(env)"
      ]
    },
    {
      "cell_type": "markdown",
      "metadata": {
        "id": "WoZsHTkFl7Jq"
      },
      "source": [
        "### Test the agent"
      ]
    },
    {
      "cell_type": "code",
      "execution_count": null,
      "metadata": {
        "colab": {
          "base_uri": "https://localhost:8080/",
          "height": 571
        },
        "id": "YIVpEbfR4pVO",
        "outputId": "ee75774b-f44c-4e04-f21f-06eb5e91ca5f"
      },
      "outputs": [
        {
          "name": "stderr",
          "output_type": "stream",
          "text": [
            "/usr/local/lib/python3.10/dist-packages/moviepy/config_defaults.py:1: DeprecationWarning: invalid escape sequence '\\P'\n",
            "  \"\"\"\n",
            "/usr/local/lib/python3.10/dist-packages/pygame/pkgdata.py:25: DeprecationWarning: pkg_resources is deprecated as an API. See https://setuptools.pypa.io/en/latest/pkg_resources.html\n",
            "  from pkg_resources import resource_stream, resource_exists\n",
            "/usr/local/lib/python3.10/dist-packages/pkg_resources/__init__.py:3154: DeprecationWarning: Deprecated call to `pkg_resources.declare_namespace('google')`.\n",
            "Implementing implicit namespace packages (as specified in PEP 420) is preferred to `pkg_resources.declare_namespace`. See https://setuptools.pypa.io/en/latest/references/keywords.html#keyword-namespace-packages\n",
            "  declare_namespace(pkg)\n",
            "/usr/local/lib/python3.10/dist-packages/pkg_resources/__init__.py:3154: DeprecationWarning: Deprecated call to `pkg_resources.declare_namespace('google.cloud')`.\n",
            "Implementing implicit namespace packages (as specified in PEP 420) is preferred to `pkg_resources.declare_namespace`. See https://setuptools.pypa.io/en/latest/references/keywords.html#keyword-namespace-packages\n",
            "  declare_namespace(pkg)\n",
            "/usr/local/lib/python3.10/dist-packages/pkg_resources/__init__.py:3154: DeprecationWarning: Deprecated call to `pkg_resources.declare_namespace('sphinxcontrib')`.\n",
            "Implementing implicit namespace packages (as specified in PEP 420) is preferred to `pkg_resources.declare_namespace`. See https://setuptools.pypa.io/en/latest/references/keywords.html#keyword-namespace-packages\n",
            "  declare_namespace(pkg)\n"
          ]
        },
        {
          "name": "stdout",
          "output_type": "stream",
          "text": [
            "rew:  200.0\n",
            "files:  ['videos/rl-video-episode-0.mp4']\n"
          ]
        },
        {
          "data": {
            "text/html": [
              "\n",
              "        <video width=\"320\" height=\"240\" alt=\"test\" controls>\n",
              "        <source src=\"data:video/mp4;base64,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\" type=\"video/mp4\"/>\n",
              "        </video>\n",
              "        "
            ],
            "text/plain": [
              "<IPython.core.display.HTML object>"
            ]
          },
          "metadata": {},
          "output_type": "display_data"
        },
        {
          "name": "stdout",
          "output_type": "stream",
          "text": [
            "Played: videos/rl-video-episode-0.mp4\n"
          ]
        }
      ],
      "source": [
        "current_model.test(env)"
      ]
    }
  ],
  "metadata": {
    "colab": {
      "provenance": [],
      "include_colab_link": true
    },
    "kernelspec": {
      "display_name": "Python 3",
      "name": "python3"
    },
    "language_info": {
      "codemirror_mode": {
        "name": "ipython",
        "version": 3
      },
      "file_extension": ".py",
      "mimetype": "text/x-python",
      "name": "python",
      "nbconvert_exporter": "python",
      "pygments_lexer": "ipython3",
      "version": "3.6.8"
    }
  },
  "nbformat": 4,
  "nbformat_minor": 0
}