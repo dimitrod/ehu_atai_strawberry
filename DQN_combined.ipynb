{
  "cells": [
    {
      "cell_type": "markdown",
      "metadata": {
        "colab_type": "text",
        "id": "view-in-github"
      },
      "source": [
        "<a href=\"https://colab.research.google.com/github/dimitrod/ehu_atai_strawberry/blob/main/DQN_n_Step.ipynb\" target=\"_parent\"><img src=\"https://colab.research.google.com/assets/colab-badge.svg\" alt=\"Open In Colab\"/></a>"
      ]
    },
    {
      "cell_type": "markdown",
      "metadata": {
        "id": "7p-FkdaHOISM"
      },
      "source": [
        "# **Initialization**"
      ]
    },
    {
      "cell_type": "markdown",
      "metadata": {
        "id": "VzfboO1QP_Uw"
      },
      "source": [
        "## Install dependencies"
      ]
    },
    {
      "cell_type": "code",
      "execution_count": 12,
      "metadata": {
        "colab": {
          "base_uri": "https://localhost:8080/"
        },
        "id": "mt4fLrG2Puzd",
        "outputId": "f27639ba-cea3-4938-c291-212912be3958"
      },
      "outputs": [
        {
          "name": "stderr",
          "output_type": "stream",
          "text": [
            "/usr/local/lib/python3.10/dist-packages/ipykernel/ipkernel.py:283: DeprecationWarning: `should_run_async` will not call `transform_cell` automatically in the future. Please pass the result to `transformed_cell` argument and any exception that happen during thetransform in `preprocessing_exc_tuple` in IPython 7.17 and above.\n",
            "  and should_run_async(code)\n"
          ]
        },
        {
          "name": "stdout",
          "output_type": "stream",
          "text": [
            "\r0% [Working]\r            \rHit:1 https://cloud.r-project.org/bin/linux/ubuntu jammy-cran40/ InRelease\n",
            "\r0% [Connecting to archive.ubuntu.com (185.125.190.82)] [Waiting for headers] [Connected to r2u.stat.\r                                                                                                    \rHit:2 http://security.ubuntu.com/ubuntu jammy-security InRelease\n",
            "\r0% [Connecting to archive.ubuntu.com (185.125.190.82)] [Connected to r2u.stat.illinois.edu (192.17.1\r                                                                                                    \rHit:3 https://developer.download.nvidia.com/compute/cuda/repos/ubuntu2204/x86_64  InRelease\n",
            "\r0% [Waiting for headers] [Waiting for headers] [Connecting to ppa.launchpadcontent.net (185.125.190.\r                                                                                                    \rHit:4 https://r2u.stat.illinois.edu/ubuntu jammy InRelease\n",
            "Hit:5 http://archive.ubuntu.com/ubuntu jammy InRelease\n",
            "Hit:6 http://archive.ubuntu.com/ubuntu jammy-updates InRelease\n",
            "Hit:7 http://archive.ubuntu.com/ubuntu jammy-backports InRelease\n",
            "Hit:8 https://ppa.launchpadcontent.net/deadsnakes/ppa/ubuntu jammy InRelease\n",
            "Hit:9 https://ppa.launchpadcontent.net/graphics-drivers/ppa/ubuntu jammy InRelease\n",
            "Hit:10 https://ppa.launchpadcontent.net/ubuntugis/ppa/ubuntu jammy InRelease\n",
            "Reading package lists... Done\n",
            "W: Skipping acquire of configured file 'main/source/Sources' as repository 'https://r2u.stat.illinois.edu/ubuntu jammy InRelease' does not seem to provide it (sources.list entry misspelt?)\n",
            "Reading package lists... Done\n",
            "Building dependency tree... Done\n",
            "Reading state information... Done\n",
            "\u001b[1;31mE: \u001b[0mUnable to locate package python-opengl\u001b[0m\n",
            "Reading package lists... Done\n",
            "Building dependency tree... Done\n",
            "Reading state information... Done\n",
            "ffmpeg is already the newest version (7:4.4.2-0ubuntu0.22.04.1).\n",
            "0 upgraded, 0 newly installed, 0 to remove and 51 not upgraded.\n",
            "Reading package lists... Done\n",
            "Building dependency tree... Done\n",
            "Reading state information... Done\n",
            "xvfb is already the newest version (2:21.1.4-2ubuntu1.7~22.04.12).\n",
            "0 upgraded, 0 newly installed, 0 to remove and 51 not upgraded.\n",
            "Requirement already satisfied: PyVirtualDisplay==3.0 in /usr/local/lib/python3.10/dist-packages (3.0)\n",
            "Requirement already satisfied: gymnasium[classic_control] in /usr/local/lib/python3.10/dist-packages (1.0.0)\n",
            "Requirement already satisfied: numpy>=1.21.0 in /usr/local/lib/python3.10/dist-packages (from gymnasium[classic_control]) (1.26.4)\n",
            "Requirement already satisfied: cloudpickle>=1.2.0 in /usr/local/lib/python3.10/dist-packages (from gymnasium[classic_control]) (3.1.0)\n",
            "Requirement already satisfied: typing-extensions>=4.3.0 in /usr/local/lib/python3.10/dist-packages (from gymnasium[classic_control]) (4.12.2)\n",
            "Requirement already satisfied: farama-notifications>=0.0.1 in /usr/local/lib/python3.10/dist-packages (from gymnasium[classic_control]) (0.0.4)\n",
            "Requirement already satisfied: pygame>=2.1.3 in /usr/local/lib/python3.10/dist-packages (from gymnasium[classic_control]) (2.6.1)\n"
          ]
        }
      ],
      "source": [
        "import sys\n",
        "IN_COLAB = \"google.colab\" in sys.modules\n",
        "\n",
        "if IN_COLAB:\n",
        "    !apt-get update\n",
        "    !apt install python-opengl\n",
        "    !apt install ffmpeg\n",
        "    !apt install xvfb\n",
        "    !pip install PyVirtualDisplay==3.0\n",
        "    !pip install gymnasium[classic_control]\n",
        "    from pyvirtualdisplay import Display\n",
        "\n",
        "    # Start virtual display\n",
        "    dis = Display(visible=0, size=(400, 400))\n",
        "    dis.start()"
      ]
    },
    {
      "cell_type": "markdown",
      "metadata": {
        "id": "sHmjyfGJOTsV"
      },
      "source": [
        "## Import Dependencies"
      ]
    },
    {
      "cell_type": "code",
      "execution_count": 13,
      "metadata": {
        "colab": {
          "base_uri": "https://localhost:8080/"
        },
        "id": "GJ7ASlptVUES",
        "outputId": "6da580e9-43f4-4931-83af-25a4de84be08"
      },
      "outputs": [
        {
          "name": "stderr",
          "output_type": "stream",
          "text": [
            "/usr/local/lib/python3.10/dist-packages/ipykernel/ipkernel.py:283: DeprecationWarning: `should_run_async` will not call `transform_cell` automatically in the future. Please pass the result to `transformed_cell` argument and any exception that happen during thetransform in `preprocessing_exc_tuple` in IPython 7.17 and above.\n",
            "  and should_run_async(code)\n"
          ]
        }
      ],
      "source": [
        "import os\n",
        "from typing import Dict, List, Tuple\n",
        "import math, random\n",
        "\n",
        "import gym\n",
        "import gymnasium as gymnasium\n",
        "import numpy as np\n",
        "import matplotlib.pyplot as plt\n",
        "%matplotlib inline\n",
        "\n",
        "\n",
        "import base64\n",
        "import glob\n",
        "import io\n",
        "import os\n",
        "\n",
        "\n",
        "import torch\n",
        "import torch.nn as nn\n",
        "import torch.optim as optim\n",
        "import torch.autograd as autograd\n",
        "import torch.nn.functional as F\n",
        "\n",
        "\n",
        "from IPython.display import HTML, display, clear_output\n",
        "\n"
      ]
    },
    {
      "cell_type": "markdown",
      "metadata": {
        "id": "Eqs9Zs6rOZhy"
      },
      "source": [
        "#**Implementation**"
      ]
    },
    {
      "cell_type": "markdown",
      "metadata": {
        "id": "GaC0tjzZS6hG"
      },
      "source": [
        "## **Show recorded video**\n",
        "The following functions are used in order to show in a video the obtained results"
      ]
    },
    {
      "cell_type": "code",
      "execution_count": 14,
      "metadata": {
        "id": "4qPbPwvooax1"
      },
      "outputs": [],
      "source": [
        "def ipython_show_video(path: str) -> None:\n",
        "    \"\"\"Show a video at `path` within IPython Notebook.\"\"\"\n",
        "    if not os.path.isfile(path):\n",
        "        raise NameError(\"Cannot access: {}\".format(path))\n",
        "\n",
        "    video = io.open(path, \"r+b\").read()\n",
        "    encoded = base64.b64encode(video)\n",
        "\n",
        "    display(HTML(\n",
        "        data=\"\"\"\n",
        "        <video width=\"320\" height=\"240\" alt=\"test\" controls>\n",
        "        <source src=\"data:video/mp4;base64,{0}\" type=\"video/mp4\"/>\n",
        "        </video>\n",
        "        \"\"\".format(encoded.decode(\"ascii\"))\n",
        "    ))\n",
        "\n",
        "def remove_videos (video_folder: str):\n",
        "    list_of_files = glob.glob(os.path.join(video_folder, \"*.mp4\"))\n",
        "    for video in list_of_files:\n",
        "      try:\n",
        "          os.remove(video)\n",
        "      except:\n",
        "          print(\"Error while deleting file : \", video)\n",
        "\n",
        "def show_latest_video(video_folder: str) -> str:\n",
        "    \"\"\"Show the most recently recorded video from video folder.\"\"\"\n",
        "    list_of_files = glob.glob(os.path.join(video_folder, \"*.mp4\"))\n",
        "    print(\"files: \", list_of_files )\n",
        "    latest_file = max(list_of_files, key=os.path.getctime)\n",
        "    ipython_show_video(latest_file)\n",
        "    return latest_file\n",
        "\n",
        "def show_all_videos(video_folder: str) -> str:\n",
        "    \"\"\"Show all the videos recorded.\"\"\"\n",
        "    list_of_files = glob.glob(os.path.join(video_folder, \"*.mp4\"))\n",
        "    print(\"files: \", list_of_files )\n",
        "    for video in list_of_files:\n",
        "      ipython_show_video(video)\n",
        "    print(\"Played:\", video)\n"
      ]
    },
    {
      "cell_type": "markdown",
      "metadata": {
        "id": "PZzMzzVmIbKz"
      },
      "source": [
        "## Autograd Variable"
      ]
    },
    {
      "cell_type": "code",
      "execution_count": 15,
      "metadata": {
        "id": "HYyjk9ihIbK0"
      },
      "outputs": [],
      "source": [
        "Variable = lambda *args, **kwargs: autograd.Variable(*args, **kwargs)"
      ]
    },
    {
      "cell_type": "markdown",
      "metadata": {
        "id": "TnjlYrW5IbK0"
      },
      "source": [
        "## Replay Buffer"
      ]
    },
    {
      "cell_type": "code",
      "execution_count": 47,
      "metadata": {
        "id": "45GG4TiEIbK1"
      },
      "outputs": [],
      "source": [
        "from collections import deque\n",
        "\n",
        "class ReplayBufferNStep:\n",
        "    def __init__(self, capacity, n_step, gamma):\n",
        "        self.buffer = deque(maxlen=capacity)  # Main buffer for replay\n",
        "        self.n_step_buffer = deque(maxlen=n_step)  # Temporary n-step buffer\n",
        "        self.n_step = n_step\n",
        "        self.gamma = gamma  # Discount factor\n",
        "\n",
        "    def _calculate_n_step_return(self):\n",
        "        #Calculate the n-step return and extract the final next state and done flag.\n",
        "        reward, next_state, done = 0.0, None, False\n",
        "        for idx, (_, _, r, ns, d) in enumerate(self.n_step_buffer):\n",
        "            reward += (self.gamma ** idx) * r  # Discounted reward\n",
        "            next_state = ns  # Update next_state to the last step's state\n",
        "            done = d  # Update done flag to the last step's done\n",
        "            if d:  # Stop if terminal state is encountered\n",
        "                break\n",
        "        return reward, next_state, done\n",
        "\n",
        "    def push(self, state, action, reward, next_state, done, truncated):\n",
        "        # Add transition to n-step buffer\n",
        "        self.n_step_buffer.append((state, action, reward, next_state, done))\n",
        "\n",
        "        # If n-step buffer is full or we encounter a done/truncated state\n",
        "        if len(self.n_step_buffer) == self.n_step or done or truncated:\n",
        "\n",
        "            # If done or truncated, calculate the rewards for all remaining experiences in the n-Step buffer\n",
        "            if done or truncated:\n",
        "                while self.n_step_buffer:\n",
        "                    state, action, _, _, _ = self.n_step_buffer[0] # State and action as first experience in the n-Step buffer\n",
        "                    reward, next_state, done = self._calculate_n_step_return() # Calculatae discounted return, next state and if terminal step\n",
        "                    state = np.expand_dims(state, 0)\n",
        "                    next_state = np.expand_dims(next_state, 0)\n",
        "                    self.buffer.append((state, action, reward, next_state, done)) # Append to main buffer\n",
        "                    self.n_step_buffer.popleft()  # Remove the processed experience from n-Step buffer\n",
        "            else:\n",
        "            # If not done/truncated but n-Step buffer is full, same as above without emptying the n-Step buffer\n",
        "                state, action, _, _, _ = self.n_step_buffer[0]\n",
        "                reward, next_state, done = self._calculate_n_step_return()\n",
        "                state      = np.expand_dims(state, 0)\n",
        "                next_state = np.expand_dims(next_state, 0)\n",
        "                self.buffer.append((state, action, reward, next_state, done))\n",
        "\n",
        "\n",
        "\n",
        "    def sample(self, batch_size):\n",
        "        #Sample a batch of transitions from the main buffer.\n",
        "        state, action, reward, next_state, done = zip(*random.sample(self.buffer, batch_size))\n",
        "        return np.concatenate(state), action, reward, np.concatenate(next_state), done\n",
        "\n",
        "    def __len__(self):\n",
        "        return len(self.buffer)"
      ]
    },
    {
      "cell_type": "markdown",
      "metadata": {
        "id": "IyAYT95VwIvl"
      },
      "source": [
        "*###* Testing Replay Buffer"
      ]
    },
    {
      "cell_type": "code",
      "execution_count": 59,
      "metadata": {
        "colab": {
          "base_uri": "https://localhost:8080/"
        },
        "id": "B47-W5kjrEeA",
        "outputId": "998b8234-18e7-45c0-a086-c86c4b5df3dc"
      },
      "outputs": [
        {
          "name": "stdout",
          "output_type": "stream",
          "text": [
            "Replay Buffer Content (len=5):\n",
            "(array([3]), 4, 2.9701, array([6]), True)\n",
            "(array([4]), 5, 1.99, array([6]), True)\n",
            "(array([5]), 6, 1.0, array([6]), True)\n",
            "(array([6]), 7, 2.9701, array([9]), False)\n",
            "(array([7]), 8, 2.9701, array([10]), False)\n",
            "\n",
            "Sampled Mini-Batch (2 samples): (array([4, 6]), (5, 7), (1.99, 2.9701), array([6, 9]), (True, False))\n",
            "\n",
            "Sampled Mini-Batch (3 samples): (array([3, 7, 4]), (4, 8, 5), (2.9701, 2.9701, 1.99), array([ 6, 10,  6]), (True, False, True))\n"
          ]
        }
      ],
      "source": [
        "# Create a Replay Buffer with capacity 5, n-step=3, and gamma=0.99\n",
        "rB = ReplayBufferNStep(capacity=5, n_step=3, gamma=0.99)\n",
        "\n",
        "# Add 10 transitions to the buffer\n",
        "for i in range(10):\n",
        "    # Simulate terminal states every 6 steps\n",
        "    done = (i % 6 == 5)\n",
        "    rB.push(state=i, action=i + 1, reward=1.0, next_state=i + 1, done=done, truncated=0)\n",
        "\n",
        "# Check the buffer content after adding transitions\n",
        "print(f\"Replay Buffer Content (len={len(rB)}):\")\n",
        "for item in rB.buffer:\n",
        "    print(item)\n",
        "\n",
        "# Sample two experiences\n",
        "try:\n",
        "    mini_batch = rB.sample(2)\n",
        "    print(\"\\nSampled Mini-Batch (2 samples):\", mini_batch)\n",
        "except ValueError as e:\n",
        "    print(\"\\nError during sampling:\", e)\n",
        "\n",
        "# Sample three experiences\n",
        "try:\n",
        "    mini_batch = rB.sample(3)\n",
        "    print(\"\\nSampled Mini-Batch (3 samples):\", mini_batch)\n",
        "except ValueError as e:\n",
        "    print(\"\\nError during sampling:\", e)"
      ]
    },
    {
      "cell_type": "markdown",
      "metadata": {
        "id": "voxkftv1IbK2"
      },
      "source": [
        "## Cart Pole Environment"
      ]
    },
    {
      "cell_type": "code",
      "execution_count": 18,
      "metadata": {
        "colab": {
          "base_uri": "https://localhost:8080/"
        },
        "id": "9EHbFDp6IbK4",
        "outputId": "46ae8113-974f-406e-f8fa-2d3eeb194e49"
      },
      "outputs": [
        {
          "name": "stderr",
          "output_type": "stream",
          "text": [
            "/usr/local/lib/python3.10/dist-packages/gymnasium/envs/registration.py:517: DeprecationWarning: \u001b[33mWARN: The environment CartPole-v0 is out of date. You should consider upgrading to version `v1`.\u001b[0m\n",
            "  logger.deprecation(\n"
          ]
        }
      ],
      "source": [
        "env_id = \"CartPole-v0\"\n",
        "env = gymnasium.make(env_id, render_mode=\"rgb_array\")"
      ]
    },
    {
      "cell_type": "code",
      "execution_count": 19,
      "metadata": {
        "id": "pZySBOH5IbLA"
      },
      "outputs": [],
      "source": [
        "def plot(frame_idx, rewards):\n",
        "    clear_output(True)\n",
        "    plt.figure(figsize=(20,5))\n",
        "    plt.subplot(131)\n",
        "    plt.title('frame %s. reward: %s' % (frame_idx, np.mean(rewards[-10:])))\n",
        "    plt.plot(rewards)\n",
        "    plt.show()"
      ]
    },
    {
      "cell_type": "markdown",
      "metadata": {
        "id": "h7aZ3bYgIbK4"
      },
      "source": [
        "## Epsilon greedy exploration\n",
        "Epsilon value is dynamic. It starts with 1.0 value (exploration) and little by little it is going to decay until 0.01 (exploitation)"
      ]
    },
    {
      "cell_type": "code",
      "execution_count": 20,
      "metadata": {
        "id": "hZCk-i69IbK5"
      },
      "outputs": [],
      "source": [
        "epsilon_start = 1.0\n",
        "epsilon_final = 0.01\n",
        "epsilon_decay = 500\n",
        "\n",
        "epsilon_by_frame = lambda frame_idx: epsilon_final + (epsilon_start - epsilon_final) * math.exp(-1. * frame_idx / epsilon_decay)"
      ]
    },
    {
      "cell_type": "code",
      "execution_count": 21,
      "metadata": {
        "colab": {
          "base_uri": "https://localhost:8080/",
          "height": 448
        },
        "id": "DKVzXtD0IbK6",
        "outputId": "b1295ba5-61ac-43fe-a332-1055c7518d69"
      },
      "outputs": [
        {
          "data": {
            "text/plain": [
              "[<matplotlib.lines.Line2D at 0x7e1b9e9bbcd0>]"
            ]
          },
          "execution_count": 21,
          "metadata": {},
          "output_type": "execute_result"
        },
        {
          "data": {
            "image/png": "[encoded data removed]",
            "text/plain": [
              "<Figure size 640x480 with 1 Axes>"
            ]
          },
          "metadata": {},
          "output_type": "display_data"
        }
      ],
      "source": [
        "plt.plot([epsilon_by_frame(i) for i in range(10000)])"
      ]
    },
    {
      "cell_type": "markdown",
      "metadata": {
        "id": "c6A-SD0_IbK7"
      },
      "source": [
        "## Deep Q Network"
      ]
    },
    {
      "cell_type": "code",
      "execution_count": 38,
      "metadata": {
        "id": "p4vsG_e3IbK7"
      },
      "outputs": [],
      "source": [
        "class DQN(nn.Module):\n",
        "    def __init__(self, num_inputs, num_actions, n_step=3, gamma=0.99):\n",
        "        super(DQN, self).__init__()\n",
        "\n",
        "        self.layers = nn.Sequential(OrderedDict([\n",
        "            ('conv1', nn.Linear(env.observation_space.shape[0], 32)),\n",
        "            ('relu1', nn.ReLU()),\n",
        "        ]))\n",
        "\n",
        "        self.v_values = nn.Sequential(OrderedDict([\n",
        "            ('v_value1', nn.Linear(32, 128)),\n",
        "            ('relu2', nn.ReLU()),\n",
        "            ('v_value2', nn.Linear(128, 128)),\n",
        "            ('relu3', nn.ReLU()),\n",
        "            ('v_value3', nn.Linear(128, 1))\n",
        "        ]))\n",
        "\n",
        "        self.adv_values = nn.Sequential(OrderedDict([\n",
        "            ('adv_value1', nn.Linear(32, 128)),\n",
        "            ('relu4', nn.ReLU()),\n",
        "            ('adv_value2', nn.Linear(128, 128)),\n",
        "            ('relu5', nn.ReLU()),\n",
        "            ('adv_value3', nn.Linear(128, env.action_space.n))\n",
        "        ]))\n",
        "\n",
        "        self.optimizer = optim.Adam(self.parameters())\n",
        "        self.n_step = n_step\n",
        "        self.gamma = gamma\n",
        "\n",
        "        self.replay_buffer = ReplayBufferNStep(1000, n_step=n_step, gamma=gamma)\n",
        "        self.batch_size = 32\n",
        "\n",
        "    # This method defines the epsilon value. It started with 1.0 and it decays until 0.01 value\n",
        "    def get_epsilon_value(self, frame_idx):\n",
        "      epsilon_start = 1.0\n",
        "      epsilon_final = 0.01\n",
        "      epsilon_decay = 500\n",
        "\n",
        "      epsilon = lambda frame_idx: epsilon_final + (epsilon_start - epsilon_final) * math.exp(-1. * frame_idx / epsilon_decay)\n",
        "      return epsilon(frame_idx)\n",
        "\n",
        "    # This method computes output Tensors from input Tensors. That is, given an state it returns an array with q(s,a) values for all actions\n",
        "    def forward(self, x):\n",
        "      x = self.layers(x)\n",
        "      v_value = self.v_values(x)\n",
        "      adv_value = self.adv_values(x)\n",
        "      mean_adv_value = torch.mean(adv_value)\n",
        "      q_value = v_value + adv_value - mean_adv_value\n",
        "      return q_value\n",
        "\n",
        "    # Given a state and epsilon value, this method returns an action following epsilon-greedy\n",
        "    def act(self, state, epsilon):\n",
        "        if random.random() > epsilon:\n",
        "            state   = Variable(torch.FloatTensor(state).unsqueeze(0), requires_grad=False)\n",
        "            q_value = self.forward(state)\n",
        "            action  = q_value.max(1)[1].item()\n",
        "        else:\n",
        "            action = random.randrange(env.action_space.n)\n",
        "        return action\n",
        "\n",
        "    # Given a model, it copyes the current model on it.\n",
        "    def update_target(self, target_model):\n",
        "      target_model.load_state_dict(self.state_dict())\n",
        "\n",
        "    # This method updates the weights\n",
        "    # It is solved using tensors\n",
        "    # def compute_td_loss(self, target_model):\n",
        "    #   state, action, reward, next_state, done = self.replay_buffer.sample(self.batch_size)\n",
        "\n",
        "    #   state      = Variable(torch.FloatTensor(np.float32(state)))\n",
        "    #   next_state = Variable(torch.FloatTensor(np.float32(next_state)))\n",
        "    #   action     = Variable(torch.LongTensor(action))\n",
        "    #   reward     = Variable(torch.FloatTensor(reward))\n",
        "    #   done       = Variable(torch.FloatTensor(done))\n",
        "\n",
        "    #   q_values      = self.forward(state)\n",
        "    #   next_q_values = self.forward(next_state)\n",
        "    #   next_q_state_values = target_model(next_state)\n",
        "\n",
        "    #   q_value       = q_values.gather(1, action.unsqueeze(1)).squeeze(1)\n",
        "    #   next_q_value = next_q_state_values.gather(1, torch.max(next_q_values, 1)[1].unsqueeze(1)).squeeze(1)\n",
        "    #   #next_q_value = next_q_state_values.max(1)[0]\n",
        "    #   expected_q_value = reward + self.gamma * next_q_value * (1 - done)\n",
        "\n",
        "    #   loss = (q_value - Variable(expected_q_value.data)).pow(2).mean()\n",
        "\n",
        "    #   self.optimizer.zero_grad()\n",
        "    #   loss.backward()\n",
        "    #   self.optimizer.step()\n",
        "\n",
        "    #   return loss\n",
        "\n",
        "    # TODO\n",
        "    # This method updates the weights\n",
        "    def compute_td_loss_our(self, target_model):\n",
        "      # Obtain a mini_batch to train the weights.\n",
        "      # state, action, reward, next_state and done are numpy arrays, each position corresponds to one experience\n",
        "      state, action, reward, next_state, done = self.replay_buffer.sample(self.batch_size)\n",
        "\n",
        "      # Convert those numpy arrays to tensors. It is neccesary to work with Pytorch\n",
        "      states_tensor      = Variable(torch.FloatTensor(np.float32(state)))       # current_state S\n",
        "      actions_tensor     = Variable(torch.LongTensor(action))                   # action A\n",
        "      next_states_tensor = Variable(torch.FloatTensor(np.float32(next_state)))  # next_state S'\n",
        "\n",
        "      # The approximated q_values of each current state\n",
        "      q_values_tensor      = self.forward(states_tensor) # Q(S, A, W)\n",
        "\n",
        "      # The approximated q_values of each next state calculated with the current_model and the target_model\n",
        "      next_q_values_current_model_tensor = self.forward(next_states_tensor) # Q(S', A', W)\n",
        "      next_q_values_target_model_tensor = target_model.forward(next_states_tensor) # Q(S', A', W')\n",
        "\n",
        "      # Convert the approximated next_states' q_values to numpy array. We are going to work with these arrays\n",
        "      next_q_values_current_model = next_q_values_current_model_tensor.detach().numpy();\n",
        "      next_q_values_target_model = next_q_values_target_model_tensor.detach().numpy();\n",
        "      expected_q_value = np.zeros(self.batch_size)\n",
        "\n",
        "      # TODO\n",
        "      # input: next_q_values_current_model is a numpy array. In each element are stored all the approximated q values for the next state calculated with the current_model\n",
        "      # input: next_q_values_target_model is a numpy array. In each element are stored all the approximated q values for the next state calculated with the target_model\n",
        "      # input: reward is a numpy array with the rewards obtained in each experience of the mini_batch (batch_size)\n",
        "      # output: expected_q_value is a numpy array. You have to store in each position the target value of each experience using next_q_values_target_model and reward elements\n",
        "      # note: all these numpy arrays has the same length: the length of the mini_batch (batch_size)\n",
        "      #\n",
        "      # for all the elements on the batch size\n",
        "      #  calculate the target expected value and store in expected_q_value\n",
        "\n",
        "      for i in range(self.batch_size):\n",
        "        next_q_value = 0\n",
        "        if not(done[i]):\n",
        "          # with current model action and target model approximation\n",
        "          next_action = np.argmax(next_q_values_current_model[i])\n",
        "          next_q_value = next_q_values_target_model[i][next_action]\n",
        "\n",
        "        expected_q_value[i] = reward[i] + self.gamma*next_q_value\n",
        "\n",
        "      # END TODO\n",
        "\n",
        "      # Prepare data for the loss function\n",
        "      q_value = q_values_tensor.gather(1, actions_tensor.unsqueeze(1)).squeeze(1)\n",
        "      expected_q_values = torch.tensor(expected_q_value)\n",
        "\n",
        "      # Loss function: to know how good the weights are\n",
        "      lossMSE = nn.MSELoss()\n",
        "      loss = lossMSE(q_value.float(), expected_q_values.float())\n",
        "\n",
        "      # Based on the results of the loss function, the weights are updated with gradient descent\n",
        "      self.optimizer.zero_grad()\n",
        "      loss.backward()\n",
        "      self.optimizer.step()\n",
        "\n",
        "      return loss\n",
        "\n",
        "    # TODO\n",
        "    # Method to train the agent\n",
        "    def train(self, env):\n",
        "      num_frames = 25000\n",
        "      losses = []\n",
        "      all_rewards = []\n",
        "      episode_reward = 0\n",
        "      target_model  = DQN(env.observation_space.shape[0], env.action_space.n)\n",
        "      state, info = env.reset()\n",
        "\n",
        "      # Use 3 deques\n",
        "      # 1 for states at most n elements (3 e.g.)\n",
        "      # 1 for actions\n",
        "      # 1 for rewardsr\n",
        "\n",
        "      # TODO\n",
        "      # replay buffer attribute is empty\n",
        "      # for each frame\n",
        "      #   get current epsilon\n",
        "      #   get action following epsilon greedy\n",
        "      #   get next_state and reward\n",
        "      #   add new experience to the replay buffer\n",
        "      #   update state\n",
        "      #   update episode total reward\n",
        "      #   if done\n",
        "      #     reset environment\n",
        "      #     append the episode total reward to all_rewards array\n",
        "      #     set episode total reward to 0\n",
        "      #   if experience replay has more elements than batch_size\n",
        "      #     update the weights\n",
        "      #   every 100 frames update the target model\n",
        "\n",
        "      for frame_idx in range(1, num_frames + 1):\n",
        "          epsilon = self.get_epsilon_value(frame_idx)\n",
        "          action = self.act(state, epsilon)\n",
        "\n",
        "          next_state, reward, done, truncated, info = env.step(action)\n",
        "          self.replay_buffer.push(state, action, reward, next_state, done, truncated)\n",
        "\n",
        "          state = next_state\n",
        "          episode_reward += reward\n",
        "\n",
        "          if done or truncated:\n",
        "              state, info = env.reset()\n",
        "              all_rewards.append(episode_reward)\n",
        "              episode_reward = 0\n",
        "\n",
        "          if len(current_model.replay_buffer) > self.batch_size:\n",
        "              loss = self.compute_td_loss_our(target_model)\n",
        "              losses.append(loss.data)\n",
        "\n",
        "          # to visualize how the agent is learning\n",
        "          if frame_idx % 200 == 0:\n",
        "              plot(frame_idx, all_rewards)\n",
        "\n",
        "          if frame_idx % 100 == 0:\n",
        "              self.update_target(target_model)\n",
        "\n",
        "    # This method runs one episode and generates a video to observe the result\n",
        "    def test(self,env):\n",
        "        video_folder=\"videos\"\n",
        "\n",
        "        remove_videos(video_folder=video_folder)\n",
        "\n",
        "        # we are going to work over envVideo.\n",
        "        envVideo = gymnasium.wrappers.RecordVideo(env, video_folder=video_folder)\n",
        "\n",
        "        done = False #It is used to control if the episode is finished, if it is finished the environment must be reset\n",
        "        state, info = envVideo.reset()\n",
        "\n",
        "        total_reward = 0\n",
        "        while not(done):\n",
        "            action = self.act(state, 0)\n",
        "            next_state, reward, done, truncated, info = envVideo.step(action)\n",
        "            state = next_state\n",
        "            total_reward +=reward\n",
        "            if done or truncated:\n",
        "              break\n",
        "        envVideo.close()\n",
        "        print(\"rew: \", total_reward)\n",
        "        show_all_videos(video_folder=video_folder)\n",
        "\n"
      ]
    },
    {
      "cell_type": "markdown",
      "metadata": {
        "id": "ynxAQEvLmC6R"
      },
      "source": [
        "### Train the agent"
      ]
    },
    {
      "cell_type": "code",
      "execution_count": 52,
      "metadata": {
        "colab": {
          "base_uri": "https://localhost:8080/",
          "height": 766
        },
        "id": "uQO4hDUn2vUa",
        "outputId": "0ba76b70-9339-458c-b37f-90f272f51cf8"
      },
      "outputs": [
        {
          "data": {
            "image/png": "[encoded data removed]",
            "text/plain": [
              "<Figure size 2000x500 with 1 Axes>"
            ]
          },
          "metadata": {},
          "output_type": "display_data"
        },
        {
          "ename": "KeyboardInterrupt",
          "evalue": "",
          "output_type": "error",
          "traceback": [
            "\u001b[0;31m---------------------------------------------------------------------------\u001b[0m",
            "\u001b[0;31mKeyboardInterrupt\u001b[0m                         Traceback (most recent call last)",
            "\u001b[0;32m<ipython-input-52-461bab1ffec0>\u001b[0m in \u001b[0;36m<cell line: 2>\u001b[0;34m()\u001b[0m\n\u001b[1;32m      1\u001b[0m \u001b[0mcurrent_model\u001b[0m \u001b[0;34m=\u001b[0m \u001b[0mDQN\u001b[0m\u001b[0;34m(\u001b[0m\u001b[0menv\u001b[0m\u001b[0;34m.\u001b[0m\u001b[0mobservation_space\u001b[0m\u001b[0;34m.\u001b[0m\u001b[0mshape\u001b[0m\u001b[0;34m[\u001b[0m\u001b[0;36m0\u001b[0m\u001b[0;34m]\u001b[0m\u001b[0;34m,\u001b[0m \u001b[0menv\u001b[0m\u001b[0;34m.\u001b[0m\u001b[0maction_space\u001b[0m\u001b[0;34m.\u001b[0m\u001b[0mn\u001b[0m\u001b[0;34m)\u001b[0m\u001b[0;34m\u001b[0m\u001b[0;34m\u001b[0m\u001b[0m\n\u001b[0;32m----> 2\u001b[0;31m \u001b[0mcurrent_model\u001b[0m\u001b[0;34m.\u001b[0m\u001b[0mtrain\u001b[0m\u001b[0;34m(\u001b[0m\u001b[0menv\u001b[0m\u001b[0;34m)\u001b[0m\u001b[0;34m\u001b[0m\u001b[0;34m\u001b[0m\u001b[0m\n\u001b[0m",
            "\u001b[0;32m<ipython-input-38-3164b70266a1>\u001b[0m in \u001b[0;36mtrain\u001b[0;34m(self, env)\u001b[0m\n\u001b[1;32m    187\u001b[0m \u001b[0;34m\u001b[0m\u001b[0m\n\u001b[1;32m    188\u001b[0m           \u001b[0;32mif\u001b[0m \u001b[0mlen\u001b[0m\u001b[0;34m(\u001b[0m\u001b[0mcurrent_model\u001b[0m\u001b[0;34m.\u001b[0m\u001b[0mreplay_buffer\u001b[0m\u001b[0;34m)\u001b[0m \u001b[0;34m>\u001b[0m \u001b[0mself\u001b[0m\u001b[0;34m.\u001b[0m\u001b[0mbatch_size\u001b[0m\u001b[0;34m:\u001b[0m\u001b[0;34m\u001b[0m\u001b[0;34m\u001b[0m\u001b[0m\n\u001b[0;32m--> 189\u001b[0;31m               \u001b[0mloss\u001b[0m \u001b[0;34m=\u001b[0m \u001b[0mself\u001b[0m\u001b[0;34m.\u001b[0m\u001b[0mcompute_td_loss_our\u001b[0m\u001b[0;34m(\u001b[0m\u001b[0mtarget_model\u001b[0m\u001b[0;34m)\u001b[0m\u001b[0;34m\u001b[0m\u001b[0;34m\u001b[0m\u001b[0m\n\u001b[0m\u001b[1;32m    190\u001b[0m               \u001b[0mlosses\u001b[0m\u001b[0;34m.\u001b[0m\u001b[0mappend\u001b[0m\u001b[0;34m(\u001b[0m\u001b[0mloss\u001b[0m\u001b[0;34m.\u001b[0m\u001b[0mdata\u001b[0m\u001b[0;34m)\u001b[0m\u001b[0;34m\u001b[0m\u001b[0;34m\u001b[0m\u001b[0m\n\u001b[1;32m    191\u001b[0m \u001b[0;34m\u001b[0m\u001b[0m\n",
            "\u001b[0;32m<ipython-input-38-3164b70266a1>\u001b[0m in \u001b[0;36mcompute_td_loss_our\u001b[0;34m(self, target_model)\u001b[0m\n\u001b[1;32m    135\u001b[0m       \u001b[0mself\u001b[0m\u001b[0;34m.\u001b[0m\u001b[0moptimizer\u001b[0m\u001b[0;34m.\u001b[0m\u001b[0mzero_grad\u001b[0m\u001b[0;34m(\u001b[0m\u001b[0;34m)\u001b[0m\u001b[0;34m\u001b[0m\u001b[0;34m\u001b[0m\u001b[0m\n\u001b[1;32m    136\u001b[0m       \u001b[0mloss\u001b[0m\u001b[0;34m.\u001b[0m\u001b[0mbackward\u001b[0m\u001b[0;34m(\u001b[0m\u001b[0;34m)\u001b[0m\u001b[0;34m\u001b[0m\u001b[0;34m\u001b[0m\u001b[0m\n\u001b[0;32m--> 137\u001b[0;31m       \u001b[0mself\u001b[0m\u001b[0;34m.\u001b[0m\u001b[0moptimizer\u001b[0m\u001b[0;34m.\u001b[0m\u001b[0mstep\u001b[0m\u001b[0;34m(\u001b[0m\u001b[0;34m)\u001b[0m\u001b[0;34m\u001b[0m\u001b[0;34m\u001b[0m\u001b[0m\n\u001b[0m\u001b[1;32m    138\u001b[0m \u001b[0;34m\u001b[0m\u001b[0m\n\u001b[1;32m    139\u001b[0m       \u001b[0;32mreturn\u001b[0m \u001b[0mloss\u001b[0m\u001b[0;34m\u001b[0m\u001b[0;34m\u001b[0m\u001b[0m\n",
            "\u001b[0;32m/usr/local/lib/python3.10/dist-packages/torch/optim/optimizer.py\u001b[0m in \u001b[0;36mwrapper\u001b[0;34m(*args, **kwargs)\u001b[0m\n\u001b[1;32m    468\u001b[0m         \u001b[0;32mdef\u001b[0m \u001b[0mwrapper\u001b[0m\u001b[0;34m(\u001b[0m\u001b[0;34m*\u001b[0m\u001b[0margs\u001b[0m\u001b[0;34m:\u001b[0m \u001b[0m_P\u001b[0m\u001b[0;34m.\u001b[0m\u001b[0margs\u001b[0m\u001b[0;34m,\u001b[0m \u001b[0;34m**\u001b[0m\u001b[0mkwargs\u001b[0m\u001b[0;34m:\u001b[0m \u001b[0m_P\u001b[0m\u001b[0;34m.\u001b[0m\u001b[0mkwargs\u001b[0m\u001b[0;34m)\u001b[0m \u001b[0;34m->\u001b[0m \u001b[0mR\u001b[0m\u001b[0;34m:\u001b[0m\u001b[0;34m\u001b[0m\u001b[0;34m\u001b[0m\u001b[0m\n\u001b[1;32m    469\u001b[0m             \u001b[0mself\u001b[0m\u001b[0;34m,\u001b[0m \u001b[0;34m*\u001b[0m\u001b[0m_\u001b[0m \u001b[0;34m=\u001b[0m \u001b[0margs\u001b[0m\u001b[0;34m\u001b[0m\u001b[0;34m\u001b[0m\u001b[0m\n\u001b[0;32m--> 470\u001b[0;31m             \u001b[0mself\u001b[0m \u001b[0;34m=\u001b[0m \u001b[0mcast\u001b[0m\u001b[0;34m(\u001b[0m\u001b[0mOptimizer\u001b[0m\u001b[0;34m,\u001b[0m \u001b[0mself\u001b[0m\u001b[0;34m)\u001b[0m\u001b[0;34m\u001b[0m\u001b[0;34m\u001b[0m\u001b[0m\n\u001b[0m\u001b[1;32m    471\u001b[0m             \u001b[0mprofile_name\u001b[0m \u001b[0;34m=\u001b[0m \u001b[0;34mf\"Optimizer.step#{self.__class__.__name__}.step\"\u001b[0m\u001b[0;34m\u001b[0m\u001b[0;34m\u001b[0m\u001b[0m\n\u001b[1;32m    472\u001b[0m             \u001b[0;32mwith\u001b[0m \u001b[0mtorch\u001b[0m\u001b[0;34m.\u001b[0m\u001b[0mautograd\u001b[0m\u001b[0;34m.\u001b[0m\u001b[0mprofiler\u001b[0m\u001b[0;34m.\u001b[0m\u001b[0mrecord_function\u001b[0m\u001b[0;34m(\u001b[0m\u001b[0mprofile_name\u001b[0m\u001b[0;34m)\u001b[0m\u001b[0;34m:\u001b[0m\u001b[0;34m\u001b[0m\u001b[0;34m\u001b[0m\u001b[0m\n",
            "\u001b[0;32m/usr/lib/python3.10/typing.py\u001b[0m in \u001b[0;36mcast\u001b[0;34m(typ, val)\u001b[0m\n\u001b[1;32m   1735\u001b[0m \u001b[0;34m\u001b[0m\u001b[0m\n\u001b[1;32m   1736\u001b[0m \u001b[0;34m\u001b[0m\u001b[0m\n\u001b[0;32m-> 1737\u001b[0;31m \u001b[0;32mdef\u001b[0m \u001b[0mcast\u001b[0m\u001b[0;34m(\u001b[0m\u001b[0mtyp\u001b[0m\u001b[0;34m,\u001b[0m \u001b[0mval\u001b[0m\u001b[0;34m)\u001b[0m\u001b[0;34m:\u001b[0m\u001b[0;34m\u001b[0m\u001b[0;34m\u001b[0m\u001b[0m\n\u001b[0m\u001b[1;32m   1738\u001b[0m     \"\"\"Cast a value to a type.\n\u001b[1;32m   1739\u001b[0m \u001b[0;34m\u001b[0m\u001b[0m\n",
            "\u001b[0;31mKeyboardInterrupt\u001b[0m: "
          ]
        }
      ],
      "source": [
        "current_model = DQN(env.observation_space.shape[0], env.action_space.n)\n",
        "current_model.train(env)"
      ]
    },
    {
      "cell_type": "markdown",
      "metadata": {
        "id": "WoZsHTkFl7Jq"
      },
      "source": [
        "### Test the agent"
      ]
    },
    {
      "cell_type": "code",
      "execution_count": 51,
      "metadata": {
        "colab": {
          "base_uri": "https://localhost:8080/",
          "height": 571
        },
        "id": "YIVpEbfR4pVO",
        "outputId": "ee75774b-f44c-4e04-f21f-06eb5e91ca5f"
      },
      "outputs": [
        {
          "name": "stderr",
          "output_type": "stream",
          "text": [
            "/usr/local/lib/python3.10/dist-packages/moviepy/config_defaults.py:1: DeprecationWarning: invalid escape sequence '\\P'\n",
            "  \"\"\"\n",
            "/usr/local/lib/python3.10/dist-packages/pygame/pkgdata.py:25: DeprecationWarning: pkg_resources is deprecated as an API. See https://setuptools.pypa.io/en/latest/pkg_resources.html\n",
            "  from pkg_resources import resource_stream, resource_exists\n",
            "/usr/local/lib/python3.10/dist-packages/pkg_resources/__init__.py:3154: DeprecationWarning: Deprecated call to `pkg_resources.declare_namespace('google')`.\n",
            "Implementing implicit namespace packages (as specified in PEP 420) is preferred to `pkg_resources.declare_namespace`. See https://setuptools.pypa.io/en/latest/references/keywords.html#keyword-namespace-packages\n",
            "  declare_namespace(pkg)\n",
            "/usr/local/lib/python3.10/dist-packages/pkg_resources/__init__.py:3154: DeprecationWarning: Deprecated call to `pkg_resources.declare_namespace('google.cloud')`.\n",
            "Implementing implicit namespace packages (as specified in PEP 420) is preferred to `pkg_resources.declare_namespace`. See https://setuptools.pypa.io/en/latest/references/keywords.html#keyword-namespace-packages\n",
            "  declare_namespace(pkg)\n",
            "/usr/local/lib/python3.10/dist-packages/pkg_resources/__init__.py:3154: DeprecationWarning: Deprecated call to `pkg_resources.declare_namespace('sphinxcontrib')`.\n",
            "Implementing implicit namespace packages (as specified in PEP 420) is preferred to `pkg_resources.declare_namespace`. See https://setuptools.pypa.io/en/latest/references/keywords.html#keyword-namespace-packages\n",
            "  declare_namespace(pkg)\n"
          ]
        },
        {
          "name": "stdout",
          "output_type": "stream",
          "text": [
            "rew:  200.0\n",
            "files:  ['videos/rl-video-episode-0.mp4']\n"
          ]
        },
        {
          "data": {
            "text/html": [
              "\n",
              "        <video width=\"320\" height=\"240\" alt=\"test\" controls>\n",
              "        <source src=\"data:video/mp4;base64,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\" type=\"video/mp4\"/>\n",
              "        </video>\n",
              "        "
            ],
            "text/plain": [
              "<IPython.core.display.HTML object>"
            ]
          },
          "metadata": {},
          "output_type": "display_data"
        },
        {
          "name": "stdout",
          "output_type": "stream",
          "text": [
            "Played: videos/rl-video-episode-0.mp4\n"
          ]
        }
      ],
      "source": [
        "current_model.test(env)"
      ]
    }
  ],
  "metadata": {
    "colab": {
      "include_colab_link": true,
      "provenance": []
    },
    "kernelspec": {
      "display_name": "Python 3",
      "name": "python3"
    },
    "language_info": {
      "codemirror_mode": {
        "name": "ipython",
        "version": 3
      },
      "file_extension": ".py",
      "mimetype": "text/x-python",
      "name": "python",
      "nbconvert_exporter": "python",
      "pygments_lexer": "ipython3",
      "version": "3.6.8"
    }
  },
  "nbformat": 4,
  "nbformat_minor": 0
}
